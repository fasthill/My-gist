{
  "cells": [
    {
      "cell_type": "markdown",
      "metadata": {
        "id": "view-in-github",
        "colab_type": "text"
      },
      "source": [
        "<a href=\"https://colab.research.google.com/github/fasthill/My-gist/blob/main/regular_expression/regular_expression_summary.ipynb\" target=\"_parent\"><img src=\"https://colab.research.google.com/assets/colab-badge.svg\" alt=\"Open In Colab\"/></a>"
      ]
    },
    {
      "cell_type": "markdown",
      "id": "f47a473c",
      "metadata": {
        "id": "f47a473c"
      },
      "source": [
        "### [regex101](https://regex101.com/)\n",
        "동작 설명이 잘되어 있고, 코드작성예제도 같이 제공함"
      ]
    },
    {
      "cell_type": "markdown",
      "id": "6ffe2293",
      "metadata": {
        "id": "6ffe2293"
      },
      "source": [
        "###  [Pythex: a Python regular expression editor](https://pythex.org/) \n",
        "#### Pythex is a real-time regular expression editor for Python, a quick way to test your regular expressions."
      ]
    },
    {
      "cell_type": "markdown",
      "id": "a2b383f4",
      "metadata": {
        "id": "a2b383f4"
      },
      "source": [
        "### [PyRegex: Your Python Regular Expression's Best Buddy](http://www.pyregex.com/)"
      ]
    },
    {
      "cell_type": "code",
      "execution_count": 1,
      "id": "9ef55445",
      "metadata": {
        "id": "9ef55445"
      },
      "outputs": [],
      "source": [
        "import re"
      ]
    },
    {
      "cell_type": "markdown",
      "id": "seeing-senegal",
      "metadata": {
        "id": "seeing-senegal"
      },
      "source": [
        "<ul>\n",
        "    <li><code>\\</code> escape special characters</li>\n",
        "    <li><code>.</code> matches any character</li>\n",
        "    <li><code>^</code> matches beginning of string</li>\n",
        "    <li><code>$</code> matches end of string</li>\n",
        "    <li><code>[5b-d]</code> matches any chars '5', 'b', 'c' or 'd'</li>\n",
        "    <li><code>[^a-c6]</code> matches any char except 'a', 'b', 'c' or '6'</li>\n",
        "    <li><code>R|S</code> matches either regex R or regex S</li>\n",
        "    <li><code>()</code> creates a capture group and indicates precedence</li>\n",
        "</ul>\n",
        "<ul>\n",
        "    <li><code>*</code> 0 or more (append ? for non-greedy)</li>\n",
        "    <li><code>+</code> 1 or more (append ? for non-greedy)</li>\n",
        "    <li><code>?</code> 0 or 1 (append ? for non-greedy)</li>\n",
        "    <li><code>{m}</code> exactly mm occurrences</li>\n",
        "    <li><code>{m, n}</code>  from m to n. m defaults to 0, n to infinity</li>\n",
        "    <li><code>{m, n}?</code> from m to n, as few as possible</li>\n",
        "</ul>\n",
        "<ul>\n",
        "    <li><code>\\A</code> start of string</li>\n",
        "    <li>\n",
        "    <code>\\b</code> matches empty string at word boundary\n",
        "    (between <code>\\w</code> and <code>\\W</code>)\n",
        "    </li>\n",
        "    <li><code>\\B</code> matches empty string not at word boundary</li>\n",
        "    <li><code>\\d</code> digit<code>[0-9]</code></li>\n",
        "    <li><code>\\D</code> non-digit<code>[^0-9]</code></li>\n",
        "    <li><code>\\s</code> whitespace: <code>[ \\t\\n\\r\\f\\v]</code></li>\n",
        "    <li><code>\\S</code> non-whitespace<code>[^ \\t\\n\\r\\f\\v]</code></li>\n",
        "    <li><code>\\w</code> alphanumeric: <code>[0-9a-zA-Z_]</code></li>\n",
        "    <li><code>\\W</code> non-alphanumeric<code>[^0-9a-zA-Z_]</code></li>\n",
        "    <li><code>\\Z</code> end of string</li>\n",
        "    <li><code>\\g&lt;id&gt;</code> matches a previously defined group</li>\n",
        "</ul>  \n",
        "<ul> \n",
        "    <li>[\\s,.] is a character class that will match any whitespace character, or ',' or '.'.</li>\n",
        "    <li>[ ] 안에서는 특수 문자 역할을 하지 못함</li>\n",
        "    <li>[^5] -> will match any character except '5'. [5^] will match either a '5' or a '^'.</li>\n",
        "</ul>\n",
        "\n",
        "#### metacharacter (Need to be escaped) :\n",
        ". ^ $ * + ? { } [ ] \\ | ( ) <br>"
      ]
    },
    {
      "cell_type": "code",
      "execution_count": 2,
      "id": "e2f929cd",
      "metadata": {
        "colab": {
          "base_uri": "https://localhost:8080/"
        },
        "id": "e2f929cd",
        "outputId": "51c0d376-27fd-4a2e-c986-647ca0eb8394"
      },
      "outputs": [
        {
          "output_type": "execute_result",
          "data": {
            "text/plain": [
              "<re.Match object; span=(0, 7), match='abcbbdb'>"
            ]
          },
          "metadata": {},
          "execution_count": 2
        }
      ],
      "source": [
        "p = re.compile('a[bcd]*b')\n",
        "p.match('abcbbdba')"
      ]
    },
    {
      "cell_type": "code",
      "execution_count": 3,
      "id": "e39d782b",
      "metadata": {
        "colab": {
          "base_uri": "https://localhost:8080/"
        },
        "id": "e39d782b",
        "outputId": "e6aa3ceb-6346-4bf7-c957-414fccdf2061"
      },
      "outputs": [
        {
          "output_type": "execute_result",
          "data": {
            "text/plain": [
              "('abcbbdb', 'abcbbdb')"
            ]
          },
          "metadata": {},
          "execution_count": 3
        }
      ],
      "source": [
        "p.match('abcbbdba').group(), p.match('abcbbdba')[0]"
      ]
    },
    {
      "cell_type": "code",
      "execution_count": 4,
      "id": "65087aaf",
      "metadata": {
        "colab": {
          "base_uri": "https://localhost:8080/"
        },
        "id": "65087aaf",
        "outputId": "27ccc1a6-79b1-47da-d3fd-03f8ce0c8d60"
      },
      "outputs": [
        {
          "output_type": "execute_result",
          "data": {
            "text/plain": [
              "<re.Match object; span=(0, 5), match=\"'uabc\">"
            ]
          },
          "metadata": {},
          "execution_count": 4
        }
      ],
      "source": [
        "p = re.compile(\"^'u[a-z]*\")\n",
        "p.match(\"'uabc de'\")"
      ]
    },
    {
      "cell_type": "code",
      "execution_count": 5,
      "id": "6d3e122a",
      "metadata": {
        "colab": {
          "base_uri": "https://localhost:8080/"
        },
        "id": "6d3e122a",
        "outputId": "1ed582c0-8d79-4eaf-89a3-b5510d64b620"
      },
      "outputs": [
        {
          "output_type": "execute_result",
          "data": {
            "text/plain": [
              "<re.Match object; span=(0, 5), match='abcde'>"
            ]
          },
          "metadata": {},
          "execution_count": 5
        }
      ],
      "source": [
        "pattern = re.compile(\"^[a-zA-Z0-9_]*\")\n",
        "pattern.match('abcde fgh')"
      ]
    },
    {
      "cell_type": "code",
      "execution_count": 6,
      "id": "11299fc9",
      "metadata": {
        "colab": {
          "base_uri": "https://localhost:8080/",
          "height": 35
        },
        "id": "11299fc9",
        "outputId": "aded8fee-b548-455a-8027-1a00e29c79ca"
      },
      "outputs": [
        {
          "output_type": "execute_result",
          "data": {
            "text/plain": [
              "'abcde'"
            ],
            "application/vnd.google.colaboratory.intrinsic+json": {
              "type": "string"
            }
          },
          "metadata": {},
          "execution_count": 6
        }
      ],
      "source": [
        "pattern.match('abcde fgh').group()"
      ]
    },
    {
      "cell_type": "code",
      "execution_count": 7,
      "id": "78834a51",
      "metadata": {
        "colab": {
          "base_uri": "https://localhost:8080/"
        },
        "id": "78834a51",
        "outputId": "2cf51340-801a-4512-d5b8-7dffeee23117"
      },
      "outputs": [
        {
          "output_type": "execute_result",
          "data": {
            "text/plain": [
              "<re.Match object; span=(0, 5), match='abcde'>"
            ]
          },
          "metadata": {},
          "execution_count": 7
        }
      ],
      "source": [
        "# \\w is equivalent to [A-Za-z0-9_] \n",
        "pattern = re.compile(\"^\\w*\")\n",
        "pattern.match('abcde fgh')"
      ]
    },
    {
      "cell_type": "code",
      "execution_count": 8,
      "id": "Z-fAlJTsAUXh",
      "metadata": {
        "colab": {
          "base_uri": "https://localhost:8080/"
        },
        "id": "Z-fAlJTsAUXh",
        "outputId": "9c9993be-2cf6-4942-e156-bc1c8d1471aa"
      },
      "outputs": [
        {
          "output_type": "stream",
          "name": "stdout",
          "text": [
            "Not an integer\n",
            "Not an integer\n",
            "10\n",
            "Not an integer\n",
            "-20\n",
            "Not an integer\n"
          ]
        }
      ],
      "source": [
        "\"\"\"\n",
        "정수 확인하기\n",
        "^는 문자열의 시작.\n",
        "\\-? 이 숫자가 음수이거나 양수일 수 있음을 나타냄.\n",
        "[1-9]는 숫자의 첫 번째 자리표시. 1에서 9 사이의 숫자 여야하며 0이 아니어야 함. 0으로 시작하지 않는 숫자\n",
        "[0-9]*는 다음 숫자를 나타냄. 자릿수는 0을 포함하여 임의 일 수 있음.\n",
        "$는 문자열의 끝 표시.\n",
        "\"\"\"\n",
        "\n",
        "pattern = re.compile(r'^\\-?[1-9][0-9]*$') # 0으로 시작하지 않는 정수\n",
        "int_num = [ 0, 0., 10, 10.1, -20, -20.1]\n",
        "for num in int_num:\n",
        "  if pattern.match(str(num)):\n",
        "    print(pattern.match(str(num))[0])\n",
        "  else:\n",
        "    print('Not an integer')"
      ]
    },
    {
      "cell_type": "code",
      "execution_count": 9,
      "id": "B-2knT_yClZp",
      "metadata": {
        "colab": {
          "base_uri": "https://localhost:8080/"
        },
        "id": "B-2knT_yClZp",
        "outputId": "7e864f50-cad5-43d2-e376-5da61d6ccfcd"
      },
      "outputs": [
        {
          "output_type": "stream",
          "name": "stdout",
          "text": [
            "<re.Match object; span=(0, 1), match='1'>\n",
            "<re.Match object; span=(0, 3), match='123'>\n",
            "<re.Match object; span=(0, 6), match='345,23'>\n",
            "None\n",
            "<re.Match object; span=(0, 3), match='2.3'>\n"
          ]
        }
      ],
      "source": [
        "\"\"\"\n",
        "아래 예제 pattern 설명\n",
        "(\\d+)? : 숫자가 한개 이상 있는 묶음(\\d+)이 있거나 없거나(?)\n",
        ".? : 소숫점이 있거나 없거나,\n",
        "\\d* : 숫자가 없거나 많이 있거나,\n",
        "[^a-zA-Z] : 이후에는 영문자로 시작하지 않는 문자열\n",
        "\"\"\"\n",
        "\n",
        "pattern = re.compile(r'(\\d+)?.?\\d*[^a-zA-Z]') # 숫자(.숫자)이면서 문자로 이어지지 않는 형식\n",
        "str_list = ['1num', '123', '345,23', 'num1', '2.3str']\n",
        "for sl in str_list:\n",
        "  if pattern.match(sl):\n",
        "    print(pattern.match(sl))\n",
        "  else:\n",
        "    print('None')"
      ]
    },
    {
      "cell_type": "code",
      "execution_count": 10,
      "id": "df5e26c5",
      "metadata": {
        "id": "df5e26c5"
      },
      "outputs": [],
      "source": [
        "p = re.compile('ab*')\n",
        "p = re.compile('ab*', re.IGNORECASE)"
      ]
    },
    {
      "cell_type": "markdown",
      "id": "97ad2e8d",
      "metadata": {
        "id": "97ad2e8d"
      },
      "source": [
        "### Python’s raw string notation for regular expressions\n",
        "backslashes are not handled in any special way in a string literal prefixed with 'r', so r\"\\n\" is a two-character string containing '\\' and 'n', while \"\\n\" is a one-character string containing a newline. Regular expressions will often be written in Python code using this raw string notation.\n",
        "### <span style='color:red'> r'\\n' == '\\\\' + 'n'</span>, &nbsp; while <span style='color:red'>'\\n' == one character string </span>"
      ]
    },
    {
      "cell_type": "markdown",
      "id": "9bd8eb09",
      "metadata": {
        "id": "9bd8eb09"
      },
      "source": [
        "### Performing Matches"
      ]
    },
    {
      "cell_type": "markdown",
      "id": "4897a3f0",
      "metadata": {
        "id": "4897a3f0"
      },
      "source": [
        "<table border=\"1\">\n",
        "<th>Method/Attribute</th>\n",
        "<th>Purpose</th>\n",
        "<tr align =\"center\"><!-- 1번째 줄 시작 -->\n",
        "    <td>match()</td>\n",
        "    <td>Determine if the RE matches at the beginning of the string.</td>\n",
        "</tr><!-- 1번째 줄 끝 -->\n",
        "<tr align =\"center\"><!-- 2번째 줄 시작 -->\n",
        "    <td>search()</td>\n",
        "    <td>Scan through a string, looking for any location where this RE matches.</td>\n",
        "<tr align =\"center\"><!-- 3번째 줄 시작 -->\n",
        "    <td>findall()</td>\n",
        "    <td>Find all substrings where the RE matches, and returns them as a list.</td>\n",
        "</tr><!-- 3번째 줄 끝 -->\n",
        "<tr align =\"center\"><!-- 4번째 줄 시작 -->\n",
        "    <td>finditer()</td>\n",
        "    <td>Find all substrings where the RE matches, and returns them as an iterator.</td>\n",
        "</tr><!-- 4번째 줄 끝 -->\n",
        "\n",
        "</table>\n",
        "\n",
        "### **match() and search() return <span style='color:red'>None</span> if no match can be found.**"
      ]
    },
    {
      "cell_type": "code",
      "execution_count": 11,
      "id": "d0ed5a1c",
      "metadata": {
        "colab": {
          "base_uri": "https://localhost:8080/"
        },
        "id": "d0ed5a1c",
        "outputId": "c9d1213b-6e7c-4a1d-a204-ca7a223402f8"
      },
      "outputs": [
        {
          "output_type": "stream",
          "name": "stdout",
          "text": [
            "None\n"
          ]
        }
      ],
      "source": [
        "p = re.compile('[a-z]+')\n",
        "print(p.match(\"\"))"
      ]
    },
    {
      "cell_type": "code",
      "execution_count": 12,
      "id": "3fc495fe",
      "metadata": {
        "colab": {
          "base_uri": "https://localhost:8080/"
        },
        "id": "3fc495fe",
        "outputId": "94aabf5b-99c3-44c8-8b8f-790021d02d1e"
      },
      "outputs": [
        {
          "output_type": "execute_result",
          "data": {
            "text/plain": [
              "<re.Match object; span=(0, 5), match='tempo'>"
            ]
          },
          "metadata": {},
          "execution_count": 12
        }
      ],
      "source": [
        "m = p.match('tempo')\n",
        "m"
      ]
    },
    {
      "cell_type": "code",
      "execution_count": 13,
      "id": "d4673572",
      "metadata": {
        "colab": {
          "base_uri": "https://localhost:8080/",
          "height": 35
        },
        "id": "d4673572",
        "outputId": "c5b37954-e141-481c-9f4a-f9a3c725bf6a"
      },
      "outputs": [
        {
          "output_type": "execute_result",
          "data": {
            "text/plain": [
              "'tempo'"
            ],
            "application/vnd.google.colaboratory.intrinsic+json": {
              "type": "string"
            }
          },
          "metadata": {},
          "execution_count": 13
        }
      ],
      "source": [
        "m[0]"
      ]
    },
    {
      "cell_type": "markdown",
      "id": "47a4637a",
      "metadata": {
        "id": "47a4637a"
      },
      "source": [
        "<table border=\"1\">\n",
        "<th>Method/Attribute</th>\n",
        "<th>Purpose</th>\n",
        "<tr align =\"center\"><!-- 1번째 줄 시작 -->\n",
        "    <td>group()</td>\n",
        "    <td>Return the string matched by the RE</td>\n",
        "</tr><!-- 1번째 줄 끝 -->\n",
        "<tr align =\"center\"><!-- 2번째 줄 시작 -->\n",
        "    <td>start()</td>\n",
        "    <td>Return the starting position of the match</td>\n",
        "<tr align =\"center\"><!-- 3번째 줄 시작 -->\n",
        "    <td>end()</td>\n",
        "    <td>Return the ending position of the match</td>\n",
        "</tr><!-- 3번째 줄 끝 -->\n",
        "<tr align =\"center\"><!-- 4번째 줄 시작 -->\n",
        "    <td>span()</td>\n",
        "    <td>Return a tuple containing the (start, end) positions of the match</td>\n",
        "</tr><!-- 4번째 줄 끝 -->\n",
        "\n",
        "</table>"
      ]
    },
    {
      "cell_type": "code",
      "execution_count": 14,
      "id": "8ea420d7",
      "metadata": {
        "colab": {
          "base_uri": "https://localhost:8080/",
          "height": 35
        },
        "id": "8ea420d7",
        "outputId": "89ee2826-fd0c-458e-ae92-e7111ba58252"
      },
      "outputs": [
        {
          "output_type": "execute_result",
          "data": {
            "text/plain": [
              "'tempo'"
            ],
            "application/vnd.google.colaboratory.intrinsic+json": {
              "type": "string"
            }
          },
          "metadata": {},
          "execution_count": 14
        }
      ],
      "source": [
        "m.group()"
      ]
    },
    {
      "cell_type": "code",
      "execution_count": 15,
      "id": "2bcee44f",
      "metadata": {
        "colab": {
          "base_uri": "https://localhost:8080/"
        },
        "id": "2bcee44f",
        "outputId": "bc93b82b-9d0b-496b-b567-dc042d67688f"
      },
      "outputs": [
        {
          "output_type": "execute_result",
          "data": {
            "text/plain": [
              "(0, 5)"
            ]
          },
          "metadata": {},
          "execution_count": 15
        }
      ],
      "source": [
        "m.start(), m.end()"
      ]
    },
    {
      "cell_type": "code",
      "execution_count": 16,
      "id": "960dbf1d",
      "metadata": {
        "colab": {
          "base_uri": "https://localhost:8080/"
        },
        "id": "960dbf1d",
        "outputId": "73709b75-2568-47c0-a894-534997c52bdb"
      },
      "outputs": [
        {
          "output_type": "execute_result",
          "data": {
            "text/plain": [
              "(0, 5)"
            ]
          },
          "metadata": {},
          "execution_count": 16
        }
      ],
      "source": [
        "m.span()"
      ]
    },
    {
      "cell_type": "code",
      "execution_count": 17,
      "id": "7c0e9203",
      "metadata": {
        "colab": {
          "base_uri": "https://localhost:8080/"
        },
        "id": "7c0e9203",
        "outputId": "505223bc-6f11-419c-8014-902cd74c26e4"
      },
      "outputs": [
        {
          "output_type": "stream",
          "name": "stdout",
          "text": [
            "<re.Match object; span=(4, 11), match='message'>\n"
          ]
        }
      ],
      "source": [
        "m = p.search('::: message'); print(m)"
      ]
    },
    {
      "cell_type": "code",
      "execution_count": 18,
      "id": "9a127033",
      "metadata": {
        "colab": {
          "base_uri": "https://localhost:8080/"
        },
        "id": "9a127033",
        "outputId": "f7da7c50-a0b0-4115-a547-f6f95635ebfc"
      },
      "outputs": [
        {
          "output_type": "execute_result",
          "data": {
            "text/plain": [
              "('message', (4, 11))"
            ]
          },
          "metadata": {},
          "execution_count": 18
        }
      ],
      "source": [
        "m.group(), m.span()"
      ]
    },
    {
      "cell_type": "code",
      "execution_count": 19,
      "id": "d15df6db",
      "metadata": {
        "colab": {
          "base_uri": "https://localhost:8080/"
        },
        "id": "d15df6db",
        "outputId": "69a37de9-3e6a-4bdb-c9d6-c6f8605811dc"
      },
      "outputs": [
        {
          "output_type": "stream",
          "name": "stdout",
          "text": [
            "No match\n"
          ]
        }
      ],
      "source": [
        "p = re.compile('go')\n",
        "m = p.match('string goes here') # search와 차이점\n",
        "# The match() function only checks if the RE matches at the beginning of the string \n",
        "# while search() will scan forward through the string for a match.\n",
        "if m:\n",
        "    print('Match found: ', m.group())\n",
        "else:\n",
        "    print('No match')"
      ]
    },
    {
      "cell_type": "code",
      "execution_count": 20,
      "id": "b6fac95d",
      "metadata": {
        "colab": {
          "base_uri": "https://localhost:8080/"
        },
        "id": "b6fac95d",
        "outputId": "9fb1409b-6279-4cbe-a8c4-f2938e6b7ccc"
      },
      "outputs": [
        {
          "output_type": "stream",
          "name": "stdout",
          "text": [
            "Match found:  go\n"
          ]
        }
      ],
      "source": [
        "p = re.compile('go')\n",
        "m = p.search('string goes here')  # match와 차이점\n",
        "if m:\n",
        "    print('Match found: ', m.group())\n",
        "else:\n",
        "    print('No match')"
      ]
    },
    {
      "cell_type": "code",
      "execution_count": 21,
      "id": "2a404f27",
      "metadata": {
        "id": "2a404f27"
      },
      "outputs": [],
      "source": [
        "p.match( 'string goes here' )"
      ]
    },
    {
      "cell_type": "code",
      "execution_count": 22,
      "id": "ba211c9e",
      "metadata": {
        "colab": {
          "base_uri": "https://localhost:8080/"
        },
        "id": "ba211c9e",
        "outputId": "31c2b721-660f-4da4-bae8-7aa0040be7a1"
      },
      "outputs": [
        {
          "output_type": "execute_result",
          "data": {
            "text/plain": [
              "['12', '11', '10']"
            ]
          },
          "metadata": {},
          "execution_count": 22
        }
      ],
      "source": [
        "p = re.compile(r'\\d+')\n",
        "p.findall('12 drummers drumming, 11 pipers piping, 10 lords a-leaping')"
      ]
    },
    {
      "cell_type": "code",
      "execution_count": 23,
      "id": "8c8510af",
      "metadata": {
        "colab": {
          "base_uri": "https://localhost:8080/"
        },
        "id": "8c8510af",
        "outputId": "d62cdf51-a716-4924-c788-845fa78271cc"
      },
      "outputs": [
        {
          "output_type": "stream",
          "name": "stdout",
          "text": [
            "(0, 2)\n",
            "(22, 24)\n",
            "(40, 42)\n"
          ]
        }
      ],
      "source": [
        "iterator = p.finditer('12 drummers drumming, 11 pipers piping, 10 lords a-leaping')\n",
        "iterator  \n",
        "\n",
        "for match in iterator:\n",
        "    print(match.span())"
      ]
    },
    {
      "cell_type": "code",
      "execution_count": 24,
      "id": "subjective-hands",
      "metadata": {
        "colab": {
          "base_uri": "https://localhost:8080/"
        },
        "id": "subjective-hands",
        "outputId": "01eed0d9-36ea-44aa-c118-7cf9f5ef3236"
      },
      "outputs": [
        {
          "output_type": "stream",
          "name": "stdout",
          "text": [
            "<re.Match object; span=(1, 24), match='CoreyMSchafer@gmail.com'>\n",
            "<re.Match object; span=(25, 53), match='corey.schafer@university.edu'>\n",
            "<re.Match object; span=(54, 83), match='corey-321-schafer@my-work.net'>\n"
          ]
        }
      ],
      "source": [
        "emails = '''\n",
        "CoreyMSchafer@gmail.com\n",
        "corey.schafer@university.edu\n",
        "corey-321-schafer@my-work.net\n",
        "'''\n",
        "\n",
        "pattern = re.compile(r'[a-zA-Z0-9_.+-]+@[a-zA-Z0-9-]+\\.[a-zA-Z0-9-.]+')\n",
        "\n",
        "matches = pattern.finditer(emails)\n",
        "\n",
        "for match in matches:\n",
        "    print(match)"
      ]
    },
    {
      "cell_type": "code",
      "execution_count": 25,
      "id": "a3b76e4f",
      "metadata": {
        "colab": {
          "base_uri": "https://localhost:8080/"
        },
        "id": "a3b76e4f",
        "outputId": "3932b3db-6c8f-4745-96ff-89b5a7a70074"
      },
      "outputs": [
        {
          "output_type": "execute_result",
          "data": {
            "text/plain": [
              "<re.Match object; span=(0, 5), match='From '>"
            ]
          },
          "metadata": {},
          "execution_count": 25
        }
      ],
      "source": [
        "re.match(r'From\\s+', 'From amk Thu May 14 19:12:10 1998')  "
      ]
    },
    {
      "cell_type": "code",
      "execution_count": 26,
      "id": "08a02b2e",
      "metadata": {
        "id": "08a02b2e"
      },
      "outputs": [],
      "source": [
        "p = re.compile('ab*', re.IGNORECASE)\n",
        "p = re.compile('.*', re.DOTALL) # include newlines\n",
        "p = re.compile('.*', re.MULTILINE) # multiline matching"
      ]
    },
    {
      "cell_type": "markdown",
      "id": "c559c742",
      "metadata": {
        "id": "c559c742"
      },
      "source": [
        "| : Alternation, or the “or” operator. <br>\n",
        "^ : Matches at the beginning of lines"
      ]
    },
    {
      "cell_type": "code",
      "execution_count": 27,
      "id": "3909a946",
      "metadata": {
        "colab": {
          "base_uri": "https://localhost:8080/"
        },
        "id": "3909a946",
        "outputId": "9ca6cef9-6313-45b6-9c38-f6bdd60bdea6"
      },
      "outputs": [
        {
          "output_type": "stream",
          "name": "stdout",
          "text": [
            "<re.Match object; span=(0, 4), match='From'>\n"
          ]
        }
      ],
      "source": [
        "print(re.search('^From', 'From Here to Eternity')) "
      ]
    },
    {
      "cell_type": "code",
      "execution_count": 28,
      "id": "6e37d910",
      "metadata": {
        "colab": {
          "base_uri": "https://localhost:8080/"
        },
        "id": "6e37d910",
        "outputId": "9c947ec9-a066-4b48-9b5e-4c06ee009ac9"
      },
      "outputs": [
        {
          "output_type": "stream",
          "name": "stdout",
          "text": [
            "None\n"
          ]
        }
      ],
      "source": [
        "print(re.search('^From', 'Reciting From Memory'))"
      ]
    },
    {
      "cell_type": "markdown",
      "id": "52fec64d",
      "metadata": {
        "id": "52fec64d"
      },
      "source": [
        "$ : Matches at the end of a line"
      ]
    },
    {
      "cell_type": "code",
      "execution_count": 29,
      "id": "84c329eb",
      "metadata": {
        "colab": {
          "base_uri": "https://localhost:8080/"
        },
        "id": "84c329eb",
        "outputId": "4b6ab5c1-5371-43d7-b758-7b7b42431923"
      },
      "outputs": [
        {
          "output_type": "stream",
          "name": "stdout",
          "text": [
            "<re.Match object; span=(6, 7), match='}'>\n"
          ]
        }
      ],
      "source": [
        "print(re.search('}$', '{block}')) "
      ]
    },
    {
      "cell_type": "code",
      "execution_count": 30,
      "id": "f064d871",
      "metadata": {
        "colab": {
          "base_uri": "https://localhost:8080/",
          "height": 35
        },
        "id": "f064d871",
        "outputId": "eb616726-73cf-4582-8dea-1153c71e3c13"
      },
      "outputs": [
        {
          "output_type": "execute_result",
          "data": {
            "text/plain": [
              "'}'"
            ],
            "application/vnd.google.colaboratory.intrinsic+json": {
              "type": "string"
            }
          },
          "metadata": {},
          "execution_count": 30
        }
      ],
      "source": [
        "re.search('}$', '{block}')[0] # == re.search('}$', '{block}').group()"
      ]
    },
    {
      "cell_type": "code",
      "execution_count": 31,
      "id": "c50226ef",
      "metadata": {
        "colab": {
          "base_uri": "https://localhost:8080/"
        },
        "id": "c50226ef",
        "outputId": "36ecf787-0941-4c49-c0fb-5af7eb640d17"
      },
      "outputs": [
        {
          "output_type": "stream",
          "name": "stdout",
          "text": [
            "None\n"
          ]
        }
      ],
      "source": [
        "print(re.search('}$', '{block} '))"
      ]
    },
    {
      "cell_type": "code",
      "execution_count": 32,
      "id": "ee08bed3",
      "metadata": {
        "colab": {
          "base_uri": "https://localhost:8080/"
        },
        "id": "ee08bed3",
        "outputId": "4bc74e86-4ffc-4253-e6d6-0061a47e8c8b"
      },
      "outputs": [
        {
          "output_type": "stream",
          "name": "stdout",
          "text": [
            "<re.Match object; span=(6, 7), match='}'>\n"
          ]
        }
      ],
      "source": [
        "print(re.search('}$', '{block}\\n'))"
      ]
    },
    {
      "cell_type": "markdown",
      "id": "8b090588",
      "metadata": {
        "id": "8b090588"
      },
      "source": [
        "\\A : Matches only at the start of the string. When not in MULTILINE mode, <span style='color:red'> \\A and ^ are effectively the same. In MULTILINE mode, they’re different</span>: \\A still matches only at the beginning of the string, but ^ may match at any location inside the string that follows a newline character."
      ]
    },
    {
      "cell_type": "markdown",
      "id": "6df0194c",
      "metadata": {
        "id": "6df0194c"
      },
      "source": [
        "\\b : Word boundary. This is a zero-width assertion that matches only at the beginning or end of a word."
      ]
    },
    {
      "cell_type": "code",
      "execution_count": 33,
      "id": "b075f00c",
      "metadata": {
        "colab": {
          "base_uri": "https://localhost:8080/"
        },
        "id": "b075f00c",
        "outputId": "c3f21624-b4ea-4946-89ca-7f3dac19eb29"
      },
      "outputs": [
        {
          "output_type": "stream",
          "name": "stdout",
          "text": [
            "<re.Match object; span=(3, 8), match='class'>\n"
          ]
        }
      ],
      "source": [
        "p = re.compile(r'\\bclass\\b')\n",
        "print(p.search('no class at all'))"
      ]
    },
    {
      "cell_type": "code",
      "execution_count": 34,
      "id": "f958a992",
      "metadata": {
        "colab": {
          "base_uri": "https://localhost:8080/"
        },
        "id": "f958a992",
        "outputId": "2b968920-4857-48d5-bf21-1ac7ef118b43"
      },
      "outputs": [
        {
          "output_type": "stream",
          "name": "stdout",
          "text": [
            "None\n"
          ]
        }
      ],
      "source": [
        "print(p.search('the declassified algorithm'))"
      ]
    },
    {
      "cell_type": "code",
      "execution_count": 35,
      "id": "07eb119e",
      "metadata": {
        "colab": {
          "base_uri": "https://localhost:8080/"
        },
        "id": "07eb119e",
        "outputId": "a1d9e60c-994e-4728-e37c-ab21cc16fdb9"
      },
      "outputs": [
        {
          "output_type": "stream",
          "name": "stdout",
          "text": [
            "None\n"
          ]
        }
      ],
      "source": [
        "print(p.search('one subclass is'))"
      ]
    },
    {
      "cell_type": "markdown",
      "source": [
        "### 이어서 나오는 글자 이용\n",
        "앞 뒤 이어서 찾는 방법\n",
        "* negative lookahead : A(?!B)\n",
        "* positive lookahead : A(?=B)\n",
        "* negative lookbehind : (?<!B)A\n",
        "* positive lookbehind : (?<=B)A, \n",
        "\n"
      ],
      "metadata": {
        "id": "tGibXSM8LXTp"
      },
      "id": "tGibXSM8LXTp"
    },
    {
      "cell_type": "code",
      "source": [
        "# Negative lookahead: 찾으려고 하는 내용: 123567\n",
        "p = re.compile(r'123(?!456)567')  # 123 이후에 456이 나오지 않고 567로 이어지는 경우\n",
        "print(p.search('123456123567'))"
      ],
      "metadata": {
        "id": "x0m1ZI69LpN6",
        "outputId": "5ca9f065-536f-44eb-e653-cb251704dfe9",
        "colab": {
          "base_uri": "https://localhost:8080/"
        }
      },
      "id": "x0m1ZI69LpN6",
      "execution_count": 36,
      "outputs": [
        {
          "output_type": "stream",
          "name": "stdout",
          "text": [
            "<re.Match object; span=(6, 12), match='123567'>\n"
          ]
        }
      ]
    },
    {
      "cell_type": "code",
      "source": [
        "# Positve lookahead 찾으려고 하는 내용 123\n",
        "p = re.compile(r'123(?=456)') # 123 이후에 456이 나오는 경우, 456은 123을 찾기 위한 위치 조건\n",
        "print(p.search('123456123567'))"
      ],
      "metadata": {
        "id": "eTFRBBtVP__g",
        "outputId": "76d39b0c-f7e5-413f-9b4c-8aee1b9f4b2f",
        "colab": {
          "base_uri": "https://localhost:8080/"
        }
      },
      "id": "eTFRBBtVP__g",
      "execution_count": 37,
      "outputs": [
        {
          "output_type": "stream",
          "name": "stdout",
          "text": [
            "<re.Match object; span=(0, 3), match='123'>\n"
          ]
        }
      ]
    },
    {
      "cell_type": "code",
      "source": [
        "# Positve lookbehind : 찾으려고 하는 문자 456\n",
        "p = re.compile(r'(?<=123)456') # 456이전에 123이 있을 경우만 찾게 됨.\n",
        "print(p.search('123456123567'))"
      ],
      "metadata": {
        "id": "tNivkluxLpRK",
        "outputId": "ecfadcf6-16b1-4af2-c1a0-09fb8ee7943d",
        "colab": {
          "base_uri": "https://localhost:8080/"
        }
      },
      "id": "tNivkluxLpRK",
      "execution_count": 38,
      "outputs": [
        {
          "output_type": "stream",
          "name": "stdout",
          "text": [
            "<re.Match object; span=(3, 6), match='456'>\n"
          ]
        }
      ]
    },
    {
      "cell_type": "code",
      "source": [
        "# Negative lookbehind: 찾으려고 하는 내용: 456\n",
        "p = re.compile(r'(?<!123)456')  # 456 이전에 123이 없는 경우\n",
        "print(p.search('1234561235456'))"
      ],
      "metadata": {
        "id": "-BypPWpELpUt",
        "outputId": "6102d9fb-9c42-4747-b344-c82caab23322",
        "colab": {
          "base_uri": "https://localhost:8080/"
        }
      },
      "id": "-BypPWpELpUt",
      "execution_count": 39,
      "outputs": [
        {
          "output_type": "stream",
          "name": "stdout",
          "text": [
            "<re.Match object; span=(10, 13), match='456'>\n"
          ]
        }
      ]
    },
    {
      "cell_type": "markdown",
      "id": "3d380b7d",
      "metadata": {
        "id": "3d380b7d"
      },
      "source": [
        "### Grouping\n",
        "Groups are marked by the '(', ')' metacharacters."
      ]
    },
    {
      "cell_type": "code",
      "source": [
        "string = 'abssap ssapple ssp'\n",
        "pattern = re.compile('[s]{1,2}(apple\\s)')\n",
        "pattern.search(string)[0]"
      ],
      "metadata": {
        "id": "R2wdiQDsT1_F",
        "outputId": "a6ed4ca1-ff07-4925-fbd7-73d3d59a3d74",
        "colab": {
          "base_uri": "https://localhost:8080/",
          "height": 35
        }
      },
      "id": "R2wdiQDsT1_F",
      "execution_count": 40,
      "outputs": [
        {
          "output_type": "execute_result",
          "data": {
            "text/plain": [
              "'ssapple '"
            ],
            "application/vnd.google.colaboratory.intrinsic+json": {
              "type": "string"
            }
          },
          "metadata": {},
          "execution_count": 40
        }
      ]
    },
    {
      "cell_type": "code",
      "source": [
        "pattern.search(string).group()"
      ],
      "metadata": {
        "id": "89xjOaSdVb1h",
        "outputId": "7807b872-26df-45a1-b105-2b53efeaf610",
        "colab": {
          "base_uri": "https://localhost:8080/",
          "height": 35
        }
      },
      "id": "89xjOaSdVb1h",
      "execution_count": 41,
      "outputs": [
        {
          "output_type": "execute_result",
          "data": {
            "text/plain": [
              "'ssapple '"
            ],
            "application/vnd.google.colaboratory.intrinsic+json": {
              "type": "string"
            }
          },
          "metadata": {},
          "execution_count": 41
        }
      ]
    },
    {
      "cell_type": "code",
      "source": [
        "re.search(pattern, string)[0]"
      ],
      "metadata": {
        "id": "xhqs-ba1T1wN",
        "outputId": "ad370ab2-01a5-4aa5-f4fd-c4404428eba9",
        "colab": {
          "base_uri": "https://localhost:8080/",
          "height": 35
        }
      },
      "id": "xhqs-ba1T1wN",
      "execution_count": 42,
      "outputs": [
        {
          "output_type": "execute_result",
          "data": {
            "text/plain": [
              "'ssapple '"
            ],
            "application/vnd.google.colaboratory.intrinsic+json": {
              "type": "string"
            }
          },
          "metadata": {},
          "execution_count": 42
        }
      ]
    },
    {
      "cell_type": "code",
      "execution_count": 43,
      "id": "aab4f21a",
      "metadata": {
        "colab": {
          "base_uri": "https://localhost:8080/"
        },
        "id": "aab4f21a",
        "outputId": "609a1ca5-34e3-494b-b3dd-9e4b55836144"
      },
      "outputs": [
        {
          "output_type": "execute_result",
          "data": {
            "text/plain": [
              "('ababababab', 0, 10, (0, 10))"
            ]
          },
          "metadata": {},
          "execution_count": 43
        }
      ],
      "source": [
        "p = re.compile('(ab)*')\n",
        "m = p.match('ababababab')\n",
        "m.group(), m.start(), m.end(), m.span()"
      ]
    },
    {
      "cell_type": "code",
      "execution_count": 44,
      "id": "422c38ef",
      "metadata": {
        "colab": {
          "base_uri": "https://localhost:8080/"
        },
        "id": "422c38ef",
        "outputId": "f9fb906b-7693-4a53-b041-d244e9a03d7f"
      },
      "outputs": [
        {
          "output_type": "execute_result",
          "data": {
            "text/plain": [
              "('ab',)"
            ]
          },
          "metadata": {},
          "execution_count": 44
        }
      ],
      "source": [
        "m.groups()"
      ]
    },
    {
      "cell_type": "code",
      "execution_count": 45,
      "id": "78c9c4eb",
      "metadata": {
        "id": "78c9c4eb"
      },
      "outputs": [],
      "source": [
        "p = re.compile('(a(b)c)d')\n",
        "m = p.match('abcd')"
      ]
    },
    {
      "cell_type": "code",
      "execution_count": 46,
      "id": "a0b9a1ad",
      "metadata": {
        "colab": {
          "base_uri": "https://localhost:8080/"
        },
        "id": "a0b9a1ad",
        "outputId": "01024a1f-4e8d-411b-fd55-336e21ff3707"
      },
      "outputs": [
        {
          "output_type": "execute_result",
          "data": {
            "text/plain": [
              "('abcd', 'abc', 'b')"
            ]
          },
          "metadata": {},
          "execution_count": 46
        }
      ],
      "source": [
        "m.group(0), m.group(1), m.group(2)"
      ]
    },
    {
      "cell_type": "code",
      "execution_count": 47,
      "id": "7c4d95e2",
      "metadata": {
        "colab": {
          "base_uri": "https://localhost:8080/"
        },
        "id": "7c4d95e2",
        "outputId": "68df0bd6-3329-40a0-bb41-0df08f3ca8d3"
      },
      "outputs": [
        {
          "output_type": "execute_result",
          "data": {
            "text/plain": [
              "2"
            ]
          },
          "metadata": {},
          "execution_count": 47
        }
      ],
      "source": [
        "len(m.groups())  # 전체를 제외한 group의 갯수\n",
        "# len(m.group()) => 주의 : 첫번째 ('abcd')의 스트링 문자 갯수를 반환함."
      ]
    },
    {
      "cell_type": "code",
      "execution_count": 48,
      "id": "94175030",
      "metadata": {
        "colab": {
          "base_uri": "https://localhost:8080/"
        },
        "id": "94175030",
        "outputId": "77cec65f-43f7-4d67-8839-e6985446a6ec"
      },
      "outputs": [
        {
          "output_type": "execute_result",
          "data": {
            "text/plain": [
              "('abc', 'b')"
            ]
          },
          "metadata": {},
          "execution_count": 48
        }
      ],
      "source": [
        "m.groups()"
      ]
    },
    {
      "cell_type": "code",
      "execution_count": 49,
      "id": "5c8646df",
      "metadata": {
        "colab": {
          "base_uri": "https://localhost:8080/"
        },
        "id": "5c8646df",
        "outputId": "67e9e868-d163-43a1-cd71-ce2cec756acc"
      },
      "outputs": [
        {
          "output_type": "execute_result",
          "data": {
            "text/plain": [
              "('c',)"
            ]
          },
          "metadata": {},
          "execution_count": 49
        }
      ],
      "source": [
        "m = re.match(\"([abc])+\", \"abc\")\n",
        "m.groups()"
      ]
    },
    {
      "cell_type": "code",
      "execution_count": 50,
      "id": "7271cf3e",
      "metadata": {
        "colab": {
          "base_uri": "https://localhost:8080/",
          "height": 35
        },
        "id": "7271cf3e",
        "outputId": "4683fbe8-16c1-4a59-902e-043cd7033001"
      },
      "outputs": [
        {
          "output_type": "execute_result",
          "data": {
            "text/plain": [
              "'c'"
            ],
            "application/vnd.google.colaboratory.intrinsic+json": {
              "type": "string"
            }
          },
          "metadata": {},
          "execution_count": 50
        }
      ],
      "source": [
        "m.group(1)"
      ]
    },
    {
      "cell_type": "code",
      "execution_count": 51,
      "id": "5a5dc9f3",
      "metadata": {
        "id": "5a5dc9f3"
      },
      "outputs": [],
      "source": [
        "m = re.match(\"(?:[abc])+\", \"abc\")"
      ]
    },
    {
      "cell_type": "code",
      "execution_count": 52,
      "id": "3204f53b",
      "metadata": {
        "colab": {
          "base_uri": "https://localhost:8080/"
        },
        "id": "3204f53b",
        "outputId": "9b768694-a8dd-46ef-efb3-cdab82122c1b"
      },
      "outputs": [
        {
          "output_type": "execute_result",
          "data": {
            "text/plain": [
              "()"
            ]
          },
          "metadata": {},
          "execution_count": 52
        }
      ],
      "source": [
        "m.groups()"
      ]
    },
    {
      "cell_type": "markdown",
      "id": "edf0c83c",
      "metadata": {
        "id": "edf0c83c"
      },
      "source": [
        "The syntax for a named group is one of the Python-specific extensions: (?P<name>...). name is, obviously, the name of the group."
      ]
    },
    {
      "cell_type": "code",
      "execution_count": 53,
      "id": "9c174908",
      "metadata": {
        "colab": {
          "base_uri": "https://localhost:8080/",
          "height": 35
        },
        "id": "9c174908",
        "outputId": "d97a7309-eb04-42f9-d7f4-e76a976af4d8"
      },
      "outputs": [
        {
          "output_type": "execute_result",
          "data": {
            "text/plain": [
              "'Lots'"
            ],
            "application/vnd.google.colaboratory.intrinsic+json": {
              "type": "string"
            }
          },
          "metadata": {},
          "execution_count": 53
        }
      ],
      "source": [
        "p = re.compile(r'(?P<word>\\b\\w+\\b)')\n",
        "m = p.search( '(((( Lots of punctuation )))' )\n",
        "m.group('word')"
      ]
    },
    {
      "cell_type": "code",
      "execution_count": 54,
      "id": "cefb3bc3",
      "metadata": {
        "colab": {
          "base_uri": "https://localhost:8080/",
          "height": 35
        },
        "id": "cefb3bc3",
        "outputId": "7fb15b13-923b-44a9-c739-7cc2bcf7f970"
      },
      "outputs": [
        {
          "output_type": "execute_result",
          "data": {
            "text/plain": [
              "'Lots'"
            ],
            "application/vnd.google.colaboratory.intrinsic+json": {
              "type": "string"
            }
          },
          "metadata": {},
          "execution_count": 54
        }
      ],
      "source": [
        "m.group(1)"
      ]
    },
    {
      "cell_type": "code",
      "execution_count": 55,
      "id": "c6763734",
      "metadata": {
        "colab": {
          "base_uri": "https://localhost:8080/"
        },
        "id": "c6763734",
        "outputId": "a9ac5c0b-b9b4-4b4d-8a15-6efa724055cf"
      },
      "outputs": [
        {
          "output_type": "execute_result",
          "data": {
            "text/plain": [
              "{'first': 'Jane', 'last': 'Doe'}"
            ]
          },
          "metadata": {},
          "execution_count": 55
        }
      ],
      "source": [
        "m = re.match(r'(?P<first>\\w+) (?P<last>\\w+)', 'Jane Doe')\n",
        "m.groupdict()"
      ]
    },
    {
      "cell_type": "code",
      "execution_count": 56,
      "id": "89d8d054",
      "metadata": {
        "colab": {
          "base_uri": "https://localhost:8080/"
        },
        "id": "89d8d054",
        "outputId": "76b3f018-05c5-43e4-c9f9-2fb70747f0b1"
      },
      "outputs": [
        {
          "output_type": "execute_result",
          "data": {
            "text/plain": [
              "<re.Match object; span=(0, 8), match='Jane Doe'>"
            ]
          },
          "metadata": {},
          "execution_count": 56
        }
      ],
      "source": [
        "m"
      ]
    },
    {
      "cell_type": "markdown",
      "id": "bcfc3f80",
      "metadata": {
        "id": "bcfc3f80"
      },
      "source": [
        "### Modifying Strings"
      ]
    },
    {
      "cell_type": "code",
      "execution_count": 57,
      "id": "f1240292",
      "metadata": {
        "colab": {
          "base_uri": "https://localhost:8080/"
        },
        "id": "f1240292",
        "outputId": "ed9bc3b5-3653-4c87-cce7-cd8e1ee3d3ce"
      },
      "outputs": [
        {
          "output_type": "execute_result",
          "data": {
            "text/plain": [
              "['This', 'is', 'a', 'test', 'short', 'and', 'sweet', 'of', 'split', '']"
            ]
          },
          "metadata": {},
          "execution_count": 57
        }
      ],
      "source": [
        "p = re.compile(r'\\W+') \n",
        "# \\W is equivalent to the class [^a-zA-Z0-9_].\n",
        "# the delimiter is any sequence of non-alphanumeric characters.\n",
        "p.split('This is a test, short and sweet, of split().')"
      ]
    },
    {
      "cell_type": "code",
      "execution_count": 58,
      "id": "e01e1e39",
      "metadata": {
        "colab": {
          "base_uri": "https://localhost:8080/"
        },
        "id": "e01e1e39",
        "outputId": "d7373f42-fb5d-4ebf-87c4-956da20001d9"
      },
      "outputs": [
        {
          "output_type": "execute_result",
          "data": {
            "text/plain": [
              "['This', 'is', 'a', 'test, short and sweet, of split().']"
            ]
          },
          "metadata": {},
          "execution_count": 58
        }
      ],
      "source": [
        "# .split(string[, maxsplit=0])\n",
        "p.split('This is a test, short and sweet, of split().', 3)"
      ]
    },
    {
      "cell_type": "code",
      "execution_count": 59,
      "id": "b3507d3b",
      "metadata": {
        "colab": {
          "base_uri": "https://localhost:8080/"
        },
        "id": "b3507d3b",
        "outputId": "5aa0445c-865a-4cc7-e70b-a4ace076af41"
      },
      "outputs": [
        {
          "output_type": "execute_result",
          "data": {
            "text/plain": [
              "['This', 'is a test, short and sweet, of split().']"
            ]
          },
          "metadata": {},
          "execution_count": 59
        }
      ],
      "source": [
        "p.split('This is a test, short and sweet, of split().', 1)"
      ]
    },
    {
      "cell_type": "markdown",
      "id": "6a0e8bb9",
      "metadata": {
        "id": "6a0e8bb9"
      },
      "source": [
        "#### delimiter도 필요할 경우 () 사용\n",
        "Sometimes you’re not only interested in what the text between delimiters is, but also need to know what the delimiter was. If capturing parentheses are used in the RE, then their values are also returned as part of the list."
      ]
    },
    {
      "cell_type": "code",
      "execution_count": 60,
      "id": "ff9148d3",
      "metadata": {
        "id": "ff9148d3"
      },
      "outputs": [],
      "source": [
        "p = re.compile(r'\\W+')\n",
        "p2 = re.compile(r'(\\W+)')"
      ]
    },
    {
      "cell_type": "code",
      "execution_count": 61,
      "id": "aa1b5bbb",
      "metadata": {
        "colab": {
          "base_uri": "https://localhost:8080/"
        },
        "id": "aa1b5bbb",
        "outputId": "3b32cec7-ed28-4f5b-9f0f-1c0b058cc0d0"
      },
      "outputs": [
        {
          "output_type": "execute_result",
          "data": {
            "text/plain": [
              "['This', 'is', 'a', 'test', '']"
            ]
          },
          "metadata": {},
          "execution_count": 61
        }
      ],
      "source": [
        "p.split('This... is a test.')"
      ]
    },
    {
      "cell_type": "code",
      "execution_count": 62,
      "id": "f44eb1c4",
      "metadata": {
        "colab": {
          "base_uri": "https://localhost:8080/"
        },
        "id": "f44eb1c4",
        "outputId": "219d5221-b89f-46bb-abf4-c94e40eaa7a8"
      },
      "outputs": [
        {
          "output_type": "execute_result",
          "data": {
            "text/plain": [
              "['This', '... ', 'is', ' ', 'a', ' ', 'test', '.', '']"
            ]
          },
          "metadata": {},
          "execution_count": 62
        }
      ],
      "source": [
        "p2.split('This... is a test.')"
      ]
    },
    {
      "cell_type": "code",
      "execution_count": 63,
      "id": "8326a2ba",
      "metadata": {
        "colab": {
          "base_uri": "https://localhost:8080/"
        },
        "id": "8326a2ba",
        "outputId": "7ec6e0d4-0d73-4491-eb55-3c0e7e7a36f0"
      },
      "outputs": [
        {
          "output_type": "execute_result",
          "data": {
            "text/plain": [
              "['Words', 'words', 'words', '']"
            ]
          },
          "metadata": {},
          "execution_count": 63
        }
      ],
      "source": [
        "re.split(r'[\\W]+', 'Words, words, words.')"
      ]
    },
    {
      "cell_type": "code",
      "execution_count": 64,
      "id": "d139598d",
      "metadata": {
        "colab": {
          "base_uri": "https://localhost:8080/"
        },
        "id": "d139598d",
        "outputId": "7c467f45-e191-487b-84df-9cae28f2d14a"
      },
      "outputs": [
        {
          "output_type": "execute_result",
          "data": {
            "text/plain": [
              "['Words', ', ', 'words', ', ', 'words', '.', '']"
            ]
          },
          "metadata": {},
          "execution_count": 64
        }
      ],
      "source": [
        "re.split(r'([\\W]+)', 'Words, words, words.')"
      ]
    },
    {
      "cell_type": "markdown",
      "id": "0073b83a",
      "metadata": {
        "id": "0073b83a"
      },
      "source": [
        "### Search and Replace"
      ]
    },
    {
      "cell_type": "code",
      "execution_count": 65,
      "id": "0f2a4cb9",
      "metadata": {
        "colab": {
          "base_uri": "https://localhost:8080/",
          "height": 0
        },
        "id": "0f2a4cb9",
        "outputId": "8230d91d-89ff-4b2a-c60d-8d1d1cd3cc9d"
      },
      "outputs": [
        {
          "output_type": "execute_result",
          "data": {
            "text/plain": [
              "'colour socks and colour shoes'"
            ],
            "application/vnd.google.colaboratory.intrinsic+json": {
              "type": "string"
            }
          },
          "metadata": {},
          "execution_count": 65
        }
      ],
      "source": [
        "p = re.compile('(blue|white|red)')  # 여기에 해당되는 항목을\n",
        "p.sub('colour', 'blue socks and red shoes') # colour로 바꿔라."
      ]
    },
    {
      "cell_type": "code",
      "execution_count": 66,
      "id": "862f9d45",
      "metadata": {
        "colab": {
          "base_uri": "https://localhost:8080/",
          "height": 0
        },
        "id": "862f9d45",
        "outputId": "ef5caa08-9180-4ab8-efd8-b549e168d52c"
      },
      "outputs": [
        {
          "output_type": "execute_result",
          "data": {
            "text/plain": [
              "'colour socks and red shoes'"
            ],
            "application/vnd.google.colaboratory.intrinsic+json": {
              "type": "string"
            }
          },
          "metadata": {},
          "execution_count": 66
        }
      ],
      "source": [
        "p.sub('colour', 'blue socks and red shoes', count=1) # 1개 만 바꿈"
      ]
    },
    {
      "cell_type": "code",
      "execution_count": 67,
      "id": "outdoor-mercy",
      "metadata": {
        "colab": {
          "base_uri": "https://localhost:8080/"
        },
        "id": "outdoor-mercy",
        "outputId": "08bae12d-ca0f-4b9e-88e1-e705d4389c60"
      },
      "outputs": [
        {
          "output_type": "stream",
          "name": "stdout",
          "text": [
            "\n",
            "google.com\n",
            "coreyms.com\n",
            "youtube.com\n",
            "nasa.gov\n",
            "\n"
          ]
        }
      ],
      "source": [
        "urls = '''\n",
        "https://www.google.com\n",
        "http://coreyms.com\n",
        "https://youtube.com\n",
        "https://www.nasa.gov\n",
        "'''\n",
        "\n",
        "pattern = re.compile(r'https?://(www\\.)?(\\w+)(\\.\\w+)')\n",
        "\n",
        "subbed_urls = pattern.sub(r'\\2\\3', urls) # group 2, 3로 대체\n",
        "# https://www.google.com 를 pattern으로 찾아서, \\2('google') \\3('.com') 으로 replace시킴\n",
        "print(subbed_urls)"
      ]
    },
    {
      "cell_type": "code",
      "execution_count": 68,
      "id": "b1c3dd38",
      "metadata": {
        "colab": {
          "base_uri": "https://localhost:8080/",
          "height": 0
        },
        "id": "b1c3dd38",
        "outputId": "fd03d059-9c3e-4b25-bc98-59f6efeb61e9"
      },
      "outputs": [
        {
          "output_type": "execute_result",
          "data": {
            "text/plain": [
              "'sam*sun*g'"
            ],
            "application/vnd.google.colaboratory.intrinsic+json": {
              "type": "string"
            }
          },
          "metadata": {},
          "execution_count": 68
        }
      ],
      "source": [
        "backs = re.sub(r'[\\\\.]', '*', 'sam.sun\\\\g') \n",
        "# backslash 변환 => \\\\ : metacharacter \\와 변환대상 \\  이어서 표현\n",
        "backs"
      ]
    },
    {
      "cell_type": "markdown",
      "id": "understood-incidence",
      "metadata": {
        "id": "understood-incidence"
      },
      "source": [
        "### string.replace or re.sub \n",
        "<font color='re둘 중에 string.replace를 사용해야 함.\n",
        "As long as you can make do with str.replace(), you should use it. <br>\n",
        "str.replace() should be used whenever it's possible to. It's more explicit, simpler, and faster."
      ]
    },
    {
      "cell_type": "code",
      "execution_count": 69,
      "id": "98894b46",
      "metadata": {
        "colab": {
          "base_uri": "https://localhost:8080/"
        },
        "id": "98894b46",
        "outputId": "059fb780-7ac1-45c8-dcdd-5b9852947a52"
      },
      "outputs": [
        {
          "output_type": "execute_result",
          "data": {
            "text/plain": [
              "('colour socks and colour shoes', 2)"
            ]
          },
          "metadata": {},
          "execution_count": 69
        }
      ],
      "source": [
        "p = re.compile('(blue|white|red)')\n",
        "p.subn('colour', 'blue socks and red shoes')  \n",
        "# subn은 몇개가 바뀌었는지 tuple로 알려줌. 2개가 바뀌었음."
      ]
    },
    {
      "cell_type": "code",
      "execution_count": 70,
      "id": "31605e1d",
      "metadata": {
        "colab": {
          "base_uri": "https://localhost:8080/"
        },
        "id": "31605e1d",
        "outputId": "42f59a30-7f48-4a03-e12a-aa34f1b15b32"
      },
      "outputs": [
        {
          "output_type": "execute_result",
          "data": {
            "text/plain": [
              "('no colours at all', 0)"
            ]
          },
          "metadata": {},
          "execution_count": 70
        }
      ],
      "source": [
        "p.subn('colour', 'no colours at all') # 비뀐 내용이 없음."
      ]
    },
    {
      "cell_type": "code",
      "execution_count": 71,
      "id": "4f611c4c",
      "metadata": {
        "colab": {
          "base_uri": "https://localhost:8080/",
          "height": 0
        },
        "id": "4f611c4c",
        "outputId": "f8fdd941-b9d7-4213-92c7-19b118e9dccc"
      },
      "outputs": [
        {
          "output_type": "execute_result",
          "data": {
            "text/plain": [
              "'-a-b--d-'"
            ],
            "application/vnd.google.colaboratory.intrinsic+json": {
              "type": "string"
            }
          },
          "metadata": {},
          "execution_count": 71
        }
      ],
      "source": [
        "p = re.compile('x*')\n",
        "p.sub('-', 'abxd')"
      ]
    },
    {
      "cell_type": "markdown",
      "id": "2924f984",
      "metadata": {
        "id": "2924f984"
      },
      "source": [
        "### match() versus search()\n",
        "The match() function only checks if the RE matches at the beginning of the string while search() will scan forward through the string for a match. It's important to keep this distinction in mind. Remember, **match()** will only report a successful match which will <span style='color:red'>**start at 0**</span>; if the match wouldn’t start at zero, match() will not report it."
      ]
    },
    {
      "cell_type": "code",
      "execution_count": 72,
      "id": "70b7dcdc",
      "metadata": {
        "colab": {
          "base_uri": "https://localhost:8080/"
        },
        "id": "70b7dcdc",
        "outputId": "5022c3cc-d67b-48d9-c145-49d0a91864be"
      },
      "outputs": [
        {
          "output_type": "stream",
          "name": "stdout",
          "text": [
            "(0, 5)\n",
            "None\n"
          ]
        }
      ],
      "source": [
        "print(re.match('super', 'superstition').span())\n",
        "print(re.match('super', 'insuperable'))"
      ]
    },
    {
      "cell_type": "code",
      "execution_count": 73,
      "id": "50ea6f3f",
      "metadata": {
        "colab": {
          "base_uri": "https://localhost:8080/"
        },
        "id": "50ea6f3f",
        "outputId": "4dd98ce7-c0b9-4bbe-9997-0b52922492b0"
      },
      "outputs": [
        {
          "output_type": "stream",
          "name": "stdout",
          "text": [
            "(0, 5)\n",
            "(2, 7)\n"
          ]
        }
      ],
      "source": [
        "print(re.search('super', 'superstition').span())\n",
        "print(re.search('super', 'insuperable').span())"
      ]
    },
    {
      "cell_type": "markdown",
      "id": "00427c03",
      "metadata": {
        "id": "00427c03"
      },
      "source": [
        "### Greedy versus Non-Greedy"
      ]
    },
    {
      "cell_type": "code",
      "execution_count": 74,
      "id": "b2bffc66",
      "metadata": {
        "colab": {
          "base_uri": "https://localhost:8080/"
        },
        "id": "b2bffc66",
        "outputId": "6ab42598-0e52-4add-f2e6-42904f0c63a1"
      },
      "outputs": [
        {
          "output_type": "execute_result",
          "data": {
            "text/plain": [
              "32"
            ]
          },
          "metadata": {},
          "execution_count": 74
        }
      ],
      "source": [
        "s = '<html><head><title>Title</title>'\n",
        "len(s)"
      ]
    },
    {
      "cell_type": "code",
      "execution_count": 75,
      "id": "77d948f6",
      "metadata": {
        "colab": {
          "base_uri": "https://localhost:8080/"
        },
        "id": "77d948f6",
        "outputId": "14251c3c-c935-45fc-e6ed-a133f0d2bfe6"
      },
      "outputs": [
        {
          "output_type": "stream",
          "name": "stdout",
          "text": [
            "(0, 32) <html><head><title>Title</title>\n"
          ]
        }
      ],
      "source": [
        "print(re.match('<.*>', s).span(), re.match('<.*>', s).group())  # '.*' 가 마지막까지 matching시킴"
      ]
    },
    {
      "cell_type": "markdown",
      "id": "a5a762b3",
      "metadata": {
        "id": "a5a762b3"
      },
      "source": [
        "In this case, the solution is to use the non-greedy qualifiers *?, +?, ??, or {m,n}?, which match as little text as possible. "
      ]
    },
    {
      "cell_type": "code",
      "execution_count": 76,
      "id": "81e6c5fa",
      "metadata": {
        "colab": {
          "base_uri": "https://localhost:8080/"
        },
        "id": "81e6c5fa",
        "outputId": "f8f453f4-ffd2-495c-8da1-d4750bb903f4"
      },
      "outputs": [
        {
          "output_type": "stream",
          "name": "stdout",
          "text": [
            "<html><head\n"
          ]
        }
      ],
      "source": [
        "print(re.match('<.*?d', s).group())  # 'd'를 처음만날때까지만 반복"
      ]
    },
    {
      "cell_type": "code",
      "execution_count": 77,
      "id": "41a14c1a",
      "metadata": {
        "colab": {
          "base_uri": "https://localhost:8080/"
        },
        "id": "41a14c1a",
        "outputId": "8b201d33-8cb7-4c74-bd1e-5790a8c402a7"
      },
      "outputs": [
        {
          "output_type": "stream",
          "name": "stdout",
          "text": [
            "['<html>', '<head>', '<title>', '</title>']\n"
          ]
        }
      ],
      "source": [
        "print(re.findall('<.*?>', s))"
      ]
    },
    {
      "cell_type": "markdown",
      "id": "a323fed1",
      "metadata": {
        "id": "a323fed1"
      },
      "source": [
        "### Using re.VERBOSE\n",
        "For such REs, specifying the re.VERBOSE flag when compiling the regular expression can be helpful, because it allows you to format the regular expression more clearly."
      ]
    },
    {
      "cell_type": "code",
      "execution_count": 78,
      "id": "60dcce7d",
      "metadata": {
        "id": "60dcce7d"
      },
      "outputs": [],
      "source": [
        "pat = re.compile(r\"\"\"\n",
        " \\s*                 # Skip leading whitespace\n",
        " (?P<header>[^:]+)   # Header name\n",
        " \\s* :               # Whitespace, and a colon\n",
        " (?P<value>.*?)      # The header's value -- *? used to\n",
        "                     # lose the following trailing whitespace\n",
        " \\s*$                # Trailing whitespace to end-of-line\n",
        "\"\"\", re.VERBOSE)"
      ]
    },
    {
      "cell_type": "markdown",
      "id": "79db5a37",
      "metadata": {
        "id": "79db5a37"
      },
      "source": [
        "This is far more readable than:"
      ]
    },
    {
      "cell_type": "code",
      "execution_count": 79,
      "id": "ac73c183",
      "metadata": {
        "id": "ac73c183"
      },
      "outputs": [],
      "source": [
        "pat = re.compile(r\"\\s*(?P<header>[^:]+)\\s*:(?P<value>.*?)\\s*$\")"
      ]
    },
    {
      "cell_type": "code",
      "execution_count": 80,
      "id": "260282ad",
      "metadata": {
        "colab": {
          "base_uri": "https://localhost:8080/"
        },
        "id": "260282ad",
        "outputId": "3deb3483-2970-4e4a-adff-a8eea6dee488"
      },
      "outputs": [
        {
          "output_type": "execute_result",
          "data": {
            "text/plain": [
              "<re.Match object; span=(0, 4), match='1212'>"
            ]
          },
          "metadata": {},
          "execution_count": 80
        }
      ],
      "source": [
        "re.search(r'(\\d\\d)\\1', '121212') #(\\d\\d)  가 한번 반복(\\1 => 1번 group과 같은 내용이 한번 더 있다는 뜻)"
      ]
    },
    {
      "cell_type": "code",
      "execution_count": 81,
      "id": "capital-establishment",
      "metadata": {
        "colab": {
          "base_uri": "https://localhost:8080/"
        },
        "id": "capital-establishment",
        "outputId": "5233fee1-5402-4234-bb85-7a444c52f000"
      },
      "outputs": [
        {
          "output_type": "execute_result",
          "data": {
            "text/plain": [
              "<re.Match object; span=(0, 6), match='121212'>"
            ]
          },
          "metadata": {},
          "execution_count": 81
        }
      ],
      "source": [
        "re.search(r'(\\d\\d)\\1\\1', '121212')#(\\d\\d) 가 두 번 반복(\\1 => 1번 group과 같은 내용이 두번 더 있다는 뜻)"
      ]
    },
    {
      "cell_type": "code",
      "execution_count": 82,
      "id": "proper-reproduction",
      "metadata": {
        "colab": {
          "base_uri": "https://localhost:8080/"
        },
        "id": "proper-reproduction",
        "outputId": "b84ee12f-0082-48a4-aee5-0364d33b5840"
      },
      "outputs": [
        {
          "output_type": "execute_result",
          "data": {
            "text/plain": [
              "('12', '34')"
            ]
          },
          "metadata": {},
          "execution_count": 82
        }
      ],
      "source": [
        "subr = re.search(r'(\\d\\d)(\\d\\d)', '1234')\n",
        "subr.group(1), subr.group(2)"
      ]
    },
    {
      "cell_type": "code",
      "execution_count": 83,
      "id": "french-anaheim",
      "metadata": {
        "colab": {
          "base_uri": "https://localhost:8080/",
          "height": 0
        },
        "id": "french-anaheim",
        "outputId": "9dda8478-498f-43ea-bd3a-416c52ea306c"
      },
      "outputs": [
        {
          "output_type": "execute_result",
          "data": {
            "text/plain": [
              "'1234defg'"
            ],
            "application/vnd.google.colaboratory.intrinsic+json": {
              "type": "string"
            }
          },
          "metadata": {},
          "execution_count": 83
        }
      ],
      "source": [
        "re.sub(r'abc', subr.group(1)+subr.group(2), 'abcdefg')"
      ]
    },
    {
      "cell_type": "code",
      "execution_count": 84,
      "id": "equivalent-knowing",
      "metadata": {
        "colab": {
          "base_uri": "https://localhost:8080/"
        },
        "id": "equivalent-knowing",
        "outputId": "e1f84556-8d9d-4324-fd00-8184e9476b7e"
      },
      "outputs": [
        {
          "output_type": "stream",
          "name": "stdout",
          "text": [
            "<re.Match object; span=(0, 5), match='Start'>\n"
          ]
        }
      ],
      "source": [
        "sentence = 'Start a sentence and then bring it to an end'\n",
        "\n",
        "pattern = re.compile(r'start', re.I) # ignorecase\n",
        "\n",
        "matches = pattern.search(sentence)\n",
        "\n",
        "print(matches)"
      ]
    },
    {
      "cell_type": "markdown",
      "id": "031c9e9e",
      "metadata": {
        "id": "031c9e9e"
      },
      "source": [
        "```\n",
        "숫자만 가능 : /^[0-9]+$/\n",
        "이메일 형식만 가능 : /^([\\w-]+(?:\\.[\\w-]+)*)@((?:[\\w-]+\\.)*\\w[\\w-]{0,66})\\.([a-z]{2,6}(?:\\.[a-z]{2})?)$/\n",
        "한글만 가능 : /^[가-힣]+$/\n",
        "한글,띄어쓰기만 가능 : /^[가-힣\\s]+$/\n",
        "영문만 가능 : /^[a-zA-Z]+$/\n",
        "영문,띄어쓰기만 가능: /^[a-zA-Z\\s]+$/\n",
        "전화번호 형태 : /^[0-9]{2,3}-[0-9]{3,4}-[0-9]{4}$/\n",
        "도메인 형태 : /^(((http(s?))\\:\\/\\/)?)([0-9a-zA-Z\\-]+\\.)+[a-zA-Z]{2,6}(\\:[0-9]+)?(\\/\\S*)?$/\n",
        "도메인 형태 : /^((http(s?))\\:\\/\\/)([0-9a-zA-Z\\-]+\\.)+[a-zA-Z]{2,6}(\\:[0-9]+)?(\\/\\S*)?$/\n",
        "도메인 형태 : /^[^((http(s?))\\:\\/\\/)]([0-9a-zA-Z\\-]+\\.)+[a-zA-Z]{2,6}(\\:[0-9]+)?(\\/\\S*)?$/\n",
        "한글과 영문만 가능 : /^[가-힣a-zA-Z]+$/\n",
        "숫자,알파벳만 가능 : /^[a-zA-Z0-9]+$/\n",
        "주민번호, -까지 포함된 문자열로 검색 : /^(?:[0-9]{2}(?:0[1-9]|1[0-2])(?:0[1-9]|[1,2][0-9]|3[0,1]))-[1-4][0-9]{6}$/\n",
        "\n",
        "출처: https://gocoding.tistory.com/93 [Developer Factory]\n",
        "```"
      ]
    },
    {
      "cell_type": "markdown",
      "id": "ce15b720",
      "metadata": {
        "id": "ce15b720"
      },
      "source": [
        "```\n",
        "^The\tThe로 시작하는 문자열\n",
        "of despair$\tof despair로 끝나는 문자열\n",
        "^abc$\tabc로 시작하고 abc로 끝나는 문자열 (abc 라는 문자열도 해당됨)\n",
        "notice\tnotice가 들어 있는 문자열\n",
        "\n",
        "ab*\ta 다음에 b가 0개 이상 (a, ab, abbb 등등)\n",
        "ab+\ta 다음에 b가 1개 이상 (ab, abbb 등등)\n",
        "ab?\ta 다음에 b가 있거나 없거나 (ab 또는 a)\n",
        "\n",
        "ab{2}\ta 다음에 b가 2개 있는 문자열 (abb)\n",
        "ab{2,}\ta 다음에 b가 2개 이상 (abb, abbbb 등등)\n",
        "ab{3,5}\ta 다음에 b가 3개에서 5개 사이 (abbb, abbbb, 또는 abbbbb)\n",
        "*, +, ?는 각각 {0,}, {1,}, {0,1}과 같습니다.\n",
        "\n",
        "( )는 문자열을 묶음 처리할 때 사용\n",
        "a(bc)*\ta 다음에 bc가 0개 이상 (묶음 처리)\n",
        "a(bc){1,5}\ta 다음에 bc가 1개에서 5개 사이\n",
        "\n",
        "hi|hello\thi나 hello가 들어 있는 문자열\n",
        "(b|cd)ef\tbef 또는 cdef\n",
        "(a|b)*c\ta와 b가 섞여서 여러번 나타나고 그뒤에 c가 붙어있는 패턴\n",
        "\n",
        ". (점)\t임의의 한 문자\n",
        "^.{3}$\t3문자로만 되어 있는 문자열\n",
        "\n",
        "[ ]\t괄호 안에 있는 내용 중 임의의 한 문자\n",
        "[^ ]\t첫문자로 ^를 쓰면 괄호 내용의 부정. 즉 괄호 안에 포함되지 않는 한 문자\n",
        "[ab]\ta 또는 b (a|b 와 동일한 표현)\n",
        "[a-d]\t소문자 a에서 d까지 (a|b|c|d 또는 [abcd] 와 동일)\n",
        "^[a-zA-Z]\t영문자로 시작하는 문자열\n",
        "[0-9]%\t% 문자 앞에 하나의 숫자가 붙어 있는 패턴\n",
        "%[^a-zA-Z]%\t두 % 문자 사이에 영문자가 없는 패턴\n",
        "\n",
        "특수 문자 자체를 검색하기 및 사용하기\n",
        "\\^\t^\t\\.\t.\n",
        "\\[\t[\t\\$\t$\n",
        "\\(\t(\t\\)\t)\n",
        "\\|\t|\t\\*\t*\n",
        "\\+\t+\t\\?\t?\n",
        "\\{\t{\t\\\\\t\\\n",
        "\\n\t줄넘김 문자\t\\r\t리턴 문자\n",
        "\\w\t알파벳과 _ (언더바)\t\\W\t알파벳과 _ 가 아닌 것\n",
        "\\s\t빈 공간(space)\t\\S\t빈 공간이 아닌 것\n",
        "\\d\t숫자\t\\D\t숫자가 아닌 것\n",
        "\\b\t단어와 단어 사이의 경계\t\\B\t단어 사이의 경계가 아닌 것\n",
        "\\t\tTab 문자\t\\xnn\t16진수 nn에 해당하는 문자\n",
        "[ ] 안에서는 특수 문자가 모두 효력을 잃게 됩니다.\n",
        "\n",
        "검색 + 치환을 위한 하부식(부분식)\n",
        "( )로 둘러싼 부분은 각각 하나의 덩어리로 취급해서,\n",
        "\n",
        "검색된 각각의 ( )안에 해당되는 내용은 변경할 내용에서 $1, $2, .. 등으로 지정해서 쓸 수 있습니다.\n",
        "예제) mp3파일 이름 바꾸기\n",
        "검색 : (.*) - (.*)\\.mp3 .*은 길이에 상관없이 임의의 문자열, \\.은 점\n",
        "치환 : $2 - $1.mp3 앞에서 검색한 ( )안에 해당되는 내용끼리 순서 바꾸기\n",
        "ex) \"제목 - 연주자.mp3\" Þ \"연주자 - 제목.mp3\"\n",
        "앞에서 정의한 하부식을 다시 활용하기 (제가 잘못 이해한 것일 수도 있는데)\n",
        "\\n은 ( ) 하부식 중에서 n번째 하부식을 가리킵니다.\n",
        "예제) (.+)\\1+\n",
        "\\1로 되어 있으니까 첫번째 부분식 (.+)를 가리킵니다. 위 내용을 해석하자면, 일단 (.+)가 있으니까 이에 해당되는 내용을 찾고, \\1+이 있으니까 첫번째 부분식 (.+)와 똑같은 내용이 그 뒤에 1번 이상 있는 문자열을 찾습니다.\n",
        "예제) abab같은 문자열이 위에 해당되는데, 일단 (.+) 즉 임의의 문자열 ab를 찾고 그 뒤에 \\1+로 첫번째 부분식을 다시 1번 이상 있는 것을 찾으니까 뒤의 ab가 이에 해당합니다.\n",
        "\n",
        "\n",
        "변경자 ? 검색 방식 변경\n",
        "(?i)\t대소문자 무시 (기본값)\n",
        "(?-i)\t대소문자 구분\n",
        "(?g)\t\"greedy\" 모드로 전환 (기본값)\n",
        "(?-g)\t\"greedy\" 모드 해제, 따라서 \"+\"는 \"+?\"과 동일한 것으로 인식\n",
        "\n",
        "\n",
        "출처: https://gocoding.tistory.com/93 [Developer Factory]\n",
        "```"
      ]
    }
  ],
  "metadata": {
    "colab": {
      "name": "regular_expression_summary.ipynb",
      "provenance": [],
      "include_colab_link": true
    },
    "kernelspec": {
      "display_name": "Python 3 (ipykernel)",
      "language": "python",
      "name": "python3"
    },
    "language_info": {
      "codemirror_mode": {
        "name": "ipython",
        "version": 3
      },
      "file_extension": ".py",
      "mimetype": "text/x-python",
      "name": "python",
      "nbconvert_exporter": "python",
      "pygments_lexer": "ipython3",
      "version": "3.9.1"
    }
  },
  "nbformat": 4,
  "nbformat_minor": 5
}