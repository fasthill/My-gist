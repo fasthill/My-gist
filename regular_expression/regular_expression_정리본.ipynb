{
  "cells": [
    {
      "cell_type": "markdown",
      "metadata": {
        "id": "view-in-github",
        "colab_type": "text"
      },
      "source": [
        "<a href=\"https://colab.research.google.com/github/fasthill/My-gist/blob/main/regular_expression/regular_expression_%EC%A0%95%EB%A6%AC%EB%B3%B8.ipynb\" target=\"_parent\"><img src=\"https://colab.research.google.com/assets/colab-badge.svg\" alt=\"Open In Colab\"/></a>"
      ]
    },
    {
      "cell_type": "markdown",
      "id": "f47a473c",
      "metadata": {
        "id": "f47a473c"
      },
      "source": [
        "### [regex101](https://regex101.com/)\n",
        "동작 설명이 잘되어 있고, 코드작성예제도 같이 제공함"
      ]
    },
    {
      "cell_type": "markdown",
      "id": "6ffe2293",
      "metadata": {
        "id": "6ffe2293"
      },
      "source": [
        "###  [Pythex: a Python regular expression editor](https://pythex.org/) \n",
        "#### Pythex is a real-time regular expression editor for Python, a quick way to test your regular expressions."
      ]
    },
    {
      "cell_type": "markdown",
      "id": "a2b383f4",
      "metadata": {
        "id": "a2b383f4"
      },
      "source": [
        "### [PyRegex: Your Python Regular Expression's Best Buddy](http://www.pyregex.com/)"
      ]
    },
    {
      "cell_type": "code",
      "execution_count": null,
      "id": "9ef55445",
      "metadata": {
        "id": "9ef55445"
      },
      "outputs": [],
      "source": [
        "import re"
      ]
    },
    {
      "cell_type": "markdown",
      "id": "50993abc",
      "metadata": {
        "id": "50993abc"
      },
      "source": [
        "#### metacharacter (Need to be escaped) :\n",
        ". ^ $ * + ? { } [ ] \\ | ( ) <br>"
      ]
    },
    {
      "cell_type": "markdown",
      "id": "45938e72",
      "metadata": {
        "id": "45938e72"
      },
      "source": [
        "[ ] 안에서는 특수 문자 역할을 하지 못함"
      ]
    },
    {
      "cell_type": "markdown",
      "id": "4f7e9f86",
      "metadata": {
        "id": "4f7e9f86"
      },
      "source": [
        "[^5] -> will match any character except '5'. [5^] will match either a '5' or a '^'."
      ]
    },
    {
      "cell_type": "code",
      "execution_count": null,
      "id": "e2f929cd",
      "metadata": {
        "id": "e2f929cd",
        "outputId": "d2faca6b-c36e-4a50-c41b-7d3e17f80585"
      },
      "outputs": [
        {
          "data": {
            "text/plain": [
              "<re.Match object; span=(0, 7), match='abcbbdb'>"
            ]
          },
          "execution_count": 2,
          "metadata": {},
          "output_type": "execute_result"
        }
      ],
      "source": [
        "p = re.compile('a[bcd]*b')\n",
        "p.match('abcbbdba')"
      ]
    },
    {
      "cell_type": "code",
      "execution_count": null,
      "id": "e39d782b",
      "metadata": {
        "id": "e39d782b",
        "outputId": "31e96b33-add6-4da8-f520-7433cd71d56b"
      },
      "outputs": [
        {
          "data": {
            "text/plain": [
              "('abcbbdb', 'abcbbdb')"
            ]
          },
          "execution_count": 3,
          "metadata": {},
          "output_type": "execute_result"
        }
      ],
      "source": [
        "p.match('abcbbdba').group(), p.match('abcbbdba')[0]"
      ]
    },
    {
      "cell_type": "code",
      "execution_count": null,
      "id": "65087aaf",
      "metadata": {
        "id": "65087aaf",
        "outputId": "94b2cfe6-2f6b-4e32-c376-51a8ee393761"
      },
      "outputs": [
        {
          "data": {
            "text/plain": [
              "<re.Match object; span=(0, 5), match=\"'uabc\">"
            ]
          },
          "execution_count": 4,
          "metadata": {},
          "output_type": "execute_result"
        }
      ],
      "source": [
        "p = re.compile(\"^'u[a-z]*\")\n",
        "p.match(\"'uabc de'\")"
      ]
    },
    {
      "cell_type": "code",
      "execution_count": null,
      "id": "6d3e122a",
      "metadata": {
        "id": "6d3e122a",
        "outputId": "559e8c32-42c2-4937-dbeb-ee15ed97ff7c"
      },
      "outputs": [
        {
          "data": {
            "text/plain": [
              "<re.Match object; span=(0, 5), match='abcde'>"
            ]
          },
          "execution_count": 5,
          "metadata": {},
          "output_type": "execute_result"
        }
      ],
      "source": [
        "pattern = re.compile(\"^[a-zA-Z0-9_]*\")\n",
        "pattern.match('abcde fgh')"
      ]
    },
    {
      "cell_type": "code",
      "execution_count": null,
      "id": "11299fc9",
      "metadata": {
        "id": "11299fc9",
        "outputId": "8cae170f-058c-4008-8143-4f76f3341a22"
      },
      "outputs": [
        {
          "data": {
            "text/plain": [
              "'abcde'"
            ]
          },
          "execution_count": 6,
          "metadata": {},
          "output_type": "execute_result"
        }
      ],
      "source": [
        "pattern.match('abcde fgh').group()"
      ]
    },
    {
      "cell_type": "code",
      "execution_count": null,
      "id": "78834a51",
      "metadata": {
        "id": "78834a51",
        "outputId": "4b02cdce-1533-4ac9-cd88-c638b1f735b4"
      },
      "outputs": [
        {
          "data": {
            "text/plain": [
              "<re.Match object; span=(0, 5), match='abcde'>"
            ]
          },
          "execution_count": 7,
          "metadata": {},
          "output_type": "execute_result"
        }
      ],
      "source": [
        "# \\w is equivalent to [A-Za-z0-9_] \n",
        "pattern = re.compile(\"^\\w*\")\n",
        "pattern.match('abcde fgh')"
      ]
    },
    {
      "cell_type": "markdown",
      "id": "8c80370d",
      "metadata": {
        "id": "8c80370d"
      },
      "source": [
        "\\d is equivalent to the class [0-9].\n",
        "\n",
        "\\D is equivalent to the class [^0-9].\n",
        "\n",
        "\\s is equivalent to the class [ \\t\\n\\r\\f\\v].\n",
        "\n",
        "\\S is equivalent to the class [^ \\t\\n\\r\\f\\v].\n",
        "\n",
        "\\w is equivalent to the class [a-zA-Z0-9_].\n",
        "\n",
        "\\W is equivalent to the class [^a-zA-Z0-9_]."
      ]
    },
    {
      "cell_type": "markdown",
      "id": "7967026b",
      "metadata": {
        "id": "7967026b"
      },
      "source": [
        "[\\s,.] is a character class that will match any whitespace character, or ',' or '.'."
      ]
    },
    {
      "cell_type": "code",
      "execution_count": null,
      "id": "df5e26c5",
      "metadata": {
        "id": "df5e26c5"
      },
      "outputs": [],
      "source": [
        "p = re.compile('ab*')\n",
        "p = re.compile('ab*', re.IGNORECASE)"
      ]
    },
    {
      "cell_type": "markdown",
      "id": "97ad2e8d",
      "metadata": {
        "id": "97ad2e8d"
      },
      "source": [
        "### Python’s raw string notation for regular expressions\n",
        "backslashes are not handled in any special way in a string literal prefixed with 'r', so r\"\\n\" is a two-character string containing '\\' and 'n', while \"\\n\" is a one-character string containing a newline. Regular expressions will often be written in Python code using this raw string notation.\n",
        "#### <span style='color:red'> r'\\n' == '\\\\' + 'n' while '\\n' == one character string </span>"
      ]
    },
    {
      "cell_type": "markdown",
      "id": "9bd8eb09",
      "metadata": {
        "id": "9bd8eb09"
      },
      "source": [
        "### Performing Matches"
      ]
    },
    {
      "cell_type": "markdown",
      "id": "4897a3f0",
      "metadata": {
        "id": "4897a3f0"
      },
      "source": [
        "<table border=\"1\">\n",
        "<th>Method/Attribute</th>\n",
        "<th>Purpose</th>\n",
        "<tr align =\"center\"><!-- 1번째 줄 시작 -->\n",
        "    <td>match()</td>\n",
        "    <td>Determine if the RE matches at the beginning of the string.</td>\n",
        "</tr><!-- 1번째 줄 끝 -->\n",
        "<tr align =\"center\"><!-- 2번째 줄 시작 -->\n",
        "    <td>search()</td>\n",
        "    <td>Scan through a string, looking for any location where this RE matches.</td>\n",
        "<tr align =\"center\"><!-- 3번째 줄 시작 -->\n",
        "    <td>findall()</td>\n",
        "    <td>Find all substrings where the RE matches, and returns them as a list.</td>\n",
        "</tr><!-- 3번째 줄 끝 -->\n",
        "<tr align =\"center\"><!-- 4번째 줄 시작 -->\n",
        "    <td>finditer()</td>\n",
        "    <td>Find all substrings where the RE matches, and returns them as an iterator.</td>\n",
        "</tr><!-- 4번째 줄 끝 -->\n",
        "\n",
        "</table>\n",
        "\n",
        "match() and search() return <span style='color:red'>None</span> if no match can be found. "
      ]
    },
    {
      "cell_type": "code",
      "execution_count": null,
      "id": "d0ed5a1c",
      "metadata": {
        "id": "d0ed5a1c",
        "outputId": "2622952e-9eb0-4644-8e2e-0cb0fffcb8db"
      },
      "outputs": [
        {
          "name": "stdout",
          "output_type": "stream",
          "text": [
            "None\n"
          ]
        }
      ],
      "source": [
        "p = re.compile('[a-z]+')\n",
        "print(p.match(\"\"))"
      ]
    },
    {
      "cell_type": "code",
      "execution_count": null,
      "id": "3fc495fe",
      "metadata": {
        "id": "3fc495fe",
        "outputId": "a74953d9-bf3b-44c1-e8db-95509260ec27"
      },
      "outputs": [
        {
          "data": {
            "text/plain": [
              "<re.Match object; span=(0, 5), match='tempo'>"
            ]
          },
          "execution_count": 10,
          "metadata": {},
          "output_type": "execute_result"
        }
      ],
      "source": [
        "m = p.match('tempo')\n",
        "m"
      ]
    },
    {
      "cell_type": "code",
      "execution_count": null,
      "id": "d4673572",
      "metadata": {
        "id": "d4673572",
        "outputId": "5e0e05cc-c966-42aa-fd47-8f3ab0e877dd"
      },
      "outputs": [
        {
          "data": {
            "text/plain": [
              "'tempo'"
            ]
          },
          "execution_count": 11,
          "metadata": {},
          "output_type": "execute_result"
        }
      ],
      "source": [
        "m[0]"
      ]
    },
    {
      "cell_type": "markdown",
      "id": "47a4637a",
      "metadata": {
        "id": "47a4637a"
      },
      "source": [
        "<table border=\"1\">\n",
        "<th>Method/Attribute</th>\n",
        "<th>Purpose</th>\n",
        "<tr align =\"center\"><!-- 1번째 줄 시작 -->\n",
        "    <td>group()</td>\n",
        "    <td>Return the string matched by the RE</td>\n",
        "</tr><!-- 1번째 줄 끝 -->\n",
        "<tr align =\"center\"><!-- 2번째 줄 시작 -->\n",
        "    <td>start()</td>\n",
        "    <td>Return the starting position of the match</td>\n",
        "<tr align =\"center\"><!-- 3번째 줄 시작 -->\n",
        "    <td>end()</td>\n",
        "    <td>Return the ending position of the match</td>\n",
        "</tr><!-- 3번째 줄 끝 -->\n",
        "<tr align =\"center\"><!-- 4번째 줄 시작 -->\n",
        "    <td>span()</td>\n",
        "    <td>Return a tuple containing the (start, end) positions of the match</td>\n",
        "</tr><!-- 4번째 줄 끝 -->\n",
        "\n",
        "</table>"
      ]
    },
    {
      "cell_type": "code",
      "execution_count": null,
      "id": "8ea420d7",
      "metadata": {
        "id": "8ea420d7",
        "outputId": "1f112854-734c-4bc5-f2d3-d8a22d62864d"
      },
      "outputs": [
        {
          "data": {
            "text/plain": [
              "'tempo'"
            ]
          },
          "execution_count": 12,
          "metadata": {},
          "output_type": "execute_result"
        }
      ],
      "source": [
        "m.group()"
      ]
    },
    {
      "cell_type": "code",
      "execution_count": null,
      "id": "2bcee44f",
      "metadata": {
        "id": "2bcee44f",
        "outputId": "d85dac21-7c1c-419c-8138-88200e0a04b8"
      },
      "outputs": [
        {
          "data": {
            "text/plain": [
              "(0, 5)"
            ]
          },
          "execution_count": 13,
          "metadata": {},
          "output_type": "execute_result"
        }
      ],
      "source": [
        "m.start(), m.end()"
      ]
    },
    {
      "cell_type": "code",
      "execution_count": null,
      "id": "960dbf1d",
      "metadata": {
        "id": "960dbf1d",
        "outputId": "08932730-1a53-484e-8490-1e73d6a01bc9"
      },
      "outputs": [
        {
          "data": {
            "text/plain": [
              "(0, 5)"
            ]
          },
          "execution_count": 14,
          "metadata": {},
          "output_type": "execute_result"
        }
      ],
      "source": [
        "m.span()"
      ]
    },
    {
      "cell_type": "code",
      "execution_count": null,
      "id": "7c0e9203",
      "metadata": {
        "id": "7c0e9203",
        "outputId": "453de9a1-0200-4737-f95e-eae2c0886a7f"
      },
      "outputs": [
        {
          "name": "stdout",
          "output_type": "stream",
          "text": [
            "<re.Match object; span=(4, 11), match='message'>\n"
          ]
        }
      ],
      "source": [
        "m = p.search('::: message'); print(m)"
      ]
    },
    {
      "cell_type": "code",
      "execution_count": null,
      "id": "9a127033",
      "metadata": {
        "id": "9a127033",
        "outputId": "ad1c958c-9102-4c9d-daf7-da79f176301c"
      },
      "outputs": [
        {
          "data": {
            "text/plain": [
              "('message', (4, 11))"
            ]
          },
          "execution_count": 16,
          "metadata": {},
          "output_type": "execute_result"
        }
      ],
      "source": [
        "m.group(), m.span()"
      ]
    },
    {
      "cell_type": "code",
      "execution_count": null,
      "id": "d15df6db",
      "metadata": {
        "id": "d15df6db",
        "outputId": "39217d5d-9fe4-4515-fdef-2d6654ce4f4a"
      },
      "outputs": [
        {
          "name": "stdout",
          "output_type": "stream",
          "text": [
            "No match\n"
          ]
        }
      ],
      "source": [
        "p = re.compile('go')\n",
        "m = p.match('string goes here') # search와 차이점\n",
        "# The match() function only checks if the RE matches at the beginning of the string \n",
        "# while search() will scan forward through the string for a match.\n",
        "if m:\n",
        "    print('Match found: ', m.group())\n",
        "else:\n",
        "    print('No match')"
      ]
    },
    {
      "cell_type": "code",
      "execution_count": null,
      "id": "b6fac95d",
      "metadata": {
        "id": "b6fac95d",
        "outputId": "d1db77a2-19af-4de8-b0c1-e570365abb9f"
      },
      "outputs": [
        {
          "name": "stdout",
          "output_type": "stream",
          "text": [
            "Match found:  go\n"
          ]
        }
      ],
      "source": [
        "p = re.compile('go')\n",
        "m = p.search('string goes here')  # match와 차이점\n",
        "if m:\n",
        "    print('Match found: ', m.group())\n",
        "else:\n",
        "    print('No match')"
      ]
    },
    {
      "cell_type": "code",
      "execution_count": null,
      "id": "2a404f27",
      "metadata": {
        "id": "2a404f27"
      },
      "outputs": [],
      "source": [
        "p.match( 'string goes here' )"
      ]
    },
    {
      "cell_type": "code",
      "execution_count": null,
      "id": "ba211c9e",
      "metadata": {
        "id": "ba211c9e",
        "outputId": "da491b83-fa35-4bdf-9ae7-ff97d8f80f12"
      },
      "outputs": [
        {
          "data": {
            "text/plain": [
              "['12', '11', '10']"
            ]
          },
          "execution_count": 20,
          "metadata": {},
          "output_type": "execute_result"
        }
      ],
      "source": [
        "p = re.compile(r'\\d+')\n",
        "p.findall('12 drummers drumming, 11 pipers piping, 10 lords a-leaping')"
      ]
    },
    {
      "cell_type": "code",
      "execution_count": null,
      "id": "8c8510af",
      "metadata": {
        "id": "8c8510af",
        "outputId": "46d7fcd8-db55-4533-85d7-033def905546"
      },
      "outputs": [
        {
          "name": "stdout",
          "output_type": "stream",
          "text": [
            "(0, 2)\n",
            "(22, 24)\n",
            "(40, 42)\n"
          ]
        }
      ],
      "source": [
        "iterator = p.finditer('12 drummers drumming, 11 pipers piping, 10 lords a-leaping')\n",
        "iterator  \n",
        "\n",
        "for match in iterator:\n",
        "    print(match.span())"
      ]
    },
    {
      "cell_type": "code",
      "execution_count": null,
      "id": "subjective-hands",
      "metadata": {
        "id": "subjective-hands",
        "outputId": "c29814b8-0b90-46f4-87fe-c3bca8b67f3a"
      },
      "outputs": [
        {
          "name": "stdout",
          "output_type": "stream",
          "text": [
            "<re.Match object; span=(1, 24), match='CoreyMSchafer@gmail.com'>\n",
            "<re.Match object; span=(25, 53), match='corey.schafer@university.edu'>\n",
            "<re.Match object; span=(54, 83), match='corey-321-schafer@my-work.net'>\n"
          ]
        }
      ],
      "source": [
        "emails = '''\n",
        "CoreyMSchafer@gmail.com\n",
        "corey.schafer@university.edu\n",
        "corey-321-schafer@my-work.net\n",
        "'''\n",
        "\n",
        "pattern = re.compile(r'[a-zA-Z0-9_.+-]+@[a-zA-Z0-9-]+\\.[a-zA-Z0-9-.]+')\n",
        "\n",
        "matches = pattern.finditer(emails)\n",
        "\n",
        "for match in matches:\n",
        "    print(match)"
      ]
    },
    {
      "cell_type": "code",
      "execution_count": null,
      "id": "a3b76e4f",
      "metadata": {
        "id": "a3b76e4f",
        "outputId": "74a1e292-4b58-4725-8cdc-f3ecea7b8592"
      },
      "outputs": [
        {
          "data": {
            "text/plain": [
              "<re.Match object; span=(0, 5), match='From '>"
            ]
          },
          "execution_count": 23,
          "metadata": {},
          "output_type": "execute_result"
        }
      ],
      "source": [
        "re.match(r'From\\s+', 'From amk Thu May 14 19:12:10 1998')  "
      ]
    },
    {
      "cell_type": "code",
      "execution_count": null,
      "id": "08a02b2e",
      "metadata": {
        "id": "08a02b2e"
      },
      "outputs": [],
      "source": [
        "p = re.compile('ab*', re.IGNORECASE)\n",
        "p = re.compile('.*', re.DOTALL) # include newlines\n",
        "p = re.compile('.*', re.MULTILINE) # multiline matching"
      ]
    },
    {
      "cell_type": "markdown",
      "id": "c559c742",
      "metadata": {
        "id": "c559c742"
      },
      "source": [
        "| : Alternation, or the “or” operator. <br>\n",
        "^ : Matches at the beginning of lines"
      ]
    },
    {
      "cell_type": "code",
      "execution_count": null,
      "id": "3909a946",
      "metadata": {
        "id": "3909a946",
        "outputId": "d04a6114-08ba-47dd-ddcd-29152ea3de10"
      },
      "outputs": [
        {
          "name": "stdout",
          "output_type": "stream",
          "text": [
            "<re.Match object; span=(0, 4), match='From'>\n"
          ]
        }
      ],
      "source": [
        "print(re.search('^From', 'From Here to Eternity')) "
      ]
    },
    {
      "cell_type": "code",
      "execution_count": null,
      "id": "6e37d910",
      "metadata": {
        "id": "6e37d910",
        "outputId": "9882325f-a4ce-4c9f-ee94-8fa337bd5e72"
      },
      "outputs": [
        {
          "name": "stdout",
          "output_type": "stream",
          "text": [
            "None\n"
          ]
        }
      ],
      "source": [
        "print(re.search('^From', 'Reciting From Memory'))"
      ]
    },
    {
      "cell_type": "markdown",
      "id": "52fec64d",
      "metadata": {
        "id": "52fec64d"
      },
      "source": [
        "$ : Matches at the end of a line"
      ]
    },
    {
      "cell_type": "code",
      "execution_count": null,
      "id": "84c329eb",
      "metadata": {
        "id": "84c329eb",
        "outputId": "1c29cc7c-c148-49d7-d909-c319eb68e624"
      },
      "outputs": [
        {
          "name": "stdout",
          "output_type": "stream",
          "text": [
            "<re.Match object; span=(6, 7), match='}'>\n"
          ]
        }
      ],
      "source": [
        "print(re.search('}$', '{block}')) "
      ]
    },
    {
      "cell_type": "code",
      "execution_count": null,
      "id": "f064d871",
      "metadata": {
        "id": "f064d871",
        "outputId": "74624be7-7331-4493-8a2d-7f3b0bb5e206"
      },
      "outputs": [
        {
          "data": {
            "text/plain": [
              "'}'"
            ]
          },
          "execution_count": 28,
          "metadata": {},
          "output_type": "execute_result"
        }
      ],
      "source": [
        "re.search('}$', '{block}')[0] # == re.search('}$', '{block}').group()"
      ]
    },
    {
      "cell_type": "code",
      "execution_count": null,
      "id": "c50226ef",
      "metadata": {
        "id": "c50226ef",
        "outputId": "eb1b1e28-6087-47f6-9562-ab13fec97fbe"
      },
      "outputs": [
        {
          "name": "stdout",
          "output_type": "stream",
          "text": [
            "None\n"
          ]
        }
      ],
      "source": [
        "print(re.search('}$', '{block} '))"
      ]
    },
    {
      "cell_type": "code",
      "execution_count": null,
      "id": "ee08bed3",
      "metadata": {
        "id": "ee08bed3",
        "outputId": "545909fa-38af-45b0-fd6c-75be596f7868"
      },
      "outputs": [
        {
          "name": "stdout",
          "output_type": "stream",
          "text": [
            "<re.Match object; span=(6, 7), match='}'>\n"
          ]
        }
      ],
      "source": [
        "print(re.search('}$', '{block}\\n'))"
      ]
    },
    {
      "cell_type": "markdown",
      "id": "8b090588",
      "metadata": {
        "id": "8b090588"
      },
      "source": [
        "\\A : Matches only at the start of the string. When not in MULTILINE mode, <span style='color:red'> \\A and ^ are effectively the same. In MULTILINE mode, they’re different</span>: \\A still matches only at the beginning of the string, but ^ may match at any location inside the string that follows a newline character."
      ]
    },
    {
      "cell_type": "markdown",
      "id": "6df0194c",
      "metadata": {
        "id": "6df0194c"
      },
      "source": [
        "\\b : Word boundary. This is a zero-width assertion that matches only at the beginning or end of a word."
      ]
    },
    {
      "cell_type": "code",
      "execution_count": null,
      "id": "b075f00c",
      "metadata": {
        "id": "b075f00c",
        "outputId": "d612d1b9-e778-4605-e6f6-92286b08123f"
      },
      "outputs": [
        {
          "name": "stdout",
          "output_type": "stream",
          "text": [
            "<re.Match object; span=(3, 8), match='class'>\n"
          ]
        }
      ],
      "source": [
        "p = re.compile(r'\\bclass\\b')\n",
        "print(p.search('no class at all'))"
      ]
    },
    {
      "cell_type": "code",
      "execution_count": null,
      "id": "f958a992",
      "metadata": {
        "id": "f958a992",
        "outputId": "f7daec07-a235-4a55-f66c-f74c571b4af2"
      },
      "outputs": [
        {
          "name": "stdout",
          "output_type": "stream",
          "text": [
            "None\n"
          ]
        }
      ],
      "source": [
        "print(p.search('the declassified algorithm'))"
      ]
    },
    {
      "cell_type": "code",
      "execution_count": null,
      "id": "07eb119e",
      "metadata": {
        "id": "07eb119e",
        "outputId": "4ea09839-e49d-4fe9-84d7-c95de82ed766"
      },
      "outputs": [
        {
          "name": "stdout",
          "output_type": "stream",
          "text": [
            "None\n"
          ]
        }
      ],
      "source": [
        "print(p.search('one subclass is'))"
      ]
    },
    {
      "cell_type": "markdown",
      "id": "3d380b7d",
      "metadata": {
        "id": "3d380b7d"
      },
      "source": [
        "### Grouping\n",
        "Groups are marked by the '(', ')' metacharacters."
      ]
    },
    {
      "cell_type": "code",
      "execution_count": null,
      "id": "aab4f21a",
      "metadata": {
        "id": "aab4f21a",
        "outputId": "ddd7dfa1-d79a-4f7e-e117-11c57ba505df"
      },
      "outputs": [
        {
          "data": {
            "text/plain": [
              "('ababababab', 0, 10, (0, 10))"
            ]
          },
          "execution_count": 34,
          "metadata": {},
          "output_type": "execute_result"
        }
      ],
      "source": [
        "p = re.compile('(ab)*')\n",
        "m = p.match('ababababab')\n",
        "m.group(), m.start(), m.end(), m.span()"
      ]
    },
    {
      "cell_type": "code",
      "execution_count": null,
      "id": "422c38ef",
      "metadata": {
        "id": "422c38ef",
        "outputId": "298f0f46-1c6f-4f99-aa3b-6f5b88ec657b"
      },
      "outputs": [
        {
          "data": {
            "text/plain": [
              "('ab',)"
            ]
          },
          "execution_count": 35,
          "metadata": {},
          "output_type": "execute_result"
        }
      ],
      "source": [
        "m.groups()"
      ]
    },
    {
      "cell_type": "code",
      "execution_count": null,
      "id": "78c9c4eb",
      "metadata": {
        "id": "78c9c4eb"
      },
      "outputs": [],
      "source": [
        "p = re.compile('(a(b)c)d')\n",
        "m = p.match('abcd')"
      ]
    },
    {
      "cell_type": "code",
      "execution_count": null,
      "id": "a0b9a1ad",
      "metadata": {
        "id": "a0b9a1ad",
        "outputId": "f65058f9-7872-4044-8411-f29fa719f07e"
      },
      "outputs": [
        {
          "data": {
            "text/plain": [
              "('abcd', 'abc', 'b')"
            ]
          },
          "execution_count": 37,
          "metadata": {},
          "output_type": "execute_result"
        }
      ],
      "source": [
        "m.group(0), m.group(1), m.group(2)"
      ]
    },
    {
      "cell_type": "code",
      "execution_count": null,
      "id": "7c4d95e2",
      "metadata": {
        "id": "7c4d95e2",
        "outputId": "04ea4c5e-08d6-4043-ab12-aa0ef98414df"
      },
      "outputs": [
        {
          "data": {
            "text/plain": [
              "2"
            ]
          },
          "execution_count": 38,
          "metadata": {},
          "output_type": "execute_result"
        }
      ],
      "source": [
        "len(m.groups())  # 전체를 제외한 group의 갯수\n",
        "# len(m.group()) => 주의 : 첫번째 ('abcd')의 스트링 문자 갯수를 반환함."
      ]
    },
    {
      "cell_type": "code",
      "execution_count": null,
      "id": "94175030",
      "metadata": {
        "id": "94175030",
        "outputId": "0bdf2cc1-9b7e-4081-dc0f-03bd2e1a894a"
      },
      "outputs": [
        {
          "data": {
            "text/plain": [
              "('abc', 'b')"
            ]
          },
          "execution_count": 39,
          "metadata": {},
          "output_type": "execute_result"
        }
      ],
      "source": [
        "m.groups()"
      ]
    },
    {
      "cell_type": "code",
      "execution_count": null,
      "id": "5c8646df",
      "metadata": {
        "id": "5c8646df",
        "outputId": "8234f380-63ad-4e7e-facf-2921417f813b"
      },
      "outputs": [
        {
          "data": {
            "text/plain": [
              "('c',)"
            ]
          },
          "execution_count": 40,
          "metadata": {},
          "output_type": "execute_result"
        }
      ],
      "source": [
        "m = re.match(\"([abc])+\", \"abc\")\n",
        "m.groups()"
      ]
    },
    {
      "cell_type": "code",
      "execution_count": null,
      "id": "7271cf3e",
      "metadata": {
        "id": "7271cf3e",
        "outputId": "f9e3924c-ca21-467e-a4dc-71bca8a6e7dc"
      },
      "outputs": [
        {
          "data": {
            "text/plain": [
              "'c'"
            ]
          },
          "execution_count": 41,
          "metadata": {},
          "output_type": "execute_result"
        }
      ],
      "source": [
        "m.group(1)"
      ]
    },
    {
      "cell_type": "code",
      "execution_count": null,
      "id": "5a5dc9f3",
      "metadata": {
        "id": "5a5dc9f3"
      },
      "outputs": [],
      "source": [
        "m = re.match(\"(?:[abc])+\", \"abc\")"
      ]
    },
    {
      "cell_type": "code",
      "execution_count": null,
      "id": "3204f53b",
      "metadata": {
        "id": "3204f53b",
        "outputId": "c4386d6d-f496-452a-d672-1f49dfddbf57"
      },
      "outputs": [
        {
          "data": {
            "text/plain": [
              "()"
            ]
          },
          "execution_count": 43,
          "metadata": {},
          "output_type": "execute_result"
        }
      ],
      "source": [
        "m.groups()"
      ]
    },
    {
      "cell_type": "markdown",
      "id": "edf0c83c",
      "metadata": {
        "id": "edf0c83c"
      },
      "source": [
        "The syntax for a named group is one of the Python-specific extensions: (?P<name>...). name is, obviously, the name of the group."
      ]
    },
    {
      "cell_type": "code",
      "execution_count": null,
      "id": "9c174908",
      "metadata": {
        "id": "9c174908",
        "outputId": "b74c480e-4a6a-4d5d-83d7-99c04a9bf765"
      },
      "outputs": [
        {
          "data": {
            "text/plain": [
              "'Lots'"
            ]
          },
          "execution_count": 44,
          "metadata": {},
          "output_type": "execute_result"
        }
      ],
      "source": [
        "p = re.compile(r'(?P<word>\\b\\w+\\b)')\n",
        "m = p.search( '(((( Lots of punctuation )))' )\n",
        "m.group('word')"
      ]
    },
    {
      "cell_type": "code",
      "execution_count": null,
      "id": "cefb3bc3",
      "metadata": {
        "id": "cefb3bc3",
        "outputId": "7432dad1-85e0-4446-bb4d-28d6d855ace8"
      },
      "outputs": [
        {
          "data": {
            "text/plain": [
              "'Lots'"
            ]
          },
          "execution_count": 45,
          "metadata": {},
          "output_type": "execute_result"
        }
      ],
      "source": [
        "m.group(1)"
      ]
    },
    {
      "cell_type": "code",
      "execution_count": null,
      "id": "c6763734",
      "metadata": {
        "id": "c6763734",
        "outputId": "285308d5-33aa-43f8-8f9c-62b941fd354c"
      },
      "outputs": [
        {
          "data": {
            "text/plain": [
              "{'first': 'Jane', 'last': 'Doe'}"
            ]
          },
          "execution_count": 46,
          "metadata": {},
          "output_type": "execute_result"
        }
      ],
      "source": [
        "m = re.match(r'(?P<first>\\w+) (?P<last>\\w+)', 'Jane Doe')\n",
        "m.groupdict()"
      ]
    },
    {
      "cell_type": "code",
      "execution_count": null,
      "id": "89d8d054",
      "metadata": {
        "id": "89d8d054",
        "outputId": "7c5c572b-0678-477f-eb9e-60345afbe9cb"
      },
      "outputs": [
        {
          "data": {
            "text/plain": [
              "<re.Match object; span=(0, 8), match='Jane Doe'>"
            ]
          },
          "execution_count": 47,
          "metadata": {},
          "output_type": "execute_result"
        }
      ],
      "source": [
        "m"
      ]
    },
    {
      "cell_type": "markdown",
      "id": "bcfc3f80",
      "metadata": {
        "id": "bcfc3f80"
      },
      "source": [
        "### Modifying Strings"
      ]
    },
    {
      "cell_type": "code",
      "execution_count": null,
      "id": "f1240292",
      "metadata": {
        "id": "f1240292",
        "outputId": "97594e7c-ca92-4222-b0db-7491d00ceab9"
      },
      "outputs": [
        {
          "data": {
            "text/plain": [
              "['This', 'is', 'a', 'test', 'short', 'and', 'sweet', 'of', 'split', '']"
            ]
          },
          "execution_count": 48,
          "metadata": {},
          "output_type": "execute_result"
        }
      ],
      "source": [
        "p = re.compile(r'\\W+') \n",
        "# \\W is equivalent to the class [^a-zA-Z0-9_].\n",
        "# the delimiter is any sequence of non-alphanumeric characters.\n",
        "p.split('This is a test, short and sweet, of split().')"
      ]
    },
    {
      "cell_type": "code",
      "execution_count": null,
      "id": "e01e1e39",
      "metadata": {
        "id": "e01e1e39",
        "outputId": "936dc05a-af02-41c2-81ed-52b45f89995c"
      },
      "outputs": [
        {
          "data": {
            "text/plain": [
              "['This', 'is', 'a', 'test, short and sweet, of split().']"
            ]
          },
          "execution_count": 49,
          "metadata": {},
          "output_type": "execute_result"
        }
      ],
      "source": [
        "# .split(string[, maxsplit=0])\n",
        "p.split('This is a test, short and sweet, of split().', 3)"
      ]
    },
    {
      "cell_type": "code",
      "execution_count": null,
      "id": "b3507d3b",
      "metadata": {
        "id": "b3507d3b",
        "outputId": "2d7ebfb2-ca6c-489e-b916-93d5cd418283"
      },
      "outputs": [
        {
          "data": {
            "text/plain": [
              "['This', 'is a test, short and sweet, of split().']"
            ]
          },
          "execution_count": 50,
          "metadata": {},
          "output_type": "execute_result"
        }
      ],
      "source": [
        "p.split('This is a test, short and sweet, of split().', 1)"
      ]
    },
    {
      "cell_type": "markdown",
      "id": "6a0e8bb9",
      "metadata": {
        "id": "6a0e8bb9"
      },
      "source": [
        "#### delimiter도 필요할 경우 () 사용\n",
        "Sometimes you’re not only interested in what the text between delimiters is, but also need to know what the delimiter was. If capturing parentheses are used in the RE, then their values are also returned as part of the list."
      ]
    },
    {
      "cell_type": "code",
      "execution_count": null,
      "id": "ff9148d3",
      "metadata": {
        "id": "ff9148d3"
      },
      "outputs": [],
      "source": [
        "p = re.compile(r'\\W+')\n",
        "p2 = re.compile(r'(\\W+)')"
      ]
    },
    {
      "cell_type": "code",
      "execution_count": null,
      "id": "aa1b5bbb",
      "metadata": {
        "id": "aa1b5bbb",
        "outputId": "f4fea88d-3314-4f43-e404-eb6f8527dc16"
      },
      "outputs": [
        {
          "data": {
            "text/plain": [
              "['This', 'is', 'a', 'test', '']"
            ]
          },
          "execution_count": 52,
          "metadata": {},
          "output_type": "execute_result"
        }
      ],
      "source": [
        "p.split('This... is a test.')"
      ]
    },
    {
      "cell_type": "code",
      "execution_count": null,
      "id": "f44eb1c4",
      "metadata": {
        "id": "f44eb1c4",
        "outputId": "c887758a-bb2f-45ab-a7ce-519109b59877"
      },
      "outputs": [
        {
          "data": {
            "text/plain": [
              "['This', '... ', 'is', ' ', 'a', ' ', 'test', '.', '']"
            ]
          },
          "execution_count": 53,
          "metadata": {},
          "output_type": "execute_result"
        }
      ],
      "source": [
        "p2.split('This... is a test.')"
      ]
    },
    {
      "cell_type": "code",
      "execution_count": null,
      "id": "8326a2ba",
      "metadata": {
        "id": "8326a2ba",
        "outputId": "f09ef47b-5132-4cf0-f0c9-b023d320fc42"
      },
      "outputs": [
        {
          "data": {
            "text/plain": [
              "['Words', 'words', 'words', '']"
            ]
          },
          "execution_count": 54,
          "metadata": {},
          "output_type": "execute_result"
        }
      ],
      "source": [
        "re.split(r'[\\W]+', 'Words, words, words.')"
      ]
    },
    {
      "cell_type": "code",
      "execution_count": null,
      "id": "d139598d",
      "metadata": {
        "id": "d139598d",
        "outputId": "f099f1ce-c79a-4513-cef7-5bfa70e86322"
      },
      "outputs": [
        {
          "data": {
            "text/plain": [
              "['Words', ', ', 'words', ', ', 'words', '.', '']"
            ]
          },
          "execution_count": 55,
          "metadata": {},
          "output_type": "execute_result"
        }
      ],
      "source": [
        "re.split(r'([\\W]+)', 'Words, words, words.')"
      ]
    },
    {
      "cell_type": "markdown",
      "id": "0073b83a",
      "metadata": {
        "id": "0073b83a"
      },
      "source": [
        "### Search and Replace"
      ]
    },
    {
      "cell_type": "code",
      "execution_count": null,
      "id": "0f2a4cb9",
      "metadata": {
        "id": "0f2a4cb9",
        "outputId": "743537d5-af68-4c10-9b30-81b9a93097e5"
      },
      "outputs": [
        {
          "data": {
            "text/plain": [
              "'colour socks and colour shoes'"
            ]
          },
          "execution_count": 56,
          "metadata": {},
          "output_type": "execute_result"
        }
      ],
      "source": [
        "p = re.compile('(blue|white|red)')  # 여기에 해당되는 항목을\n",
        "p.sub('colour', 'blue socks and red shoes') # colour로 바꿔라."
      ]
    },
    {
      "cell_type": "code",
      "execution_count": null,
      "id": "862f9d45",
      "metadata": {
        "id": "862f9d45",
        "outputId": "b0bf3395-d32a-41e0-c5d4-9d52c1ff76fc"
      },
      "outputs": [
        {
          "data": {
            "text/plain": [
              "'colour socks and red shoes'"
            ]
          },
          "execution_count": 57,
          "metadata": {},
          "output_type": "execute_result"
        }
      ],
      "source": [
        "p.sub('colour', 'blue socks and red shoes', count=1) # 1개 만 바꿈"
      ]
    },
    {
      "cell_type": "code",
      "execution_count": null,
      "id": "outdoor-mercy",
      "metadata": {
        "id": "outdoor-mercy",
        "outputId": "edd2c94b-f420-42ce-b031-17715a8f4ca0"
      },
      "outputs": [
        {
          "name": "stdout",
          "output_type": "stream",
          "text": [
            "\n",
            "google.com\n",
            "coreyms.com\n",
            "youtube.com\n",
            "nasa.gov\n",
            "\n"
          ]
        }
      ],
      "source": [
        "urls = '''\n",
        "https://www.google.com\n",
        "http://coreyms.com\n",
        "https://youtube.com\n",
        "https://www.nasa.gov\n",
        "'''\n",
        "\n",
        "pattern = re.compile(r'https?://(www\\.)?(\\w+)(\\.\\w+)')\n",
        "\n",
        "subbed_urls = pattern.sub(r'\\2\\3', urls) # group 2, 3로 대체\n",
        "# https://www.google.com 를 pattern으로 찾아서, \\2('google') \\3('.com') 으로 replace시킴\n",
        "print(subbed_urls)"
      ]
    },
    {
      "cell_type": "code",
      "execution_count": null,
      "id": "b1c3dd38",
      "metadata": {
        "id": "b1c3dd38",
        "outputId": "118e9106-633d-4cba-859c-95ea35b5d112"
      },
      "outputs": [
        {
          "data": {
            "text/plain": [
              "'sam*sun*g'"
            ]
          },
          "execution_count": 59,
          "metadata": {},
          "output_type": "execute_result"
        }
      ],
      "source": [
        "backs = re.sub(r'[\\\\.]', '*', 'sam.sun\\\\g') \n",
        "# backslash 변환 => \\\\ : metacharacter \\와 변환대상 \\  이어서 표현\n",
        "backs"
      ]
    },
    {
      "cell_type": "markdown",
      "id": "distinct-diabetes",
      "metadata": {
        "id": "distinct-diabetes"
      },
      "source": [
        "![sublist.JPG](attachment:sublist.JPG)"
      ]
    },
    {
      "cell_type": "markdown",
      "id": "understood-incidence",
      "metadata": {
        "id": "understood-incidence"
      },
      "source": [
        "#### string.replace or re.sub \n",
        "As long as you can make do with str.replace(), you should use it. <br>\n",
        "str.replace() should be used whenever it's possible to. It's more explicit, simpler, and faster."
      ]
    },
    {
      "cell_type": "code",
      "execution_count": null,
      "id": "98894b46",
      "metadata": {
        "id": "98894b46",
        "outputId": "fc56e66e-04fd-4b5b-8ea8-d07ce2d4c09c"
      },
      "outputs": [
        {
          "data": {
            "text/plain": [
              "('colour socks and colour shoes', 2)"
            ]
          },
          "execution_count": 60,
          "metadata": {},
          "output_type": "execute_result"
        }
      ],
      "source": [
        "p = re.compile('(blue|white|red)')\n",
        "p.subn('colour', 'blue socks and red shoes')  \n",
        "# subn은 몇개가 바뀌었는지 tuple로 알려줌. 2개가 바뀌었음."
      ]
    },
    {
      "cell_type": "code",
      "execution_count": null,
      "id": "31605e1d",
      "metadata": {
        "id": "31605e1d",
        "outputId": "413c933d-b1e2-4b7d-c74a-d79c1d312267"
      },
      "outputs": [
        {
          "data": {
            "text/plain": [
              "('no colours at all', 0)"
            ]
          },
          "execution_count": 61,
          "metadata": {},
          "output_type": "execute_result"
        }
      ],
      "source": [
        "p.subn('colour', 'no colours at all') # 비뀐 내용이 없음."
      ]
    },
    {
      "cell_type": "code",
      "execution_count": null,
      "id": "4f611c4c",
      "metadata": {
        "id": "4f611c4c",
        "outputId": "536a5718-a65c-463f-95d4-682e32cd7d37"
      },
      "outputs": [
        {
          "data": {
            "text/plain": [
              "'-a-b--d-'"
            ]
          },
          "execution_count": 62,
          "metadata": {},
          "output_type": "execute_result"
        }
      ],
      "source": [
        "p = re.compile('x*')\n",
        "p.sub('-', 'abxd')"
      ]
    },
    {
      "cell_type": "markdown",
      "id": "2924f984",
      "metadata": {
        "id": "2924f984"
      },
      "source": [
        "### match() versus search()\n",
        "The match() function only checks if the RE matches at the beginning of the string while search() will scan forward through the string for a match. It's important to keep this distinction in mind. Remember, **match()** will only report a successful match which will **start at 0**; if the match wouldn’t start at zero, match() will not report it."
      ]
    },
    {
      "cell_type": "code",
      "execution_count": null,
      "id": "70b7dcdc",
      "metadata": {
        "id": "70b7dcdc",
        "outputId": "f435a70d-6d34-4d4d-b933-abbd6cbbd740"
      },
      "outputs": [
        {
          "name": "stdout",
          "output_type": "stream",
          "text": [
            "(0, 5)\n",
            "None\n"
          ]
        }
      ],
      "source": [
        "print(re.match('super', 'superstition').span())\n",
        "print(re.match('super', 'insuperable'))"
      ]
    },
    {
      "cell_type": "code",
      "execution_count": null,
      "id": "50ea6f3f",
      "metadata": {
        "id": "50ea6f3f",
        "outputId": "6cb8a12d-f820-4173-a4c0-c1539857a5a0"
      },
      "outputs": [
        {
          "name": "stdout",
          "output_type": "stream",
          "text": [
            "(0, 5)\n",
            "(2, 7)\n"
          ]
        }
      ],
      "source": [
        "print(re.search('super', 'superstition').span())\n",
        "print(re.search('super', 'insuperable').span())"
      ]
    },
    {
      "cell_type": "markdown",
      "id": "00427c03",
      "metadata": {
        "id": "00427c03"
      },
      "source": [
        "### Greedy versus Non-Greedy"
      ]
    },
    {
      "cell_type": "code",
      "execution_count": null,
      "id": "b2bffc66",
      "metadata": {
        "id": "b2bffc66",
        "outputId": "c5451b66-1f3c-4984-d04e-3c991e06b46a"
      },
      "outputs": [
        {
          "data": {
            "text/plain": [
              "32"
            ]
          },
          "execution_count": 65,
          "metadata": {},
          "output_type": "execute_result"
        }
      ],
      "source": [
        "s = '<html><head><title>Title</title>'\n",
        "len(s)"
      ]
    },
    {
      "cell_type": "code",
      "execution_count": null,
      "id": "77d948f6",
      "metadata": {
        "id": "77d948f6",
        "outputId": "75c09c51-61f2-4c50-fe3c-4d5381356c54"
      },
      "outputs": [
        {
          "name": "stdout",
          "output_type": "stream",
          "text": [
            "(0, 32) <html><head><title>Title</title>\n"
          ]
        }
      ],
      "source": [
        "print(re.match('<.*>', s).span(), re.match('<.*>', s).group())  # '.*' 가 마지막까지 matching시킴"
      ]
    },
    {
      "cell_type": "markdown",
      "id": "a5a762b3",
      "metadata": {
        "id": "a5a762b3"
      },
      "source": [
        "In this case, the solution is to use the non-greedy qualifiers *?, +?, ??, or {m,n}?, which match as little text as possible. "
      ]
    },
    {
      "cell_type": "code",
      "execution_count": null,
      "id": "81e6c5fa",
      "metadata": {
        "id": "81e6c5fa",
        "outputId": "8c840787-a756-44a6-ac61-a65f9538c340"
      },
      "outputs": [
        {
          "name": "stdout",
          "output_type": "stream",
          "text": [
            "<html><head\n"
          ]
        }
      ],
      "source": [
        "print(re.match('<.*?d', s).group())  # 'd'를 처음만날때까지만 반복"
      ]
    },
    {
      "cell_type": "code",
      "execution_count": null,
      "id": "41a14c1a",
      "metadata": {
        "id": "41a14c1a",
        "outputId": "be510f84-6287-47c4-c3a2-1409118dce90"
      },
      "outputs": [
        {
          "name": "stdout",
          "output_type": "stream",
          "text": [
            "['<html>', '<head>', '<title>', '</title>']\n"
          ]
        }
      ],
      "source": [
        "print(re.findall('<.*?>', s))"
      ]
    },
    {
      "cell_type": "markdown",
      "id": "a323fed1",
      "metadata": {
        "id": "a323fed1"
      },
      "source": [
        "### Using re.VERBOSE\n",
        "For such REs, specifying the re.VERBOSE flag when compiling the regular expression can be helpful, because it allows you to format the regular expression more clearly."
      ]
    },
    {
      "cell_type": "code",
      "execution_count": null,
      "id": "60dcce7d",
      "metadata": {
        "id": "60dcce7d"
      },
      "outputs": [],
      "source": [
        "pat = re.compile(r\"\"\"\n",
        " \\s*                 # Skip leading whitespace\n",
        " (?P<header>[^:]+)   # Header name\n",
        " \\s* :               # Whitespace, and a colon\n",
        " (?P<value>.*?)      # The header's value -- *? used to\n",
        "                     # lose the following trailing whitespace\n",
        " \\s*$                # Trailing whitespace to end-of-line\n",
        "\"\"\", re.VERBOSE)"
      ]
    },
    {
      "cell_type": "markdown",
      "id": "79db5a37",
      "metadata": {
        "id": "79db5a37"
      },
      "source": [
        "This is far more readable than:"
      ]
    },
    {
      "cell_type": "code",
      "execution_count": null,
      "id": "ac73c183",
      "metadata": {
        "id": "ac73c183"
      },
      "outputs": [],
      "source": [
        "pat = re.compile(r\"\\s*(?P<header>[^:]+)\\s*:(?P<value>.*?)\\s*$\")"
      ]
    },
    {
      "cell_type": "code",
      "execution_count": null,
      "id": "260282ad",
      "metadata": {
        "id": "260282ad",
        "outputId": "c7816810-8445-41cd-a551-6649fd176a26"
      },
      "outputs": [
        {
          "data": {
            "text/plain": [
              "<re.Match object; span=(0, 4), match='1212'>"
            ]
          },
          "execution_count": 71,
          "metadata": {},
          "output_type": "execute_result"
        }
      ],
      "source": [
        "re.search(r'(\\d\\d)\\1', '121212') #(\\d\\d)  가 한번 반복(\\1 => 1번 group과 같은 내용이 한번 더 있다는 뜻)"
      ]
    },
    {
      "cell_type": "code",
      "execution_count": null,
      "id": "capital-establishment",
      "metadata": {
        "id": "capital-establishment",
        "outputId": "39864b73-2d00-4875-c02d-ac4b4f56fda8"
      },
      "outputs": [
        {
          "data": {
            "text/plain": [
              "<re.Match object; span=(0, 6), match='121212'>"
            ]
          },
          "execution_count": 72,
          "metadata": {},
          "output_type": "execute_result"
        }
      ],
      "source": [
        "re.search(r'(\\d\\d)\\1\\1', '121212')#(\\d\\d) 가 두 번 반복(\\1 => 1번 group과 같은 내용이 두번 더 있다는 뜻)"
      ]
    },
    {
      "cell_type": "code",
      "execution_count": null,
      "id": "proper-reproduction",
      "metadata": {
        "id": "proper-reproduction",
        "outputId": "f28696e0-74bd-4abf-fda7-d3b0f40cc586"
      },
      "outputs": [
        {
          "data": {
            "text/plain": [
              "('12', '34')"
            ]
          },
          "execution_count": 73,
          "metadata": {},
          "output_type": "execute_result"
        }
      ],
      "source": [
        "subr = re.search(r'(\\d\\d)(\\d\\d)', '1234')\n",
        "subr.group(1), subr.group(2)"
      ]
    },
    {
      "cell_type": "code",
      "execution_count": null,
      "id": "french-anaheim",
      "metadata": {
        "id": "french-anaheim",
        "outputId": "0db0b5b6-bb70-4231-a7bf-a992efd7e0df"
      },
      "outputs": [
        {
          "data": {
            "text/plain": [
              "'1234defg'"
            ]
          },
          "execution_count": 74,
          "metadata": {},
          "output_type": "execute_result"
        }
      ],
      "source": [
        "re.sub(r'abc', subr.group(1)+subr.group(2), 'abcdefg')"
      ]
    },
    {
      "cell_type": "code",
      "execution_count": null,
      "id": "equivalent-knowing",
      "metadata": {
        "id": "equivalent-knowing",
        "outputId": "78da6ea6-be2b-4681-c245-e1508b614f13"
      },
      "outputs": [
        {
          "name": "stdout",
          "output_type": "stream",
          "text": [
            "<re.Match object; span=(0, 5), match='Start'>\n"
          ]
        }
      ],
      "source": [
        "sentence = 'Start a sentence and then bring it to an end'\n",
        "\n",
        "pattern = re.compile(r'start', re.I) # ignorecase\n",
        "\n",
        "matches = pattern.search(sentence)\n",
        "\n",
        "print(matches)"
      ]
    },
    {
      "cell_type": "markdown",
      "id": "031c9e9e",
      "metadata": {
        "id": "031c9e9e"
      },
      "source": [
        "```\n",
        "숫자만 가능 : /^[0-9]+$/\n",
        "\n",
        "이메일 형식만 가능 : /^([\\w-]+(?:\\.[\\w-]+)*)@((?:[\\w-]+\\.)*\\w[\\w-]{0,66})\\.([a-z]{2,6}(?:\\.[a-z]{2})?)$/\n",
        "\n",
        "한글만 가능 : /^[가-힣]+$/\n",
        "\n",
        "한글,띄어쓰기만 가능 : /^[가-힣\\s]+$/\n",
        "\n",
        "영문만 가능 : /^[a-zA-Z]+$/\n",
        "\n",
        "영문,띄어쓰기만 가능: /^[a-zA-Z\\s]+$/\n",
        "\n",
        "전화번호 형태 : /^[0-9]{2,3}-[0-9]{3,4}-[0-9]{4}$/\n",
        "\n",
        "도메인 형태 : /^(((http(s?))\\:\\/\\/)?)([0-9a-zA-Z\\-]+\\.)+[a-zA-Z]{2,6}(\\:[0-9]+)?(\\/\\S*)?$/\n",
        "\n",
        "도메인 형태 : /^((http(s?))\\:\\/\\/)([0-9a-zA-Z\\-]+\\.)+[a-zA-Z]{2,6}(\\:[0-9]+)?(\\/\\S*)?$/\n",
        "\n",
        "도메인 형태 : /^[^((http(s?))\\:\\/\\/)]([0-9a-zA-Z\\-]+\\.)+[a-zA-Z]{2,6}(\\:[0-9]+)?(\\/\\S*)?$/\n",
        "\n",
        "한글과 영문만 가능 : /^[가-힣a-zA-Z]+$/\n",
        "\n",
        "숫자,알파벳만 가능 : /^[a-zA-Z0-9]+$/\n",
        "\n",
        "주민번호, -까지 포함된 문자열로 검색 : /^(?:[0-9]{2}(?:0[1-9]|1[0-2])(?:0[1-9]|[1,2][0-9]|3[0,1]))-[1-4][0-9]{6}$/\n",
        "\n",
        "출처: https://gocoding.tistory.com/93 [Developer Factory]\n",
        "```"
      ]
    },
    {
      "cell_type": "markdown",
      "id": "ce15b720",
      "metadata": {
        "id": "ce15b720"
      },
      "source": [
        "```\n",
        "^The\tThe로 시작하는 문자열\n",
        "of despair$\tof despair로 끝나는 문자열\n",
        "^abc$\tabc로 시작하고 abc로 끝나는 문자열 (abc 라는 문자열도 해당됨)\n",
        "notice\tnotice가 들어 있는 문자열\n",
        "\n",
        "ab*\ta 다음에 b가 0개 이상 (a, ab, abbb 등등)\n",
        "ab+\ta 다음에 b가 1개 이상 (ab, abbb 등등)\n",
        "ab?\ta 다음에 b가 있거나 없거나 (ab 또는 a)\n",
        "\n",
        "ab{2}\ta 다음에 b가 2개 있는 문자열 (abb)\n",
        "ab{2,}\ta 다음에 b가 2개 이상 (abb, abbbb 등등)\n",
        "ab{3,5}\ta 다음에 b가 3개에서 5개 사이 (abbb, abbbb, 또는 abbbbb)\n",
        "*, +, ?는 각각 {0,}, {1,}, {0,1}과 같습니다.\n",
        "\n",
        "( )는 문자열을 묶음 처리할 때 사용\n",
        "a(bc)*\ta 다음에 bc가 0개 이상 (묶음 처리)\n",
        "a(bc){1,5}\ta 다음에 bc가 1개에서 5개 사이\n",
        "\n",
        "hi|hello\thi나 hello가 들어 있는 문자열\n",
        "(b|cd)ef\tbef 또는 cdef\n",
        "(a|b)*c\ta와 b가 섞여서 여러번 나타나고 그뒤에 c가 붙어있는 패턴\n",
        "\n",
        ". (점)\t임의의 한 문자\n",
        "^.{3}$\t3문자로만 되어 있는 문자열\n",
        "\n",
        "[ ]\t괄호 안에 있는 내용 중 임의의 한 문자\n",
        "[^ ]\t첫문자로 ^를 쓰면 괄호 내용의 부정. 즉 괄호 안에 포함되지 않는 한 문자\n",
        "[ab]\ta 또는 b (a|b 와 동일한 표현)\n",
        "[a-d]\t소문자 a에서 d까지 (a|b|c|d 또는 [abcd] 와 동일)\n",
        "^[a-zA-Z]\t영문자로 시작하는 문자열\n",
        "[0-9]%\t% 문자 앞에 하나의 숫자가 붙어 있는 패턴\n",
        "%[^a-zA-Z]%\t두 % 문자 사이에 영문자가 없는 패턴\n",
        "\n",
        "특수 문자 자체를 검색하기 및 사용하기\n",
        "\\^\t^\t\\.\t.\n",
        "\\[\t[\t\\$\t$\n",
        "\\(\t(\t\\)\t)\n",
        "\\|\t|\t\\*\t*\n",
        "\\+\t+\t\\?\t?\n",
        "\\{\t{\t\\\\\t\\\n",
        "\\n\t줄넘김 문자\t\\r\t리턴 문자\n",
        "\\w\t알파벳과 _ (언더바)\t\\W\t알파벳과 _ 가 아닌 것\n",
        "\\s\t빈 공간(space)\t\\S\t빈 공간이 아닌 것\n",
        "\\d\t숫자\t\\D\t숫자가 아닌 것\n",
        "\\b\t단어와 단어 사이의 경계\t\\B\t단어 사이의 경계가 아닌 것\n",
        "\\t\tTab 문자\t\\xnn\t16진수 nn에 해당하는 문자\n",
        "[ ] 안에서는 특수 문자가 모두 효력을 잃게 됩니다.\n",
        "\n",
        "검색 + 치환을 위한 하부식(부분식)\n",
        "( )로 둘러싼 부분은 각각 하나의 덩어리로 취급해서,\n",
        "\n",
        "검색된 각각의 ( )안에 해당되는 내용은 변경할 내용에서 $1, $2, .. 등으로 지정해서 쓸 수 있습니다.\n",
        "예제) mp3파일 이름 바꾸기\n",
        "검색 : (.*) - (.*)\\.mp3 .*은 길이에 상관없이 임의의 문자열, \\.은 점\n",
        "치환 : $2 - $1.mp3 앞에서 검색한 ( )안에 해당되는 내용끼리 순서 바꾸기\n",
        "ex) \"제목 - 연주자.mp3\" Þ \"연주자 - 제목.mp3\"\n",
        "앞에서 정의한 하부식을 다시 활용하기 (제가 잘못 이해한 것일 수도 있는데)\n",
        "\\n은 ( ) 하부식 중에서 n번째 하부식을 가리킵니다.\n",
        "예제) (.+)\\1+\n",
        "\\1로 되어 있으니까 첫번째 부분식 (.+)를 가리킵니다. 위 내용을 해석하자면, 일단 (.+)가 있으니까 이에 해당되는 내용을 찾고, \\1+이 있으니까 첫번째 부분식 (.+)와 똑같은 내용이 그 뒤에 1번 이상 있는 문자열을 찾습니다.\n",
        "예제) abab같은 문자열이 위에 해당되는데, 일단 (.+) 즉 임의의 문자열 ab를 찾고 그 뒤에 \\1+로 첫번째 부분식을 다시 1번 이상 있는 것을 찾으니까 뒤의 ab가 이에 해당합니다.\n",
        "\n",
        "\n",
        "변경자 ? 검색 방식 변경\n",
        "(?i)\t대소문자 무시 (기본값)\n",
        "(?-i)\t대소문자 구분\n",
        "(?g)\t\"greedy\" 모드로 전환 (기본값)\n",
        "(?-g)\t\"greedy\" 모드 해제, 따라서 \"+\"는 \"+?\"과 동일한 것으로 인식\n",
        "\n",
        "\n",
        "출처: https://gocoding.tistory.com/93 [Developer Factory]\n",
        "```"
      ]
    },
    {
      "cell_type": "markdown",
      "id": "ece6aa6c",
      "metadata": {
        "id": "ece6aa6c"
      },
      "source": [
        ""
      ]
    }
  ],
  "metadata": {
    "kernelspec": {
      "display_name": "Python 3",
      "language": "python",
      "name": "python3"
    },
    "language_info": {
      "codemirror_mode": {
        "name": "ipython",
        "version": 3
      },
      "file_extension": ".py",
      "mimetype": "text/x-python",
      "name": "python",
      "nbconvert_exporter": "python",
      "pygments_lexer": "ipython3",
      "version": "3.9.1"
    },
    "colab": {
      "name": "regular_expression_정리본.ipynb",
      "provenance": [],
      "include_colab_link": true
    }
  },
  "nbformat": 4,
  "nbformat_minor": 5
}