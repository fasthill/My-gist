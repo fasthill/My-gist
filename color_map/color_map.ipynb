{
 "cells": [
  {
   "cell_type": "code",
   "execution_count": 23,
   "id": "essential-nancy",
   "metadata": {},
   "outputs": [],
   "source": [
    "import matplotlib.pyplot as plt\n",
    "import numpy as np"
   ]
  },
  {
   "cell_type": "markdown",
   "id": "outside-framework",
   "metadata": {},
   "source": [
    "<tbody><tr>\n",
    "<th>Color</th>\n",
    "<th>Color<p>name</p></th>\n",
    "<th>(R,G,B)</th>\n",
    "<th>Hex</th>\n",
    "</tr>\n",
    "<tr>\n",
    "<td style=\"background-color:#000000\">&nbsp;</td>\n",
    "<td>Black</td>\n",
    "<td>(0,0,0)</td>\n",
    "<td>#000000</td>\n",
    "</tr>\n",
    "<tr>\n",
    "<td style=\"background-color:#FFFFFF\">&nbsp;</td>\n",
    "<td>White</td>\n",
    "<td>(255,255,255)</td>\n",
    "<td>#FFFFFF</td>\n",
    "</tr>\n",
    "<tr>\n",
    "<td style=\"background-color:#FF0000\">&nbsp;</td>\n",
    "<td>Red</td>\n",
    "<td>(255,0,0)</td>\n",
    "<td>#FF0000</td>\n",
    "</tr>\n",
    "<tr>\n",
    "<td style=\"background-color:#00FF00\">&nbsp;</td>\n",
    "<td>Lime</td>\n",
    "<td>(0,255,0)</td>\n",
    "<td>#00FF00</td>\n",
    "</tr>\n",
    "<tr>\n",
    "<td style=\"background-color:#0000FF\">&nbsp;</td>\n",
    "<td>Blue</td>\n",
    "<td>(0,0,255)</td>\n",
    "<td>#0000FF</td>\n",
    "</tr>\n",
    "<tr>\n",
    "<td style=\"background-color:#FFFF00\">&nbsp;</td>\n",
    "<td>Yellow</td>\n",
    "<td>(255,255,0)</td>\n",
    "<td>#FFFF00</td>\n",
    "</tr>\n",
    "<tr>\n",
    "<td style=\"background-color:#00FFFF\">&nbsp;</td>\n",
    "<td>Cyan</td>\n",
    "<td>(0,255,255)</td>\n",
    "<td>#00FFFF</td>\n",
    "</tr>\n",
    "<tr>\n",
    "<td style=\"background-color:#FF00FF\">&nbsp;</td>\n",
    "<td>Magenta</td>\n",
    "<td>(255,0,255)</td>\n",
    "<td>#FF00FF</td>\n",
    "</tr>\n",
    "<tr>\n",
    "<td style=\"background-color:#C0C0C0\">&nbsp;</td>\n",
    "<td>Silver</td>\n",
    "<td>(192,192,192)</td>\n",
    "<td>#C0C0C0</td>\n",
    "</tr>\n",
    "<tr>\n",
    "<td style=\"background-color:#808080\">&nbsp;</td>\n",
    "<td>Gray</td>\n",
    "<td>(128,128,128)</td>\n",
    "<td>#808080</td>\n",
    "</tr>\n",
    "<tr>\n",
    "<td style=\"background-color:#800000\">&nbsp;</td>\n",
    "<td>Maroon</td>\n",
    "<td>(128,0,0)</td>\n",
    "<td>#800000</td>\n",
    "</tr>\n",
    "<tr>\n",
    "<td style=\"background-color:#808000\">&nbsp;</td>\n",
    "<td>Olive</td>\n",
    "<td>(128,128,0)</td>\n",
    "<td>#808000</td>\n",
    "</tr>\n",
    "<tr>\n",
    "<td style=\"background-color:#008000\">&nbsp;</td>\n",
    "<td>Green</td>\n",
    "<td>(0,128,0)</td>\n",
    "<td>#008000</td>\n",
    "</tr>\n",
    "<tr>\n",
    "<td style=\"background-color:#800080\">&nbsp;</td>\n",
    "<td>Purple</td>\n",
    "<td>(128,0,128)</td>\n",
    "<td>#800080</td>\n",
    "</tr>\n",
    "<tr>\n",
    "<td style=\"background-color:#008080\">&nbsp;</td>\n",
    "<td>Teal</td>\n",
    "<td>(0,128,128)</td>\n",
    "<td>#008080</td>\n",
    "</tr>\n",
    "<tr>\n",
    "<td style=\"background-color:#000080\">&nbsp;</td>\n",
    "<td>Navy</td>\n",
    "<td>(0,0,128)</td>\n",
    "<td>#000080</td>\n",
    "</tr>\n",
    "</tbody>"
   ]
  },
  {
   "cell_type": "code",
   "execution_count": 26,
   "id": "stuffed-sugar",
   "metadata": {},
   "outputs": [],
   "source": [
    "white = (255, 255, 255)\n",
    "black = (0, 0, 0)\n",
    "red = (255, 0, 0)\n",
    "blue = (0, 0, 255)\n",
    "yellow = (255, 255, 0)\n",
    "cyan = (0, 255, 255)"
   ]
  },
  {
   "cell_type": "code",
   "execution_count": 76,
   "id": "digital-resort",
   "metadata": {},
   "outputs": [],
   "source": [
    "def rgb_to_hex(r, g, b):\n",
    "    def to_hex(num):\n",
    "        if num < 16 :\n",
    "            return '0'+hex(num)[2:]\n",
    "        else:\n",
    "            return hex(num)[2:]\n",
    "    r_h = to_hex(r)\n",
    "    g_h = to_hex(g)\n",
    "    b_h = to_hex(b)\n",
    "\n",
    "    return r_h+g_h+b_h"
   ]
  },
  {
   "cell_type": "code",
   "execution_count": 90,
   "id": "copyrighted-addition",
   "metadata": {},
   "outputs": [],
   "source": [
    "def hex_to_rgb(hex):\n",
    "    rgb = []\n",
    "    for i in (0, 2, 4):\n",
    "        decimal = int(hex[1:][i:i+2], 16)\n",
    "        rgb.append(decimal)\n",
    "        \n",
    "    return tuple(rgb)"
   ]
  },
  {
   "cell_type": "code",
   "execution_count": 92,
   "id": "bright-replication",
   "metadata": {},
   "outputs": [
    {
     "name": "stdout",
     "output_type": "stream",
     "text": [
      "177 3 24\n"
     ]
    }
   ],
   "source": [
    "rgb = hex_to_rgb('#B10318')\n",
    "r = rgb[0]\n",
    "g = rgb[1]\n",
    "b = rgb[2]\n",
    "print(r, g, b)"
   ]
  },
  {
   "cell_type": "code",
   "execution_count": 94,
   "id": "alleged-sunglasses",
   "metadata": {},
   "outputs": [
    {
     "data": {
      "text/plain": [
       "'#0f0101'"
      ]
     },
     "execution_count": 94,
     "metadata": {},
     "output_type": "execute_result"
    }
   ],
   "source": [
    "hex_color = '#' + rgb_to_hex(15, 1, 1)\n",
    "hex_color"
   ]
  },
  {
   "cell_type": "markdown",
   "id": "victorian-weekly",
   "metadata": {},
   "source": [
    "### color plot test"
   ]
  },
  {
   "cell_type": "code",
   "execution_count": 112,
   "id": "talented-franklin",
   "metadata": {},
   "outputs": [
    {
     "data": {
      "image/png": "[encoded data removed]",
      "text/plain": [
       "<Figure size 432x288 with 1 Axes>"
      ]
     },
     "metadata": {
      "needs_background": "light"
     },
     "output_type": "display_data"
    }
   ],
   "source": [
    "col_list = []\n",
    "for i in range(20):\n",
    "    r = 1\n",
    "    g = int(12.5*i)\n",
    "    b = 255\n",
    "    hex_num = '#'+rgb_to_hex(r, g, b)\n",
    "    col_list.append(hex_num)\n",
    "    y = [i, i]\n",
    "    x = [0, 10]\n",
    "    plt.plot(x, y, c = hex_num)"
   ]
  },
  {
   "cell_type": "code",
   "execution_count": 113,
   "id": "greatest-jones",
   "metadata": {},
   "outputs": [
    {
     "data": {
      "text/plain": [
       "['#01edff',\n",
       " '#01e1ff',\n",
       " '#01d4ff',\n",
       " '#01c8ff',\n",
       " '#01bbff',\n",
       " '#01afff',\n",
       " '#01a2ff',\n",
       " '#0196ff',\n",
       " '#0189ff',\n",
       " '#017dff',\n",
       " '#0170ff',\n",
       " '#0164ff',\n",
       " '#0157ff',\n",
       " '#014bff',\n",
       " '#013eff',\n",
       " '#0132ff',\n",
       " '#0125ff',\n",
       " '#0119ff',\n",
       " '#010cff',\n",
       " '#0100ff']"
      ]
     },
     "execution_count": 113,
     "metadata": {},
     "output_type": "execute_result"
    }
   ],
   "source": [
    "col_list = col_list[::-1]\n",
    "col_list"
   ]
  },
  {
   "cell_type": "code",
   "execution_count": null,
   "id": "royal-gnome",
   "metadata": {},
   "outputs": [],
   "source": [
    "for i in range(10):\n",
    "    r = np.random.randint(0, 256, 1)[0]\n",
    "    g = np.random.randint(0, 256, 1)[0]\n",
    "    b = np.random.randint(0, 256, 1)[0]\n",
    "    hex_num = '#'+rgb_to_hex(r, g, b)\n",
    "    y = [i, i]\n",
    "    x = [0, 10]\n",
    "    plt.plot(x, y, c = hex_num)"
   ]
  },
  {
   "cell_type": "code",
   "execution_count": 84,
   "id": "local-tender",
   "metadata": {
    "scrolled": true
   },
   "outputs": [],
   "source": [
    "color = {\n",
    "    'tableau20': [\"#1F77B4\", \"#AEC7E8\", \"#FF7F0E\", \"#FFBB78\", \"#2CA02C\",\n",
    "             \"#98DF8A\", \"#D62728\", \"#FF9896\", \"#9467BD\", \"#C5B0D5\",\n",
    "             \"#8C564B\", \"#C49C94\", \"#E377C2\", \"#F7B6D2\", \"#7F7F7F\",\n",
    "             \"#C7C7C7\", \"#BCBD22\", \"#DBDB8D\", \"#17BECF\", \"#9EDAE5\"],\n",
    "    'tableau10medium': [\"#729ECE\", \"#FF9E4A\", \"#67BF5C\", \"#ED665D\",\n",
    "                   \"#AD8BC9\", \"#A8786E\", \"#ED97CA\", \"#A2A2A2\",\n",
    "                   \"#CDCC5D\", \"#6DCCDA\"],\n",
    "    'colorblind10': [\"#006BA4\", \"#FF800E\", \"#ABABAB\", \"#595959\",\n",
    "                \"#5F9ED1\", \"#C85200\", \"#898989\", \"#A2C8EC\",\n",
    "                \"#FFBC79\", \"#CFCFCF\"],\n",
    "    'trafficlight': [\"#B10318\", \"#DBA13A\", \"#309343\", \"#D82526\",\n",
    "                \"#FFC156\", \"#69B764\", \"#F26C64\", \"#FFDD71\",\n",
    "                \"#9FCD99\"],\n",
    "    'purplegray12':[\"#7B66D2\", \"#A699E8\", \"#DC5FBD\", \"#FFC0DA\",\n",
    "                \"#5F5A41\", \"#B4B19B\", \"#995688\", \"#D898BA\",\n",
    "                \"#AB6AD5\", \"#D098EE\", \"#8B7C6E\", \"#DBD4C5\"],\n",
    "    'bluered12': [\"#2C69B0\", \"#B5C8E2\", \"#F02720\", \"#FFB6B0\", \"#AC613C\",\n",
    "             \"#E9C39B\", \"#6BA3D6\", \"#B5DFFD\", \"#AC8763\", \"#DDC9B4\",\n",
    "             \"#BD0A36\", \"#F4737A\"],\n",
    "    'greenorange12': [\"#32A251\", \"#ACD98D\", \"#FF7F0F\", \"#FFB977\",\n",
    "                 \"#3CB7CC\", \"#98D9E4\", \"#B85A0D\", \"#FFD94A\",\n",
    "                 \"#39737C\", \"#86B4A9\", \"#82853B\", \"#CCC94D\"],\n",
    "    'cyclic':[\"#1F83B4\", \"#1696AC\", \"#18A188\", \"#29A03C\", \"#54A338\",\n",
    "          \"#82A93F\", \"#ADB828\", \"#D8BD35\", \"#FFBD4C\", \"#FFB022\",\n",
    "          \"#FF9C0E\", \"#FF810E\", \"#E75727\", \"#D23E4E\", \"#C94D8C\",\n",
    "          \"#C04AA7\", \"#B446B3\", \"#9658B1\", \"#8061B4\", \"#6F63BB\"]\n",
    "}"
   ]
  },
  {
   "cell_type": "code",
   "execution_count": 102,
   "id": "divided-japan",
   "metadata": {},
   "outputs": [
    {
     "data": {
      "image/png": "[encoded data removed]",
      "text/plain": [
       "<Figure size 432x288 with 1 Axes>"
      ]
     },
     "metadata": {
      "needs_background": "light"
     },
     "output_type": "display_data"
    }
   ],
   "source": [
    "for i, clr in enumerate(color['cyclic']):\n",
    "    y = [i, i]\n",
    "    x = [0, 10]\n",
    "    plt.plot(x, y, c = clr)"
   ]
  },
  {
   "cell_type": "code",
   "execution_count": null,
   "id": "blocked-chester",
   "metadata": {},
   "outputs": [],
   "source": []
  }
 ],
 "metadata": {
  "kernelspec": {
   "display_name": "Python 3 (ipykernel)",
   "language": "python",
   "name": "python3"
  },
  "language_info": {
   "codemirror_mode": {
    "name": "ipython",
    "version": 3
   },
   "file_extension": ".py",
   "mimetype": "text/x-python",
   "name": "python",
   "nbconvert_exporter": "python",
   "pygments_lexer": "ipython3",
   "version": "3.9.1"
  }
 },
 "nbformat": 4,
 "nbformat_minor": 5
}
