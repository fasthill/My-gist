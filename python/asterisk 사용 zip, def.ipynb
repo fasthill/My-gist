{
 "cells": [
  {
   "cell_type": "code",
   "execution_count": 1,
   "id": "196aca2a",
   "metadata": {},
   "outputs": [
    {
     "name": "stdout",
     "output_type": "stream",
     "text": [
      "{1: 'ming', 2: 'alice', 3: 'Nobody', 4: 'Nobody'}\n",
      "{1: 'alice', 2: 'ming', 3: 'mike', 4: 'Nobody'}\n",
      "{1: 'alice', 2: 'ming', 3: 'mike', 4: 'jim'}\n"
     ]
    }
   ],
   "source": [
    "# 2~4명의 주자로 이루어진 달리기 대회 랭킹을 보여주는 함수\n",
    "def save_ranking(first, second, third=None, fourth=None):\n",
    "    rank = {}\n",
    "    rank[1], rank[2] = first, second\n",
    "    rank[3] = third if third is not None else 'Nobody'\n",
    "    rank[4] = fourth if fourth is not None else 'Nobody'\n",
    "    print(rank)\n",
    "\n",
    "# positional arguments 2개 전달\n",
    "save_ranking('ming', 'alice')\n",
    "# positional arguments 2개와 keyword argument 1개 전달\n",
    "save_ranking('alice', 'ming', third='mike')\n",
    "# positional arguments 2개와 keyword arguments 2개 전달 (단, 하나는 positional argument 형태로 전달)\n",
    "save_ranking('alice', 'ming', 'mike', fourth='jim')"
   ]
  },
  {
   "cell_type": "code",
   "execution_count": 2,
   "id": "8f1be678",
   "metadata": {},
   "outputs": [
    {
     "name": "stdout",
     "output_type": "stream",
     "text": [
      "('ming', 'alice', 'tom', 'wilson', 'roy')\n"
     ]
    }
   ],
   "source": [
    "def save_ranking(*args):\n",
    "    print(args)\n",
    "save_ranking('ming', 'alice', 'tom', 'wilson', 'roy')\n",
    "# ('ming', 'alice', 'tom', 'wilson', 'roy')"
   ]
  },
  {
   "cell_type": "code",
   "execution_count": 3,
   "id": "7f2e2828",
   "metadata": {},
   "outputs": [
    {
     "name": "stdout",
     "output_type": "stream",
     "text": [
      "{'first': 'ming', 'second': 'alice', 'fourth': 'wilson', 'third': 'tom', 'fifth': 'roy'}\n"
     ]
    }
   ],
   "source": [
    "def save_ranking(**kwargs):\n",
    "    print(kwargs)\n",
    "save_ranking(first='ming', second='alice', fourth='wilson', third='tom', fifth='roy')"
   ]
  },
  {
   "cell_type": "code",
   "execution_count": 4,
   "id": "074baae3",
   "metadata": {},
   "outputs": [
    {
     "name": "stdout",
     "output_type": "stream",
     "text": [
      "('ming', 'alice', 'tom')\n",
      "{'fourth': 'wilson', 'fifth': 'roy'}\n"
     ]
    }
   ],
   "source": [
    "def save_ranking(*args, **kwargs):\n",
    "    print(args)\n",
    "    print(kwargs)\n",
    "save_ranking('ming', 'alice', 'tom', fourth='wilson', fifth='roy')\n",
    "# ('ming', 'alice', 'tom')\n",
    "# {'fourth': 'wilson', 'fifth': 'roy'}"
   ]
  },
  {
   "cell_type": "code",
   "execution_count": 5,
   "id": "4d44a733",
   "metadata": {},
   "outputs": [
    {
     "name": "stdout",
     "output_type": "stream",
     "text": [
      "OO (2, 3, 5, 7, 11, 13)\n",
      "OO ([2, 3, 5, 7, 11, 13],)\n"
     ]
    },
    {
     "data": {
      "text/plain": [
       "[2, 3, 5, 7, 11, 13]"
      ]
     },
     "execution_count": 5,
     "metadata": {},
     "output_type": "execute_result"
    }
   ],
   "source": [
    "from functools import reduce\n",
    "\n",
    "primes = [2, 3, 5, 7, 11, 13]\n",
    "\n",
    "def ll(x,y):\n",
    "    print (\"inside ll\", x,y)\n",
    "    return x *y\n",
    "\n",
    "def product(*numbers):\n",
    "    print(\"OO\",numbers)\n",
    "#     p = reduce(ll, numbers)\n",
    "    p = reduce(lambda x, y: x * y, numbers)\n",
    "    return p\n",
    "\n",
    "product(*primes)\n",
    "# 30030\n",
    "# (2, 3, 5, 7, 11, 13) 로 수행되어 6번 반복\n",
    "\n",
    "product(primes)\n",
    "# [2, 3, 5, 7, 11, 13]\n",
    "# ([2, 3, 5, 7, 11, 13],) 로 수행되어 1번 반목 수행됨.\n"
   ]
  },
  {
   "cell_type": "code",
   "execution_count": 6,
   "id": "1c80c45a",
   "metadata": {},
   "outputs": [
    {
     "name": "stdout",
     "output_type": "stream",
     "text": [
      "content length:  348\n"
     ]
    },
    {
     "ename": "ValueError",
     "evalue": "You must use SSL for http communication",
     "output_type": "error",
     "traceback": [
      "\u001b[1;31m---------------------------------------------------------------------------\u001b[0m",
      "\u001b[1;31mValueError\u001b[0m                                Traceback (most recent call last)",
      "\u001b[1;32m<ipython-input-6-bafd1183e780>\u001b[0m in \u001b[0;36m<module>\u001b[1;34m\u001b[0m\n\u001b[0;32m     13\u001b[0m         \u001b[1;32mraise\u001b[0m \u001b[0mValueError\u001b[0m\u001b[1;33m(\u001b[0m\u001b[1;34m'You must use SSL for http communication'\u001b[0m\u001b[1;33m)\u001b[0m\u001b[1;33m\u001b[0m\u001b[1;33m\u001b[0m\u001b[0m\n\u001b[0;32m     14\u001b[0m \u001b[1;33m\u001b[0m\u001b[0m\n\u001b[1;32m---> 15\u001b[1;33m \u001b[0mpre_process\u001b[0m\u001b[1;33m(\u001b[0m\u001b[1;33m**\u001b[0m\u001b[0mheaders\u001b[0m\u001b[1;33m)\u001b[0m\u001b[1;33m\u001b[0m\u001b[1;33m\u001b[0m\u001b[0m\n\u001b[0m\u001b[0;32m     16\u001b[0m \u001b[1;31m# content length:  348\u001b[0m\u001b[1;33m\u001b[0m\u001b[1;33m\u001b[0m\u001b[1;33m\u001b[0m\u001b[0m\n\u001b[0;32m     17\u001b[0m \u001b[1;31m# Traceback (most recent call last):\u001b[0m\u001b[1;33m\u001b[0m\u001b[1;33m\u001b[0m\u001b[1;33m\u001b[0m\u001b[0m\n",
      "\u001b[1;32m<ipython-input-6-bafd1183e780>\u001b[0m in \u001b[0;36mpre_process\u001b[1;34m(**headers)\u001b[0m\n\u001b[0;32m     11\u001b[0m     \u001b[0mhost\u001b[0m \u001b[1;33m=\u001b[0m \u001b[0mheaders\u001b[0m\u001b[1;33m[\u001b[0m\u001b[1;34m'Host'\u001b[0m\u001b[1;33m]\u001b[0m\u001b[1;33m\u001b[0m\u001b[1;33m\u001b[0m\u001b[0m\n\u001b[0;32m     12\u001b[0m     \u001b[1;32mif\u001b[0m \u001b[1;34m'https'\u001b[0m \u001b[1;32mnot\u001b[0m \u001b[1;32min\u001b[0m \u001b[0mhost\u001b[0m\u001b[1;33m:\u001b[0m\u001b[1;33m\u001b[0m\u001b[1;33m\u001b[0m\u001b[0m\n\u001b[1;32m---> 13\u001b[1;33m         \u001b[1;32mraise\u001b[0m \u001b[0mValueError\u001b[0m\u001b[1;33m(\u001b[0m\u001b[1;34m'You must use SSL for http communication'\u001b[0m\u001b[1;33m)\u001b[0m\u001b[1;33m\u001b[0m\u001b[1;33m\u001b[0m\u001b[0m\n\u001b[0m\u001b[0;32m     14\u001b[0m \u001b[1;33m\u001b[0m\u001b[0m\n\u001b[0;32m     15\u001b[0m \u001b[0mpre_process\u001b[0m\u001b[1;33m(\u001b[0m\u001b[1;33m**\u001b[0m\u001b[0mheaders\u001b[0m\u001b[1;33m)\u001b[0m\u001b[1;33m\u001b[0m\u001b[1;33m\u001b[0m\u001b[0m\n",
      "\u001b[1;31mValueError\u001b[0m: You must use SSL for http communication"
     ]
    }
   ],
   "source": [
    "headers = {\n",
    "    'Accept': 'text/plain',\n",
    "    'Content-Length': 348,\n",
    "    'Host': 'http://mingrammer.com'\n",
    "}\n",
    "\n",
    "def pre_process(**headers):\n",
    "    content_length = headers['Content-Length'] \n",
    "    print('content length: ', content_length) # 이것만 수행되고 에러 발생됨.\n",
    "\n",
    "    host = headers['Host']\n",
    "    if 'https' not in host:\n",
    "        raise ValueError('You must use SSL for http communication')\n",
    "\n",
    "pre_process(**headers)\n",
    "# content length:  348\n",
    "# Traceback (most recent call last):\n",
    "#   File \"<stdin>\", line 1, in <module>\n",
    "#   File \"<stdin>\", line 7, in pre_process\n",
    "# ValueError: You must use SSL for http communication"
   ]
  },
  {
   "cell_type": "code",
   "execution_count": 7,
   "id": "f390ab83",
   "metadata": {},
   "outputs": [],
   "source": [
    "numbers = [1, 2, 3, 4, 5, 6]\n",
    "\n",
    "# unpacking의 좌변은 리스트 또는 튜플의 형태를 가져야하므로 단일 unpacking의 경우 *a가 아닌 *a,를 사용\n",
    "*a, = numbers\n",
    "# a = [1, 2, 3, 4, 5, 6]\n",
    "\n",
    "*a, b = numbers\n",
    "# a = [1, 2, 3, 4, 5]\n",
    "# b = 6\n",
    "\n",
    "a, *b, = numbers\n",
    "# a = 1\n",
    "# b = [2, 3, 4, 5, 6]\n",
    "\n",
    "a, *b, c = numbers\n",
    "# a = 1\n",
    "# b = [2, 3, 4, 5]\n",
    "# c = 6"
   ]
  },
  {
   "cell_type": "code",
   "execution_count": 8,
   "id": "3fcd6318",
   "metadata": {},
   "outputs": [
    {
     "data": {
      "text/plain": [
       "[1, 2, 3, 4, 5, 6]"
      ]
     },
     "execution_count": 8,
     "metadata": {},
     "output_type": "execute_result"
    }
   ],
   "source": [
    "*a, = numbers\n",
    "a"
   ]
  },
  {
   "cell_type": "code",
   "execution_count": 9,
   "id": "aa76e419",
   "metadata": {},
   "outputs": [
    {
     "data": {
      "text/plain": [
       "[1, 2, 3, 4, 5, 6]"
      ]
     },
     "execution_count": 9,
     "metadata": {},
     "output_type": "execute_result"
    }
   ],
   "source": [
    "a = numbers\n",
    "a"
   ]
  },
  {
   "cell_type": "code",
   "execution_count": 10,
   "id": "dd8b07d0",
   "metadata": {},
   "outputs": [
    {
     "data": {
      "text/plain": [
       "([1, 2, 3, 4, 5], 6)"
      ]
     },
     "execution_count": 10,
     "metadata": {},
     "output_type": "execute_result"
    }
   ],
   "source": [
    "*a,b = numbers\n",
    "a, b"
   ]
  },
  {
   "cell_type": "code",
   "execution_count": 11,
   "id": "b9346697",
   "metadata": {},
   "outputs": [
    {
     "data": {
      "text/plain": [
       "(1, [2, 3, 4, 5, 6])"
      ]
     },
     "execution_count": 11,
     "metadata": {},
     "output_type": "execute_result"
    }
   ],
   "source": [
    "a, *b, = numbers\n",
    "a, b"
   ]
  },
  {
   "cell_type": "code",
   "execution_count": 12,
   "id": "e9b873e7",
   "metadata": {},
   "outputs": [
    {
     "data": {
      "text/plain": [
       "(1, [2, 3, 4, 5], 6)"
      ]
     },
     "execution_count": 12,
     "metadata": {},
     "output_type": "execute_result"
    }
   ],
   "source": [
    "a, *b, c = numbers\n",
    "a,b,c"
   ]
  },
  {
   "cell_type": "markdown",
   "id": "f4f6891f",
   "metadata": {},
   "source": [
    "이상 출처 https://mingrammer.com/understanding-the-asterisk-of-python/"
   ]
  },
  {
   "cell_type": "code",
   "execution_count": 13,
   "id": "cf51d334",
   "metadata": {},
   "outputs": [
    {
     "data": {
      "text/plain": [
       "[([1, 2, 3],), ([4, 5, 6],), ([7, 8, 9],)]"
      ]
     },
     "execution_count": 13,
     "metadata": {},
     "output_type": "execute_result"
    }
   ],
   "source": [
    "alist = [[1,2,3], [4,5,6], [7,8,9]]\n",
    "list(zip(alist))"
   ]
  },
  {
   "cell_type": "code",
   "execution_count": 14,
   "id": "75becbb2",
   "metadata": {},
   "outputs": [
    {
     "data": {
      "text/plain": [
       "[(1,), (2,), (3,)]"
      ]
     },
     "execution_count": 14,
     "metadata": {},
     "output_type": "execute_result"
    }
   ],
   "source": [
    "b = [a for a in zip([1,2,3])]\n",
    "b"
   ]
  },
  {
   "cell_type": "code",
   "execution_count": 15,
   "id": "6155e02b",
   "metadata": {},
   "outputs": [
    {
     "name": "stdout",
     "output_type": "stream",
     "text": [
      "(1, 4, 7)\n",
      "(2, 5, 8)\n",
      "(3, 6, 9)\n"
     ]
    }
   ],
   "source": [
    "for i in zip(*alist):\n",
    "    print(i)"
   ]
  },
  {
   "cell_type": "code",
   "execution_count": 16,
   "id": "e614ed39",
   "metadata": {},
   "outputs": [
    {
     "name": "stdout",
     "output_type": "stream",
     "text": [
      "[1, 4, 7]\n",
      "[2, 5, 8]\n",
      "[3, 6, 9]\n"
     ]
    }
   ],
   "source": [
    "for i in map(list, zip(*alist)):\n",
    "    print(i)\n",
    "    \n",
    "# 이상 출처: https://juhee-maeng.tistory.com/entry/Python내장함수-zip함수와-args-kwargs-란 [simPLE]"
   ]
  }
 ],
 "metadata": {
  "kernelspec": {
   "display_name": "Python 3",
   "language": "python",
   "name": "python3"
  },
  "language_info": {
   "codemirror_mode": {
    "name": "ipython",
    "version": 3
   },
   "file_extension": ".py",
   "mimetype": "text/x-python",
   "name": "python",
   "nbconvert_exporter": "python",
   "pygments_lexer": "ipython3",
   "version": "3.9.1"
  }
 },
 "nbformat": 4,
 "nbformat_minor": 5
}
