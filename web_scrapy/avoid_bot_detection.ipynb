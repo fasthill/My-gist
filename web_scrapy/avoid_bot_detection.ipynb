{
 "cells": [
  {
   "cell_type": "code",
   "execution_count": null,
   "id": "genuine-reporter",
   "metadata": {},
   "outputs": [],
   "source": [
    "from selenium import webdriver\n",
    "from selenium.webdriver.chrome.options import Options\n",
    "from selenium.webdriver.common.keys import Keys\n",
    "import datetime, time\n",
    "\n",
    "import chromedriver_autoinstaller\n",
    "import subprocess\n",
    "import shutil\n",
    "import pyperclip"
   ]
  },
  {
   "cell_type": "code",
   "execution_count": null,
   "id": "soviet-wiring",
   "metadata": {},
   "outputs": [],
   "source": [
    "# !pip install pyperclip"
   ]
  },
  {
   "cell_type": "code",
   "execution_count": null,
   "id": "gentle-teacher",
   "metadata": {},
   "outputs": [],
   "source": [
    "try:\n",
    "    shutil.rmtree(r\"c:\\chrometemp\")  #쿠키 / 캐쉬파일 삭제. 정보를 지울 필요가 없으면 이부분은 그냥 skip\n",
    "except FileNotFoundError:\n",
    "    pass"
   ]
  },
  {
   "cell_type": "code",
   "execution_count": null,
   "id": "secure-conjunction",
   "metadata": {},
   "outputs": [],
   "source": [
    "try:\n",
    "    subprocess.Popen(r'C:\\Program Files\\Google\\Chrome\\Application\\chrome.exe --remote-debugging-port=9222 --user-data-dir=\"C:\\chrometemp1\"')  # 디버거 크롬 구동\n",
    "except:\n",
    "    subprocess.Popen(r'C:\\Program Files (x86)\\Google\\Chrome\\Application\\chrome.exe --remote-debugging-port=9222 --user-data-dir=\"C:\\chrometemp1\"')  # 디버거 크롬 구동\n",
    "# 위 두개의 위치중 한 곳에 chrome이 설치되어 있음.\n",
    "    \n",
    "option = Options()\n",
    "option.add_experimental_option(\"debuggerAddress\", \"127.0.0.1:9222\") # 포트 설정. 그냥 복붙하면 됨.\n",
    "\n",
    "chrome_ver = chromedriver_autoinstaller.get_chrome_version().split('.')[0]\n",
    "try:\n",
    "    driver = webdriver.Chrome(f'./{chrome_ver}/chromedriver.exe', options=option)\n",
    "except:\n",
    "    chromedriver_autoinstaller.install(True)\n",
    "    driver = webdriver.Chrome(f'./{chrome_ver}/chromedriver.exe', options=option)\n",
    "driver.implicitly_wait(20)"
   ]
  },
  {
   "cell_type": "markdown",
   "id": "ancient-terrorism",
   "metadata": {},
   "source": [
    "[출처] https://pythondocs.net/selenium/셀레니움-웹-크롤링-봇-탐지-우회/"
   ]
  },
  {
   "cell_type": "code",
   "execution_count": null,
   "id": "controlling-sudan",
   "metadata": {},
   "outputs": [],
   "source": [
    "# 네이버 로그인\n",
    "driver.get('https://nid.naver.com/nidlogin.login?mode=form&url=https%3A%2F%2Fwww.naver.com')\n",
    "time.sleep(0.5) #혹시 모를 에러 방지를 위한 적절한 wait 넣어주기\n",
    "\n",
    "id = 'username'  \n",
    "# id = os.environ['myid'], https://github.com/fasthill/My-gist/blob/main/os.environ. 환경변수 설정\n",
    "pw = 'password'\n",
    "\n",
    "pyperclip.copy(id) # control+c 기능 수행\n",
    "driver.find_element_by_id('id').send_keys(Keys.CONTROL + 'v')  \n",
    "#자바스크립트를 사용하지 않으면 회피할 수 있음. 따라서 control+c, control+v로 대체하여 입력\n",
    "pyperclip.copy(pw)\n",
    "driver.find_element_by_id('pw').send_keys(Keys.CONTROL + 'v')\n",
    "time.sleep(0.7)\n",
    "driver.find_element_by_id('log.login').click()\n",
    "time.sleep(1)"
   ]
  },
  {
   "cell_type": "code",
   "execution_count": null,
   "id": "flying-flooring",
   "metadata": {},
   "outputs": [],
   "source": [
    "driver.close()\n",
    "driver.quit()"
   ]
  },
  {
   "cell_type": "markdown",
   "id": "breeding-indian",
   "metadata": {},
   "source": [
    "[출처] https://pythondocs.net/selenium/셀레니움-웹-크롤링-봇-탐지-우회-2탄/"
   ]
  }
 ],
 "metadata": {
  "kernelspec": {
   "display_name": "Python 3 (ipykernel)",
   "language": "python",
   "name": "python3"
  },
  "language_info": {
   "codemirror_mode": {
    "name": "ipython",
    "version": 3
   },
   "file_extension": ".py",
   "mimetype": "text/x-python",
   "name": "python",
   "nbconvert_exporter": "python",
   "pygments_lexer": "ipython3",
   "version": "3.9.1"
  }
 },
 "nbformat": 4,
 "nbformat_minor": 5
}
