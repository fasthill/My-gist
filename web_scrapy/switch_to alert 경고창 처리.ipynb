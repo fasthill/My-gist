{
 "cells": [
  {
   "cell_type": "code",
   "execution_count": null,
   "id": "281a8471",
   "metadata": {},
   "outputs": [],
   "source": [
    "# 경고창을 수락(확인)하는 동작 수행\n",
    "alert = driver.switch_to.alert\n",
    "alert.accept()\n",
    "    \n",
    "# 경고창을 거부(취소)하는 동작 수행\n",
    "alert = driver.switch_to.alert\n",
    "alert.dismiss()\n",
    "\n",
    "# alert 메세지를 가져오고 싶다면  \".text\" \n",
    "alert = driver.switch_to.alert\n",
    "alert.text\n",
    "\n",
    "# alert 메세지 창에 글자 입력하기  \".send_keys\"\n",
    "alert = driver.switch_to.alert\n",
    "alert.send_keys(\"Hello, World!\")"
   ]
  }
 ],
 "metadata": {
  "kernelspec": {
   "display_name": "Python 3 (ipykernel)",
   "language": "python",
   "name": "python3"
  },
  "language_info": {
   "codemirror_mode": {
    "name": "ipython",
    "version": 3
   },
   "file_extension": ".py",
   "mimetype": "text/x-python",
   "name": "python",
   "nbconvert_exporter": "python",
   "pygments_lexer": "ipython3",
   "version": "3.10.7"
  }
 },
 "nbformat": 4,
 "nbformat_minor": 5
}
