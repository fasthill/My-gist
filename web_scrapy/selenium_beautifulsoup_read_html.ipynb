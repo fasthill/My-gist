{
 "cells": [
  {
   "cell_type": "code",
   "execution_count": 1,
   "id": "17307979",
   "metadata": {},
   "outputs": [],
   "source": [
    "import time\n",
    "from selenium import webdriver\n",
    "import pandas as pd"
   ]
  },
  {
   "cell_type": "code",
   "execution_count": 2,
   "id": "2c963147",
   "metadata": {},
   "outputs": [],
   "source": [
    "import chromedriver_autoinstaller\n",
    "\n",
    "driver_name = chromedriver_autoinstaller.install()  # Check if the current version of chromedriver exists\n",
    "                                      # and if it doesn't exist, download it automatically,\n",
    "                                      # then add chromedriver to path\n",
    "time.sleep(1)"
   ]
  },
  {
   "cell_type": "code",
   "execution_count": 3,
   "id": "7c7f6791",
   "metadata": {},
   "outputs": [],
   "source": [
    "driver = webdriver.Chrome(driver_name)"
   ]
  },
  {
   "cell_type": "code",
   "execution_count": 4,
   "id": "ce85dd59",
   "metadata": {},
   "outputs": [],
   "source": [
    "url = 'http://www.bursamalaysia.com/market/securities/equities/prices/#/?filter=BS02'\n",
    "page = driver.get(url)\n",
    "time.sleep(2)"
   ]
  },
  {
   "cell_type": "code",
   "execution_count": 5,
   "id": "24292896",
   "metadata": {},
   "outputs": [
    {
     "data": {
      "text/html": [
       "<div>\n",
       "<style scoped>\n",
       "    .dataframe tbody tr th:only-of-type {\n",
       "        vertical-align: middle;\n",
       "    }\n",
       "\n",
       "    .dataframe tbody tr th {\n",
       "        vertical-align: top;\n",
       "    }\n",
       "\n",
       "    .dataframe thead th {\n",
       "        text-align: right;\n",
       "    }\n",
       "</style>\n",
       "<table border=\"1\" class=\"dataframe\">\n",
       "  <thead>\n",
       "    <tr style=\"text-align: right;\">\n",
       "      <th></th>\n",
       "      <th>No</th>\n",
       "      <th>Name</th>\n",
       "      <th>Code</th>\n",
       "      <th>REM</th>\n",
       "      <th>Last Done</th>\n",
       "      <th>LACP</th>\n",
       "      <th>CHG</th>\n",
       "      <th>%CHG</th>\n",
       "      <th>Vol ('00)</th>\n",
       "      <th>BUY Vol ('00)</th>\n",
       "      <th>BUY</th>\n",
       "      <th>SELL</th>\n",
       "      <th>SELL Vol ('00)</th>\n",
       "      <th>HIGH</th>\n",
       "      <th>LOW</th>\n",
       "      <th>stock_id</th>\n",
       "    </tr>\n",
       "  </thead>\n",
       "  <tbody>\n",
       "  </tbody>\n",
       "</table>\n",
       "</div>"
      ],
      "text/plain": [
       "Empty DataFrame\n",
       "Columns: [No, Name, Code, REM, Last Done, LACP, CHG, %CHG, Vol ('00), BUY Vol ('00), BUY, SELL, SELL Vol ('00), HIGH, LOW, stock_id]\n",
       "Index: []"
      ]
     },
     "execution_count": 5,
     "metadata": {},
     "output_type": "execute_result"
    }
   ],
   "source": [
    "df = pd.read_html(driver.page_source)[0]\n",
    "df = pd.read_html(io.StringIO(str(driver.page_source)))[0]\n",
    "df.head()"
   ]
  },
  {
   "cell_type": "code",
   "execution_count": 6,
   "id": "a21c9bc1",
   "metadata": {},
   "outputs": [
    {
     "data": {
      "text/html": [
       "<div>\n",
       "<style scoped>\n",
       "    .dataframe tbody tr th:only-of-type {\n",
       "        vertical-align: middle;\n",
       "    }\n",
       "\n",
       "    .dataframe tbody tr th {\n",
       "        vertical-align: top;\n",
       "    }\n",
       "\n",
       "    .dataframe thead th {\n",
       "        text-align: right;\n",
       "    }\n",
       "</style>\n",
       "<table border=\"1\" class=\"dataframe\">\n",
       "  <thead>\n",
       "    <tr style=\"text-align: right;\">\n",
       "      <th></th>\n",
       "      <th>No</th>\n",
       "      <th>Name</th>\n",
       "      <th>Code</th>\n",
       "      <th>REM</th>\n",
       "      <th>Last Done</th>\n",
       "      <th>LACP</th>\n",
       "      <th>CHG</th>\n",
       "      <th>%CHG</th>\n",
       "      <th>Vol ('00)</th>\n",
       "      <th>BUY Vol ('00)</th>\n",
       "      <th>BUY</th>\n",
       "      <th>SELL</th>\n",
       "      <th>SELL Vol ('00)</th>\n",
       "      <th>HIGH</th>\n",
       "      <th>LOW</th>\n",
       "      <th>stock_id</th>\n",
       "    </tr>\n",
       "  </thead>\n",
       "  <tbody>\n",
       "    <tr>\n",
       "      <th>0</th>\n",
       "      <td>1</td>\n",
       "      <td>BCMALL</td>\n",
       "      <td>0187</td>\n",
       "      <td>NaN</td>\n",
       "      <td>0.025</td>\n",
       "      <td>0.025</td>\n",
       "      <td>-</td>\n",
       "      <td>-</td>\n",
       "      <td>816110</td>\n",
       "      <td>528367</td>\n",
       "      <td>0.020</td>\n",
       "      <td>0.025</td>\n",
       "      <td>248</td>\n",
       "      <td>0.025</td>\n",
       "      <td>0.025</td>\n",
       "      <td>0187</td>\n",
       "    </tr>\n",
       "    <tr>\n",
       "      <th>1</th>\n",
       "      <td>2</td>\n",
       "      <td>HSI-CQW</td>\n",
       "      <td>0651QW</td>\n",
       "      <td>NaN</td>\n",
       "      <td>0.245</td>\n",
       "      <td>0.265</td>\n",
       "      <td>-0.020</td>\n",
       "      <td>-7.55</td>\n",
       "      <td>622096</td>\n",
       "      <td>3920</td>\n",
       "      <td>0.245</td>\n",
       "      <td>0.250</td>\n",
       "      <td>6352</td>\n",
       "      <td>0.305</td>\n",
       "      <td>0.235</td>\n",
       "      <td>0651QW</td>\n",
       "    </tr>\n",
       "    <tr>\n",
       "      <th>2</th>\n",
       "      <td>3</td>\n",
       "      <td>LGMS [S]</td>\n",
       "      <td>0249</td>\n",
       "      <td>NaN</td>\n",
       "      <td>0.820</td>\n",
       "      <td>0.770</td>\n",
       "      <td>+0.050</td>\n",
       "      <td>+6.49</td>\n",
       "      <td>555397</td>\n",
       "      <td>1958</td>\n",
       "      <td>0.820</td>\n",
       "      <td>0.825</td>\n",
       "      <td>3204</td>\n",
       "      <td>0.840</td>\n",
       "      <td>0.795</td>\n",
       "      <td>0249</td>\n",
       "    </tr>\n",
       "    <tr>\n",
       "      <th>3</th>\n",
       "      <td>4</td>\n",
       "      <td>YONGTAI [S]</td>\n",
       "      <td>7066</td>\n",
       "      <td>NaN</td>\n",
       "      <td>0.090</td>\n",
       "      <td>0.085</td>\n",
       "      <td>+0.005</td>\n",
       "      <td>+5.88</td>\n",
       "      <td>551707</td>\n",
       "      <td>14091</td>\n",
       "      <td>0.090</td>\n",
       "      <td>0.095</td>\n",
       "      <td>53780</td>\n",
       "      <td>0.095</td>\n",
       "      <td>0.085</td>\n",
       "      <td>7066</td>\n",
       "    </tr>\n",
       "    <tr>\n",
       "      <th>4</th>\n",
       "      <td>5</td>\n",
       "      <td>MNC [S]</td>\n",
       "      <td>0103</td>\n",
       "      <td>NaN</td>\n",
       "      <td>0.015</td>\n",
       "      <td>0.015</td>\n",
       "      <td>-</td>\n",
       "      <td>-</td>\n",
       "      <td>526094</td>\n",
       "      <td>4566</td>\n",
       "      <td>0.015</td>\n",
       "      <td>0.020</td>\n",
       "      <td>844136</td>\n",
       "      <td>0.020</td>\n",
       "      <td>0.010</td>\n",
       "      <td>0103</td>\n",
       "    </tr>\n",
       "  </tbody>\n",
       "</table>\n",
       "</div>"
      ],
      "text/plain": [
       "  No         Name    Code  REM  Last Done   LACP     CHG   %CHG Vol ('00)  \\\n",
       "0  1       BCMALL    0187  NaN      0.025  0.025       -      -    816110   \n",
       "1  2      HSI-CQW  0651QW  NaN      0.245  0.265  -0.020  -7.55    622096   \n",
       "2  3     LGMS [S]    0249  NaN      0.820  0.770  +0.050  +6.49    555397   \n",
       "3  4  YONGTAI [S]    7066  NaN      0.090  0.085  +0.005  +5.88    551707   \n",
       "4  5      MNC [S]    0103  NaN      0.015  0.015       -      -    526094   \n",
       "\n",
       "  BUY Vol ('00)    BUY   SELL SELL Vol ('00)   HIGH    LOW stock_id  \n",
       "0        528367  0.020  0.025            248  0.025  0.025     0187  \n",
       "1          3920  0.245  0.250           6352  0.305  0.235   0651QW  \n",
       "2          1958  0.820  0.825           3204  0.840  0.795     0249  \n",
       "3         14091  0.090  0.095          53780  0.095  0.085     7066  \n",
       "4          4566  0.015  0.020         844136  0.020  0.010     0103  "
      ]
     },
     "execution_count": 6,
     "metadata": {},
     "output_type": "execute_result"
    }
   ],
   "source": [
    "df = df.append(pd.read_html(driver.page_source)[1])\n",
    "df.head()"
   ]
  },
  {
   "cell_type": "markdown",
   "id": "b54b342e",
   "metadata": {},
   "source": [
    "### selenium에서 BeautifulSoup 사용하기\n",
    "- soup = bs(driver.page_source, 'html.parser')"
   ]
  },
  {
   "cell_type": "code",
   "execution_count": 7,
   "id": "a62d6cd0",
   "metadata": {},
   "outputs": [],
   "source": [
    "from bs4 import BeautifulSoup as bs\n",
    "\n",
    "soup = bs(driver.page_source, 'html.parser')\n",
    "img_source = soup.select('#logo') # return list"
   ]
  },
  {
   "cell_type": "code",
   "execution_count": 8,
   "id": "f54fd3ef",
   "metadata": {},
   "outputs": [
    {
     "data": {
      "text/plain": [
       "<a class=\"d-lg-inline-block\" href=\"/\" id=\"logo\">\n",
       "<img alt=\"BURSA MALAYSIA\" class=\"logo\" src=\"/sites/5bb54be15f36ca0af339077a/theme/images/logo.png?1655349846\"/>\n",
       "</a>"
      ]
     },
     "execution_count": 8,
     "metadata": {},
     "output_type": "execute_result"
    }
   ],
   "source": [
    "img_source[0]"
   ]
  },
  {
   "cell_type": "code",
   "execution_count": 9,
   "id": "4ac06b30",
   "metadata": {},
   "outputs": [
    {
     "data": {
      "text/plain": [
       "'BURSA MALAYSIA'"
      ]
     },
     "execution_count": 9,
     "metadata": {},
     "output_type": "execute_result"
    }
   ],
   "source": [
    "img_source[0].img['alt'] # img tag의 alt attribute"
   ]
  },
  {
   "cell_type": "markdown",
   "id": "eb7742d7",
   "metadata": {},
   "source": [
    "### selenium WebElement\n",
    "- WebElement 다루기\n",
    "- element.get_attribute('innerHTML'): 지정한 요소 태그를 제외한 내부 태그만 값을 가져옴. string(str) not DOM element\n",
    "- element.get_attribute('outerHTML'): 지정한 요소 태그를 포함하여 포함하여 내부전체 값을 가져옴. string(str) not DOM element"
   ]
  },
  {
   "cell_type": "code",
   "execution_count": 10,
   "id": "c2783d7d",
   "metadata": {},
   "outputs": [],
   "source": [
    "logo = driver.find_element_by_id('logo')"
   ]
  },
  {
   "cell_type": "code",
   "execution_count": 11,
   "id": "bfdd8981",
   "metadata": {},
   "outputs": [
    {
     "data": {
      "text/plain": [
       "<selenium.webdriver.remote.webelement.WebElement (session=\"3a669190ffaeec0ad4942050f07e2892\", element=\"a063be54-3cd5-42be-a9bb-6b8bff38a858\")>"
      ]
     },
     "execution_count": 11,
     "metadata": {},
     "output_type": "execute_result"
    }
   ],
   "source": [
    "logo"
   ]
  },
  {
   "cell_type": "code",
   "execution_count": 12,
   "id": "ffed674a",
   "metadata": {},
   "outputs": [
    {
     "data": {
      "text/plain": [
       "'\\n<img src=\"/sites/5bb54be15f36ca0af339077a/theme/images/logo.png?1655349846\" class=\"logo\" alt=\"BURSA MALAYSIA\">\\n'"
      ]
     },
     "execution_count": 12,
     "metadata": {},
     "output_type": "execute_result"
    }
   ],
   "source": [
    "logo.get_attribute('innerHTML') # 지정한 요소 태그(id='logo')를 제외한 내부 태그만 값을 가져옴. string not DOM element"
   ]
  },
  {
   "cell_type": "code",
   "execution_count": 13,
   "id": "9a806d0f",
   "metadata": {},
   "outputs": [
    {
     "data": {
      "text/plain": [
       "'<a href=\"/\" class=\"d-lg-inline-block\" id=\"logo\">\\n<img src=\"/sites/5bb54be15f36ca0af339077a/theme/images/logo.png?1655349846\" class=\"logo\" alt=\"BURSA MALAYSIA\">\\n</a>'"
      ]
     },
     "execution_count": 13,
     "metadata": {},
     "output_type": "execute_result"
    }
   ],
   "source": [
    "logo.get_attribute('outerHTML')# 지정한 요소 태그(id='logo')를 포함하여 내부전체 값을 가져옴. string not DOM element"
   ]
  },
  {
   "cell_type": "code",
   "execution_count": 14,
   "id": "565be1e0",
   "metadata": {},
   "outputs": [
    {
     "data": {
      "text/plain": [
       "'https://www.bursamalaysia.com/sites/5bb54be15f36ca0af339077a/theme/images/logo.png?1655349846'"
      ]
     },
     "execution_count": 14,
     "metadata": {},
     "output_type": "execute_result"
    }
   ],
   "source": [
    "logo.find_element_by_css_selector('a > img').get_attribute('src') # element 처리 명령어에 따라 진행"
   ]
  },
  {
   "cell_type": "code",
   "execution_count": 15,
   "id": "8225d0d2",
   "metadata": {},
   "outputs": [],
   "source": [
    "logo_soup = bs(logo.get_attribute('outerHTML'), 'html.parser') # string을 html형식으로 변환"
   ]
  },
  {
   "cell_type": "code",
   "execution_count": 16,
   "id": "009a51a2",
   "metadata": {},
   "outputs": [
    {
     "data": {
      "text/plain": [
       "<a class=\"d-lg-inline-block\" href=\"/\" id=\"logo\">\n",
       "<img alt=\"BURSA MALAYSIA\" class=\"logo\" src=\"/sites/5bb54be15f36ca0af339077a/theme/images/logo.png?1655349846\"/>\n",
       "</a>"
      ]
     },
     "execution_count": 16,
     "metadata": {},
     "output_type": "execute_result"
    }
   ],
   "source": [
    "logo_soup"
   ]
  },
  {
   "cell_type": "code",
   "execution_count": 17,
   "id": "96f9a788",
   "metadata": {},
   "outputs": [
    {
     "data": {
      "text/plain": [
       "'BURSA MALAYSIA'"
      ]
     },
     "execution_count": 17,
     "metadata": {},
     "output_type": "execute_result"
    }
   ],
   "source": [
    "logo_soup.a.img['alt']"
   ]
  },
  {
   "cell_type": "code",
   "execution_count": 18,
   "id": "f11c622a",
   "metadata": {},
   "outputs": [
    {
     "data": {
      "text/plain": [
       "<img alt=\"BURSA MALAYSIA\" class=\"logo\" src=\"/sites/5bb54be15f36ca0af339077a/theme/images/logo.png?1655349846\"/>"
      ]
     },
     "execution_count": 18,
     "metadata": {},
     "output_type": "execute_result"
    }
   ],
   "source": [
    "logo_soup.a.img"
   ]
  },
  {
   "cell_type": "code",
   "execution_count": 19,
   "id": "b56f42fd",
   "metadata": {},
   "outputs": [
    {
     "data": {
      "text/plain": [
       "bs4.element.Tag"
      ]
     },
     "execution_count": 19,
     "metadata": {},
     "output_type": "execute_result"
    }
   ],
   "source": [
    "type(logo_soup.a.img)"
   ]
  },
  {
   "cell_type": "code",
   "execution_count": 20,
   "id": "ef8d0e05",
   "metadata": {},
   "outputs": [
    {
     "ename": "TypeError",
     "evalue": "'NoneType' object is not callable",
     "output_type": "error",
     "traceback": [
      "\u001b[1;31m---------------------------------------------------------------------------\u001b[0m",
      "\u001b[1;31mTypeError\u001b[0m                                 Traceback (most recent call last)",
      "\u001b[1;32m<ipython-input-20-f7ac2d297062>\u001b[0m in \u001b[0;36m<module>\u001b[1;34m\u001b[0m\n\u001b[1;32m----> 1\u001b[1;33m \u001b[0mlogo_soup\u001b[0m\u001b[1;33m.\u001b[0m\u001b[0mget_attribute\u001b[0m\u001b[1;33m(\u001b[0m\u001b[1;34m\"alt\"\u001b[0m\u001b[1;33m)\u001b[0m \u001b[1;31m# WebElement type이 아니어서 .get_attriute사용할 수 없음.\u001b[0m\u001b[1;33m\u001b[0m\u001b[1;33m\u001b[0m\u001b[0m\n\u001b[0m",
      "\u001b[1;31mTypeError\u001b[0m: 'NoneType' object is not callable"
     ]
    }
   ],
   "source": [
    "logo_soup.get_attribute(\"alt\") # WebElement type이 아니어서 .get_attriute사용할 수 없음."
   ]
  },
  {
   "cell_type": "code",
   "execution_count": 21,
   "id": "67366807",
   "metadata": {},
   "outputs": [],
   "source": [
    "driver.close()\n",
    "driver.quit()"
   ]
  }
 ],
 "metadata": {
  "kernelspec": {
   "display_name": "Python 3",
   "language": "python",
   "name": "python3"
  },
  "language_info": {
   "codemirror_mode": {
    "name": "ipython",
    "version": 3
   },
   "file_extension": ".py",
   "mimetype": "text/x-python",
   "name": "python",
   "nbconvert_exporter": "python",
   "pygments_lexer": "ipython3",
   "version": "3.9.1"
  }
 },
 "nbformat": 4,
 "nbformat_minor": 5
}
