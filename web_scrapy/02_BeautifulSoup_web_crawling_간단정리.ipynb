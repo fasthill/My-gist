{
 "cells": [
  {
   "cell_type": "code",
   "execution_count": 1,
   "id": "9d7a8263",
   "metadata": {},
   "outputs": [],
   "source": [
    "from bs4 import BeautifulSoup as bs\n",
    "import requests\n",
    "\n",
    "r = requests.get('https://google.com')\n",
    "html = r.text\n",
    "# print(html)"
   ]
  },
  {
   "cell_type": "code",
   "execution_count": 2,
   "id": "5cb939e3",
   "metadata": {},
   "outputs": [],
   "source": [
    "r = requests.get('https://google.com')\n",
    "html = r.content \n",
    "#웹페이지의 content를 유니코드 형태가 아니라 bytes 형태로 얻기 위해서는 r.text가 아닌 r.content를 사용.\n",
    "# print(html)"
   ]
  },
  {
   "cell_type": "code",
   "execution_count": 3,
   "id": "0ea95544",
   "metadata": {},
   "outputs": [
    {
     "name": "stdout",
     "output_type": "stream",
     "text": [
      "200\n",
      "text/html; charset=ISO-8859-1\n",
      "ISO-8859-1\n",
      "True\n"
     ]
    }
   ],
   "source": [
    "import requests\n",
    "\n",
    "r = requests.get('https://google.com')\n",
    "html = r.content\n",
    "\n",
    "print(r.status_code) #status_code는 정상일 경우 200, 페이지가 발견되지 않을 경우 404\n",
    "print(r.headers['Content-Type'])\n",
    "print(r.encoding) \n",
    "# encoding 방식은 ISO-8859-1이고, 요청에 대한 응답이 정상적으로 이루어졌음을 알 수 있음.\n",
    "print(r.ok)\n",
    "# (status_code가 200 보다 작거나 같은 경우 True, 그렇지 않은 경우 False)"
   ]
  },
  {
   "cell_type": "code",
   "execution_count": 4,
   "id": "167f8d6f",
   "metadata": {},
   "outputs": [],
   "source": [
    "r.encoding = 'utf-8' \n",
    "#만약 인코딩 방식이 달라서 한글이 제대로 표시되지 않으면 위와 같이 인코딩 방식을 변경."
   ]
  },
  {
   "cell_type": "code",
   "execution_count": 5,
   "id": "bb2ad33f",
   "metadata": {
    "scrolled": true
   },
   "outputs": [],
   "source": [
    "import requests\n",
    "from bs4 import BeautifulSoup\n",
    "\n",
    "url = 'https://google.com/'\n",
    "\n",
    "r = requests.get(url)\n",
    "html = r.content\n",
    "soup = BeautifulSoup(html, 'html.parser')\n",
    "\n",
    "# print(soup.head.prettify()) # print(soup.prettify())"
   ]
  },
  {
   "cell_type": "code",
   "execution_count": 6,
   "id": "a2810dbc",
   "metadata": {},
   "outputs": [
    {
     "data": {
      "text/plain": [
       "'[document]'"
      ]
     },
     "execution_count": 6,
     "metadata": {},
     "output_type": "execute_result"
    }
   ],
   "source": [
    "soup.name"
   ]
  },
  {
   "cell_type": "code",
   "execution_count": 7,
   "id": "465ec6a7",
   "metadata": {},
   "outputs": [],
   "source": [
    "# print(soup.body.prettify()) # body 부분만 프린트"
   ]
  },
  {
   "cell_type": "code",
   "execution_count": 8,
   "id": "988c802e",
   "metadata": {},
   "outputs": [
    {
     "data": {
      "text/plain": [
       "[<a class=\"gb1\" href=\"https://www.google.co.kr/imghp?hl=ko&amp;tab=wi\">이미지</a>,\n",
       " <a class=\"gb1\" href=\"https://maps.google.co.kr/maps?hl=ko&amp;tab=wl\">지도</a>,\n",
       " <a class=\"gb1\" href=\"https://play.google.com/?hl=ko&amp;tab=w8\">Play</a>,\n",
       " <a class=\"gb1\" href=\"https://www.youtube.com/?gl=KR&amp;tab=w1\">YouTube</a>,\n",
       " <a class=\"gb1\" href=\"https://news.google.com/?tab=wn\">뉴스</a>,\n",
       " <a class=\"gb1\" href=\"https://mail.google.com/mail/?tab=wm\">Gmail</a>,\n",
       " <a class=\"gb1\" href=\"https://drive.google.com/?tab=wo\">드라이브</a>,\n",
       " <a class=\"gb1\" href=\"https://www.google.co.kr/intl/ko/about/products?tab=wh\" style=\"text-decoration:none\"><u>더보기</u> »</a>]"
      ]
     },
     "execution_count": 8,
     "metadata": {},
     "output_type": "execute_result"
    }
   ],
   "source": [
    "soup.body.select('#gbar a')"
   ]
  },
  {
   "cell_type": "markdown",
   "id": "c041f7a7",
   "metadata": {},
   "source": [
    "```\n",
    "select(), select_one()설명\n",
    "태그이름 : 태그이름으로 찾음\n",
    ".클래스이름' : 클래스이름(class='class_name\" ==> .class_name으로 찾음\n",
    "#아이디이름' : 아이디이름(id='id_name' ==> #id_name)으로 찾음 (아이디는 연속X)\n",
    "상위태그이름>자식태그>자식태그' : 부모 자식간의 태그 조회' >' 로 구분\n",
    "   soup.select(\"div.section_cell>div>h3>strong\")\n",
    "상위태그이름 자손태그' : 부모 자손간의 태그 조회 #띄어쓰기(공백) 로 구분 #자식을 건너 띈다.\n",
    "   soup.select(\"div.section_cell strong\")\n",
    "[속성]' : 태그 안의 속성을 찾음\n",
    "   soup.select(\"#id_name div.list_type a\")[0]['href']\n",
    "   soup.select(\"#id_name img\")[0]['src']\n",
    "태그이름.클래스이름' : 해당태그의 클래스이름을 찾음\n",
    "#id_name > 태그이름.클래스이름 : 아이이디 이름으로 찾고 자식태그와 클래스이름으로 찾음\n",
    "   soup.select(\"#id_name div.tit_area strong\")\n",
    "   soup.select(\"#id_name div.list_type a>span.txt\")[0].text\n",
    "   \n",
    "   \n",
    "find, find_all()\n",
    "   soup.find_all(\"a\", class_='link_news') # == soup.select('a.link_news')\n",
    "   soup.find(\"a\", id='link_news') # == soup.select('#link_news')\n",
    "\n",
    "```"
   ]
  },
  {
   "cell_type": "code",
   "execution_count": 9,
   "id": "33587c41",
   "metadata": {},
   "outputs": [
    {
     "ename": "NameError",
     "evalue": "name 'html_keep' is not defined",
     "output_type": "error",
     "traceback": [
      "\u001b[1;31m---------------------------------------------------------------------------\u001b[0m",
      "\u001b[1;31mNameError\u001b[0m                                 Traceback (most recent call last)",
      "\u001b[1;32m<ipython-input-9-a112c0a1de59>\u001b[0m in \u001b[0;36m<module>\u001b[1;34m\u001b[0m\n\u001b[1;32m----> 1\u001b[1;33m \u001b[0mprint\u001b[0m\u001b[1;33m(\u001b[0m\u001b[0mhtml_keep\u001b[0m\u001b[1;33m.\u001b[0m\u001b[0mprettify\u001b[0m\u001b[1;33m(\u001b[0m\u001b[1;33m)\u001b[0m\u001b[1;33m)\u001b[0m\u001b[1;33m\u001b[0m\u001b[1;33m\u001b[0m\u001b[0m\n\u001b[0m",
      "\u001b[1;31mNameError\u001b[0m: name 'html_keep' is not defined"
     ]
    }
   ],
   "source": [
    "print(html_keep.prettify())"
   ]
  },
  {
   "cell_type": "code",
   "execution_count": null,
   "id": "f7cc1316",
   "metadata": {},
   "outputs": [],
   "source": [
    "url1=  \"https://www.theguardian.com/world/2017/jun/26/angela-merkel-and-donald-trump-head-for-clash-at-g20-summit\""
   ]
  },
  {
   "cell_type": "code",
   "execution_count": null,
   "id": "4b750c79",
   "metadata": {},
   "outputs": [],
   "source": [
    "from bs4 import BeautifulSoup as bs\n",
    "import requests"
   ]
  },
  {
   "cell_type": "code",
   "execution_count": null,
   "id": "7af3771f",
   "metadata": {},
   "outputs": [],
   "source": [
    "url = 'https://en.wikipedia.org/wiki/List_of_countries_by_greenhouse_gas_emissions'\n",
    "req = requests.get(url)\n",
    "print(req)\n",
    "# <Response[200]>"
   ]
  },
  {
   "cell_type": "code",
   "execution_count": null,
   "id": "c6340f87",
   "metadata": {},
   "outputs": [],
   "source": [
    "soup = BeautifulSoup(req.text,\"html.parser\")\n",
    "# print(soup.prettify())"
   ]
  },
  {
   "cell_type": "code",
   "execution_count": null,
   "id": "7a8dcb86",
   "metadata": {},
   "outputs": [],
   "source": [
    "soup.body.h1"
   ]
  },
  {
   "cell_type": "code",
   "execution_count": null,
   "id": "4e9f210e",
   "metadata": {},
   "outputs": [],
   "source": [
    "rows = soup.find_all('tr')  # .find('td')\n",
    "cols = [t.text.rstrip() for t in rows[1].find_all('th')]"
   ]
  },
  {
   "cell_type": "code",
   "execution_count": null,
   "id": "cbf980b0",
   "metadata": {},
   "outputs": [],
   "source": [
    "cols"
   ]
  },
  {
   "cell_type": "code",
   "execution_count": null,
   "id": "a9f7a76e",
   "metadata": {},
   "outputs": [],
   "source": [
    "mimage = soup.find_all(\"td\", class_='mbox-image') # == soup.select('td.mbox-image')\n",
    "print(mimage)"
   ]
  },
  {
   "cell_type": "code",
   "execution_count": null,
   "id": "7ebd9ab8",
   "metadata": {},
   "outputs": [],
   "source": [
    "mimage = soup.find_all(\"td\", attrs = {'class': 'mbox-image'})\n",
    "print(mimage)"
   ]
  },
  {
   "cell_type": "code",
   "execution_count": null,
   "id": "6b419b1f",
   "metadata": {},
   "outputs": [],
   "source": [
    "mimage = soup.select('td.mbox-image')\n",
    "print(mimage)"
   ]
  },
  {
   "cell_type": "code",
   "execution_count": null,
   "id": "f84b66a1",
   "metadata": {},
   "outputs": [],
   "source": [
    "soup.find(\"span\", id='See_also') # == soup.find(id='See_also') == soup.select_one('#See_also')"
   ]
  },
  {
   "cell_type": "code",
   "execution_count": null,
   "id": "0182e43a",
   "metadata": {},
   "outputs": [],
   "source": [
    "soup.select_one('#See_also') # id => #"
   ]
  },
  {
   "cell_type": "code",
   "execution_count": null,
   "id": "e3c036b6",
   "metadata": {},
   "outputs": [],
   "source": [
    "soup.find_all(id='See_also')"
   ]
  },
  {
   "cell_type": "code",
   "execution_count": null,
   "id": "54075ead",
   "metadata": {},
   "outputs": [],
   "source": [
    "find1 = soup.find_all(\"td\", 'mbox-image')\n",
    "find1"
   ]
  },
  {
   "cell_type": "code",
   "execution_count": null,
   "id": "8bea455e",
   "metadata": {},
   "outputs": [],
   "source": [
    "find2 = find1[0].find('div').find('img') # 한개씩 한단계씩 찾아감. == find2 = find1[0].select('img')"
   ]
  },
  {
   "cell_type": "code",
   "execution_count": null,
   "id": "5ee36fce",
   "metadata": {},
   "outputs": [],
   "source": [
    "find2 = find1[0].select('img')"
   ]
  },
  {
   "cell_type": "code",
   "execution_count": null,
   "id": "f28bafd0",
   "metadata": {},
   "outputs": [],
   "source": [
    "find2"
   ]
  },
  {
   "cell_type": "code",
   "execution_count": null,
   "id": "8d120611",
   "metadata": {},
   "outputs": [],
   "source": [
    "find2.name"
   ]
  },
  {
   "cell_type": "code",
   "execution_count": null,
   "id": "ef1726bb",
   "metadata": {},
   "outputs": [],
   "source": [
    "find2.attrs"
   ]
  },
  {
   "cell_type": "code",
   "execution_count": null,
   "id": "cb24d441",
   "metadata": {},
   "outputs": [],
   "source": [
    "find2.text"
   ]
  },
  {
   "cell_type": "code",
   "execution_count": null,
   "id": "cb326b49",
   "metadata": {},
   "outputs": [],
   "source": []
  }
 ],
 "metadata": {
  "kernelspec": {
   "display_name": "Python 3",
   "language": "python",
   "name": "python3"
  },
  "language_info": {
   "codemirror_mode": {
    "name": "ipython",
    "version": 3
   },
   "file_extension": ".py",
   "mimetype": "text/x-python",
   "name": "python",
   "nbconvert_exporter": "python",
   "pygments_lexer": "ipython3",
   "version": "3.9.1"
  }
 },
 "nbformat": 4,
 "nbformat_minor": 5
}
