{
 "cells": [
  {
   "cell_type": "code",
   "execution_count": 1,
   "id": "9d7a8263",
   "metadata": {},
   "outputs": [],
   "source": [
    "from bs4 import BeautifulSoup as bs\n",
    "import requests\n",
    "\n",
    "r = requests.get('https://google.com')\n",
    "html = r.text\n",
    "# print(html)"
   ]
  },
  {
   "cell_type": "code",
   "execution_count": 2,
   "id": "5cb939e3",
   "metadata": {},
   "outputs": [],
   "source": [
    "r = requests.get('https://google.com')\n",
    "html = r.content \n",
    "#웹페이지의 content를 유니코드 형태가 아니라 bytes 형태로 얻기 위해서는 r.text가 아닌 r.content를 사용.\n",
    "# print(html)"
   ]
  },
  {
   "cell_type": "code",
   "execution_count": 3,
   "id": "0ea95544",
   "metadata": {},
   "outputs": [
    {
     "name": "stdout",
     "output_type": "stream",
     "text": [
      "200\n",
      "text/html; charset=ISO-8859-1\n",
      "ISO-8859-1\n",
      "True\n"
     ]
    }
   ],
   "source": [
    "import requests\n",
    "\n",
    "r = requests.get('https://google.com')\n",
    "html = r.content\n",
    "\n",
    "print(r.status_code) #status_code는 정상일 경우 200, 페이지가 발견되지 않을 경우 404\n",
    "print(r.headers['Content-Type'])\n",
    "print(r.encoding) \n",
    "# encoding 방식은 ISO-8859-1이고, 요청에 대한 응답이 정상적으로 이루어졌음을 알 수 있음.\n",
    "print(r.ok)\n",
    "# (status_code가 200 보다 작거나 같은 경우 True, 그렇지 않은 경우 False)"
   ]
  },
  {
   "cell_type": "code",
   "execution_count": 4,
   "id": "167f8d6f",
   "metadata": {},
   "outputs": [],
   "source": [
    "r.encoding = 'utf-8' \n",
    "#만약 인코딩 방식이 달라서 한글이 제대로 표시되지 않으면 위와 같이 인코딩 방식을 변경."
   ]
  },
  {
   "cell_type": "code",
   "execution_count": 5,
   "id": "bb2ad33f",
   "metadata": {
    "scrolled": true
   },
   "outputs": [],
   "source": [
    "import requests\n",
    "from bs4 import BeautifulSoup\n",
    "\n",
    "url = 'https://google.com/'\n",
    "\n",
    "r = requests.get(url)\n",
    "html = r.content\n",
    "soup = BeautifulSoup(html, 'html.parser')\n",
    "\n",
    "# print(soup.head.prettify()) # print(soup.prettify())"
   ]
  },
  {
   "cell_type": "code",
   "execution_count": 6,
   "id": "a2810dbc",
   "metadata": {},
   "outputs": [
    {
     "data": {
      "text/plain": [
       "'[document]'"
      ]
     },
     "execution_count": 6,
     "metadata": {},
     "output_type": "execute_result"
    }
   ],
   "source": [
    "soup.name"
   ]
  },
  {
   "cell_type": "code",
   "execution_count": 7,
   "id": "465ec6a7",
   "metadata": {},
   "outputs": [
    {
     "name": "stdout",
     "output_type": "stream",
     "text": [
      "<div id=\"gbar\">\n",
      " <nobr>\n",
      "  <b class=\"gb1\">\n",
      "   검색\n",
      "  </b>\n",
      "  <a class=\"gb1\" href=\"https://www.google.com/imghp?hl=ko&amp;tab=wi\">\n",
      "   이미지\n",
      "  </a>\n",
      "  <a class=\"gb1\" href=\"https://maps.google.co.kr/maps?hl=ko&amp;tab=wl\">\n",
      "   지도\n",
      "  </a>\n",
      "  <a class=\"gb1\" href=\"https://play.google.com/?hl=ko&amp;tab=w8\">\n",
      "   Play\n",
      "  </a>\n",
      "  <a class=\"gb1\" href=\"https://www.youtube.com/?tab=w1\">\n",
      "   YouTube\n",
      "  </a>\n",
      "  <a class=\"gb1\" href=\"https://news.google.com/?tab=wn\">\n",
      "   뉴스\n",
      "  </a>\n",
      "  <a class=\"gb1\" href=\"https://mail.google.com/mail/?tab=wm\">\n",
      "   Gmail\n",
      "  </a>\n",
      "  <a class=\"gb1\" href=\"https://drive.google.com/?tab=wo\">\n",
      "   드라이브\n",
      "  </a>\n",
      "  <a class=\"gb1\" href=\"https://www.google.co.kr/intl/ko/about/products?tab=wh\" style=\"text-decoration:none\">\n",
      "   <u>\n",
      "    더보기\n",
      "   </u>\n",
      "   »\n",
      "  </a>\n",
      " </nobr>\n",
      "</div>\n",
      "\n"
     ]
    }
   ],
   "source": [
    "print(soup.body.find('div', id='gbar').prettify()) # body 부분만 프린트"
   ]
  },
  {
   "cell_type": "code",
   "execution_count": 8,
   "id": "988c802e",
   "metadata": {},
   "outputs": [
    {
     "data": {
      "text/plain": [
       "[<a class=\"gb1\" href=\"https://www.google.com/imghp?hl=ko&amp;tab=wi\">이미지</a>,\n",
       " <a class=\"gb1\" href=\"https://maps.google.co.kr/maps?hl=ko&amp;tab=wl\">지도</a>,\n",
       " <a class=\"gb1\" href=\"https://play.google.com/?hl=ko&amp;tab=w8\">Play</a>,\n",
       " <a class=\"gb1\" href=\"https://www.youtube.com/?tab=w1\">YouTube</a>,\n",
       " <a class=\"gb1\" href=\"https://news.google.com/?tab=wn\">뉴스</a>,\n",
       " <a class=\"gb1\" href=\"https://mail.google.com/mail/?tab=wm\">Gmail</a>,\n",
       " <a class=\"gb1\" href=\"https://drive.google.com/?tab=wo\">드라이브</a>,\n",
       " <a class=\"gb1\" href=\"https://www.google.co.kr/intl/ko/about/products?tab=wh\" style=\"text-decoration:none\"><u>더보기</u> »</a>]"
      ]
     },
     "execution_count": 8,
     "metadata": {},
     "output_type": "execute_result"
    }
   ],
   "source": [
    "soup.body.select('#gbar a')"
   ]
  },
  {
   "cell_type": "code",
   "execution_count": 9,
   "id": "96e9fbc9",
   "metadata": {},
   "outputs": [
    {
     "data": {
      "text/plain": [
       "[<a class=\"gb1\" href=\"https://www.google.com/imghp?hl=ko&amp;tab=wi\">이미지</a>,\n",
       " <a class=\"gb1\" href=\"https://maps.google.co.kr/maps?hl=ko&amp;tab=wl\">지도</a>,\n",
       " <a class=\"gb1\" href=\"https://play.google.com/?hl=ko&amp;tab=w8\">Play</a>,\n",
       " <a class=\"gb1\" href=\"https://www.youtube.com/?tab=w1\">YouTube</a>,\n",
       " <a class=\"gb1\" href=\"https://news.google.com/?tab=wn\">뉴스</a>,\n",
       " <a class=\"gb1\" href=\"https://mail.google.com/mail/?tab=wm\">Gmail</a>,\n",
       " <a class=\"gb1\" href=\"https://drive.google.com/?tab=wo\">드라이브</a>,\n",
       " <a class=\"gb1\" href=\"https://www.google.co.kr/intl/ko/about/products?tab=wh\" style=\"text-decoration:none\"><u>더보기</u> »</a>]"
      ]
     },
     "execution_count": 9,
     "metadata": {},
     "output_type": "execute_result"
    }
   ],
   "source": [
    "soup.body.find('div', id='gbar').find_all('a')"
   ]
  },
  {
   "cell_type": "code",
   "execution_count": 10,
   "id": "edffc4a4",
   "metadata": {},
   "outputs": [
    {
     "data": {
      "text/plain": [
       "<a class=\"gb1\" href=\"https://www.google.com/imghp?hl=ko&amp;tab=wi\">이미지</a>"
      ]
     },
     "execution_count": 10,
     "metadata": {},
     "output_type": "execute_result"
    }
   ],
   "source": [
    "soup.body.select_one('#gbar a')"
   ]
  },
  {
   "cell_type": "code",
   "execution_count": 11,
   "id": "fe59223f",
   "metadata": {},
   "outputs": [
    {
     "data": {
      "text/plain": [
       "<a class=\"gb1\" href=\"https://www.google.com/imghp?hl=ko&amp;tab=wi\">이미지</a>"
      ]
     },
     "execution_count": 11,
     "metadata": {},
     "output_type": "execute_result"
    }
   ],
   "source": [
    "soup.body.find('div', id='gbar').find('a')"
   ]
  },
  {
   "cell_type": "markdown",
   "id": "c041f7a7",
   "metadata": {},
   "source": [
    "```\n",
    "*********************************************************************\n",
    "* select(): list로 모든 해당항목 찾음, \n",
    "* select_one() : 가장 먼저 오는 한 개의 element만 찾음, list아님.\n",
    "\n",
    "태그이름 : 태그이름으로 찾음\n",
    ".클래스이름' : 클래스이름(class='class_name\" ==> .class_name으로 찾음\n",
    "#아이디이름' : 아이디이름(id='id_name' ==> #id_name)으로 찾음 (아이디는 연속X)\n",
    "\n",
    "상위태그이름>자식태그>자식태그' : 부모 자식간의 태그 조회' >' 로 구분\n",
    "   soup.select(\"div.section_cell > div > h3 > strong\")\n",
    "   \n",
    "상위태그이름 자손태그' : 부모 자손간의 태그 조회 #띄어쓰기(공백) 로 구분 #자식을 건너 띈다.\n",
    "   soup.select(\"div.section_cell strong\")\n",
    "   \n",
    "[속성]' : 태그 안의 속성을 찾음\n",
    "   soup.select(\"#id_name div.list_type a\")[0]['href']\n",
    "   soup.select(\"#id_name img\")[0]['src']\n",
    "   \n",
    "태그이름.클래스이름' : 해당태그의 클래스이름을 찾음\n",
    "#id_name > 태그이름.클래스이름 : 아이이디 이름으로 찾고 자식태그와 클래스이름으로 찾음\n",
    "   soup.select(\"#id_name div.tit_area strong\")\n",
    "   soup.select(\"#id_name div.list_type a>span.txt\")[0].text\n",
    "   \n",
    "   \n",
    "find, find_all()\n",
    "   soup.find_all(\"a\", class_='link_news') # == soup.select('a.link_news')[0]\n",
    "   soup.find(\"a\", id='link_news') # == soup.select_one('#link_news')\n",
    "\n",
    "*******************************************************************************\n",
    "\n",
    "```"
   ]
  },
  {
   "cell_type": "code",
   "execution_count": 12,
   "id": "f7cc1316",
   "metadata": {},
   "outputs": [],
   "source": [
    "url1=  \"https://www.theguardian.com/world/2017/jun/26/angela-merkel-and-donald-trump-head-for-clash-at-g20-summit\""
   ]
  },
  {
   "cell_type": "code",
   "execution_count": 13,
   "id": "4b750c79",
   "metadata": {},
   "outputs": [],
   "source": [
    "from bs4 import BeautifulSoup as bs\n",
    "import requests"
   ]
  },
  {
   "cell_type": "code",
   "execution_count": 14,
   "id": "7af3771f",
   "metadata": {},
   "outputs": [
    {
     "name": "stdout",
     "output_type": "stream",
     "text": [
      "<Response [200]>\n"
     ]
    }
   ],
   "source": [
    "url = 'https://en.wikipedia.org/wiki/List_of_countries_by_greenhouse_gas_emissions'\n",
    "req = requests.get(url)\n",
    "print(req)\n",
    "# <Response[200]>"
   ]
  },
  {
   "cell_type": "code",
   "execution_count": 15,
   "id": "c6340f87",
   "metadata": {},
   "outputs": [],
   "source": [
    "soup = BeautifulSoup(req.text,\"html.parser\")\n",
    "# print(soup.prettify())"
   ]
  },
  {
   "cell_type": "code",
   "execution_count": 16,
   "id": "7a8dcb86",
   "metadata": {},
   "outputs": [
    {
     "data": {
      "text/plain": [
       "<h1 class=\"firstHeading mw-first-heading\" id=\"firstHeading\"><span class=\"mw-page-title-main\">List of countries by greenhouse gas emissions</span></h1>"
      ]
     },
     "execution_count": 16,
     "metadata": {},
     "output_type": "execute_result"
    }
   ],
   "source": [
    "soup.body.h1"
   ]
  },
  {
   "cell_type": "code",
   "execution_count": 17,
   "id": "4e9f210e",
   "metadata": {},
   "outputs": [],
   "source": [
    "rows = soup.find_all('tr')  # .find('td')\n",
    "cols = [t.text.rstrip() for t in rows[1].find_all('th')]"
   ]
  },
  {
   "cell_type": "code",
   "execution_count": 18,
   "id": "cbf980b0",
   "metadata": {},
   "outputs": [
    {
     "data": {
      "text/plain": [
       "['State',\n",
       " 'Production-based emissions (MtCO2e) 2018 (CAIT)[1]',\n",
       " 'Production-based emissions INCLUDING land-use, land-use change and forestry (reported to UNFCCC)MtCO2e 2018[5]',\n",
       " 'Production-based emissions excluding land-use, land-use change and forestry(World Resources Institute)MtCO2e 2016[6]',\n",
       " 'Consumption-based emissions(Global Carbon Project)MtCO2e 2016[7]']"
      ]
     },
     "execution_count": 18,
     "metadata": {},
     "output_type": "execute_result"
    }
   ],
   "source": [
    "cols"
   ]
  },
  {
   "cell_type": "code",
   "execution_count": 19,
   "id": "a9f7a76e",
   "metadata": {},
   "outputs": [
    {
     "name": "stdout",
     "output_type": "stream",
     "text": [
      "[<td class=\"mbox-image\"><div class=\"mbox-image-div\"><span typeof=\"mw:File\"><span><img alt=\"\" class=\"mw-file-element\" data-file-height=\"290\" data-file-width=\"360\" decoding=\"async\" height=\"34\" src=\"//upload.wikimedia.org/wikipedia/commons/thumb/b/bd/Ambox_current_red_Asia_Australia.svg/42px-Ambox_current_red_Asia_Australia.svg.png\" srcset=\"//upload.wikimedia.org/wikipedia/commons/thumb/b/bd/Ambox_current_red_Asia_Australia.svg/63px-Ambox_current_red_Asia_Australia.svg.png 1.5x, //upload.wikimedia.org/wikipedia/commons/thumb/b/bd/Ambox_current_red_Asia_Australia.svg/84px-Ambox_current_red_Asia_Australia.svg.png 2x\" width=\"42\"/></span></span></div></td>]\n"
     ]
    }
   ],
   "source": [
    "mimage = soup.find_all(\"td\", class_='mbox-image') # == soup.select('td.mbox-image')\n",
    "# class_ : under bar 표시 주의\n",
    "print(mimage)"
   ]
  },
  {
   "cell_type": "code",
   "execution_count": 20,
   "id": "3481af11",
   "metadata": {},
   "outputs": [
    {
     "name": "stdout",
     "output_type": "stream",
     "text": [
      "<td class=\"mbox-image\">\n",
      " <div class=\"mbox-image-div\">\n",
      "  <span typeof=\"mw:File\">\n",
      "   <span>\n",
      "    <img alt=\"\" class=\"mw-file-element\" data-file-height=\"290\" data-file-width=\"360\" decoding=\"async\" height=\"34\" src=\"//upload.wikimedia.org/wikipedia/commons/thumb/b/bd/Ambox_current_red_Asia_Australia.svg/42px-Ambox_current_red_Asia_Australia.svg.png\" srcset=\"//upload.wikimedia.org/wikipedia/commons/thumb/b/bd/Ambox_current_red_Asia_Australia.svg/63px-Ambox_current_red_Asia_Australia.svg.png 1.5x, //upload.wikimedia.org/wikipedia/commons/thumb/b/bd/Ambox_current_red_Asia_Australia.svg/84px-Ambox_current_red_Asia_Australia.svg.png 2x\" width=\"42\"/>\n",
      "   </span>\n",
      "  </span>\n",
      " </div>\n",
      "</td>\n",
      "\n"
     ]
    }
   ],
   "source": [
    "print(mimage[0].prettify()) # element를 선택하여 prettify()"
   ]
  },
  {
   "cell_type": "code",
   "execution_count": 21,
   "id": "7ebd9ab8",
   "metadata": {},
   "outputs": [
    {
     "name": "stdout",
     "output_type": "stream",
     "text": [
      "[<td class=\"mbox-image\"><div class=\"mbox-image-div\"><span typeof=\"mw:File\"><span><img alt=\"\" class=\"mw-file-element\" data-file-height=\"290\" data-file-width=\"360\" decoding=\"async\" height=\"34\" src=\"//upload.wikimedia.org/wikipedia/commons/thumb/b/bd/Ambox_current_red_Asia_Australia.svg/42px-Ambox_current_red_Asia_Australia.svg.png\" srcset=\"//upload.wikimedia.org/wikipedia/commons/thumb/b/bd/Ambox_current_red_Asia_Australia.svg/63px-Ambox_current_red_Asia_Australia.svg.png 1.5x, //upload.wikimedia.org/wikipedia/commons/thumb/b/bd/Ambox_current_red_Asia_Australia.svg/84px-Ambox_current_red_Asia_Australia.svg.png 2x\" width=\"42\"/></span></span></div></td>]\n"
     ]
    }
   ],
   "source": [
    "mimage = soup.find_all(\"td\", attrs = {'class': 'mbox-image'})\n",
    "print(mimage)"
   ]
  },
  {
   "cell_type": "code",
   "execution_count": 22,
   "id": "6b419b1f",
   "metadata": {},
   "outputs": [
    {
     "name": "stdout",
     "output_type": "stream",
     "text": [
      "[<td class=\"mbox-image\"><div class=\"mbox-image-div\"><span typeof=\"mw:File\"><span><img alt=\"\" class=\"mw-file-element\" data-file-height=\"290\" data-file-width=\"360\" decoding=\"async\" height=\"34\" src=\"//upload.wikimedia.org/wikipedia/commons/thumb/b/bd/Ambox_current_red_Asia_Australia.svg/42px-Ambox_current_red_Asia_Australia.svg.png\" srcset=\"//upload.wikimedia.org/wikipedia/commons/thumb/b/bd/Ambox_current_red_Asia_Australia.svg/63px-Ambox_current_red_Asia_Australia.svg.png 1.5x, //upload.wikimedia.org/wikipedia/commons/thumb/b/bd/Ambox_current_red_Asia_Australia.svg/84px-Ambox_current_red_Asia_Australia.svg.png 2x\" width=\"42\"/></span></span></div></td>]\n"
     ]
    }
   ],
   "source": [
    "mimage = soup.select('td.mbox-image')\n",
    "print(mimage)"
   ]
  },
  {
   "cell_type": "code",
   "execution_count": 23,
   "id": "f84b66a1",
   "metadata": {},
   "outputs": [
    {
     "data": {
      "text/plain": [
       "<span class=\"mw-headline\" id=\"See_also\">See also</span>"
      ]
     },
     "execution_count": 23,
     "metadata": {},
     "output_type": "execute_result"
    }
   ],
   "source": [
    "soup.find(\"span\", id='See_also') # == soup.find(id='See_also') == soup.select_one('#See_also')"
   ]
  },
  {
   "cell_type": "code",
   "execution_count": 24,
   "id": "0182e43a",
   "metadata": {},
   "outputs": [
    {
     "data": {
      "text/plain": [
       "<span class=\"mw-headline\" id=\"See_also\">See also</span>"
      ]
     },
     "execution_count": 24,
     "metadata": {},
     "output_type": "execute_result"
    }
   ],
   "source": [
    "soup.select_one('#See_also') # id => #"
   ]
  },
  {
   "cell_type": "code",
   "execution_count": 25,
   "id": "e3c036b6",
   "metadata": {},
   "outputs": [
    {
     "data": {
      "text/plain": [
       "[<span class=\"mw-headline\" id=\"See_also\">See also</span>]"
      ]
     },
     "execution_count": 25,
     "metadata": {},
     "output_type": "execute_result"
    }
   ],
   "source": [
    "soup.find_all(id='See_also')"
   ]
  },
  {
   "cell_type": "code",
   "execution_count": 26,
   "id": "54075ead",
   "metadata": {},
   "outputs": [
    {
     "name": "stdout",
     "output_type": "stream",
     "text": [
      "<td class=\"mbox-image\">\n",
      " <div class=\"mbox-image-div\">\n",
      "  <span typeof=\"mw:File\">\n",
      "   <span>\n",
      "    <img alt=\"\" class=\"mw-file-element\" data-file-height=\"290\" data-file-width=\"360\" decoding=\"async\" height=\"34\" src=\"//upload.wikimedia.org/wikipedia/commons/thumb/b/bd/Ambox_current_red_Asia_Australia.svg/42px-Ambox_current_red_Asia_Australia.svg.png\" srcset=\"//upload.wikimedia.org/wikipedia/commons/thumb/b/bd/Ambox_current_red_Asia_Australia.svg/63px-Ambox_current_red_Asia_Australia.svg.png 1.5x, //upload.wikimedia.org/wikipedia/commons/thumb/b/bd/Ambox_current_red_Asia_Australia.svg/84px-Ambox_current_red_Asia_Australia.svg.png 2x\" width=\"42\"/>\n",
      "   </span>\n",
      "  </span>\n",
      " </div>\n",
      "</td>\n",
      "\n"
     ]
    }
   ],
   "source": [
    "find1 = soup.find_all(\"td\", 'mbox-image')\n",
    "print(find1[0].prettify())"
   ]
  },
  {
   "cell_type": "code",
   "execution_count": 27,
   "id": "8bea455e",
   "metadata": {},
   "outputs": [],
   "source": [
    "find2 = find1[0].find('div').find('img') # 한개씩 한단계씩 찾아감. == find2 = find1[0].select('img')"
   ]
  },
  {
   "cell_type": "code",
   "execution_count": 28,
   "id": "5029dee4",
   "metadata": {},
   "outputs": [
    {
     "name": "stdout",
     "output_type": "stream",
     "text": [
      "<img alt=\"\" class=\"mw-file-element\" data-file-height=\"290\" data-file-width=\"360\" decoding=\"async\" height=\"34\" src=\"//upload.wikimedia.org/wikipedia/commons/thumb/b/bd/Ambox_current_red_Asia_Australia.svg/42px-Ambox_current_red_Asia_Australia.svg.png\" srcset=\"//upload.wikimedia.org/wikipedia/commons/thumb/b/bd/Ambox_current_red_Asia_Australia.svg/63px-Ambox_current_red_Asia_Australia.svg.png 1.5x, //upload.wikimedia.org/wikipedia/commons/thumb/b/bd/Ambox_current_red_Asia_Australia.svg/84px-Ambox_current_red_Asia_Australia.svg.png 2x\" width=\"42\"/>\n",
      "\n"
     ]
    }
   ],
   "source": [
    "print(find2.prettify())"
   ]
  },
  {
   "cell_type": "code",
   "execution_count": 29,
   "id": "5ee36fce",
   "metadata": {},
   "outputs": [],
   "source": [
    "find2 = find1[0].select('img')"
   ]
  },
  {
   "cell_type": "code",
   "execution_count": 30,
   "id": "f28bafd0",
   "metadata": {},
   "outputs": [
    {
     "data": {
      "text/plain": [
       "[<img alt=\"\" class=\"mw-file-element\" data-file-height=\"290\" data-file-width=\"360\" decoding=\"async\" height=\"34\" src=\"//upload.wikimedia.org/wikipedia/commons/thumb/b/bd/Ambox_current_red_Asia_Australia.svg/42px-Ambox_current_red_Asia_Australia.svg.png\" srcset=\"//upload.wikimedia.org/wikipedia/commons/thumb/b/bd/Ambox_current_red_Asia_Australia.svg/63px-Ambox_current_red_Asia_Australia.svg.png 1.5x, //upload.wikimedia.org/wikipedia/commons/thumb/b/bd/Ambox_current_red_Asia_Australia.svg/84px-Ambox_current_red_Asia_Australia.svg.png 2x\" width=\"42\"/>]"
      ]
     },
     "execution_count": 30,
     "metadata": {},
     "output_type": "execute_result"
    }
   ],
   "source": [
    "find2"
   ]
  },
  {
   "cell_type": "code",
   "execution_count": 31,
   "id": "f52204ba",
   "metadata": {},
   "outputs": [
    {
     "name": "stdout",
     "output_type": "stream",
     "text": [
      "<img alt=\"\" class=\"mw-file-element\" data-file-height=\"290\" data-file-width=\"360\" decoding=\"async\" height=\"34\" src=\"//upload.wikimedia.org/wikipedia/commons/thumb/b/bd/Ambox_current_red_Asia_Australia.svg/42px-Ambox_current_red_Asia_Australia.svg.png\" srcset=\"//upload.wikimedia.org/wikipedia/commons/thumb/b/bd/Ambox_current_red_Asia_Australia.svg/63px-Ambox_current_red_Asia_Australia.svg.png 1.5x, //upload.wikimedia.org/wikipedia/commons/thumb/b/bd/Ambox_current_red_Asia_Australia.svg/84px-Ambox_current_red_Asia_Australia.svg.png 2x\" width=\"42\"/>\n",
      "\n"
     ]
    }
   ],
   "source": [
    "print(find2[0].prettify())"
   ]
  },
  {
   "cell_type": "code",
   "execution_count": 32,
   "id": "8d120611",
   "metadata": {},
   "outputs": [
    {
     "data": {
      "text/plain": [
       "['mw-file-element']"
      ]
     },
     "execution_count": 32,
     "metadata": {},
     "output_type": "execute_result"
    }
   ],
   "source": [
    "find2[0]['class']"
   ]
  },
  {
   "cell_type": "code",
   "execution_count": 33,
   "id": "ef1726bb",
   "metadata": {},
   "outputs": [
    {
     "data": {
      "text/plain": [
       "{'alt': '',\n",
       " 'src': '//upload.wikimedia.org/wikipedia/commons/thumb/b/bd/Ambox_current_red_Asia_Australia.svg/42px-Ambox_current_red_Asia_Australia.svg.png',\n",
       " 'decoding': 'async',\n",
       " 'width': '42',\n",
       " 'height': '34',\n",
       " 'class': ['mw-file-element'],\n",
       " 'srcset': '//upload.wikimedia.org/wikipedia/commons/thumb/b/bd/Ambox_current_red_Asia_Australia.svg/63px-Ambox_current_red_Asia_Australia.svg.png 1.5x, //upload.wikimedia.org/wikipedia/commons/thumb/b/bd/Ambox_current_red_Asia_Australia.svg/84px-Ambox_current_red_Asia_Australia.svg.png 2x',\n",
       " 'data-file-width': '360',\n",
       " 'data-file-height': '290'}"
      ]
     },
     "execution_count": 33,
     "metadata": {},
     "output_type": "execute_result"
    }
   ],
   "source": [
    "find2[0].attrs"
   ]
  },
  {
   "cell_type": "code",
   "execution_count": 34,
   "id": "cb24d441",
   "metadata": {},
   "outputs": [
    {
     "data": {
      "text/plain": [
       "''"
      ]
     },
     "execution_count": 34,
     "metadata": {},
     "output_type": "execute_result"
    }
   ],
   "source": [
    "find2[0].text"
   ]
  },
  {
   "cell_type": "code",
   "execution_count": null,
   "id": "cb326b49",
   "metadata": {},
   "outputs": [],
   "source": []
  }
 ],
 "metadata": {
  "kernelspec": {
   "display_name": "Python 3 (ipykernel)",
   "language": "python",
   "name": "python3"
  },
  "language_info": {
   "codemirror_mode": {
    "name": "ipython",
    "version": 3
   },
   "file_extension": ".py",
   "mimetype": "text/x-python",
   "name": "python",
   "nbconvert_exporter": "python",
   "pygments_lexer": "ipython3",
   "version": "3.9.1"
  }
 },
 "nbformat": 4,
 "nbformat_minor": 5
}
