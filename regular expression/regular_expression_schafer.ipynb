{
 "cells": [
  {
   "cell_type": "code",
   "execution_count": 1,
   "id": "professional-envelope",
   "metadata": {},
   "outputs": [],
   "source": [
    "import re"
   ]
  },
  {
   "cell_type": "code",
   "execution_count": 17,
   "id": "ancient-square",
   "metadata": {},
   "outputs": [
    {
     "data": {
      "text/plain": [
       "' hi'"
      ]
     },
     "execution_count": 17,
     "metadata": {},
     "output_type": "execute_result"
    }
   ],
   "source": [
    "re.search(r'[ ]*\\w*hi', 'abcdefg hi').group()"
   ]
  },
  {
   "cell_type": "code",
   "execution_count": 3,
   "id": "executive-swedish",
   "metadata": {},
   "outputs": [
    {
     "name": "stdout",
     "output_type": "stream",
     "text": [
      "\tTab\n"
     ]
    }
   ],
   "source": [
    "print('\\tTab')"
   ]
  },
  {
   "cell_type": "code",
   "execution_count": 4,
   "id": "partial-technique",
   "metadata": {},
   "outputs": [
    {
     "name": "stdout",
     "output_type": "stream",
     "text": [
      "\\tTab\n"
     ]
    }
   ],
   "source": [
    "print(r'\\tTab')"
   ]
  },
  {
   "cell_type": "code",
   "execution_count": 36,
   "id": "instructional-average",
   "metadata": {},
   "outputs": [],
   "source": [
    "text_to_search = '''\n",
    "abcdefghijklmnopqurtuvwxyz\n",
    "ABCDEFGHIJKLMNOPQRSTUVWXYZ\n",
    "1234567890\n",
    "\n",
    "Ha HaHa\n",
    "\n",
    "MetaCharacters (Need to be escaped):\n",
    ". ^ $ * + ? { } [ ] \\ | ( )\n",
    "\n",
    "coreyms.com\n",
    "\n",
    "321-555-4321\n",
    "123.555.1234\n",
    "123*555*1234\n",
    "800-555-1234\n",
    "900-555-1234\n",
    "\n",
    "Mr. Schafer\n",
    "Mr Smith\n",
    "Ms Davis\n",
    "Mrs. Robinson\n",
    "Mr. T\n",
    "\n",
    "abcghj\n",
    "\n",
    "cat\n",
    "bat\n",
    "mat\n",
    "dat\n",
    "\n",
    "'''\n",
    "\n",
    "sentence = 'Start a sentence and then bring it to an end'"
   ]
  },
  {
   "cell_type": "code",
   "execution_count": 5,
   "id": "pregnant-wright",
   "metadata": {},
   "outputs": [],
   "source": [
    "pattern = re.compile(r'abc') # "
   ]
  },
  {
   "cell_type": "code",
   "execution_count": 15,
   "id": "pleasant-times",
   "metadata": {},
   "outputs": [
    {
     "data": {
      "text/plain": [
       "re.compile(r'abc', re.UNICODE)"
      ]
     },
     "execution_count": 15,
     "metadata": {},
     "output_type": "execute_result"
    }
   ],
   "source": [
    "pattern"
   ]
  },
  {
   "cell_type": "code",
   "execution_count": 17,
   "id": "happy-gossip",
   "metadata": {},
   "outputs": [],
   "source": [
    "matches = pattern.finditer(text_to_search) # make generator that matches for 'abc'"
   ]
  },
  {
   "cell_type": "code",
   "execution_count": 18,
   "id": "pacific-rogers",
   "metadata": {},
   "outputs": [
    {
     "name": "stdout",
     "output_type": "stream",
     "text": [
      "<re.Match object; span=(1, 4), match='abc'>\n",
      "<re.Match object; span=(272, 275), match='abc'>\n"
     ]
    }
   ],
   "source": [
    "for match in matches:\n",
    "    print(match)"
   ]
  },
  {
   "cell_type": "code",
   "execution_count": 14,
   "id": "aggregate-stanley",
   "metadata": {},
   "outputs": [
    {
     "name": "stdout",
     "output_type": "stream",
     "text": [
      "a\n"
     ]
    }
   ],
   "source": [
    "print(text_to_search[1:2])"
   ]
  },
  {
   "cell_type": "code",
   "execution_count": 19,
   "id": "simple-letters",
   "metadata": {},
   "outputs": [
    {
     "name": "stdout",
     "output_type": "stream",
     "text": [
      "<re.Match object; span=(142, 153), match='coreyms.com'>\n"
     ]
    }
   ],
   "source": [
    "pattern = re.compile(r'coreyms\\.com') \n",
    "matches = pattern.finditer(text_to_search)\n",
    "for match in matches:\n",
    "    print(match)"
   ]
  },
  {
   "cell_type": "code",
   "execution_count": 21,
   "id": "oriented-aerospace",
   "metadata": {},
   "outputs": [
    {
     "name": "stdout",
     "output_type": "stream",
     "text": [
      "<re.Match object; span=(67, 69), match='Ha'>\n",
      "<re.Match object; span=(70, 72), match='Ha'>\n"
     ]
    }
   ],
   "source": [
    "pattern = re.compile(r'\\bHa') #'Ha\"앞에 공란이 있는 경우\n",
    "matches = pattern.finditer(text_to_search)\n",
    "for match in matches:\n",
    "    print(match)"
   ]
  },
  {
   "cell_type": "code",
   "execution_count": 22,
   "id": "asian-tension",
   "metadata": {},
   "outputs": [
    {
     "name": "stdout",
     "output_type": "stream",
     "text": [
      "<re.Match object; span=(72, 74), match='Ha'>\n"
     ]
    }
   ],
   "source": [
    "pattern = re.compile(r'\\BHa') #'Ha\"앞에 공란이 없는 경우\n",
    "matches = pattern.finditer(text_to_search)\n",
    "for match in matches:\n",
    "    print(match)"
   ]
  },
  {
   "cell_type": "code",
   "execution_count": 24,
   "id": "former-journal",
   "metadata": {},
   "outputs": [
    {
     "name": "stdout",
     "output_type": "stream",
     "text": [
      "<re.Match object; span=(0, 5), match='Start'>\n"
     ]
    }
   ],
   "source": [
    "pattern = re.compile(r'^Start') #string 시작하면서 Start인 경우\n",
    "matches = pattern.finditer(sentence)\n",
    "for match in matches:\n",
    "    print(match)"
   ]
  },
  {
   "cell_type": "code",
   "execution_count": 25,
   "id": "variable-architecture",
   "metadata": {},
   "outputs": [
    {
     "name": "stdout",
     "output_type": "stream",
     "text": [
      "<re.Match object; span=(41, 44), match='end'>\n"
     ]
    }
   ],
   "source": [
    "pattern = re.compile(r'end$') #string에서 end로 끝나는 글자\n",
    "matches = pattern.finditer(sentence)\n",
    "for match in matches:\n",
    "    print(match)"
   ]
  },
  {
   "cell_type": "code",
   "execution_count": 26,
   "id": "arabic-format",
   "metadata": {},
   "outputs": [
    {
     "name": "stdout",
     "output_type": "stream",
     "text": [
      "<re.Match object; span=(55, 58), match='123'>\n",
      "<re.Match object; span=(58, 61), match='456'>\n",
      "<re.Match object; span=(61, 64), match='789'>\n",
      "<re.Match object; span=(155, 158), match='321'>\n",
      "<re.Match object; span=(159, 162), match='555'>\n",
      "<re.Match object; span=(163, 166), match='432'>\n",
      "<re.Match object; span=(168, 171), match='123'>\n",
      "<re.Match object; span=(172, 175), match='555'>\n",
      "<re.Match object; span=(176, 179), match='123'>\n",
      "<re.Match object; span=(181, 184), match='123'>\n",
      "<re.Match object; span=(185, 188), match='555'>\n",
      "<re.Match object; span=(189, 192), match='123'>\n",
      "<re.Match object; span=(194, 197), match='800'>\n",
      "<re.Match object; span=(198, 201), match='555'>\n",
      "<re.Match object; span=(202, 205), match='123'>\n",
      "<re.Match object; span=(207, 210), match='900'>\n",
      "<re.Match object; span=(211, 214), match='555'>\n",
      "<re.Match object; span=(215, 218), match='123'>\n"
     ]
    }
   ],
   "source": [
    "pattern = re.compile(r'\\d\\d\\d') # three digits\n",
    "matches = pattern.finditer(text_to_search)\n",
    "for match in matches:\n",
    "    print(match)"
   ]
  },
  {
   "cell_type": "code",
   "execution_count": 27,
   "id": "delayed-article",
   "metadata": {},
   "outputs": [
    {
     "name": "stdout",
     "output_type": "stream",
     "text": [
      "<re.Match object; span=(155, 167), match='321-555-4321'>\n",
      "<re.Match object; span=(168, 180), match='123.555.1234'>\n",
      "<re.Match object; span=(181, 193), match='123*555*1234'>\n",
      "<re.Match object; span=(194, 206), match='800-555-1234'>\n",
      "<re.Match object; span=(207, 219), match='900-555-1234'>\n"
     ]
    }
   ],
   "source": [
    "pattern = re.compile(r'\\d\\d\\d.\\d\\d\\d.\\d\\d\\d\\d') \n",
    "matches = pattern.finditer(text_to_search)\n",
    "for match in matches:\n",
    "    print(match)"
   ]
  },
  {
   "cell_type": "code",
   "execution_count": 30,
   "id": "handled-grass",
   "metadata": {},
   "outputs": [
    {
     "name": "stdout",
     "output_type": "stream",
     "text": [
      "<re.Match object; span=(12, 24), match='615-555-7164'>\n",
      "<re.Match object; span=(102, 114), match='800-555-5669'>\n",
      "<re.Match object; span=(191, 203), match='560-555-5153'>\n",
      "<re.Match object; span=(281, 293), match='900-555-9340'>\n",
      "<re.Match object; span=(378, 390), match='714-555-7405'>\n",
      "<re.Match object; span=(467, 479), match='800-555-6771'>\n",
      "<re.Match object; span=(557, 569), match='783-555-4799'>\n",
      "<re.Match object; span=(647, 659), match='516-555-4615'>\n",
      "<re.Match object; span=(740, 752), match='127-555-1867'>\n",
      "<re.Match object; span=(829, 841), match='608-555-4938'>\n",
      "<re.Match object; span=(915, 927), match='568-555-6051'>\n",
      "<re.Match object; span=(1003, 1015), match='292-555-1875'>\n",
      "<re.Match object; span=(1091, 1103), match='900-555-3205'>\n",
      "<re.Match object; span=(1180, 1192), match='614-555-1166'>\n",
      "<re.Match object; span=(1269, 1281), match='530-555-2676'>\n",
      "<re.Match object; span=(1355, 1367), match='470-555-2750'>\n",
      "<re.Match object; span=(1439, 1451), match='800-555-6089'>\n",
      "<re.Match object; span=(1526, 1538), match='880-555-8319'>\n",
      "<re.Match object; span=(1614, 1626), match='777-555-8378'>\n",
      "<re.Match object; span=(1697, 1709), match='998-555-7385'>\n",
      "<re.Match object; span=(1790, 1802), match='800-555-7100'>\n",
      "<re.Match object; span=(1874, 1886), match='903-555-8277'>\n",
      "<re.Match object; span=(1962, 1974), match='196-555-5674'>\n",
      "<re.Match object; span=(2051, 2063), match='900-555-5118'>\n",
      "<re.Match object; span=(2135, 2147), match='905-555-1630'>\n",
      "<re.Match object; span=(2216, 2228), match='203-555-3475'>\n",
      "<re.Match object; span=(2300, 2312), match='884-555-8444'>\n",
      "<re.Match object; span=(2387, 2399), match='904-555-8559'>\n",
      "<re.Match object; span=(2475, 2487), match='889-555-7393'>\n",
      "<re.Match object; span=(2562, 2574), match='195-555-2405'>\n",
      "<re.Match object; span=(2647, 2659), match='321-555-9053'>\n",
      "<re.Match object; span=(2734, 2746), match='133-555-1711'>\n",
      "<re.Match object; span=(2826, 2838), match='900-555-5428'>\n",
      "<re.Match object; span=(2915, 2927), match='760-555-7147'>\n",
      "<re.Match object; span=(3012, 3024), match='391-555-6621'>\n",
      "<re.Match object; span=(3103, 3115), match='932-555-7724'>\n",
      "<re.Match object; span=(3192, 3204), match='609-555-7908'>\n",
      "<re.Match object; span=(3284, 3296), match='800-555-8810'>\n",
      "<re.Match object; span=(3372, 3384), match='149-555-7657'>\n",
      "<re.Match object; span=(3452, 3464), match='130-555-9709'>\n",
      "<re.Match object; span=(3535, 3547), match='143-555-9295'>\n",
      "<re.Match object; span=(3624, 3636), match='903-555-9878'>\n",
      "<re.Match object; span=(3714, 3726), match='574-555-3194'>\n",
      "<re.Match object; span=(3802, 3814), match='496-555-7533'>\n",
      "<re.Match object; span=(3887, 3899), match='210-555-3757'>\n",
      "<re.Match object; span=(3971, 3983), match='900-555-9598'>\n",
      "<re.Match object; span=(4056, 4068), match='866-555-9844'>\n",
      "<re.Match object; span=(4140, 4152), match='669-555-7159'>\n",
      "<re.Match object; span=(4225, 4237), match='152-555-7417'>\n",
      "<re.Match object; span=(4317, 4329), match='893-555-9832'>\n",
      "<re.Match object; span=(4407, 4419), match='217-555-7123'>\n",
      "<re.Match object; span=(4498, 4510), match='786-555-6544'>\n",
      "<re.Match object; span=(4588, 4600), match='780-555-2574'>\n",
      "<re.Match object; span=(4676, 4688), match='926-555-8735'>\n",
      "<re.Match object; span=(4762, 4774), match='895-555-3539'>\n",
      "<re.Match object; span=(4859, 4871), match='874-555-3949'>\n",
      "<re.Match object; span=(4945, 4957), match='800-555-2420'>\n",
      "<re.Match object; span=(5034, 5046), match='936-555-6340'>\n",
      "<re.Match object; span=(5123, 5135), match='372-555-9809'>\n",
      "<re.Match object; span=(5210, 5222), match='890-555-5618'>\n",
      "<re.Match object; span=(5292, 5304), match='670-555-3005'>\n",
      "<re.Match object; span=(5382, 5394), match='509-555-5997'>\n",
      "<re.Match object; span=(5475, 5487), match='721-555-5632'>\n",
      "<re.Match object; span=(5566, 5578), match='900-555-3567'>\n",
      "<re.Match object; span=(5656, 5668), match='147-555-6830'>\n",
      "<re.Match object; span=(5745, 5757), match='582-555-3426'>\n",
      "<re.Match object; span=(5830, 5842), match='400-555-1706'>\n",
      "<re.Match object; span=(5921, 5933), match='525-555-1793'>\n",
      "<re.Match object; span=(6011, 6023), match='317-555-6700'>\n",
      "<re.Match object; span=(6099, 6111), match='974-555-8301'>\n",
      "<re.Match object; span=(6189, 6201), match='800-555-3216'>\n",
      "<re.Match object; span=(6273, 6285), match='746-555-4094'>\n",
      "<re.Match object; span=(6360, 6372), match='922-555-1773'>\n",
      "<re.Match object; span=(6445, 6457), match='711-555-4427'>\n",
      "<re.Match object; span=(6530, 6542), match='355-555-1872'>\n",
      "<re.Match object; span=(6619, 6631), match='852-555-6521'>\n",
      "<re.Match object; span=(6711, 6723), match='691-555-5773'>\n",
      "<re.Match object; span=(6803, 6815), match='332-555-5441'>\n",
      "<re.Match object; span=(6889, 6901), match='900-555-7755'>\n",
      "<re.Match object; span=(6971, 6983), match='379-555-3685'>\n",
      "<re.Match object; span=(7061, 7073), match='127-555-9682'>\n",
      "<re.Match object; span=(7152, 7164), match='789-555-7032'>\n",
      "<re.Match object; span=(7243, 7255), match='783-555-5135'>\n",
      "<re.Match object; span=(7336, 7348), match='315-555-6507'>\n",
      "<re.Match object; span=(7427, 7439), match='481-555-5835'>\n",
      "<re.Match object; span=(7515, 7527), match='365-555-8287'>\n",
      "<re.Match object; span=(7607, 7619), match='911-555-7535'>\n",
      "<re.Match object; span=(7693, 7705), match='681-555-2460'>\n",
      "<re.Match object; span=(7779, 7791), match='274-555-9800'>\n",
      "<re.Match object; span=(7864, 7876), match='800-555-1372'>\n",
      "<re.Match object; span=(7953, 7965), match='300-555-7821'>\n",
      "<re.Match object; span=(8043, 8055), match='133-555-3889'>\n",
      "<re.Match object; span=(8129, 8141), match='705-555-6863'>\n",
      "<re.Match object; span=(8218, 8230), match='215-555-9449'>\n",
      "<re.Match object; span=(8309, 8321), match='988-555-6112'>\n",
      "<re.Match object; span=(8395, 8407), match='623-555-3006'>\n",
      "<re.Match object; span=(8479, 8491), match='192-555-4977'>\n",
      "<re.Match object; span=(8564, 8576), match='178-555-4899'>\n",
      "<re.Match object; span=(8648, 8660), match='952-555-3089'>\n",
      "<re.Match object; span=(8741, 8753), match='900-555-6426'>\n"
     ]
    }
   ],
   "source": [
    "pattern = re.compile(r'\\d\\d\\d.\\d\\d\\d.\\d\\d\\d\\d') \n",
    "with open('data.txt', 'r', encoding='utf-8') as f:\n",
    "    contents = f.read()\n",
    "    \n",
    "    matches = pattern.finditer(contents)\n",
    "    for match in matches:\n",
    "        print(match)"
   ]
  },
  {
   "cell_type": "code",
   "execution_count": 32,
   "id": "little-effort",
   "metadata": {},
   "outputs": [
    {
     "name": "stdout",
     "output_type": "stream",
     "text": [
      "<re.Match object; span=(155, 167), match='321-555-4321'>\n",
      "<re.Match object; span=(168, 180), match='123.555.1234'>\n",
      "<re.Match object; span=(194, 206), match='800-555-1234'>\n",
      "<re.Match object; span=(207, 219), match='900-555-1234'>\n"
     ]
    }
   ],
   "source": [
    "pattern = re.compile(r'\\d\\d\\d[-.]\\d\\d\\d[-.]\\d\\d\\d\\d') # '-' or '.' 일 경우만 one character 찾아 냄.[]용도\n",
    "matches = pattern.finditer(text_to_search)\n",
    "for match in matches:\n",
    "    print(match)"
   ]
  },
  {
   "cell_type": "code",
   "execution_count": 34,
   "id": "eleven-virus",
   "metadata": {},
   "outputs": [
    {
     "name": "stdout",
     "output_type": "stream",
     "text": [
      "<re.Match object; span=(194, 206), match='800-555-1234'>\n",
      "<re.Match object; span=(207, 219), match='900-555-1234'>\n"
     ]
    }
   ],
   "source": [
    "pattern = re.compile(r'[89]00[-.]\\d\\d\\d[-.]\\d\\d\\d\\d') \n",
    "matches = pattern.finditer(text_to_search)\n",
    "for match in matches:\n",
    "    print(match)"
   ]
  },
  {
   "cell_type": "code",
   "execution_count": null,
   "id": "decent-party",
   "metadata": {},
   "outputs": [],
   "source": [
    "pattern = re.compile(r'[^a-zA-Z]') # a-z, A-Z로 시작하지 않는 것 찾기"
   ]
  },
  {
   "cell_type": "code",
   "execution_count": 37,
   "id": "parallel-telephone",
   "metadata": {},
   "outputs": [
    {
     "name": "stdout",
     "output_type": "stream",
     "text": [
      "<re.Match object; span=(280, 283), match='cat'>\n",
      "<re.Match object; span=(288, 291), match='mat'>\n",
      "<re.Match object; span=(292, 295), match='dat'>\n"
     ]
    }
   ],
   "source": [
    "pattern = re.compile(r'[^b]at') #b로 시작하지 않는 내용\n",
    "matches = pattern.finditer(text_to_search)\n",
    "for match in matches:\n",
    "    print(match)"
   ]
  },
  {
   "cell_type": "code",
   "execution_count": 38,
   "id": "trying-greene",
   "metadata": {},
   "outputs": [
    {
     "name": "stdout",
     "output_type": "stream",
     "text": [
      "<re.Match object; span=(155, 167), match='321-555-4321'>\n",
      "<re.Match object; span=(168, 180), match='123.555.1234'>\n",
      "<re.Match object; span=(194, 206), match='800-555-1234'>\n",
      "<re.Match object; span=(207, 219), match='900-555-1234'>\n"
     ]
    }
   ],
   "source": [
    "pattern = re.compile(r'\\d{3}[-.]\\d{3}[-.]\\d{4}') # 갯수 지정\n",
    "matches = pattern.finditer(text_to_search)\n",
    "for match in matches:\n",
    "    print(match)"
   ]
  },
  {
   "cell_type": "code",
   "execution_count": 40,
   "id": "expressed-aircraft",
   "metadata": {},
   "outputs": [
    {
     "name": "stdout",
     "output_type": "stream",
     "text": [
      "<re.Match object; span=(221, 226), match='Mr. S'>\n",
      "<re.Match object; span=(233, 237), match='Mr S'>\n",
      "<re.Match object; span=(265, 270), match='Mr. T'>\n"
     ]
    }
   ],
   "source": [
    "pattern = re.compile(r'Mr\\.?\\s[A-Z]') # ','이 ? 없거나 하나가 있거나 \\s 스페이스 \n",
    "matches = pattern.finditer(text_to_search)\n",
    "for match in matches:\n",
    "    print(match)"
   ]
  },
  {
   "cell_type": "code",
   "execution_count": 41,
   "id": "partial-coating",
   "metadata": {},
   "outputs": [
    {
     "name": "stdout",
     "output_type": "stream",
     "text": [
      "<re.Match object; span=(221, 232), match='Mr. Schafer'>\n",
      "<re.Match object; span=(233, 241), match='Mr Smith'>\n"
     ]
    }
   ],
   "source": [
    "pattern = re.compile(r'Mr\\.?\\s[A-Z]\\w+') # word one or more\n",
    "matches = pattern.finditer(text_to_search)\n",
    "for match in matches:\n",
    "    print(match)"
   ]
  },
  {
   "cell_type": "code",
   "execution_count": 42,
   "id": "brazilian-negative",
   "metadata": {},
   "outputs": [
    {
     "name": "stdout",
     "output_type": "stream",
     "text": [
      "<re.Match object; span=(221, 232), match='Mr. Schafer'>\n",
      "<re.Match object; span=(233, 241), match='Mr Smith'>\n",
      "<re.Match object; span=(265, 270), match='Mr. T'>\n"
     ]
    }
   ],
   "source": [
    "pattern = re.compile(r'Mr\\.?\\s[A-Z]\\w*') # word 없거나 있거나 or more\n",
    "matches = pattern.finditer(text_to_search)\n",
    "for match in matches:\n",
    "    print(match)"
   ]
  },
  {
   "cell_type": "code",
   "execution_count": 43,
   "id": "trying-physiology",
   "metadata": {},
   "outputs": [
    {
     "name": "stdout",
     "output_type": "stream",
     "text": [
      "<re.Match object; span=(221, 232), match='Mr. Schafer'>\n",
      "<re.Match object; span=(233, 241), match='Mr Smith'>\n",
      "<re.Match object; span=(242, 250), match='Ms Davis'>\n",
      "<re.Match object; span=(251, 264), match='Mrs. Robinson'>\n",
      "<re.Match object; span=(265, 270), match='Mr. T'>\n"
     ]
    }
   ],
   "source": [
    "pattern = re.compile(r'M(r|s|rs)\\.?\\s[A-Z]\\w*') # 그룹 ( | ) or (|) r or s or rs\n",
    "matches = pattern.finditer(text_to_search)\n",
    "for match in matches:\n",
    "    print(match)"
   ]
  },
  {
   "cell_type": "code",
   "execution_count": 49,
   "id": "finished-personal",
   "metadata": {},
   "outputs": [
    {
     "name": "stdout",
     "output_type": "stream",
     "text": [
      "<re.Match object; span=(221, 232), match='Mr. Schafer'>\n",
      "<re.Match object; span=(233, 241), match='Mr Smith'>\n",
      "<re.Match object; span=(242, 250), match='Ms Davis'>\n",
      "<re.Match object; span=(251, 264), match='Mrs. Robinson'>\n",
      "<re.Match object; span=(265, 270), match='Mr. T'>\n"
     ]
    }
   ],
   "source": [
    "pattern = re.compile(r'(Mr|Ms|Mrs)\\.?\\s[A-Z]\\w*') # 좀 더 명확하게 보임\n",
    "matches = pattern.finditer(text_to_search)\n",
    "for match in matches:\n",
    "    print(match)"
   ]
  },
  {
   "cell_type": "code",
   "execution_count": 50,
   "id": "marked-wedding",
   "metadata": {},
   "outputs": [
    {
     "name": "stdout",
     "output_type": "stream",
     "text": [
      "Mr\n",
      "Mr\n",
      "Ms\n",
      "Mrs\n",
      "Mr\n"
     ]
    }
   ],
   "source": [
    "pattern = re.compile(r'(Mr|Ms|Mrs)\\.?\\s[A-Z]\\w*') # 좀 더 명확하게 보임\n",
    "matches = pattern.findall(text_to_search) # findall returns list match group only\n",
    "for match in matches:\n",
    "    print(match)"
   ]
  },
  {
   "cell_type": "code",
   "execution_count": 51,
   "id": "popular-shoulder",
   "metadata": {},
   "outputs": [
    {
     "name": "stdout",
     "output_type": "stream",
     "text": [
      "321-555-4321\n",
      "123.555.1234\n",
      "123*555*1234\n",
      "800-555-1234\n",
      "900-555-1234\n"
     ]
    }
   ],
   "source": [
    "pattern = re.compile(r'\\d{3}.\\d{3}.\\d{4}') \n",
    "matches = pattern.findall(text_to_search) # findall returns list match group 0\n",
    "for match in matches:\n",
    "    print(match)"
   ]
  },
  {
   "cell_type": "code",
   "execution_count": 54,
   "id": "synthetic-rebound",
   "metadata": {},
   "outputs": [
    {
     "name": "stdout",
     "output_type": "stream",
     "text": [
      "<re.Match object; span=(0, 5), match='Start'>\n"
     ]
    }
   ],
   "source": [
    "sentence = 'Start a sentence and then bring it to an end'\n",
    "pattern = re.compile(r'Start') # \n",
    "matches = pattern.match(sentence) # match 맨 처음일 때만 찾아 줌\n",
    "print(matches)"
   ]
  },
  {
   "cell_type": "code",
   "execution_count": 57,
   "id": "verbal-faith",
   "metadata": {},
   "outputs": [
    {
     "name": "stdout",
     "output_type": "stream",
     "text": [
      "None\n"
     ]
    }
   ],
   "source": [
    "sentence = 'Start a sentence and then bring it to an end'\n",
    "pattern = re.compile(r'sentence') # \n",
    "matches = pattern.match(sentence) # match 맨 처음일 때만 찾기 때문에 None\n",
    "print(matches)"
   ]
  },
  {
   "cell_type": "code",
   "execution_count": null,
   "id": "increased-basic",
   "metadata": {},
   "outputs": [],
   "source": [
    "re.search(r\"\\bis\\b\", String).start()"
   ]
  },
  {
   "cell_type": "code",
   "execution_count": 56,
   "id": "front-dependence",
   "metadata": {},
   "outputs": [
    {
     "name": "stdout",
     "output_type": "stream",
     "text": [
      "<re.Match object; span=(8, 16), match='sentence'>\n"
     ]
    }
   ],
   "source": [
    "sentence = 'Start a sentence and then bring it to an end'\n",
    "pattern = re.compile(r'sentence') # \n",
    "matches = pattern.search(sentence) # search이용\n",
    "print(matches)"
   ]
  },
  {
   "cell_type": "code",
   "execution_count": 64,
   "id": "comic-violation",
   "metadata": {},
   "outputs": [
    {
     "name": "stdout",
     "output_type": "stream",
     "text": [
      "8\n",
      "16\n",
      "(8, 16)\n"
     ]
    }
   ],
   "source": [
    "sentence = 'Start a sentence and then bring it to an end'\n",
    "pattern = re.compile(r'sentence') # \n",
    "matches = pattern.search(sentence)\n",
    "print(matches.start()) # 시작 location 찾기\n",
    "print(matches.end()) # end location 찾기\n",
    "print(matches.span()) # start, end location 찾기"
   ]
  },
  {
   "cell_type": "code",
   "execution_count": 61,
   "id": "american-seating",
   "metadata": {},
   "outputs": [
    {
     "name": "stdout",
     "output_type": "stream",
     "text": [
      "<re.Match object; span=(0, 5), match='Start'>\n"
     ]
    }
   ],
   "source": [
    "sentence = 'Start a sentence and then bring it to an end'\n",
    "pattern = re.compile(r'STArt', re.IGNORECASE) # Start에서 대소문자 관계없이 찾음.\n",
    "matches = pattern.search(sentence) # search이용\n",
    "print(matches)"
   ]
  },
  {
   "cell_type": "code",
   "execution_count": 48,
   "id": "incomplete-exception",
   "metadata": {},
   "outputs": [
    {
     "name": "stdout",
     "output_type": "stream",
     "text": [
      "<re.Match object; span=(1, 23), match='https://www.google.com'>\n",
      "<re.Match object; span=(24, 42), match='http://coreyms.com'>\n",
      "<re.Match object; span=(43, 62), match='https://youtube.com'>\n",
      "<re.Match object; span=(63, 83), match='https://www.nasa.gov'>\n"
     ]
    }
   ],
   "source": [
    "import re\n",
    "\n",
    "urls = '''\n",
    "https://www.google.com\n",
    "http://coreyms.com\n",
    "https://youtube.com\n",
    "https://www.nasa.gov\n",
    "'''\n",
    "\n",
    "pattern = re.compile(r'https?://(www\\.)?(\\w+)(\\.\\w+)')\n",
    "\n",
    "matches = pattern.finditer(urls)\n",
    "\n",
    "for match in matches:\n",
    "    print(match)"
   ]
  },
  {
   "cell_type": "code",
   "execution_count": 46,
   "id": "regulation-compression",
   "metadata": {},
   "outputs": [
    {
     "name": "stdout",
     "output_type": "stream",
     "text": [
      "https://www.google.com\n",
      "http://coreyms.com\n",
      "https://youtube.com\n",
      "https://www.nasa.gov\n"
     ]
    }
   ],
   "source": [
    "import re\n",
    "\n",
    "urls = '''\n",
    "https://www.google.com\n",
    "http://coreyms.com\n",
    "https://youtube.com\n",
    "https://www.nasa.gov\n",
    "'''\n",
    "\n",
    "pattern = re.compile(r'https?://(www\\.)?(\\w+)(\\.\\w+)')\n",
    "\n",
    "matches = pattern.finditer(urls)\n",
    "\n",
    "for match in matches:\n",
    "    print(match.group(0))"
   ]
  },
  {
   "cell_type": "code",
   "execution_count": null,
   "id": "christian-dominican",
   "metadata": {},
   "outputs": [],
   "source": [
    "import re\n",
    "\n",
    "urls = '''\n",
    "https://www.google.com\n",
    "http://coreyms.com\n",
    "https://youtube.com\n",
    "https://www.nasa.gov\n",
    "'''\n",
    "\n",
    "pattern = re.compile(r'https?://(www\\.)?(\\w+)(\\.\\w+)')\n",
    "\n",
    "subbed_urls = pattern.sub(r'\\2\\3', urls) # ㅕurls에서 그룹 2, 3과 match 되는 항목을 찾음\n",
    "\n",
    "print(subbed_urls)\n",
    "\n",
    "# matches = pattern.finditer(urls)\n",
    "\n",
    "# for match in matches:\n",
    "#     print(match.group(3))"
   ]
  },
  {
   "cell_type": "code",
   "execution_count": 17,
   "id": "wanted-boutique",
   "metadata": {},
   "outputs": [],
   "source": [
    "pattern = re.compile(r'https?://[a-xA-Z]{4}.[a-xA-Z]{9}.[a-xA-Z]{3}/[a-xA-Z]{5}/[a-xA-Z]{6}/\\?\\w*=[A-Z]\\d{7}')"
   ]
  },
  {
   "cell_type": "code",
   "execution_count": 18,
   "id": "understanding-mechanism",
   "metadata": {},
   "outputs": [],
   "source": [
    "sentence = 'searchModule.OnClickDetail(\\'http://tour.interpark.com/goods/detail/?BaseGoodsCd=A3015008\\''"
   ]
  },
  {
   "cell_type": "code",
   "execution_count": 36,
   "id": "portable-knitting",
   "metadata": {},
   "outputs": [],
   "source": [
    "pattern = re.compile(r'https?://[a-xA-Z./]{32}\\?\\w*=[A-Z]\\d{7}')\n"
   ]
  },
  {
   "cell_type": "code",
   "execution_count": 49,
   "id": "stylish-syria",
   "metadata": {},
   "outputs": [],
   "source": [
    "match = pattern.findall(sentence)"
   ]
  },
  {
   "cell_type": "code",
   "execution_count": 51,
   "id": "technological-animal",
   "metadata": {},
   "outputs": [
    {
     "data": {
      "text/plain": [
       "'http://tour.interpark.com/goods/detail/?BaseGoodsCd=A3015008'"
      ]
     },
     "execution_count": 51,
     "metadata": {},
     "output_type": "execute_result"
    }
   ],
   "source": [
    "match[0]"
   ]
  },
  {
   "cell_type": "code",
   "execution_count": 45,
   "id": "automatic-source",
   "metadata": {},
   "outputs": [
    {
     "name": "stdout",
     "output_type": "stream",
     "text": [
      "http://tour.interpark.com/goods/detail/?BaseGoodsCd=A3015008\n"
     ]
    }
   ],
   "source": [
    "for i in match:\n",
    "    print(i)"
   ]
  },
  {
   "cell_type": "code",
   "execution_count": 52,
   "id": "suspected-writer",
   "metadata": {},
   "outputs": [],
   "source": [
    "pattern.fullmatch(sentence)"
   ]
  },
  {
   "cell_type": "code",
   "execution_count": 40,
   "id": "silent-metro",
   "metadata": {},
   "outputs": [
    {
     "data": {
      "text/plain": [
       "['__class__',\n",
       " '__class_getitem__',\n",
       " '__copy__',\n",
       " '__deepcopy__',\n",
       " '__delattr__',\n",
       " '__dir__',\n",
       " '__doc__',\n",
       " '__eq__',\n",
       " '__format__',\n",
       " '__ge__',\n",
       " '__getattribute__',\n",
       " '__gt__',\n",
       " '__hash__',\n",
       " '__init__',\n",
       " '__init_subclass__',\n",
       " '__le__',\n",
       " '__lt__',\n",
       " '__ne__',\n",
       " '__new__',\n",
       " '__reduce__',\n",
       " '__reduce_ex__',\n",
       " '__repr__',\n",
       " '__setattr__',\n",
       " '__sizeof__',\n",
       " '__str__',\n",
       " '__subclasshook__',\n",
       " 'findall',\n",
       " 'finditer',\n",
       " 'flags',\n",
       " 'fullmatch',\n",
       " 'groupindex',\n",
       " 'groups',\n",
       " 'match',\n",
       " 'pattern',\n",
       " 'scanner',\n",
       " 'search',\n",
       " 'split',\n",
       " 'sub',\n",
       " 'subn']"
      ]
     },
     "execution_count": 40,
     "metadata": {},
     "output_type": "execute_result"
    }
   ],
   "source": [
    "dir(pattern)"
   ]
  },
  {
   "cell_type": "code",
   "execution_count": 34,
   "id": "senior-navigation",
   "metadata": {},
   "outputs": [
    {
     "name": "stdout",
     "output_type": "stream",
     "text": [
      "http://tour.interpark.com/goods/detail/?BaseGoodsCd=A301500\n"
     ]
    }
   ],
   "source": [
    "for i in match:\n",
    "    print(i)"
   ]
  },
  {
   "cell_type": "code",
   "execution_count": 25,
   "id": "hydraulic-attention",
   "metadata": {},
   "outputs": [
    {
     "data": {
      "text/plain": [
       "32"
      ]
     },
     "execution_count": 25,
     "metadata": {},
     "output_type": "execute_result"
    }
   ],
   "source": [
    "a = 'tour.interpark.com/goods/detail/'\n",
    "len(a)"
   ]
  },
  {
   "cell_type": "code",
   "execution_count": null,
   "id": "digital-transcription",
   "metadata": {},
   "outputs": [],
   "source": []
  }
 ],
 "metadata": {
  "kernelspec": {
   "display_name": "Python 3",
   "language": "python",
   "name": "python3"
  },
  "language_info": {
   "codemirror_mode": {
    "name": "ipython",
    "version": 3
   },
   "file_extension": ".py",
   "mimetype": "text/x-python",
   "name": "python",
   "nbconvert_exporter": "python",
   "pygments_lexer": "ipython3",
   "version": "3.9.1"
  }
 },
 "nbformat": 4,
 "nbformat_minor": 5
}
