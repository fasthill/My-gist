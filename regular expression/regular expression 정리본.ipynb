{
 "cells": [
  {
   "cell_type": "markdown",
   "id": "516a425e",
   "metadata": {},
   "source": [
    "### [regex101](https://regex101.com/)\n",
    "동작 설명이 잘되어 있음."
   ]
  },
  {
   "cell_type": "markdown",
   "id": "dc0b3c56",
   "metadata": {},
   "source": [
    "###  [Pythex: a Python regular expression editor](https://pythex.org/) \n",
    "#### Pythex is a real-time regular expression editor for Python, a quick way to test your regular expressions."
   ]
  },
  {
   "cell_type": "markdown",
   "id": "fd3100ad",
   "metadata": {},
   "source": [
    "### [PyRegex: Your Python Regular Expression's Best Buddy](http://www.pyregex.com/)"
   ]
  },
  {
   "cell_type": "code",
   "execution_count": 154,
   "id": "da608d8d",
   "metadata": {},
   "outputs": [],
   "source": [
    "import re"
   ]
  },
  {
   "cell_type": "markdown",
   "id": "416642a9",
   "metadata": {},
   "source": [
    "#### metacharacter : \n",
    ". ^ $ * + ? { } [ ] \\ | ( ) <br>"
   ]
  },
  {
   "cell_type": "markdown",
   "id": "288575ec",
   "metadata": {},
   "source": [
    "[ ] 안에서는 특수 문자 역할을 하지 못함"
   ]
  },
  {
   "cell_type": "markdown",
   "id": "018af072",
   "metadata": {},
   "source": [
    "[^5] -> will match any character except '5'. [5^] will match either a '5' or a '^'."
   ]
  },
  {
   "cell_type": "code",
   "execution_count": 11,
   "id": "cd2e93b8",
   "metadata": {},
   "outputs": [
    {
     "data": {
      "text/plain": [
       "<re.Match object; span=(0, 7), match='abcbbdb'>"
      ]
     },
     "execution_count": 11,
     "metadata": {},
     "output_type": "execute_result"
    }
   ],
   "source": [
    "p = re.compile('a[bcd]*b')\n",
    "p.match('abcbbdba')"
   ]
  },
  {
   "cell_type": "code",
   "execution_count": 10,
   "id": "5f4f0558",
   "metadata": {},
   "outputs": [
    {
     "data": {
      "text/plain": [
       "<re.Match object; span=(0, 5), match=\"'uabc\">"
      ]
     },
     "execution_count": 10,
     "metadata": {},
     "output_type": "execute_result"
    }
   ],
   "source": [
    "p = re.compile(\"^'u[a-z]*\")\n",
    "p.match(\"'uabc de'\")"
   ]
  },
  {
   "cell_type": "code",
   "execution_count": 7,
   "id": "418b4f47",
   "metadata": {},
   "outputs": [
    {
     "data": {
      "text/plain": [
       "<re.Match object; span=(0, 5), match='abcde'>"
      ]
     },
     "execution_count": 7,
     "metadata": {},
     "output_type": "execute_result"
    }
   ],
   "source": [
    "pattern = re.compile(\"^[a-zA-Z0-9_]*\")\n",
    "pattern.match('abcde fgh')"
   ]
  },
  {
   "cell_type": "code",
   "execution_count": 8,
   "id": "f08cc3f5",
   "metadata": {},
   "outputs": [
    {
     "data": {
      "text/plain": [
       "<re.Match object; span=(0, 5), match='abcde'>"
      ]
     },
     "execution_count": 8,
     "metadata": {},
     "output_type": "execute_result"
    }
   ],
   "source": [
    "# \\w is equivalent to [A-Za-z0-9_] \n",
    "pattern = re.compile(\"^\\w*\")\n",
    "pattern.match('abcde fgh')"
   ]
  },
  {
   "cell_type": "markdown",
   "id": "e978e94b",
   "metadata": {},
   "source": [
    "\\d is equivalent to the class [0-9].\n",
    "\n",
    "\\D is equivalent to the class [^0-9].\n",
    "\n",
    "\\s is equivalent to the class [ \\t\\n\\r\\f\\v].\n",
    "\n",
    "\\S is equivalent to the class [^ \\t\\n\\r\\f\\v].\n",
    "\n",
    "\\w is equivalent to the class [a-zA-Z0-9_].\n",
    "\n",
    "\\W is equivalent to the class [^a-zA-Z0-9_]."
   ]
  },
  {
   "cell_type": "markdown",
   "id": "5e5bf201",
   "metadata": {},
   "source": [
    "[\\s,.] is a character class that will match any whitespace character, or ',' or '.'."
   ]
  },
  {
   "cell_type": "code",
   "execution_count": 13,
   "id": "88a9149b",
   "metadata": {},
   "outputs": [],
   "source": [
    "p = re.compile('ab*')\n",
    "p = re.compile('ab*', re.IGNORECASE)"
   ]
  },
  {
   "cell_type": "markdown",
   "id": "784312eb",
   "metadata": {},
   "source": [
    "### Python’s raw string notation for regular expressions\n",
    "backslashes are not handled in any special way in a string literal prefixed with 'r', so r\"\\n\" is a two-character string containing '\\' and 'n', while \"\\n\" is a one-character string containing a newline. Regular expressions will often be written in Python code using this raw string notation.\n",
    "#### <span style='color:red'> r'\\n' == '\\\\' + 'n' while '\\n' == one character string </span>"
   ]
  },
  {
   "cell_type": "markdown",
   "id": "2ec4a610",
   "metadata": {},
   "source": [
    "### Performing Matches"
   ]
  },
  {
   "cell_type": "markdown",
   "id": "c85710c5",
   "metadata": {},
   "source": [
    "<table border=\"1\">\n",
    "<th>Method/Attribute</th>\n",
    "<th>Purpose</th>\n",
    "<tr align =\"center\"><!-- 1번째 줄 시작 -->\n",
    "    <td>match()</td>\n",
    "    <td>Determine if the RE matches at the beginning of the string.</td>\n",
    "</tr><!-- 1번째 줄 끝 -->\n",
    "<tr align =\"center\"><!-- 2번째 줄 시작 -->\n",
    "    <td>search()</td>\n",
    "    <td>Scan through a string, looking for any location where this RE matches.</td>\n",
    "<tr align =\"center\"><!-- 3번째 줄 시작 -->\n",
    "    <td>findall()</td>\n",
    "    <td>Find all substrings where the RE matches, and returns them as a list.</td>\n",
    "</tr><!-- 3번째 줄 끝 -->\n",
    "<tr align =\"center\"><!-- 4번째 줄 시작 -->\n",
    "    <td>finditer()</td>\n",
    "    <td>Find all substrings where the RE matches, and returns them as an iterator.</td>\n",
    "</tr><!-- 4번째 줄 끝 -->\n",
    "\n",
    "</table>\n",
    "\n",
    "match() and search() return <span style='color:red'>None</span> if no match can be found. "
   ]
  },
  {
   "cell_type": "code",
   "execution_count": 20,
   "id": "a477de64",
   "metadata": {},
   "outputs": [
    {
     "name": "stdout",
     "output_type": "stream",
     "text": [
      "None\n"
     ]
    }
   ],
   "source": [
    "p = re.compile('[a-z]+')\n",
    "print(p.match(\"\"))"
   ]
  },
  {
   "cell_type": "code",
   "execution_count": 18,
   "id": "24ca9beb",
   "metadata": {},
   "outputs": [
    {
     "data": {
      "text/plain": [
       "<re.Match object; span=(0, 5), match='tempo'>"
      ]
     },
     "execution_count": 18,
     "metadata": {},
     "output_type": "execute_result"
    }
   ],
   "source": [
    "m = p.match('tempo')\n",
    "m"
   ]
  },
  {
   "cell_type": "markdown",
   "id": "173cfb01",
   "metadata": {},
   "source": [
    "<table border=\"1\">\n",
    "<th>Method/Attribute</th>\n",
    "<th>Purpose</th>\n",
    "<tr align =\"center\"><!-- 1번째 줄 시작 -->\n",
    "    <td>group()</td>\n",
    "    <td>Return the string matched by the RE</td>\n",
    "</tr><!-- 1번째 줄 끝 -->\n",
    "<tr align =\"center\"><!-- 2번째 줄 시작 -->\n",
    "    <td>start()</td>\n",
    "    <td>Return the starting position of the match</td>\n",
    "<tr align =\"center\"><!-- 3번째 줄 시작 -->\n",
    "    <td>end()</td>\n",
    "    <td>Return the ending position of the match</td>\n",
    "</tr><!-- 3번째 줄 끝 -->\n",
    "<tr align =\"center\"><!-- 4번째 줄 시작 -->\n",
    "    <td>span()</td>\n",
    "    <td>Return a tuple containing the (start, end) positions of the match</td>\n",
    "</tr><!-- 4번째 줄 끝 -->\n",
    "\n",
    "</table>"
   ]
  },
  {
   "cell_type": "code",
   "execution_count": 21,
   "id": "ad226c3f",
   "metadata": {},
   "outputs": [
    {
     "data": {
      "text/plain": [
       "'tempo'"
      ]
     },
     "execution_count": 21,
     "metadata": {},
     "output_type": "execute_result"
    }
   ],
   "source": [
    "m.group()"
   ]
  },
  {
   "cell_type": "code",
   "execution_count": 22,
   "id": "b7dae564",
   "metadata": {},
   "outputs": [
    {
     "data": {
      "text/plain": [
       "(0, 5)"
      ]
     },
     "execution_count": 22,
     "metadata": {},
     "output_type": "execute_result"
    }
   ],
   "source": [
    "m.start(), m.end()"
   ]
  },
  {
   "cell_type": "code",
   "execution_count": 23,
   "id": "30607300",
   "metadata": {},
   "outputs": [
    {
     "data": {
      "text/plain": [
       "(0, 5)"
      ]
     },
     "execution_count": 23,
     "metadata": {},
     "output_type": "execute_result"
    }
   ],
   "source": [
    "m.span()"
   ]
  },
  {
   "cell_type": "code",
   "execution_count": 24,
   "id": "62bfd2d3",
   "metadata": {},
   "outputs": [
    {
     "name": "stdout",
     "output_type": "stream",
     "text": [
      "<re.Match object; span=(4, 11), match='message'>\n"
     ]
    }
   ],
   "source": [
    "m = p.search('::: message'); print(m)"
   ]
  },
  {
   "cell_type": "code",
   "execution_count": 25,
   "id": "73327758",
   "metadata": {},
   "outputs": [
    {
     "data": {
      "text/plain": [
       "('message', (4, 11))"
      ]
     },
     "execution_count": 25,
     "metadata": {},
     "output_type": "execute_result"
    }
   ],
   "source": [
    "m.group(), m.span()"
   ]
  },
  {
   "cell_type": "code",
   "execution_count": 42,
   "id": "1e72d030",
   "metadata": {},
   "outputs": [
    {
     "name": "stdout",
     "output_type": "stream",
     "text": [
      "No match\n"
     ]
    }
   ],
   "source": [
    "p = re.compile('go')\n",
    "m = p.match('string goes here') # search와 차이점\n",
    "# The match() function only checks if the RE matches at the beginning of the string \n",
    "# while search() will scan forward through the string for a match.\n",
    "if m:\n",
    "    print('Match found: ', m.group())\n",
    "else:\n",
    "    print('No match')"
   ]
  },
  {
   "cell_type": "code",
   "execution_count": 107,
   "id": "c3ddc54b",
   "metadata": {},
   "outputs": [
    {
     "name": "stdout",
     "output_type": "stream",
     "text": [
      "Match found:  go\n"
     ]
    }
   ],
   "source": [
    "p = re.compile('go')\n",
    "m = p.search('string goes here')  # match와 차이점\n",
    "if m:\n",
    "    print('Match found: ', m.group())\n",
    "else:\n",
    "    print('No match')"
   ]
  },
  {
   "cell_type": "code",
   "execution_count": 28,
   "id": "d1472d61",
   "metadata": {},
   "outputs": [],
   "source": [
    "p.match( 'string goes here' )"
   ]
  },
  {
   "cell_type": "code",
   "execution_count": 40,
   "id": "c14a23e2",
   "metadata": {},
   "outputs": [
    {
     "data": {
      "text/plain": [
       "['12', '11', '10']"
      ]
     },
     "execution_count": 40,
     "metadata": {},
     "output_type": "execute_result"
    }
   ],
   "source": [
    "p = re.compile(r'\\d+')\n",
    "p.findall('12 drummers drumming, 11 pipers piping, 10 lords a-leaping')"
   ]
  },
  {
   "cell_type": "code",
   "execution_count": 41,
   "id": "63749a23",
   "metadata": {},
   "outputs": [
    {
     "name": "stdout",
     "output_type": "stream",
     "text": [
      "(0, 2)\n",
      "(22, 24)\n",
      "(40, 42)\n"
     ]
    }
   ],
   "source": [
    "iterator = p.finditer('12 drummers drumming, 11 pipers piping, 10 lords a-leaping')\n",
    "iterator  \n",
    "\n",
    "for match in iterator:\n",
    "    print(match.span())"
   ]
  },
  {
   "cell_type": "code",
   "execution_count": 43,
   "id": "6db25c88",
   "metadata": {},
   "outputs": [
    {
     "data": {
      "text/plain": [
       "<re.Match object; span=(0, 5), match='From '>"
      ]
     },
     "execution_count": 43,
     "metadata": {},
     "output_type": "execute_result"
    }
   ],
   "source": [
    "re.match(r'From\\s+', 'From amk Thu May 14 19:12:10 1998')  "
   ]
  },
  {
   "cell_type": "code",
   "execution_count": null,
   "id": "7af58034",
   "metadata": {},
   "outputs": [],
   "source": [
    "p = re.compile('ab*', re.IGNORECASE)\n",
    "p = re.compile('.*', re.DOTALL) # include newlines\n",
    "p = re.compile('.*', re.MULTILINE) # multiline matching"
   ]
  },
  {
   "cell_type": "markdown",
   "id": "e620b9d0",
   "metadata": {},
   "source": [
    "| : Alternation, or the “or” operator. <br>\n",
    "^ : Matches at the beginning of lines"
   ]
  },
  {
   "cell_type": "code",
   "execution_count": 44,
   "id": "2aca3f6f",
   "metadata": {},
   "outputs": [
    {
     "name": "stdout",
     "output_type": "stream",
     "text": [
      "<re.Match object; span=(0, 4), match='From'>\n"
     ]
    }
   ],
   "source": [
    "print(re.search('^From', 'From Here to Eternity')) "
   ]
  },
  {
   "cell_type": "code",
   "execution_count": 45,
   "id": "a4c6000e",
   "metadata": {},
   "outputs": [
    {
     "name": "stdout",
     "output_type": "stream",
     "text": [
      "None\n"
     ]
    }
   ],
   "source": [
    "print(re.search('^From', 'Reciting From Memory'))"
   ]
  },
  {
   "cell_type": "markdown",
   "id": "d4ba1fb8",
   "metadata": {},
   "source": [
    "$ : Matches at the end of a line"
   ]
  },
  {
   "cell_type": "code",
   "execution_count": 46,
   "id": "6eb5a7be",
   "metadata": {},
   "outputs": [
    {
     "name": "stdout",
     "output_type": "stream",
     "text": [
      "<re.Match object; span=(6, 7), match='}'>\n"
     ]
    }
   ],
   "source": [
    "print(re.search('}$', '{block}')) "
   ]
  },
  {
   "cell_type": "code",
   "execution_count": 47,
   "id": "fd2953b6",
   "metadata": {},
   "outputs": [
    {
     "name": "stdout",
     "output_type": "stream",
     "text": [
      "None\n"
     ]
    }
   ],
   "source": [
    "print(re.search('}$', '{block} '))"
   ]
  },
  {
   "cell_type": "code",
   "execution_count": 48,
   "id": "defeef58",
   "metadata": {},
   "outputs": [
    {
     "name": "stdout",
     "output_type": "stream",
     "text": [
      "<re.Match object; span=(6, 7), match='}'>\n"
     ]
    }
   ],
   "source": [
    "print(re.search('}$', '{block}\\n'))"
   ]
  },
  {
   "cell_type": "markdown",
   "id": "3feaa0a1",
   "metadata": {},
   "source": [
    "\\A : Matches only at the start of the string. When not in MULTILINE mode, <span style='color:red'> \\A and ^ are effectively the same. In MULTILINE mode, they’re different</span>: \\A still matches only at the beginning of the string, but ^ may match at any location inside the string that follows a newline character."
   ]
  },
  {
   "cell_type": "markdown",
   "id": "4cd69277",
   "metadata": {},
   "source": [
    "\\b : Word boundary. This is a zero-width assertion that matches only at the beginning or end of a word."
   ]
  },
  {
   "cell_type": "code",
   "execution_count": 49,
   "id": "c509ec06",
   "metadata": {},
   "outputs": [
    {
     "name": "stdout",
     "output_type": "stream",
     "text": [
      "<re.Match object; span=(3, 8), match='class'>\n"
     ]
    }
   ],
   "source": [
    "p = re.compile(r'\\bclass\\b')\n",
    "print(p.search('no class at all'))"
   ]
  },
  {
   "cell_type": "code",
   "execution_count": 50,
   "id": "a0ba4fa4",
   "metadata": {},
   "outputs": [
    {
     "name": "stdout",
     "output_type": "stream",
     "text": [
      "None\n"
     ]
    }
   ],
   "source": [
    "print(p.search('the declassified algorithm'))"
   ]
  },
  {
   "cell_type": "code",
   "execution_count": 51,
   "id": "4661757c",
   "metadata": {},
   "outputs": [
    {
     "name": "stdout",
     "output_type": "stream",
     "text": [
      "None\n"
     ]
    }
   ],
   "source": [
    "print(p.search('one subclass is'))"
   ]
  },
  {
   "cell_type": "markdown",
   "id": "6afa875c",
   "metadata": {},
   "source": [
    "### Grouping\n",
    "Groups are marked by the '(', ')' metacharacters."
   ]
  },
  {
   "cell_type": "code",
   "execution_count": 67,
   "id": "e76d2379",
   "metadata": {},
   "outputs": [
    {
     "data": {
      "text/plain": [
       "('ababababab', 0, 10, (0, 10))"
      ]
     },
     "execution_count": 67,
     "metadata": {},
     "output_type": "execute_result"
    }
   ],
   "source": [
    "p = re.compile('(ab)*')\n",
    "m = p.match('ababababab')\n",
    "m.group(), m.start(), m.end(), m.span()"
   ]
  },
  {
   "cell_type": "code",
   "execution_count": 68,
   "id": "596440d8",
   "metadata": {},
   "outputs": [
    {
     "data": {
      "text/plain": [
       "('ab',)"
      ]
     },
     "execution_count": 68,
     "metadata": {},
     "output_type": "execute_result"
    }
   ],
   "source": [
    "m.groups()"
   ]
  },
  {
   "cell_type": "code",
   "execution_count": 148,
   "id": "b305a217",
   "metadata": {},
   "outputs": [],
   "source": [
    "p = re.compile('(a(b)c)d')\n",
    "m = p.match('abcd')"
   ]
  },
  {
   "cell_type": "code",
   "execution_count": 149,
   "id": "7769539d",
   "metadata": {},
   "outputs": [
    {
     "data": {
      "text/plain": [
       "('abcd', 'abc', 'b')"
      ]
     },
     "execution_count": 149,
     "metadata": {},
     "output_type": "execute_result"
    }
   ],
   "source": [
    "m.group(0), m.group(1), m.group(2)"
   ]
  },
  {
   "cell_type": "code",
   "execution_count": 152,
   "id": "6f8443fd",
   "metadata": {},
   "outputs": [
    {
     "data": {
      "text/plain": [
       "2"
      ]
     },
     "execution_count": 152,
     "metadata": {},
     "output_type": "execute_result"
    }
   ],
   "source": [
    "len(m.groups())  # 전체를 제외한 group의 갯수\n",
    "# len(m.group()) => 주의 : 첫번째 ('abcd')의 스트링 문자 갯수를 반환함."
   ]
  },
  {
   "cell_type": "code",
   "execution_count": 153,
   "id": "9465a509",
   "metadata": {},
   "outputs": [
    {
     "data": {
      "text/plain": [
       "('abc', 'b')"
      ]
     },
     "execution_count": 153,
     "metadata": {},
     "output_type": "execute_result"
    }
   ],
   "source": [
    "m.groups()"
   ]
  },
  {
   "cell_type": "code",
   "execution_count": 74,
   "id": "8b044552",
   "metadata": {},
   "outputs": [
    {
     "data": {
      "text/plain": [
       "('c',)"
      ]
     },
     "execution_count": 74,
     "metadata": {},
     "output_type": "execute_result"
    }
   ],
   "source": [
    "m = re.match(\"([abc])+\", \"abc\")\n",
    "m.groups()"
   ]
  },
  {
   "cell_type": "code",
   "execution_count": 78,
   "id": "8ef427ec",
   "metadata": {},
   "outputs": [
    {
     "data": {
      "text/plain": [
       "'c'"
      ]
     },
     "execution_count": 78,
     "metadata": {},
     "output_type": "execute_result"
    }
   ],
   "source": [
    "m.group(1)"
   ]
  },
  {
   "cell_type": "code",
   "execution_count": 79,
   "id": "caa36336",
   "metadata": {},
   "outputs": [],
   "source": [
    "m = re.match(\"(?:[abc])+\", \"abc\")"
   ]
  },
  {
   "cell_type": "code",
   "execution_count": 82,
   "id": "faab9441",
   "metadata": {},
   "outputs": [
    {
     "data": {
      "text/plain": [
       "()"
      ]
     },
     "execution_count": 82,
     "metadata": {},
     "output_type": "execute_result"
    }
   ],
   "source": [
    "m.groups()"
   ]
  },
  {
   "cell_type": "markdown",
   "id": "8ce37fa4",
   "metadata": {},
   "source": [
    "The syntax for a named group is one of the Python-specific extensions: (?P<name>...). name is, obviously, the name of the group."
   ]
  },
  {
   "cell_type": "code",
   "execution_count": 84,
   "id": "dc9b43fd",
   "metadata": {},
   "outputs": [
    {
     "data": {
      "text/plain": [
       "'Lots'"
      ]
     },
     "execution_count": 84,
     "metadata": {},
     "output_type": "execute_result"
    }
   ],
   "source": [
    "p = re.compile(r'(?P<word>\\b\\w+\\b)')\n",
    "m = p.search( '(((( Lots of punctuation )))' )\n",
    "m.group('word')"
   ]
  },
  {
   "cell_type": "code",
   "execution_count": 87,
   "id": "5414e890",
   "metadata": {},
   "outputs": [
    {
     "data": {
      "text/plain": [
       "'Lots'"
      ]
     },
     "execution_count": 87,
     "metadata": {},
     "output_type": "execute_result"
    }
   ],
   "source": [
    "m.group(1)"
   ]
  },
  {
   "cell_type": "code",
   "execution_count": 89,
   "id": "45165378",
   "metadata": {},
   "outputs": [
    {
     "data": {
      "text/plain": [
       "{'first': 'Jane', 'last': 'Doe'}"
      ]
     },
     "execution_count": 89,
     "metadata": {},
     "output_type": "execute_result"
    }
   ],
   "source": [
    "m = re.match(r'(?P<first>\\w+) (?P<last>\\w+)', 'Jane Doe')\n",
    "m.groupdict()"
   ]
  },
  {
   "cell_type": "code",
   "execution_count": 91,
   "id": "44f580cd",
   "metadata": {},
   "outputs": [
    {
     "data": {
      "text/plain": [
       "<re.Match object; span=(0, 8), match='Jane Doe'>"
      ]
     },
     "execution_count": 91,
     "metadata": {},
     "output_type": "execute_result"
    }
   ],
   "source": [
    "m"
   ]
  },
  {
   "cell_type": "markdown",
   "id": "b176bbfa",
   "metadata": {},
   "source": [
    "### Modifying Strings"
   ]
  },
  {
   "cell_type": "code",
   "execution_count": 92,
   "id": "c7cdf60a",
   "metadata": {},
   "outputs": [
    {
     "data": {
      "text/plain": [
       "['This', 'is', 'a', 'test', 'short', 'and', 'sweet', 'of', 'split', '']"
      ]
     },
     "execution_count": 92,
     "metadata": {},
     "output_type": "execute_result"
    }
   ],
   "source": [
    "p = re.compile(r'\\W+') \n",
    "# \\W is equivalent to the class [^a-zA-Z0-9_].\n",
    "# the delimiter is any sequence of non-alphanumeric characters.\n",
    "p.split('This is a test, short and sweet, of split().')"
   ]
  },
  {
   "cell_type": "code",
   "execution_count": 93,
   "id": "a896b66d",
   "metadata": {},
   "outputs": [
    {
     "data": {
      "text/plain": [
       "['This', 'is', 'a', 'test, short and sweet, of split().']"
      ]
     },
     "execution_count": 93,
     "metadata": {},
     "output_type": "execute_result"
    }
   ],
   "source": [
    "# .split(string[, maxsplit=0])\n",
    "p.split('This is a test, short and sweet, of split().', 3)"
   ]
  },
  {
   "cell_type": "code",
   "execution_count": 94,
   "id": "4ee292fb",
   "metadata": {},
   "outputs": [
    {
     "data": {
      "text/plain": [
       "['This', 'is a test, short and sweet, of split().']"
      ]
     },
     "execution_count": 94,
     "metadata": {},
     "output_type": "execute_result"
    }
   ],
   "source": [
    "p.split('This is a test, short and sweet, of split().', 1)"
   ]
  },
  {
   "cell_type": "markdown",
   "id": "b8a4fea5",
   "metadata": {},
   "source": [
    "#### delimiter도 필요할 경우 () 사용\n",
    "Sometimes you’re not only interested in what the text between delimiters is, but also need to know what the delimiter was. If capturing parentheses are used in the RE, then their values are also returned as part of the list."
   ]
  },
  {
   "cell_type": "code",
   "execution_count": 97,
   "id": "e5a07aa3",
   "metadata": {},
   "outputs": [],
   "source": [
    "p = re.compile(r'\\W+')\n",
    "p2 = re.compile(r'(\\W+)')"
   ]
  },
  {
   "cell_type": "code",
   "execution_count": 98,
   "id": "74f9cf89",
   "metadata": {},
   "outputs": [
    {
     "data": {
      "text/plain": [
       "['This', 'is', 'a', 'test', '']"
      ]
     },
     "execution_count": 98,
     "metadata": {},
     "output_type": "execute_result"
    }
   ],
   "source": [
    "p.split('This... is a test.')"
   ]
  },
  {
   "cell_type": "code",
   "execution_count": 99,
   "id": "651244ef",
   "metadata": {},
   "outputs": [
    {
     "data": {
      "text/plain": [
       "['This', '... ', 'is', ' ', 'a', ' ', 'test', '.', '']"
      ]
     },
     "execution_count": 99,
     "metadata": {},
     "output_type": "execute_result"
    }
   ],
   "source": [
    "p2.split('This... is a test.')"
   ]
  },
  {
   "cell_type": "code",
   "execution_count": 100,
   "id": "d9ac558b",
   "metadata": {},
   "outputs": [
    {
     "data": {
      "text/plain": [
       "['Words', 'words', 'words', '']"
      ]
     },
     "execution_count": 100,
     "metadata": {},
     "output_type": "execute_result"
    }
   ],
   "source": [
    "re.split(r'[\\W]+', 'Words, words, words.')"
   ]
  },
  {
   "cell_type": "code",
   "execution_count": 101,
   "id": "c23b1820",
   "metadata": {},
   "outputs": [
    {
     "data": {
      "text/plain": [
       "['Words', ', ', 'words', ', ', 'words', '.', '']"
      ]
     },
     "execution_count": 101,
     "metadata": {},
     "output_type": "execute_result"
    }
   ],
   "source": [
    "re.split(r'([\\W]+)', 'Words, words, words.')"
   ]
  },
  {
   "cell_type": "markdown",
   "id": "5dc12217",
   "metadata": {},
   "source": [
    "### Search and Replace"
   ]
  },
  {
   "cell_type": "code",
   "execution_count": 102,
   "id": "8fde3ed2",
   "metadata": {},
   "outputs": [
    {
     "data": {
      "text/plain": [
       "'colour socks and colour shoes'"
      ]
     },
     "execution_count": 102,
     "metadata": {},
     "output_type": "execute_result"
    }
   ],
   "source": [
    "p = re.compile('(blue|white|red)')  # 여기에 해당되는 항목을\n",
    "p.sub('colour', 'blue socks and red shoes') # colour로 바꿔라."
   ]
  },
  {
   "cell_type": "code",
   "execution_count": 103,
   "id": "2fe83ab9",
   "metadata": {},
   "outputs": [
    {
     "data": {
      "text/plain": [
       "'colour socks and red shoes'"
      ]
     },
     "execution_count": 103,
     "metadata": {},
     "output_type": "execute_result"
    }
   ],
   "source": [
    "p.sub('colour', 'blue socks and red shoes', count=1)"
   ]
  },
  {
   "cell_type": "code",
   "execution_count": 104,
   "id": "76102e73",
   "metadata": {},
   "outputs": [
    {
     "data": {
      "text/plain": [
       "('colour socks and colour shoes', 2)"
      ]
     },
     "execution_count": 104,
     "metadata": {},
     "output_type": "execute_result"
    }
   ],
   "source": [
    "p = re.compile('(blue|white|red)')\n",
    "p.subn('colour', 'blue socks and red shoes')  \n",
    "# subn은 몇개가 바뀌었는지 tuple로 알려줌. 2개가 바뀌었음."
   ]
  },
  {
   "cell_type": "code",
   "execution_count": 105,
   "id": "abd9fd18",
   "metadata": {},
   "outputs": [
    {
     "data": {
      "text/plain": [
       "('no colours at all', 0)"
      ]
     },
     "execution_count": 105,
     "metadata": {},
     "output_type": "execute_result"
    }
   ],
   "source": [
    "p.subn('colour', 'no colours at all') # 비뀐 내용이 없음."
   ]
  },
  {
   "cell_type": "code",
   "execution_count": 106,
   "id": "6b50a942",
   "metadata": {},
   "outputs": [
    {
     "data": {
      "text/plain": [
       "'-a-b--d-'"
      ]
     },
     "execution_count": 106,
     "metadata": {},
     "output_type": "execute_result"
    }
   ],
   "source": [
    "p = re.compile('x*')\n",
    "p.sub('-', 'abxd')"
   ]
  },
  {
   "cell_type": "markdown",
   "id": "1c177bfd",
   "metadata": {},
   "source": [
    "### match() versus search()\n",
    "The match() function only checks if the RE matches at the beginning of the string while search() will scan forward through the string for a match. It's important to keep this distinction in mind. Remember, **match()** will only report a successful match which will **start at 0**; if the match wouldn’t start at zero, match() will not report it."
   ]
  },
  {
   "cell_type": "code",
   "execution_count": 108,
   "id": "a6cb61b2",
   "metadata": {},
   "outputs": [
    {
     "name": "stdout",
     "output_type": "stream",
     "text": [
      "(0, 5)\n",
      "None\n"
     ]
    }
   ],
   "source": [
    "print(re.match('super', 'superstition').span())\n",
    "print(re.match('super', 'insuperable'))"
   ]
  },
  {
   "cell_type": "code",
   "execution_count": 109,
   "id": "de2fdf2c",
   "metadata": {},
   "outputs": [
    {
     "name": "stdout",
     "output_type": "stream",
     "text": [
      "(0, 5)\n",
      "(2, 7)\n"
     ]
    }
   ],
   "source": [
    "print(re.search('super', 'superstition').span())\n",
    "print(re.search('super', 'insuperable').span())"
   ]
  },
  {
   "cell_type": "markdown",
   "id": "7c14866b",
   "metadata": {},
   "source": [
    "### Greedy versus Non-Greedy"
   ]
  },
  {
   "cell_type": "code",
   "execution_count": 110,
   "id": "72ca3d40",
   "metadata": {},
   "outputs": [
    {
     "data": {
      "text/plain": [
       "32"
      ]
     },
     "execution_count": 110,
     "metadata": {},
     "output_type": "execute_result"
    }
   ],
   "source": [
    "s = '<html><head><title>Title</title>'\n",
    "len(s)"
   ]
  },
  {
   "cell_type": "code",
   "execution_count": 113,
   "id": "4c863608",
   "metadata": {},
   "outputs": [
    {
     "name": "stdout",
     "output_type": "stream",
     "text": [
      "(0, 32) <html><head><title>Title</title>\n"
     ]
    }
   ],
   "source": [
    "print(re.match('<.*>', s).span(), re.match('<.*>', s).group())  # '.*' 가 마지막까지 matching시킴"
   ]
  },
  {
   "cell_type": "markdown",
   "id": "a9f0eb3a",
   "metadata": {},
   "source": [
    "In this case, the solution is to use the non-greedy qualifiers *?, +?, ??, or {m,n}?, which match as little text as possible. "
   ]
  },
  {
   "cell_type": "code",
   "execution_count": 114,
   "id": "834c0a5d",
   "metadata": {},
   "outputs": [
    {
     "name": "stdout",
     "output_type": "stream",
     "text": [
      "<html>\n"
     ]
    }
   ],
   "source": [
    "print(re.match('<.*?>', s).group())"
   ]
  },
  {
   "cell_type": "code",
   "execution_count": 121,
   "id": "6abbd1b8",
   "metadata": {},
   "outputs": [
    {
     "name": "stdout",
     "output_type": "stream",
     "text": [
      "['<html>', '<head>', '<title>', '</title>']\n"
     ]
    }
   ],
   "source": [
    "print(re.findall('<.*?>', s))"
   ]
  },
  {
   "cell_type": "markdown",
   "id": "0d5a8404",
   "metadata": {},
   "source": [
    "### Using re.VERBOSE\n",
    "For such REs, specifying the re.VERBOSE flag when compiling the regular expression can be helpful, because it allows you to format the regular expression more clearly."
   ]
  },
  {
   "cell_type": "code",
   "execution_count": 115,
   "id": "8c888ef7",
   "metadata": {},
   "outputs": [],
   "source": [
    "pat = re.compile(r\"\"\"\n",
    " \\s*                 # Skip leading whitespace\n",
    " (?P<header>[^:]+)   # Header name\n",
    " \\s* :               # Whitespace, and a colon\n",
    " (?P<value>.*?)      # The header's value -- *? used to\n",
    "                     # lose the following trailing whitespace\n",
    " \\s*$                # Trailing whitespace to end-of-line\n",
    "\"\"\", re.VERBOSE)"
   ]
  },
  {
   "cell_type": "markdown",
   "id": "f02bfcfe",
   "metadata": {},
   "source": [
    "This is far more readable than:"
   ]
  },
  {
   "cell_type": "code",
   "execution_count": 116,
   "id": "e975b356",
   "metadata": {},
   "outputs": [],
   "source": [
    "pat = re.compile(r\"\\s*(?P<header>[^:]+)\\s*:(?P<value>.*?)\\s*$\")"
   ]
  },
  {
   "cell_type": "code",
   "execution_count": null,
   "id": "e48ae3da",
   "metadata": {},
   "outputs": [],
   "source": []
  },
  {
   "cell_type": "markdown",
   "id": "8fe57fa7",
   "metadata": {},
   "source": [
    "숫자만 가능 : /^[0-9]+$/\n",
    "\n",
    "이메일 형식만 가능 : /^([\\w-]+(?:\\.[\\w-]+)*)@((?:[\\w-]+\\.)*\\w[\\w-]{0,66})\\.([a-z]{2,6}(?:\\.[a-z]{2})?)$/\n",
    "\n",
    "한글만 가능 : /^[가-힣]+$/\n",
    "\n",
    "한글,띄어쓰기만 가능 : /^[가-힣\\s]+$/\n",
    "\n",
    "영문만 가능 : /^[a-zA-Z]+$/\n",
    "\n",
    "영문,띄어쓰기만 가능: /^[a-zA-Z\\s]+$/\n",
    "\n",
    "전화번호 형태 : /^[0-9]{2,3}-[0-9]{3,4}-[0-9]{4}$/\n",
    "\n",
    "도메인 형태 : /^(((http(s?))\\:\\/\\/)?)([0-9a-zA-Z\\-]+\\.)+[a-zA-Z]{2,6}(\\:[0-9]+)?(\\/\\S*)?$/\n",
    "\n",
    "도메인 형태 : /^((http(s?))\\:\\/\\/)([0-9a-zA-Z\\-]+\\.)+[a-zA-Z]{2,6}(\\:[0-9]+)?(\\/\\S*)?$/\n",
    "\n",
    "도메인 형태 : /^[^((http(s?))\\:\\/\\/)]([0-9a-zA-Z\\-]+\\.)+[a-zA-Z]{2,6}(\\:[0-9]+)?(\\/\\S*)?$/\n",
    "\n",
    "한글과 영문만 가능 : /^[가-힣a-zA-Z]+$/\n",
    "\n",
    "숫자,알파벳만 가능 : /^[a-zA-Z0-9]+$/\n",
    "\n",
    "주민번호, -까지 포함된 문자열로 검색 : /^(?:[0-9]{2}(?:0[1-9]|1[0-2])(?:0[1-9]|[1,2][0-9]|3[0,1]))-[1-4][0-9]{6}$/\n",
    "\n",
    "출처: https://gocoding.tistory.com/93 [Developer Factory]"
   ]
  },
  {
   "cell_type": "code",
   "execution_count": 155,
   "id": "b6c0868e",
   "metadata": {},
   "outputs": [
    {
     "ename": "SyntaxError",
     "evalue": "(unicode error) 'unicodeescape' codec can't decode bytes in position 4515-4516: truncated \\xXX escape (<ipython-input-155-b320a50004a8>, line 73)",
     "output_type": "error",
     "traceback": [
      "\u001b[1;36m  File \u001b[1;32m\"<ipython-input-155-b320a50004a8>\"\u001b[1;36m, line \u001b[1;32m73\u001b[0m\n\u001b[1;33m    \"\"\"\u001b[0m\n\u001b[1;37m       ^\u001b[0m\n\u001b[1;31mSyntaxError\u001b[0m\u001b[1;31m:\u001b[0m (unicode error) 'unicodeescape' codec can't decode bytes in position 4515-4516: truncated \\xXX escape\n"
     ]
    }
   ],
   "source": [
    "\"\"\"\n",
    "^The\tThe로 시작하는 문자열\n",
    "of despair$\tof despair로 끝나는 문자열\n",
    "^abc$\tabc로 시작하고 abc로 끝나는 문자열 (abc 라는 문자열도 해당됨)\n",
    "notice\tnotice가 들어 있는 문자열\n",
    "\n",
    "ab*\ta 다음에 b가 0개 이상 (a, ab, abbb 등등)\n",
    "ab+\ta 다음에 b가 1개 이상 (ab, abbb 등등)\n",
    "ab?\ta 다음에 b가 있거나 없거나 (ab 또는 a)\n",
    "\n",
    "ab{2}\ta 다음에 b가 2개 있는 문자열 (abb)\n",
    "ab{2,}\ta 다음에 b가 2개 이상 (abb, abbbb 등등)\n",
    "ab{3,5}\ta 다음에 b가 3개에서 5개 사이 (abbb, abbbb, 또는 abbbbb)\n",
    "*, +, ?는 각각 {0,}, {1,}, {0,1}과 같습니다.\n",
    "\n",
    "( )는 문자열을 묶음 처리할 때 사용\n",
    "a(bc)*\ta 다음에 bc가 0개 이상 (묶음 처리)\n",
    "a(bc){1,5}\ta 다음에 bc가 1개에서 5개 사이\n",
    "\n",
    "hi|hello\thi나 hello가 들어 있는 문자열\n",
    "(b|cd)ef\tbef 또는 cdef\n",
    "(a|b)*c\ta와 b가 섞여서 여러번 나타나고 그뒤에 c가 붙어있는 패턴\n",
    "\n",
    ". (점)\t임의의 한 문자\n",
    "^.{3}$\t3문자로만 되어 있는 문자열\n",
    "\n",
    "[ ]\t괄호 안에 있는 내용 중 임의의 한 문자\n",
    "[^ ]\t첫문자로 ^를 쓰면 괄호 내용의 부정. 즉 괄호 안에 포함되지 않는 한 문자\n",
    "[ab]\ta 또는 b (a|b 와 동일한 표현)\n",
    "[a-d]\t소문자 a에서 d까지 (a|b|c|d 또는 [abcd] 와 동일)\n",
    "^[a-zA-Z]\t영문자로 시작하는 문자열\n",
    "[0-9]%\t% 문자 앞에 하나의 숫자가 붙어 있는 패턴\n",
    "%[^a-zA-Z]%\t두 % 문자 사이에 영문자가 없는 패턴\n",
    "\n",
    "특수 문자 자체를 검색하기 및 사용하기\n",
    "\\^\t^\t\\.\t.\n",
    "\\[\t[\t\\$\t$\n",
    "\\(\t(\t\\)\t)\n",
    "\\|\t|\t\\*\t*\n",
    "\\+\t+\t\\?\t?\n",
    "\\{\t{\t\\\\\t\\\n",
    "\\n\t줄넘김 문자\t\\r\t리턴 문자\n",
    "\\w\t알파벳과 _ (언더바)\t\\W\t알파벳과 _ 가 아닌 것\n",
    "\\s\t빈 공간(space)\t\\S\t빈 공간이 아닌 것\n",
    "\\d\t숫자\t\\D\t숫자가 아닌 것\n",
    "\\b\t단어와 단어 사이의 경계\t\\B\t단어 사이의 경계가 아닌 것\n",
    "\\t\tTab 문자\t\\xnn\t16진수 nn에 해당하는 문자\n",
    "[ ] 안에서는 특수 문자가 모두 효력을 잃게 됩니다.\n",
    "\n",
    "검색 + 치환을 위한 하부식(부분식)\n",
    "( )로 둘러싼 부분은 각각 하나의 덩어리로 취급해서,\n",
    "\n",
    "검색된 각각의 ( )안에 해당되는 내용은 변경할 내용에서 $1, $2, .. 등으로 지정해서 쓸 수 있습니다.\n",
    "예제) mp3파일 이름 바꾸기\n",
    "검색 : (.*) - (.*)\\.mp3 .*은 길이에 상관없이 임의의 문자열, \\.은 점\n",
    "치환 : $2 - $1.mp3 앞에서 검색한 ( )안에 해당되는 내용끼리 순서 바꾸기\n",
    "ex) \"제목 - 연주자.mp3\" Þ \"연주자 - 제목.mp3\"\n",
    "앞에서 정의한 하부식을 다시 활용하기 (제가 잘못 이해한 것일 수도 있는데)\n",
    "\\n은 ( ) 하부식 중에서 n번째 하부식을 가리킵니다.\n",
    "예제) (.+)\\1+\n",
    "\\1로 되어 있으니까 첫번째 부분식 (.+)를 가리킵니다. 위 내용을 해석하자면, 일단 (.+)가 있으니까 이에 해당되는 내용을 찾고, \\1+이 있으니까 첫번째 부분식 (.+)와 똑같은 내용이 그 뒤에 1번 이상 있는 문자열을 찾습니다.\n",
    "예제) abab같은 문자열이 위에 해당되는데, 일단 (.+) 즉 임의의 문자열 ab를 찾고 그 뒤에 \\1+로 첫번째 부분식을 다시 1번 이상 있는 것을 찾으니까 뒤의 ab가 이에 해당합니다.\n",
    "\n",
    "\n",
    "변경자 ? 검색 방식 변경\n",
    "(?i)\t대소문자 무시 (기본값)\n",
    "(?-i)\t대소문자 구분\n",
    "(?g)\t\"greedy\" 모드로 전환 (기본값)\n",
    "(?-g)\t\"greedy\" 모드 해제, 따라서 \"+\"는 \"+?\"과 동일한 것으로 인식\n",
    "\n",
    "\n",
    "출처: https://gocoding.tistory.com/93 [Developer Factory]\n",
    "\"\"\""
   ]
  },
  {
   "cell_type": "code",
   "execution_count": null,
   "id": "823375e9",
   "metadata": {},
   "outputs": [],
   "source": []
  }
 ],
 "metadata": {
  "kernelspec": {
   "display_name": "Python 3",
   "language": "python",
   "name": "python3"
  },
  "language_info": {
   "codemirror_mode": {
    "name": "ipython",
    "version": 3
   },
   "file_extension": ".py",
   "mimetype": "text/x-python",
   "name": "python",
   "nbconvert_exporter": "python",
   "pygments_lexer": "ipython3",
   "version": "3.9.1"
  }
 },
 "nbformat": 4,
 "nbformat_minor": 5
}
