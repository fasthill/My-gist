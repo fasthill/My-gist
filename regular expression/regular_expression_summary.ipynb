{
  "cells": [
    {
      "cell_type": "markdown",
      "metadata": {
        "id": "view-in-github",
        "colab_type": "text"
      },
      "source": [
        "<a href=\"https://colab.research.google.com/github/fasthill/My-gist/blob/main/regular%20expression/regular_expression_summary.ipynb\" target=\"_parent\"><img src=\"https://colab.research.google.com/assets/colab-badge.svg\" alt=\"Open In Colab\"/></a>"
      ]
    },
    {
      "cell_type": "markdown",
      "id": "f47a473c",
      "metadata": {
        "id": "f47a473c"
      },
      "source": [
        "### [regex101](https://regex101.com/)\n",
        "동작 설명이 잘되어 있고, 코드작성예제도 같이 제공함"
      ]
    },
    {
      "cell_type": "markdown",
      "id": "6ffe2293",
      "metadata": {
        "id": "6ffe2293"
      },
      "source": [
        "###  [Pythex: a Python regular expression editor](https://pythex.org/) \n",
        "#### Pythex is a real-time regular expression editor for Python, a quick way to test your regular expressions."
      ]
    },
    {
      "cell_type": "markdown",
      "id": "a2b383f4",
      "metadata": {
        "id": "a2b383f4"
      },
      "source": [
        "### [PyRegex: Your Python Regular Expression's Best Buddy](http://www.pyregex.com/)"
      ]
    },
    {
      "cell_type": "code",
      "execution_count": 1,
      "id": "9ef55445",
      "metadata": {
        "id": "9ef55445"
      },
      "outputs": [],
      "source": [
        "import re"
      ]
    },
    {
      "cell_type": "markdown",
      "id": "50993abc",
      "metadata": {
        "id": "50993abc"
      },
      "source": [
        "#### metacharacter (Need to be escaped) :\n",
        ". ^ $ * + ? { } [ ] \\ | ( ) <br>"
      ]
    },
    {
      "cell_type": "markdown",
      "id": "45938e72",
      "metadata": {
        "id": "45938e72"
      },
      "source": [
        "[ ] 안에서는 특수 문자 역할을 하지 못함"
      ]
    },
    {
      "cell_type": "markdown",
      "id": "4f7e9f86",
      "metadata": {
        "id": "4f7e9f86"
      },
      "source": [
        "[^5] -> will match any character except '5'. [5^] will match either a '5' or a '^'."
      ]
    },
    {
      "cell_type": "code",
      "execution_count": 2,
      "id": "e2f929cd",
      "metadata": {
        "id": "e2f929cd",
        "outputId": "ac054de2-f711-4d57-8001-24f64439d2f9",
        "colab": {
          "base_uri": "https://localhost:8080/"
        }
      },
      "outputs": [
        {
          "output_type": "execute_result",
          "data": {
            "text/plain": [
              "<re.Match object; span=(0, 7), match='abcbbdb'>"
            ]
          },
          "metadata": {},
          "execution_count": 2
        }
      ],
      "source": [
        "p = re.compile('a[bcd]*b')\n",
        "p.match('abcbbdba')"
      ]
    },
    {
      "cell_type": "code",
      "execution_count": 3,
      "id": "e39d782b",
      "metadata": {
        "id": "e39d782b",
        "outputId": "fc4aab3f-eb21-4f4d-cca3-768f43ff7042",
        "colab": {
          "base_uri": "https://localhost:8080/"
        }
      },
      "outputs": [
        {
          "output_type": "execute_result",
          "data": {
            "text/plain": [
              "('abcbbdb', 'abcbbdb')"
            ]
          },
          "metadata": {},
          "execution_count": 3
        }
      ],
      "source": [
        "p.match('abcbbdba').group(), p.match('abcbbdba')[0]"
      ]
    },
    {
      "cell_type": "code",
      "execution_count": 4,
      "id": "65087aaf",
      "metadata": {
        "id": "65087aaf",
        "outputId": "66ef7ede-37d3-49e6-da31-8d10e57bd1af",
        "colab": {
          "base_uri": "https://localhost:8080/"
        }
      },
      "outputs": [
        {
          "output_type": "execute_result",
          "data": {
            "text/plain": [
              "<re.Match object; span=(0, 5), match=\"'uabc\">"
            ]
          },
          "metadata": {},
          "execution_count": 4
        }
      ],
      "source": [
        "p = re.compile(\"^'u[a-z]*\")\n",
        "p.match(\"'uabc de'\")"
      ]
    },
    {
      "cell_type": "code",
      "execution_count": 5,
      "id": "6d3e122a",
      "metadata": {
        "id": "6d3e122a",
        "outputId": "0fde88fa-1d6d-4951-a92a-ed62d3de9747",
        "colab": {
          "base_uri": "https://localhost:8080/"
        }
      },
      "outputs": [
        {
          "output_type": "execute_result",
          "data": {
            "text/plain": [
              "<re.Match object; span=(0, 5), match='abcde'>"
            ]
          },
          "metadata": {},
          "execution_count": 5
        }
      ],
      "source": [
        "pattern = re.compile(\"^[a-zA-Z0-9_]*\")\n",
        "pattern.match('abcde fgh')"
      ]
    },
    {
      "cell_type": "code",
      "execution_count": 6,
      "id": "11299fc9",
      "metadata": {
        "id": "11299fc9",
        "outputId": "eb1bb150-ae6d-4f27-8d11-c7d95d84fdc1",
        "colab": {
          "base_uri": "https://localhost:8080/",
          "height": 35
        }
      },
      "outputs": [
        {
          "output_type": "execute_result",
          "data": {
            "text/plain": [
              "'abcde'"
            ],
            "application/vnd.google.colaboratory.intrinsic+json": {
              "type": "string"
            }
          },
          "metadata": {},
          "execution_count": 6
        }
      ],
      "source": [
        "pattern.match('abcde fgh').group()"
      ]
    },
    {
      "cell_type": "code",
      "execution_count": 7,
      "id": "78834a51",
      "metadata": {
        "id": "78834a51",
        "outputId": "cef47775-e1da-42c6-fe7b-ec47ec0afaad",
        "colab": {
          "base_uri": "https://localhost:8080/"
        }
      },
      "outputs": [
        {
          "output_type": "execute_result",
          "data": {
            "text/plain": [
              "<re.Match object; span=(0, 5), match='abcde'>"
            ]
          },
          "metadata": {},
          "execution_count": 7
        }
      ],
      "source": [
        "# \\w is equivalent to [A-Za-z0-9_] \n",
        "pattern = re.compile(\"^\\w*\")\n",
        "pattern.match('abcde fgh')"
      ]
    },
    {
      "cell_type": "markdown",
      "id": "8c80370d",
      "metadata": {
        "id": "8c80370d"
      },
      "source": [
        "\\d is equivalent to the class [0-9].\n",
        "\n",
        "\\D is equivalent to the class [^0-9].\n",
        "\n",
        "\\s is equivalent to the class [ \\t\\n\\r\\f\\v].\n",
        "\n",
        "\\S is equivalent to the class [^ \\t\\n\\r\\f\\v].\n",
        "\n",
        "\\w is equivalent to the class [a-zA-Z0-9_].\n",
        "\n",
        "\\W is equivalent to the class [^a-zA-Z0-9_]."
      ]
    },
    {
      "cell_type": "markdown",
      "id": "7967026b",
      "metadata": {
        "id": "7967026b"
      },
      "source": [
        "[\\s,.] is a character class that will match any whitespace character, or ',' or '.'."
      ]
    },
    {
      "cell_type": "markdown",
      "id": "photographic-strap",
      "metadata": {
        "id": "photographic-strap"
      },
      "source": [
        "![snippet.JPG](attachment:snippet.JPG)"
      ]
    },
    {
      "cell_type": "code",
      "execution_count": 8,
      "id": "df5e26c5",
      "metadata": {
        "id": "df5e26c5"
      },
      "outputs": [],
      "source": [
        "p = re.compile('ab*')\n",
        "p = re.compile('ab*', re.IGNORECASE)"
      ]
    },
    {
      "cell_type": "markdown",
      "id": "97ad2e8d",
      "metadata": {
        "id": "97ad2e8d"
      },
      "source": [
        "### Python’s raw string notation for regular expressions\n",
        "backslashes are not handled in any special way in a string literal prefixed with 'r', so r\"\\n\" is a two-character string containing '\\' and 'n', while \"\\n\" is a one-character string containing a newline. Regular expressions will often be written in Python code using this raw string notation.\n",
        "#### <span style='color:red'> r'\\n' == '\\\\' + 'n' while '\\n' == one character string </span>"
      ]
    },
    {
      "cell_type": "markdown",
      "id": "9bd8eb09",
      "metadata": {
        "id": "9bd8eb09"
      },
      "source": [
        "### Performing Matches"
      ]
    },
    {
      "cell_type": "markdown",
      "id": "4897a3f0",
      "metadata": {
        "id": "4897a3f0"
      },
      "source": [
        "<table border=\"1\">\n",
        "<th>Method/Attribute</th>\n",
        "<th>Purpose</th>\n",
        "<tr align =\"center\"><!-- 1번째 줄 시작 -->\n",
        "    <td>match()</td>\n",
        "    <td>Determine if the RE matches at the beginning of the string.</td>\n",
        "</tr><!-- 1번째 줄 끝 -->\n",
        "<tr align =\"center\"><!-- 2번째 줄 시작 -->\n",
        "    <td>search()</td>\n",
        "    <td>Scan through a string, looking for any location where this RE matches.</td>\n",
        "<tr align =\"center\"><!-- 3번째 줄 시작 -->\n",
        "    <td>findall()</td>\n",
        "    <td>Find all substrings where the RE matches, and returns them as a list.</td>\n",
        "</tr><!-- 3번째 줄 끝 -->\n",
        "<tr align =\"center\"><!-- 4번째 줄 시작 -->\n",
        "    <td>finditer()</td>\n",
        "    <td>Find all substrings where the RE matches, and returns them as an iterator.</td>\n",
        "</tr><!-- 4번째 줄 끝 -->\n",
        "\n",
        "</table>\n",
        "\n",
        "match() and search() return <span style='color:red'>None</span> if no match can be found. "
      ]
    },
    {
      "cell_type": "code",
      "execution_count": 9,
      "id": "d0ed5a1c",
      "metadata": {
        "id": "d0ed5a1c",
        "outputId": "29093921-ead8-4d20-cc9e-e8f0a8b649f5",
        "colab": {
          "base_uri": "https://localhost:8080/"
        }
      },
      "outputs": [
        {
          "output_type": "stream",
          "name": "stdout",
          "text": [
            "None\n"
          ]
        }
      ],
      "source": [
        "p = re.compile('[a-z]+')\n",
        "print(p.match(\"\"))"
      ]
    },
    {
      "cell_type": "code",
      "execution_count": 10,
      "id": "3fc495fe",
      "metadata": {
        "id": "3fc495fe",
        "outputId": "c944c0b7-7060-416d-ca52-81495336e0e2",
        "colab": {
          "base_uri": "https://localhost:8080/"
        }
      },
      "outputs": [
        {
          "output_type": "execute_result",
          "data": {
            "text/plain": [
              "<re.Match object; span=(0, 5), match='tempo'>"
            ]
          },
          "metadata": {},
          "execution_count": 10
        }
      ],
      "source": [
        "m = p.match('tempo')\n",
        "m"
      ]
    },
    {
      "cell_type": "code",
      "execution_count": 11,
      "id": "d4673572",
      "metadata": {
        "id": "d4673572",
        "outputId": "fb29e1b7-7c9c-428f-9dac-17390e751995",
        "colab": {
          "base_uri": "https://localhost:8080/",
          "height": 0
        }
      },
      "outputs": [
        {
          "output_type": "execute_result",
          "data": {
            "text/plain": [
              "'tempo'"
            ],
            "application/vnd.google.colaboratory.intrinsic+json": {
              "type": "string"
            }
          },
          "metadata": {},
          "execution_count": 11
        }
      ],
      "source": [
        "m[0]"
      ]
    },
    {
      "cell_type": "markdown",
      "id": "47a4637a",
      "metadata": {
        "id": "47a4637a"
      },
      "source": [
        "<table border=\"1\">\n",
        "<th>Method/Attribute</th>\n",
        "<th>Purpose</th>\n",
        "<tr align =\"center\"><!-- 1번째 줄 시작 -->\n",
        "    <td>group()</td>\n",
        "    <td>Return the string matched by the RE</td>\n",
        "</tr><!-- 1번째 줄 끝 -->\n",
        "<tr align =\"center\"><!-- 2번째 줄 시작 -->\n",
        "    <td>start()</td>\n",
        "    <td>Return the starting position of the match</td>\n",
        "<tr align =\"center\"><!-- 3번째 줄 시작 -->\n",
        "    <td>end()</td>\n",
        "    <td>Return the ending position of the match</td>\n",
        "</tr><!-- 3번째 줄 끝 -->\n",
        "<tr align =\"center\"><!-- 4번째 줄 시작 -->\n",
        "    <td>span()</td>\n",
        "    <td>Return a tuple containing the (start, end) positions of the match</td>\n",
        "</tr><!-- 4번째 줄 끝 -->\n",
        "\n",
        "</table>"
      ]
    },
    {
      "cell_type": "code",
      "execution_count": 12,
      "id": "8ea420d7",
      "metadata": {
        "id": "8ea420d7",
        "outputId": "37ebe0bd-e1df-4b39-a309-54c889202675",
        "colab": {
          "base_uri": "https://localhost:8080/",
          "height": 0
        }
      },
      "outputs": [
        {
          "output_type": "execute_result",
          "data": {
            "text/plain": [
              "'tempo'"
            ],
            "application/vnd.google.colaboratory.intrinsic+json": {
              "type": "string"
            }
          },
          "metadata": {},
          "execution_count": 12
        }
      ],
      "source": [
        "m.group()"
      ]
    },
    {
      "cell_type": "code",
      "execution_count": 13,
      "id": "2bcee44f",
      "metadata": {
        "id": "2bcee44f",
        "outputId": "48859464-f12c-4e35-def8-744698b381b6",
        "colab": {
          "base_uri": "https://localhost:8080/"
        }
      },
      "outputs": [
        {
          "output_type": "execute_result",
          "data": {
            "text/plain": [
              "(0, 5)"
            ]
          },
          "metadata": {},
          "execution_count": 13
        }
      ],
      "source": [
        "m.start(), m.end()"
      ]
    },
    {
      "cell_type": "code",
      "execution_count": 14,
      "id": "960dbf1d",
      "metadata": {
        "id": "960dbf1d",
        "outputId": "ead17961-d0f7-458a-c256-02b191231dac",
        "colab": {
          "base_uri": "https://localhost:8080/"
        }
      },
      "outputs": [
        {
          "output_type": "execute_result",
          "data": {
            "text/plain": [
              "(0, 5)"
            ]
          },
          "metadata": {},
          "execution_count": 14
        }
      ],
      "source": [
        "m.span()"
      ]
    },
    {
      "cell_type": "code",
      "execution_count": 15,
      "id": "7c0e9203",
      "metadata": {
        "id": "7c0e9203",
        "outputId": "88afc16f-448f-48a7-87d3-32f0121230e7",
        "colab": {
          "base_uri": "https://localhost:8080/"
        }
      },
      "outputs": [
        {
          "output_type": "stream",
          "name": "stdout",
          "text": [
            "<re.Match object; span=(4, 11), match='message'>\n"
          ]
        }
      ],
      "source": [
        "m = p.search('::: message'); print(m)"
      ]
    },
    {
      "cell_type": "code",
      "execution_count": 16,
      "id": "9a127033",
      "metadata": {
        "id": "9a127033",
        "outputId": "70fcc13f-6626-4c1b-ce11-ba28110db291",
        "colab": {
          "base_uri": "https://localhost:8080/"
        }
      },
      "outputs": [
        {
          "output_type": "execute_result",
          "data": {
            "text/plain": [
              "('message', (4, 11))"
            ]
          },
          "metadata": {},
          "execution_count": 16
        }
      ],
      "source": [
        "m.group(), m.span()"
      ]
    },
    {
      "cell_type": "code",
      "execution_count": 17,
      "id": "d15df6db",
      "metadata": {
        "id": "d15df6db",
        "outputId": "0d3e1851-075e-4ca3-a0be-dff549bd612f",
        "colab": {
          "base_uri": "https://localhost:8080/"
        }
      },
      "outputs": [
        {
          "output_type": "stream",
          "name": "stdout",
          "text": [
            "No match\n"
          ]
        }
      ],
      "source": [
        "p = re.compile('go')\n",
        "m = p.match('string goes here') # search와 차이점\n",
        "# The match() function only checks if the RE matches at the beginning of the string \n",
        "# while search() will scan forward through the string for a match.\n",
        "if m:\n",
        "    print('Match found: ', m.group())\n",
        "else:\n",
        "    print('No match')"
      ]
    },
    {
      "cell_type": "code",
      "execution_count": 18,
      "id": "b6fac95d",
      "metadata": {
        "id": "b6fac95d",
        "outputId": "6ee83215-11fb-4e3c-d04a-71e15df0c845",
        "colab": {
          "base_uri": "https://localhost:8080/"
        }
      },
      "outputs": [
        {
          "output_type": "stream",
          "name": "stdout",
          "text": [
            "Match found:  go\n"
          ]
        }
      ],
      "source": [
        "p = re.compile('go')\n",
        "m = p.search('string goes here')  # match와 차이점\n",
        "if m:\n",
        "    print('Match found: ', m.group())\n",
        "else:\n",
        "    print('No match')"
      ]
    },
    {
      "cell_type": "code",
      "execution_count": 19,
      "id": "2a404f27",
      "metadata": {
        "id": "2a404f27"
      },
      "outputs": [],
      "source": [
        "p.match( 'string goes here' )"
      ]
    },
    {
      "cell_type": "code",
      "execution_count": 20,
      "id": "ba211c9e",
      "metadata": {
        "id": "ba211c9e",
        "outputId": "cd5bf78c-85d6-4a1a-a46f-bbdbc222f240",
        "colab": {
          "base_uri": "https://localhost:8080/"
        }
      },
      "outputs": [
        {
          "output_type": "execute_result",
          "data": {
            "text/plain": [
              "['12', '11', '10']"
            ]
          },
          "metadata": {},
          "execution_count": 20
        }
      ],
      "source": [
        "p = re.compile(r'\\d+')\n",
        "p.findall('12 drummers drumming, 11 pipers piping, 10 lords a-leaping')"
      ]
    },
    {
      "cell_type": "code",
      "execution_count": 21,
      "id": "8c8510af",
      "metadata": {
        "id": "8c8510af",
        "outputId": "3b562d2a-f95b-4505-b592-0e731e7d5097",
        "colab": {
          "base_uri": "https://localhost:8080/"
        }
      },
      "outputs": [
        {
          "output_type": "stream",
          "name": "stdout",
          "text": [
            "(0, 2)\n",
            "(22, 24)\n",
            "(40, 42)\n"
          ]
        }
      ],
      "source": [
        "iterator = p.finditer('12 drummers drumming, 11 pipers piping, 10 lords a-leaping')\n",
        "iterator  \n",
        "\n",
        "for match in iterator:\n",
        "    print(match.span())"
      ]
    },
    {
      "cell_type": "code",
      "execution_count": 22,
      "id": "subjective-hands",
      "metadata": {
        "id": "subjective-hands",
        "outputId": "4e15e55d-e76b-435c-9420-26d0fc6c7f9d",
        "colab": {
          "base_uri": "https://localhost:8080/"
        }
      },
      "outputs": [
        {
          "output_type": "stream",
          "name": "stdout",
          "text": [
            "<re.Match object; span=(1, 24), match='CoreyMSchafer@gmail.com'>\n",
            "<re.Match object; span=(25, 53), match='corey.schafer@university.edu'>\n",
            "<re.Match object; span=(54, 83), match='corey-321-schafer@my-work.net'>\n"
          ]
        }
      ],
      "source": [
        "emails = '''\n",
        "CoreyMSchafer@gmail.com\n",
        "corey.schafer@university.edu\n",
        "corey-321-schafer@my-work.net\n",
        "'''\n",
        "\n",
        "pattern = re.compile(r'[a-zA-Z0-9_.+-]+@[a-zA-Z0-9-]+\\.[a-zA-Z0-9-.]+')\n",
        "\n",
        "matches = pattern.finditer(emails)\n",
        "\n",
        "for match in matches:\n",
        "    print(match)"
      ]
    },
    {
      "cell_type": "code",
      "execution_count": 23,
      "id": "a3b76e4f",
      "metadata": {
        "id": "a3b76e4f",
        "outputId": "618a1e94-646e-4c75-9f8d-26859728b571",
        "colab": {
          "base_uri": "https://localhost:8080/"
        }
      },
      "outputs": [
        {
          "output_type": "execute_result",
          "data": {
            "text/plain": [
              "<re.Match object; span=(0, 5), match='From '>"
            ]
          },
          "metadata": {},
          "execution_count": 23
        }
      ],
      "source": [
        "re.match(r'From\\s+', 'From amk Thu May 14 19:12:10 1998')  "
      ]
    },
    {
      "cell_type": "code",
      "execution_count": 24,
      "id": "08a02b2e",
      "metadata": {
        "id": "08a02b2e"
      },
      "outputs": [],
      "source": [
        "p = re.compile('ab*', re.IGNORECASE)\n",
        "p = re.compile('.*', re.DOTALL) # include newlines\n",
        "p = re.compile('.*', re.MULTILINE) # multiline matching"
      ]
    },
    {
      "cell_type": "markdown",
      "id": "c559c742",
      "metadata": {
        "id": "c559c742"
      },
      "source": [
        "| : Alternation, or the “or” operator. <br>\n",
        "^ : Matches at the beginning of lines"
      ]
    },
    {
      "cell_type": "code",
      "execution_count": 25,
      "id": "3909a946",
      "metadata": {
        "id": "3909a946",
        "outputId": "cd5ff681-fe6f-4ff0-9048-a6b8bdbaba2a",
        "colab": {
          "base_uri": "https://localhost:8080/"
        }
      },
      "outputs": [
        {
          "output_type": "stream",
          "name": "stdout",
          "text": [
            "<re.Match object; span=(0, 4), match='From'>\n"
          ]
        }
      ],
      "source": [
        "print(re.search('^From', 'From Here to Eternity')) "
      ]
    },
    {
      "cell_type": "code",
      "execution_count": 26,
      "id": "6e37d910",
      "metadata": {
        "id": "6e37d910",
        "outputId": "eadd2930-a91f-4d28-cb15-2b9260ab021b",
        "colab": {
          "base_uri": "https://localhost:8080/"
        }
      },
      "outputs": [
        {
          "output_type": "stream",
          "name": "stdout",
          "text": [
            "None\n"
          ]
        }
      ],
      "source": [
        "print(re.search('^From', 'Reciting From Memory'))"
      ]
    },
    {
      "cell_type": "markdown",
      "id": "52fec64d",
      "metadata": {
        "id": "52fec64d"
      },
      "source": [
        "$ : Matches at the end of a line"
      ]
    },
    {
      "cell_type": "code",
      "execution_count": 27,
      "id": "84c329eb",
      "metadata": {
        "id": "84c329eb",
        "outputId": "f2073e30-0365-44c9-a4f7-c7d4c22ae986",
        "colab": {
          "base_uri": "https://localhost:8080/"
        }
      },
      "outputs": [
        {
          "output_type": "stream",
          "name": "stdout",
          "text": [
            "<re.Match object; span=(6, 7), match='}'>\n"
          ]
        }
      ],
      "source": [
        "print(re.search('}$', '{block}')) "
      ]
    },
    {
      "cell_type": "code",
      "execution_count": 28,
      "id": "f064d871",
      "metadata": {
        "id": "f064d871",
        "outputId": "ad6d06bb-40bd-4f49-b7f3-60e6483d40fc",
        "colab": {
          "base_uri": "https://localhost:8080/",
          "height": 0
        }
      },
      "outputs": [
        {
          "output_type": "execute_result",
          "data": {
            "text/plain": [
              "'}'"
            ],
            "application/vnd.google.colaboratory.intrinsic+json": {
              "type": "string"
            }
          },
          "metadata": {},
          "execution_count": 28
        }
      ],
      "source": [
        "re.search('}$', '{block}')[0] # == re.search('}$', '{block}').group()"
      ]
    },
    {
      "cell_type": "code",
      "execution_count": 29,
      "id": "c50226ef",
      "metadata": {
        "id": "c50226ef",
        "outputId": "f4d39d70-5776-4212-fc9d-9adeb5b53f64",
        "colab": {
          "base_uri": "https://localhost:8080/"
        }
      },
      "outputs": [
        {
          "output_type": "stream",
          "name": "stdout",
          "text": [
            "None\n"
          ]
        }
      ],
      "source": [
        "print(re.search('}$', '{block} '))"
      ]
    },
    {
      "cell_type": "code",
      "execution_count": 30,
      "id": "ee08bed3",
      "metadata": {
        "id": "ee08bed3",
        "outputId": "f9720868-7bb6-402a-bb7c-f1d5e3d77ce1",
        "colab": {
          "base_uri": "https://localhost:8080/"
        }
      },
      "outputs": [
        {
          "output_type": "stream",
          "name": "stdout",
          "text": [
            "<re.Match object; span=(6, 7), match='}'>\n"
          ]
        }
      ],
      "source": [
        "print(re.search('}$', '{block}\\n'))"
      ]
    },
    {
      "cell_type": "markdown",
      "id": "8b090588",
      "metadata": {
        "id": "8b090588"
      },
      "source": [
        "\\A : Matches only at the start of the string. When not in MULTILINE mode, <span style='color:red'> \\A and ^ are effectively the same. In MULTILINE mode, they’re different</span>: \\A still matches only at the beginning of the string, but ^ may match at any location inside the string that follows a newline character."
      ]
    },
    {
      "cell_type": "markdown",
      "id": "6df0194c",
      "metadata": {
        "id": "6df0194c"
      },
      "source": [
        "\\b : Word boundary. This is a zero-width assertion that matches only at the beginning or end of a word."
      ]
    },
    {
      "cell_type": "code",
      "execution_count": 31,
      "id": "b075f00c",
      "metadata": {
        "id": "b075f00c",
        "outputId": "ea511942-af2a-4204-9195-d8a81d7d52bb",
        "colab": {
          "base_uri": "https://localhost:8080/"
        }
      },
      "outputs": [
        {
          "output_type": "stream",
          "name": "stdout",
          "text": [
            "<re.Match object; span=(3, 8), match='class'>\n"
          ]
        }
      ],
      "source": [
        "p = re.compile(r'\\bclass\\b')\n",
        "print(p.search('no class at all'))"
      ]
    },
    {
      "cell_type": "code",
      "execution_count": 32,
      "id": "f958a992",
      "metadata": {
        "id": "f958a992",
        "outputId": "5d7ddb03-356b-47d0-8a54-9e9e62bfff4d",
        "colab": {
          "base_uri": "https://localhost:8080/"
        }
      },
      "outputs": [
        {
          "output_type": "stream",
          "name": "stdout",
          "text": [
            "None\n"
          ]
        }
      ],
      "source": [
        "print(p.search('the declassified algorithm'))"
      ]
    },
    {
      "cell_type": "code",
      "execution_count": 33,
      "id": "07eb119e",
      "metadata": {
        "id": "07eb119e",
        "outputId": "7442f06b-4eb6-4ac3-a1b7-a027002faac1",
        "colab": {
          "base_uri": "https://localhost:8080/"
        }
      },
      "outputs": [
        {
          "output_type": "stream",
          "name": "stdout",
          "text": [
            "None\n"
          ]
        }
      ],
      "source": [
        "print(p.search('one subclass is'))"
      ]
    },
    {
      "cell_type": "markdown",
      "id": "3d380b7d",
      "metadata": {
        "id": "3d380b7d"
      },
      "source": [
        "### Grouping\n",
        "Groups are marked by the '(', ')' metacharacters."
      ]
    },
    {
      "cell_type": "code",
      "execution_count": 34,
      "id": "aab4f21a",
      "metadata": {
        "id": "aab4f21a",
        "outputId": "f370317c-f0fb-48e0-e9f7-02932fcf63f7",
        "colab": {
          "base_uri": "https://localhost:8080/"
        }
      },
      "outputs": [
        {
          "output_type": "execute_result",
          "data": {
            "text/plain": [
              "('ababababab', 0, 10, (0, 10))"
            ]
          },
          "metadata": {},
          "execution_count": 34
        }
      ],
      "source": [
        "p = re.compile('(ab)*')\n",
        "m = p.match('ababababab')\n",
        "m.group(), m.start(), m.end(), m.span()"
      ]
    },
    {
      "cell_type": "code",
      "execution_count": 35,
      "id": "422c38ef",
      "metadata": {
        "id": "422c38ef",
        "outputId": "23fbc791-00d3-4724-a98e-d7ae2a1b5249",
        "colab": {
          "base_uri": "https://localhost:8080/"
        }
      },
      "outputs": [
        {
          "output_type": "execute_result",
          "data": {
            "text/plain": [
              "('ab',)"
            ]
          },
          "metadata": {},
          "execution_count": 35
        }
      ],
      "source": [
        "m.groups()"
      ]
    },
    {
      "cell_type": "code",
      "execution_count": 36,
      "id": "78c9c4eb",
      "metadata": {
        "id": "78c9c4eb"
      },
      "outputs": [],
      "source": [
        "p = re.compile('(a(b)c)d')\n",
        "m = p.match('abcd')"
      ]
    },
    {
      "cell_type": "code",
      "execution_count": 37,
      "id": "a0b9a1ad",
      "metadata": {
        "id": "a0b9a1ad",
        "outputId": "4ac84bc2-f829-4939-81ca-1d1c439a9b28",
        "colab": {
          "base_uri": "https://localhost:8080/"
        }
      },
      "outputs": [
        {
          "output_type": "execute_result",
          "data": {
            "text/plain": [
              "('abcd', 'abc', 'b')"
            ]
          },
          "metadata": {},
          "execution_count": 37
        }
      ],
      "source": [
        "m.group(0), m.group(1), m.group(2)"
      ]
    },
    {
      "cell_type": "code",
      "execution_count": 38,
      "id": "7c4d95e2",
      "metadata": {
        "id": "7c4d95e2",
        "outputId": "73d934d6-460a-4a3b-c54c-223ca98488bf",
        "colab": {
          "base_uri": "https://localhost:8080/"
        }
      },
      "outputs": [
        {
          "output_type": "execute_result",
          "data": {
            "text/plain": [
              "2"
            ]
          },
          "metadata": {},
          "execution_count": 38
        }
      ],
      "source": [
        "len(m.groups())  # 전체를 제외한 group의 갯수\n",
        "# len(m.group()) => 주의 : 첫번째 ('abcd')의 스트링 문자 갯수를 반환함."
      ]
    },
    {
      "cell_type": "code",
      "execution_count": 39,
      "id": "94175030",
      "metadata": {
        "id": "94175030",
        "outputId": "7b60f19b-c7d3-47f6-ef11-6116ef8f00d9",
        "colab": {
          "base_uri": "https://localhost:8080/"
        }
      },
      "outputs": [
        {
          "output_type": "execute_result",
          "data": {
            "text/plain": [
              "('abc', 'b')"
            ]
          },
          "metadata": {},
          "execution_count": 39
        }
      ],
      "source": [
        "m.groups()"
      ]
    },
    {
      "cell_type": "code",
      "execution_count": 40,
      "id": "5c8646df",
      "metadata": {
        "id": "5c8646df",
        "outputId": "704091d0-2b3a-4a10-8822-ff4305a34b11",
        "colab": {
          "base_uri": "https://localhost:8080/"
        }
      },
      "outputs": [
        {
          "output_type": "execute_result",
          "data": {
            "text/plain": [
              "('c',)"
            ]
          },
          "metadata": {},
          "execution_count": 40
        }
      ],
      "source": [
        "m = re.match(\"([abc])+\", \"abc\")\n",
        "m.groups()"
      ]
    },
    {
      "cell_type": "code",
      "execution_count": 41,
      "id": "7271cf3e",
      "metadata": {
        "id": "7271cf3e",
        "outputId": "262feee4-2455-4568-f431-899f4d80f561",
        "colab": {
          "base_uri": "https://localhost:8080/",
          "height": 0
        }
      },
      "outputs": [
        {
          "output_type": "execute_result",
          "data": {
            "text/plain": [
              "'c'"
            ],
            "application/vnd.google.colaboratory.intrinsic+json": {
              "type": "string"
            }
          },
          "metadata": {},
          "execution_count": 41
        }
      ],
      "source": [
        "m.group(1)"
      ]
    },
    {
      "cell_type": "code",
      "execution_count": 42,
      "id": "5a5dc9f3",
      "metadata": {
        "id": "5a5dc9f3"
      },
      "outputs": [],
      "source": [
        "m = re.match(\"(?:[abc])+\", \"abc\")"
      ]
    },
    {
      "cell_type": "code",
      "execution_count": 43,
      "id": "3204f53b",
      "metadata": {
        "id": "3204f53b",
        "outputId": "a309d0db-9b94-45c0-9794-8e31d47b42e5",
        "colab": {
          "base_uri": "https://localhost:8080/"
        }
      },
      "outputs": [
        {
          "output_type": "execute_result",
          "data": {
            "text/plain": [
              "()"
            ]
          },
          "metadata": {},
          "execution_count": 43
        }
      ],
      "source": [
        "m.groups()"
      ]
    },
    {
      "cell_type": "markdown",
      "id": "edf0c83c",
      "metadata": {
        "id": "edf0c83c"
      },
      "source": [
        "The syntax for a named group is one of the Python-specific extensions: (?P<name>...). name is, obviously, the name of the group."
      ]
    },
    {
      "cell_type": "code",
      "execution_count": 44,
      "id": "9c174908",
      "metadata": {
        "id": "9c174908",
        "outputId": "3e5d2048-05c0-45b6-ec07-55c8b2ac9879",
        "colab": {
          "base_uri": "https://localhost:8080/",
          "height": 0
        }
      },
      "outputs": [
        {
          "output_type": "execute_result",
          "data": {
            "text/plain": [
              "'Lots'"
            ],
            "application/vnd.google.colaboratory.intrinsic+json": {
              "type": "string"
            }
          },
          "metadata": {},
          "execution_count": 44
        }
      ],
      "source": [
        "p = re.compile(r'(?P<word>\\b\\w+\\b)')\n",
        "m = p.search( '(((( Lots of punctuation )))' )\n",
        "m.group('word')"
      ]
    },
    {
      "cell_type": "code",
      "execution_count": 45,
      "id": "cefb3bc3",
      "metadata": {
        "id": "cefb3bc3",
        "outputId": "992b8a8b-40f4-4f61-dcb3-f64cb85cede6",
        "colab": {
          "base_uri": "https://localhost:8080/",
          "height": 0
        }
      },
      "outputs": [
        {
          "output_type": "execute_result",
          "data": {
            "text/plain": [
              "'Lots'"
            ],
            "application/vnd.google.colaboratory.intrinsic+json": {
              "type": "string"
            }
          },
          "metadata": {},
          "execution_count": 45
        }
      ],
      "source": [
        "m.group(1)"
      ]
    },
    {
      "cell_type": "code",
      "execution_count": 46,
      "id": "c6763734",
      "metadata": {
        "id": "c6763734",
        "outputId": "df1de5c5-44db-45f4-9fc7-212928fc8ef6",
        "colab": {
          "base_uri": "https://localhost:8080/"
        }
      },
      "outputs": [
        {
          "output_type": "execute_result",
          "data": {
            "text/plain": [
              "{'first': 'Jane', 'last': 'Doe'}"
            ]
          },
          "metadata": {},
          "execution_count": 46
        }
      ],
      "source": [
        "m = re.match(r'(?P<first>\\w+) (?P<last>\\w+)', 'Jane Doe')\n",
        "m.groupdict()"
      ]
    },
    {
      "cell_type": "code",
      "execution_count": 47,
      "id": "89d8d054",
      "metadata": {
        "id": "89d8d054",
        "outputId": "88a2624f-c9c7-421a-a4be-26dc8bcdf5de",
        "colab": {
          "base_uri": "https://localhost:8080/"
        }
      },
      "outputs": [
        {
          "output_type": "execute_result",
          "data": {
            "text/plain": [
              "<re.Match object; span=(0, 8), match='Jane Doe'>"
            ]
          },
          "metadata": {},
          "execution_count": 47
        }
      ],
      "source": [
        "m"
      ]
    },
    {
      "cell_type": "markdown",
      "id": "bcfc3f80",
      "metadata": {
        "id": "bcfc3f80"
      },
      "source": [
        "### Modifying Strings"
      ]
    },
    {
      "cell_type": "code",
      "execution_count": 48,
      "id": "f1240292",
      "metadata": {
        "id": "f1240292",
        "outputId": "67b0f4f5-6194-4e64-8824-81edc51cd84a",
        "colab": {
          "base_uri": "https://localhost:8080/"
        }
      },
      "outputs": [
        {
          "output_type": "execute_result",
          "data": {
            "text/plain": [
              "['This', 'is', 'a', 'test', 'short', 'and', 'sweet', 'of', 'split', '']"
            ]
          },
          "metadata": {},
          "execution_count": 48
        }
      ],
      "source": [
        "p = re.compile(r'\\W+') \n",
        "# \\W is equivalent to the class [^a-zA-Z0-9_].\n",
        "# the delimiter is any sequence of non-alphanumeric characters.\n",
        "p.split('This is a test, short and sweet, of split().')"
      ]
    },
    {
      "cell_type": "code",
      "execution_count": 49,
      "id": "e01e1e39",
      "metadata": {
        "id": "e01e1e39",
        "outputId": "77123903-c949-4949-ede4-01ac1ed3064a",
        "colab": {
          "base_uri": "https://localhost:8080/"
        }
      },
      "outputs": [
        {
          "output_type": "execute_result",
          "data": {
            "text/plain": [
              "['This', 'is', 'a', 'test, short and sweet, of split().']"
            ]
          },
          "metadata": {},
          "execution_count": 49
        }
      ],
      "source": [
        "# .split(string[, maxsplit=0])\n",
        "p.split('This is a test, short and sweet, of split().', 3)"
      ]
    },
    {
      "cell_type": "code",
      "execution_count": 50,
      "id": "b3507d3b",
      "metadata": {
        "id": "b3507d3b",
        "outputId": "f5484283-dfec-459d-e49a-5e3ebac4a3f3",
        "colab": {
          "base_uri": "https://localhost:8080/"
        }
      },
      "outputs": [
        {
          "output_type": "execute_result",
          "data": {
            "text/plain": [
              "['This', 'is a test, short and sweet, of split().']"
            ]
          },
          "metadata": {},
          "execution_count": 50
        }
      ],
      "source": [
        "p.split('This is a test, short and sweet, of split().', 1)"
      ]
    },
    {
      "cell_type": "markdown",
      "id": "6a0e8bb9",
      "metadata": {
        "id": "6a0e8bb9"
      },
      "source": [
        "#### delimiter도 필요할 경우 () 사용\n",
        "Sometimes you’re not only interested in what the text between delimiters is, but also need to know what the delimiter was. If capturing parentheses are used in the RE, then their values are also returned as part of the list."
      ]
    },
    {
      "cell_type": "code",
      "execution_count": 51,
      "id": "ff9148d3",
      "metadata": {
        "id": "ff9148d3"
      },
      "outputs": [],
      "source": [
        "p = re.compile(r'\\W+')\n",
        "p2 = re.compile(r'(\\W+)')"
      ]
    },
    {
      "cell_type": "code",
      "execution_count": 52,
      "id": "aa1b5bbb",
      "metadata": {
        "id": "aa1b5bbb",
        "outputId": "59a47761-3243-4a1e-a81a-969ca7e5eb66",
        "colab": {
          "base_uri": "https://localhost:8080/"
        }
      },
      "outputs": [
        {
          "output_type": "execute_result",
          "data": {
            "text/plain": [
              "['This', 'is', 'a', 'test', '']"
            ]
          },
          "metadata": {},
          "execution_count": 52
        }
      ],
      "source": [
        "p.split('This... is a test.')"
      ]
    },
    {
      "cell_type": "code",
      "execution_count": 53,
      "id": "f44eb1c4",
      "metadata": {
        "id": "f44eb1c4",
        "outputId": "0ba3ee32-a3ce-46dd-fdf8-c5402548d98a",
        "colab": {
          "base_uri": "https://localhost:8080/"
        }
      },
      "outputs": [
        {
          "output_type": "execute_result",
          "data": {
            "text/plain": [
              "['This', '... ', 'is', ' ', 'a', ' ', 'test', '.', '']"
            ]
          },
          "metadata": {},
          "execution_count": 53
        }
      ],
      "source": [
        "p2.split('This... is a test.')"
      ]
    },
    {
      "cell_type": "code",
      "execution_count": 54,
      "id": "8326a2ba",
      "metadata": {
        "id": "8326a2ba",
        "outputId": "d7305f2a-9192-4446-c721-67d0de6cd355",
        "colab": {
          "base_uri": "https://localhost:8080/"
        }
      },
      "outputs": [
        {
          "output_type": "execute_result",
          "data": {
            "text/plain": [
              "['Words', 'words', 'words', '']"
            ]
          },
          "metadata": {},
          "execution_count": 54
        }
      ],
      "source": [
        "re.split(r'[\\W]+', 'Words, words, words.')"
      ]
    },
    {
      "cell_type": "code",
      "execution_count": 55,
      "id": "d139598d",
      "metadata": {
        "id": "d139598d",
        "outputId": "f9dcaa40-47a7-4560-8a5c-f55ead13f706",
        "colab": {
          "base_uri": "https://localhost:8080/"
        }
      },
      "outputs": [
        {
          "output_type": "execute_result",
          "data": {
            "text/plain": [
              "['Words', ', ', 'words', ', ', 'words', '.', '']"
            ]
          },
          "metadata": {},
          "execution_count": 55
        }
      ],
      "source": [
        "re.split(r'([\\W]+)', 'Words, words, words.')"
      ]
    },
    {
      "cell_type": "markdown",
      "id": "0073b83a",
      "metadata": {
        "id": "0073b83a"
      },
      "source": [
        "### Search and Replace"
      ]
    },
    {
      "cell_type": "code",
      "execution_count": 56,
      "id": "0f2a4cb9",
      "metadata": {
        "id": "0f2a4cb9",
        "outputId": "bbeb4c75-b252-41ca-a711-338c316eb753",
        "colab": {
          "base_uri": "https://localhost:8080/",
          "height": 0
        }
      },
      "outputs": [
        {
          "output_type": "execute_result",
          "data": {
            "text/plain": [
              "'colour socks and colour shoes'"
            ],
            "application/vnd.google.colaboratory.intrinsic+json": {
              "type": "string"
            }
          },
          "metadata": {},
          "execution_count": 56
        }
      ],
      "source": [
        "p = re.compile('(blue|white|red)')  # 여기에 해당되는 항목을\n",
        "p.sub('colour', 'blue socks and red shoes') # colour로 바꿔라."
      ]
    },
    {
      "cell_type": "code",
      "execution_count": 57,
      "id": "862f9d45",
      "metadata": {
        "id": "862f9d45",
        "outputId": "eead11fe-e54f-44e6-90f8-7ed273c38b63",
        "colab": {
          "base_uri": "https://localhost:8080/",
          "height": 0
        }
      },
      "outputs": [
        {
          "output_type": "execute_result",
          "data": {
            "text/plain": [
              "'colour socks and red shoes'"
            ],
            "application/vnd.google.colaboratory.intrinsic+json": {
              "type": "string"
            }
          },
          "metadata": {},
          "execution_count": 57
        }
      ],
      "source": [
        "p.sub('colour', 'blue socks and red shoes', count=1) # 1개 만 바꿈"
      ]
    },
    {
      "cell_type": "code",
      "execution_count": 58,
      "id": "outdoor-mercy",
      "metadata": {
        "id": "outdoor-mercy",
        "outputId": "6f05b0d1-680e-4860-bb2e-ce1ed94a4265",
        "colab": {
          "base_uri": "https://localhost:8080/"
        }
      },
      "outputs": [
        {
          "output_type": "stream",
          "name": "stdout",
          "text": [
            "\n",
            "google.com\n",
            "coreyms.com\n",
            "youtube.com\n",
            "nasa.gov\n",
            "\n"
          ]
        }
      ],
      "source": [
        "urls = '''\n",
        "https://www.google.com\n",
        "http://coreyms.com\n",
        "https://youtube.com\n",
        "https://www.nasa.gov\n",
        "'''\n",
        "\n",
        "pattern = re.compile(r'https?://(www\\.)?(\\w+)(\\.\\w+)')\n",
        "\n",
        "subbed_urls = pattern.sub(r'\\2\\3', urls) # group 2, 3로 대체\n",
        "# https://www.google.com 를 pattern으로 찾아서, \\2('google') \\3('.com') 으로 replace시킴\n",
        "print(subbed_urls)"
      ]
    },
    {
      "cell_type": "code",
      "execution_count": 59,
      "id": "b1c3dd38",
      "metadata": {
        "id": "b1c3dd38",
        "outputId": "e5ce9398-a2d9-4ac3-d8e5-b2f287e7af21",
        "colab": {
          "base_uri": "https://localhost:8080/",
          "height": 0
        }
      },
      "outputs": [
        {
          "output_type": "execute_result",
          "data": {
            "text/plain": [
              "'sam*sun*g'"
            ],
            "application/vnd.google.colaboratory.intrinsic+json": {
              "type": "string"
            }
          },
          "metadata": {},
          "execution_count": 59
        }
      ],
      "source": [
        "backs = re.sub(r'[\\\\.]', '*', 'sam.sun\\\\g') \n",
        "# backslash 변환 => \\\\ : metacharacter \\와 변환대상 \\  이어서 표현\n",
        "backs"
      ]
    },
    {
      "cell_type": "markdown",
      "id": "distinct-diabetes",
      "metadata": {
        "id": "distinct-diabetes"
      },
      "source": [
        "![sublist.JPG](attachment:sublist.JPG)"
      ]
    },
    {
      "cell_type": "markdown",
      "id": "understood-incidence",
      "metadata": {
        "id": "understood-incidence"
      },
      "source": [
        "#### string.replace or re.sub \n",
        "As long as you can make do with str.replace(), you should use it. <br>\n",
        "str.replace() should be used whenever it's possible to. It's more explicit, simpler, and faster."
      ]
    },
    {
      "cell_type": "code",
      "execution_count": 60,
      "id": "98894b46",
      "metadata": {
        "id": "98894b46",
        "outputId": "f1262417-9021-4593-df52-7494092c752a",
        "colab": {
          "base_uri": "https://localhost:8080/"
        }
      },
      "outputs": [
        {
          "output_type": "execute_result",
          "data": {
            "text/plain": [
              "('colour socks and colour shoes', 2)"
            ]
          },
          "metadata": {},
          "execution_count": 60
        }
      ],
      "source": [
        "p = re.compile('(blue|white|red)')\n",
        "p.subn('colour', 'blue socks and red shoes')  \n",
        "# subn은 몇개가 바뀌었는지 tuple로 알려줌. 2개가 바뀌었음."
      ]
    },
    {
      "cell_type": "code",
      "execution_count": 61,
      "id": "31605e1d",
      "metadata": {
        "id": "31605e1d",
        "outputId": "5fc193af-d32c-4a4f-e8d2-5422402e2178",
        "colab": {
          "base_uri": "https://localhost:8080/"
        }
      },
      "outputs": [
        {
          "output_type": "execute_result",
          "data": {
            "text/plain": [
              "('no colours at all', 0)"
            ]
          },
          "metadata": {},
          "execution_count": 61
        }
      ],
      "source": [
        "p.subn('colour', 'no colours at all') # 비뀐 내용이 없음."
      ]
    },
    {
      "cell_type": "code",
      "execution_count": 62,
      "id": "4f611c4c",
      "metadata": {
        "id": "4f611c4c",
        "outputId": "89f3a565-ef51-42ae-903f-feb38a8cfcb9",
        "colab": {
          "base_uri": "https://localhost:8080/",
          "height": 0
        }
      },
      "outputs": [
        {
          "output_type": "execute_result",
          "data": {
            "text/plain": [
              "'-a-b--d-'"
            ],
            "application/vnd.google.colaboratory.intrinsic+json": {
              "type": "string"
            }
          },
          "metadata": {},
          "execution_count": 62
        }
      ],
      "source": [
        "p = re.compile('x*')\n",
        "p.sub('-', 'abxd')"
      ]
    },
    {
      "cell_type": "markdown",
      "id": "2924f984",
      "metadata": {
        "id": "2924f984"
      },
      "source": [
        "### match() versus search()\n",
        "The match() function only checks if the RE matches at the beginning of the string while search() will scan forward through the string for a match. It's important to keep this distinction in mind. Remember, **match()** will only report a successful match which will **start at 0**; if the match wouldn’t start at zero, match() will not report it."
      ]
    },
    {
      "cell_type": "code",
      "execution_count": 63,
      "id": "70b7dcdc",
      "metadata": {
        "id": "70b7dcdc",
        "outputId": "84fd6295-5368-4adf-e5eb-0d94af8f6271",
        "colab": {
          "base_uri": "https://localhost:8080/"
        }
      },
      "outputs": [
        {
          "output_type": "stream",
          "name": "stdout",
          "text": [
            "(0, 5)\n",
            "None\n"
          ]
        }
      ],
      "source": [
        "print(re.match('super', 'superstition').span())\n",
        "print(re.match('super', 'insuperable'))"
      ]
    },
    {
      "cell_type": "code",
      "execution_count": 64,
      "id": "50ea6f3f",
      "metadata": {
        "id": "50ea6f3f",
        "outputId": "1fdc5012-d32b-4281-fd4a-0c31fb103a92",
        "colab": {
          "base_uri": "https://localhost:8080/"
        }
      },
      "outputs": [
        {
          "output_type": "stream",
          "name": "stdout",
          "text": [
            "(0, 5)\n",
            "(2, 7)\n"
          ]
        }
      ],
      "source": [
        "print(re.search('super', 'superstition').span())\n",
        "print(re.search('super', 'insuperable').span())"
      ]
    },
    {
      "cell_type": "markdown",
      "id": "00427c03",
      "metadata": {
        "id": "00427c03"
      },
      "source": [
        "### Greedy versus Non-Greedy"
      ]
    },
    {
      "cell_type": "code",
      "execution_count": 65,
      "id": "b2bffc66",
      "metadata": {
        "id": "b2bffc66",
        "outputId": "ac0411d2-6614-4516-b0dc-e184a0faf5ff",
        "colab": {
          "base_uri": "https://localhost:8080/"
        }
      },
      "outputs": [
        {
          "output_type": "execute_result",
          "data": {
            "text/plain": [
              "32"
            ]
          },
          "metadata": {},
          "execution_count": 65
        }
      ],
      "source": [
        "s = '<html><head><title>Title</title>'\n",
        "len(s)"
      ]
    },
    {
      "cell_type": "code",
      "execution_count": 66,
      "id": "77d948f6",
      "metadata": {
        "id": "77d948f6",
        "outputId": "70b57ad5-2142-4c42-9b8c-f1fc9545e893",
        "colab": {
          "base_uri": "https://localhost:8080/"
        }
      },
      "outputs": [
        {
          "output_type": "stream",
          "name": "stdout",
          "text": [
            "(0, 32) <html><head><title>Title</title>\n"
          ]
        }
      ],
      "source": [
        "print(re.match('<.*>', s).span(), re.match('<.*>', s).group())  # '.*' 가 마지막까지 matching시킴"
      ]
    },
    {
      "cell_type": "markdown",
      "id": "a5a762b3",
      "metadata": {
        "id": "a5a762b3"
      },
      "source": [
        "In this case, the solution is to use the non-greedy qualifiers *?, +?, ??, or {m,n}?, which match as little text as possible. "
      ]
    },
    {
      "cell_type": "code",
      "execution_count": 67,
      "id": "81e6c5fa",
      "metadata": {
        "id": "81e6c5fa",
        "outputId": "57486bcb-e082-473a-a7f5-2d8609e70b89",
        "colab": {
          "base_uri": "https://localhost:8080/"
        }
      },
      "outputs": [
        {
          "output_type": "stream",
          "name": "stdout",
          "text": [
            "<html><head\n"
          ]
        }
      ],
      "source": [
        "print(re.match('<.*?d', s).group())  # 'd'를 처음만날때까지만 반복"
      ]
    },
    {
      "cell_type": "code",
      "execution_count": 68,
      "id": "41a14c1a",
      "metadata": {
        "id": "41a14c1a",
        "outputId": "4a6e449f-62aa-4360-a2a5-d9e855891adf",
        "colab": {
          "base_uri": "https://localhost:8080/"
        }
      },
      "outputs": [
        {
          "output_type": "stream",
          "name": "stdout",
          "text": [
            "['<html>', '<head>', '<title>', '</title>']\n"
          ]
        }
      ],
      "source": [
        "print(re.findall('<.*?>', s))"
      ]
    },
    {
      "cell_type": "markdown",
      "id": "a323fed1",
      "metadata": {
        "id": "a323fed1"
      },
      "source": [
        "### Using re.VERBOSE\n",
        "For such REs, specifying the re.VERBOSE flag when compiling the regular expression can be helpful, because it allows you to format the regular expression more clearly."
      ]
    },
    {
      "cell_type": "code",
      "execution_count": 69,
      "id": "60dcce7d",
      "metadata": {
        "id": "60dcce7d"
      },
      "outputs": [],
      "source": [
        "pat = re.compile(r\"\"\"\n",
        " \\s*                 # Skip leading whitespace\n",
        " (?P<header>[^:]+)   # Header name\n",
        " \\s* :               # Whitespace, and a colon\n",
        " (?P<value>.*?)      # The header's value -- *? used to\n",
        "                     # lose the following trailing whitespace\n",
        " \\s*$                # Trailing whitespace to end-of-line\n",
        "\"\"\", re.VERBOSE)"
      ]
    },
    {
      "cell_type": "markdown",
      "id": "79db5a37",
      "metadata": {
        "id": "79db5a37"
      },
      "source": [
        "This is far more readable than:"
      ]
    },
    {
      "cell_type": "code",
      "execution_count": 70,
      "id": "ac73c183",
      "metadata": {
        "id": "ac73c183"
      },
      "outputs": [],
      "source": [
        "pat = re.compile(r\"\\s*(?P<header>[^:]+)\\s*:(?P<value>.*?)\\s*$\")"
      ]
    },
    {
      "cell_type": "code",
      "execution_count": 71,
      "id": "260282ad",
      "metadata": {
        "id": "260282ad",
        "outputId": "a9458755-a8c6-49b6-f2a5-797853a7ea08",
        "colab": {
          "base_uri": "https://localhost:8080/"
        }
      },
      "outputs": [
        {
          "output_type": "execute_result",
          "data": {
            "text/plain": [
              "<re.Match object; span=(0, 4), match='1212'>"
            ]
          },
          "metadata": {},
          "execution_count": 71
        }
      ],
      "source": [
        "re.search(r'(\\d\\d)\\1', '121212') #(\\d\\d)  가 한번 반복(\\1 => 1번 group과 같은 내용이 한번 더 있다는 뜻)"
      ]
    },
    {
      "cell_type": "code",
      "execution_count": 72,
      "id": "capital-establishment",
      "metadata": {
        "id": "capital-establishment",
        "outputId": "b4078712-f484-470d-ce28-92bc3b3338e2",
        "colab": {
          "base_uri": "https://localhost:8080/"
        }
      },
      "outputs": [
        {
          "output_type": "execute_result",
          "data": {
            "text/plain": [
              "<re.Match object; span=(0, 6), match='121212'>"
            ]
          },
          "metadata": {},
          "execution_count": 72
        }
      ],
      "source": [
        "re.search(r'(\\d\\d)\\1\\1', '121212')#(\\d\\d) 가 두 번 반복(\\1 => 1번 group과 같은 내용이 두번 더 있다는 뜻)"
      ]
    },
    {
      "cell_type": "code",
      "execution_count": 73,
      "id": "proper-reproduction",
      "metadata": {
        "id": "proper-reproduction",
        "outputId": "87f5c170-60eb-4e29-c718-ddbcf3c87f1c",
        "colab": {
          "base_uri": "https://localhost:8080/"
        }
      },
      "outputs": [
        {
          "output_type": "execute_result",
          "data": {
            "text/plain": [
              "('12', '34')"
            ]
          },
          "metadata": {},
          "execution_count": 73
        }
      ],
      "source": [
        "subr = re.search(r'(\\d\\d)(\\d\\d)', '1234')\n",
        "subr.group(1), subr.group(2)"
      ]
    },
    {
      "cell_type": "code",
      "execution_count": 74,
      "id": "french-anaheim",
      "metadata": {
        "id": "french-anaheim",
        "outputId": "aaea04ea-c424-42d5-b80f-1cd2ed71611f",
        "colab": {
          "base_uri": "https://localhost:8080/",
          "height": 35
        }
      },
      "outputs": [
        {
          "output_type": "execute_result",
          "data": {
            "text/plain": [
              "'1234defg'"
            ],
            "application/vnd.google.colaboratory.intrinsic+json": {
              "type": "string"
            }
          },
          "metadata": {},
          "execution_count": 74
        }
      ],
      "source": [
        "re.sub(r'abc', subr.group(1)+subr.group(2), 'abcdefg')"
      ]
    },
    {
      "cell_type": "code",
      "execution_count": 75,
      "id": "equivalent-knowing",
      "metadata": {
        "id": "equivalent-knowing",
        "outputId": "58940205-0655-4b22-a2c0-4467e1a71131",
        "colab": {
          "base_uri": "https://localhost:8080/"
        }
      },
      "outputs": [
        {
          "output_type": "stream",
          "name": "stdout",
          "text": [
            "<re.Match object; span=(0, 5), match='Start'>\n"
          ]
        }
      ],
      "source": [
        "sentence = 'Start a sentence and then bring it to an end'\n",
        "\n",
        "pattern = re.compile(r'start', re.I) # ignorecase\n",
        "\n",
        "matches = pattern.search(sentence)\n",
        "\n",
        "print(matches)"
      ]
    },
    {
      "cell_type": "markdown",
      "id": "031c9e9e",
      "metadata": {
        "id": "031c9e9e"
      },
      "source": [
        "```\n",
        "숫자만 가능 : /^[0-9]+$/\n",
        "이메일 형식만 가능 : /^([\\w-]+(?:\\.[\\w-]+)*)@((?:[\\w-]+\\.)*\\w[\\w-]{0,66})\\.([a-z]{2,6}(?:\\.[a-z]{2})?)$/\n",
        "한글만 가능 : /^[가-힣]+$/\n",
        "한글,띄어쓰기만 가능 : /^[가-힣\\s]+$/\n",
        "영문만 가능 : /^[a-zA-Z]+$/\n",
        "영문,띄어쓰기만 가능: /^[a-zA-Z\\s]+$/\n",
        "전화번호 형태 : /^[0-9]{2,3}-[0-9]{3,4}-[0-9]{4}$/\n",
        "도메인 형태 : /^(((http(s?))\\:\\/\\/)?)([0-9a-zA-Z\\-]+\\.)+[a-zA-Z]{2,6}(\\:[0-9]+)?(\\/\\S*)?$/\n",
        "도메인 형태 : /^((http(s?))\\:\\/\\/)([0-9a-zA-Z\\-]+\\.)+[a-zA-Z]{2,6}(\\:[0-9]+)?(\\/\\S*)?$/\n",
        "도메인 형태 : /^[^((http(s?))\\:\\/\\/)]([0-9a-zA-Z\\-]+\\.)+[a-zA-Z]{2,6}(\\:[0-9]+)?(\\/\\S*)?$/\n",
        "한글과 영문만 가능 : /^[가-힣a-zA-Z]+$/\n",
        "숫자,알파벳만 가능 : /^[a-zA-Z0-9]+$/\n",
        "주민번호, -까지 포함된 문자열로 검색 : /^(?:[0-9]{2}(?:0[1-9]|1[0-2])(?:0[1-9]|[1,2][0-9]|3[0,1]))-[1-4][0-9]{6}$/\n",
        "\n",
        "출처: https://gocoding.tistory.com/93 [Developer Factory]\n",
        "```"
      ]
    },
    {
      "cell_type": "markdown",
      "id": "ce15b720",
      "metadata": {
        "id": "ce15b720"
      },
      "source": [
        "```\n",
        "^The\tThe로 시작하는 문자열\n",
        "of despair$\tof despair로 끝나는 문자열\n",
        "^abc$\tabc로 시작하고 abc로 끝나는 문자열 (abc 라는 문자열도 해당됨)\n",
        "notice\tnotice가 들어 있는 문자열\n",
        "\n",
        "ab*\ta 다음에 b가 0개 이상 (a, ab, abbb 등등)\n",
        "ab+\ta 다음에 b가 1개 이상 (ab, abbb 등등)\n",
        "ab?\ta 다음에 b가 있거나 없거나 (ab 또는 a)\n",
        "\n",
        "ab{2}\ta 다음에 b가 2개 있는 문자열 (abb)\n",
        "ab{2,}\ta 다음에 b가 2개 이상 (abb, abbbb 등등)\n",
        "ab{3,5}\ta 다음에 b가 3개에서 5개 사이 (abbb, abbbb, 또는 abbbbb)\n",
        "*, +, ?는 각각 {0,}, {1,}, {0,1}과 같습니다.\n",
        "\n",
        "( )는 문자열을 묶음 처리할 때 사용\n",
        "a(bc)*\ta 다음에 bc가 0개 이상 (묶음 처리)\n",
        "a(bc){1,5}\ta 다음에 bc가 1개에서 5개 사이\n",
        "\n",
        "hi|hello\thi나 hello가 들어 있는 문자열\n",
        "(b|cd)ef\tbef 또는 cdef\n",
        "(a|b)*c\ta와 b가 섞여서 여러번 나타나고 그뒤에 c가 붙어있는 패턴\n",
        "\n",
        ". (점)\t임의의 한 문자\n",
        "^.{3}$\t3문자로만 되어 있는 문자열\n",
        "\n",
        "[ ]\t괄호 안에 있는 내용 중 임의의 한 문자\n",
        "[^ ]\t첫문자로 ^를 쓰면 괄호 내용의 부정. 즉 괄호 안에 포함되지 않는 한 문자\n",
        "[ab]\ta 또는 b (a|b 와 동일한 표현)\n",
        "[a-d]\t소문자 a에서 d까지 (a|b|c|d 또는 [abcd] 와 동일)\n",
        "^[a-zA-Z]\t영문자로 시작하는 문자열\n",
        "[0-9]%\t% 문자 앞에 하나의 숫자가 붙어 있는 패턴\n",
        "%[^a-zA-Z]%\t두 % 문자 사이에 영문자가 없는 패턴\n",
        "\n",
        "특수 문자 자체를 검색하기 및 사용하기\n",
        "\\^\t^\t\\.\t.\n",
        "\\[\t[\t\\$\t$\n",
        "\\(\t(\t\\)\t)\n",
        "\\|\t|\t\\*\t*\n",
        "\\+\t+\t\\?\t?\n",
        "\\{\t{\t\\\\\t\\\n",
        "\\n\t줄넘김 문자\t\\r\t리턴 문자\n",
        "\\w\t알파벳과 _ (언더바)\t\\W\t알파벳과 _ 가 아닌 것\n",
        "\\s\t빈 공간(space)\t\\S\t빈 공간이 아닌 것\n",
        "\\d\t숫자\t\\D\t숫자가 아닌 것\n",
        "\\b\t단어와 단어 사이의 경계\t\\B\t단어 사이의 경계가 아닌 것\n",
        "\\t\tTab 문자\t\\xnn\t16진수 nn에 해당하는 문자\n",
        "[ ] 안에서는 특수 문자가 모두 효력을 잃게 됩니다.\n",
        "\n",
        "검색 + 치환을 위한 하부식(부분식)\n",
        "( )로 둘러싼 부분은 각각 하나의 덩어리로 취급해서,\n",
        "\n",
        "검색된 각각의 ( )안에 해당되는 내용은 변경할 내용에서 $1, $2, .. 등으로 지정해서 쓸 수 있습니다.\n",
        "예제) mp3파일 이름 바꾸기\n",
        "검색 : (.*) - (.*)\\.mp3 .*은 길이에 상관없이 임의의 문자열, \\.은 점\n",
        "치환 : $2 - $1.mp3 앞에서 검색한 ( )안에 해당되는 내용끼리 순서 바꾸기\n",
        "ex) \"제목 - 연주자.mp3\" Þ \"연주자 - 제목.mp3\"\n",
        "앞에서 정의한 하부식을 다시 활용하기 (제가 잘못 이해한 것일 수도 있는데)\n",
        "\\n은 ( ) 하부식 중에서 n번째 하부식을 가리킵니다.\n",
        "예제) (.+)\\1+\n",
        "\\1로 되어 있으니까 첫번째 부분식 (.+)를 가리킵니다. 위 내용을 해석하자면, 일단 (.+)가 있으니까 이에 해당되는 내용을 찾고, \\1+이 있으니까 첫번째 부분식 (.+)와 똑같은 내용이 그 뒤에 1번 이상 있는 문자열을 찾습니다.\n",
        "예제) abab같은 문자열이 위에 해당되는데, 일단 (.+) 즉 임의의 문자열 ab를 찾고 그 뒤에 \\1+로 첫번째 부분식을 다시 1번 이상 있는 것을 찾으니까 뒤의 ab가 이에 해당합니다.\n",
        "\n",
        "\n",
        "변경자 ? 검색 방식 변경\n",
        "(?i)\t대소문자 무시 (기본값)\n",
        "(?-i)\t대소문자 구분\n",
        "(?g)\t\"greedy\" 모드로 전환 (기본값)\n",
        "(?-g)\t\"greedy\" 모드 해제, 따라서 \"+\"는 \"+?\"과 동일한 것으로 인식\n",
        "\n",
        "\n",
        "출처: https://gocoding.tistory.com/93 [Developer Factory]\n",
        "```"
      ]
    }
  ],
  "metadata": {
    "kernelspec": {
      "display_name": "Python 3",
      "language": "python",
      "name": "python3"
    },
    "language_info": {
      "codemirror_mode": {
        "name": "ipython",
        "version": 3
      },
      "file_extension": ".py",
      "mimetype": "text/x-python",
      "name": "python",
      "nbconvert_exporter": "python",
      "pygments_lexer": "ipython3",
      "version": "3.9.1"
    },
    "colab": {
      "name": "regular_expression_summary.ipynb",
      "provenance": [],
      "include_colab_link": true
    }
  },
  "nbformat": 4,
  "nbformat_minor": 5
}