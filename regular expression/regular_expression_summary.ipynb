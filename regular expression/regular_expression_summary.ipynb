{
  "cells": [
    {
      "cell_type": "markdown",
      "id": "f47a473c",
      "metadata": {
        "id": "f47a473c"
      },
      "source": [
        "### [regex101](https://regex101.com/)\n",
        "동작 설명이 잘되어 있고, 코드작성예제도 같이 제공함"
      ]
    },
    {
      "cell_type": "markdown",
      "id": "6ffe2293",
      "metadata": {
        "id": "6ffe2293"
      },
      "source": [
        "###  [Pythex: a Python regular expression editor](https://pythex.org/) \n",
        "#### Pythex is a real-time regular expression editor for Python, a quick way to test your regular expressions."
      ]
    },
    {
      "cell_type": "markdown",
      "id": "a2b383f4",
      "metadata": {
        "id": "a2b383f4"
      },
      "source": [
        "### [PyRegex: Your Python Regular Expression's Best Buddy](http://www.pyregex.com/)"
      ]
    },
    {
      "cell_type": "code",
      "execution_count": 95,
      "id": "9ef55445",
      "metadata": {
        "id": "9ef55445"
      },
      "outputs": [],
      "source": [
        "import re"
      ]
    },
    {
      "cell_type": "markdown",
      "id": "50993abc",
      "metadata": {
        "id": "50993abc"
      },
      "source": [
        "#### metacharacter (Need to be escaped) :\n",
        ". ^ $ * + ? { } [ ] \\ | ( ) <br>"
      ]
    },
    {
      "cell_type": "markdown",
      "id": "45938e72",
      "metadata": {
        "id": "45938e72"
      },
      "source": [
        "[ ] 안에서는 특수 문자 역할을 하지 못함"
      ]
    },
    {
      "cell_type": "markdown",
      "id": "4f7e9f86",
      "metadata": {
        "id": "4f7e9f86"
      },
      "source": [
        "[^5] -> will match any character except '5'. [5^] will match either a '5' or a '^'."
      ]
    },
    {
      "cell_type": "code",
      "execution_count": 96,
      "id": "e2f929cd",
      "metadata": {
        "colab": {
          "base_uri": "https://localhost:8080/"
        },
        "id": "e2f929cd",
        "outputId": "d26f8243-6d0a-4df3-d243-9275cf807d60"
      },
      "outputs": [
        {
          "output_type": "execute_result",
          "data": {
            "text/plain": [
              "<re.Match object; span=(0, 7), match='abcbbdb'>"
            ]
          },
          "metadata": {},
          "execution_count": 96
        }
      ],
      "source": [
        "p = re.compile('a[bcd]*b')\n",
        "p.match('abcbbdba')"
      ]
    },
    {
      "cell_type": "code",
      "execution_count": 97,
      "id": "e39d782b",
      "metadata": {
        "colab": {
          "base_uri": "https://localhost:8080/"
        },
        "id": "e39d782b",
        "outputId": "7a8c18b2-2e00-431d-c947-6e7c30d0c3ab"
      },
      "outputs": [
        {
          "output_type": "execute_result",
          "data": {
            "text/plain": [
              "('abcbbdb', 'abcbbdb')"
            ]
          },
          "metadata": {},
          "execution_count": 97
        }
      ],
      "source": [
        "p.match('abcbbdba').group(), p.match('abcbbdba')[0]"
      ]
    },
    {
      "cell_type": "code",
      "execution_count": 98,
      "id": "65087aaf",
      "metadata": {
        "colab": {
          "base_uri": "https://localhost:8080/"
        },
        "id": "65087aaf",
        "outputId": "838f9854-11a2-4521-eb8c-969df2d0c388"
      },
      "outputs": [
        {
          "output_type": "execute_result",
          "data": {
            "text/plain": [
              "<re.Match object; span=(0, 5), match=\"'uabc\">"
            ]
          },
          "metadata": {},
          "execution_count": 98
        }
      ],
      "source": [
        "p = re.compile(\"^'u[a-z]*\")\n",
        "p.match(\"'uabc de'\")"
      ]
    },
    {
      "cell_type": "code",
      "execution_count": 99,
      "id": "6d3e122a",
      "metadata": {
        "colab": {
          "base_uri": "https://localhost:8080/"
        },
        "id": "6d3e122a",
        "outputId": "74719fe0-d4be-4954-8b74-8616bd04d44f"
      },
      "outputs": [
        {
          "output_type": "execute_result",
          "data": {
            "text/plain": [
              "<re.Match object; span=(0, 5), match='abcde'>"
            ]
          },
          "metadata": {},
          "execution_count": 99
        }
      ],
      "source": [
        "pattern = re.compile(\"^[a-zA-Z0-9_]*\")\n",
        "pattern.match('abcde fgh')"
      ]
    },
    {
      "cell_type": "code",
      "execution_count": 100,
      "id": "11299fc9",
      "metadata": {
        "colab": {
          "base_uri": "https://localhost:8080/",
          "height": 35
        },
        "id": "11299fc9",
        "outputId": "2226a3e9-a7c3-487d-b29e-8311e8a3097e"
      },
      "outputs": [
        {
          "output_type": "execute_result",
          "data": {
            "text/plain": [
              "'abcde'"
            ],
            "application/vnd.google.colaboratory.intrinsic+json": {
              "type": "string"
            }
          },
          "metadata": {},
          "execution_count": 100
        }
      ],
      "source": [
        "pattern.match('abcde fgh').group()"
      ]
    },
    {
      "cell_type": "code",
      "execution_count": 101,
      "id": "78834a51",
      "metadata": {
        "colab": {
          "base_uri": "https://localhost:8080/"
        },
        "id": "78834a51",
        "outputId": "bd33b2ad-ba9f-49c5-a5d4-2d354b3c2721"
      },
      "outputs": [
        {
          "output_type": "execute_result",
          "data": {
            "text/plain": [
              "<re.Match object; span=(0, 5), match='abcde'>"
            ]
          },
          "metadata": {},
          "execution_count": 101
        }
      ],
      "source": [
        "# \\w is equivalent to [A-Za-z0-9_] \n",
        "pattern = re.compile(\"^\\w*\")\n",
        "pattern.match('abcde fgh')"
      ]
    },
    {
      "cell_type": "markdown",
      "id": "8c80370d",
      "metadata": {
        "id": "8c80370d"
      },
      "source": [
        "\\d is equivalent to the class [0-9].\n",
        "\n",
        "\\D is equivalent to the class [^0-9].\n",
        "\n",
        "\\s is equivalent to the class [ \\t\\n\\r\\f\\v].\n",
        "\n",
        "\\S is equivalent to the class [^ \\t\\n\\r\\f\\v].\n",
        "\n",
        "\\w is equivalent to the class [a-zA-Z0-9_].\n",
        "\n",
        "\\W is equivalent to the class [^a-zA-Z0-9_]."
      ]
    },
    {
      "cell_type": "markdown",
      "id": "7967026b",
      "metadata": {
        "id": "7967026b"
      },
      "source": [
        "[\\s,.] is a character class that will match any whitespace character, or ',' or '.'."
      ]
    },
    {
      "cell_type": "markdown",
      "source": [
        "```\n",
        "아래 예제 pattern 설명\n",
        "정수 확인하기\n",
        "^는 문자열의 시작.\n",
        "\\-? 이 숫자가 음수이거나 양수일 수 있음을 나타냄.\n",
        "[1-9]는 숫자의 첫 번째 자리표시. 1에서 9 사이의 숫자 여야하며 0이 아니어야 함. 0으로 시작하지 않는 숫자\n",
        "[0-9]*는 다음 숫자를 나타냄. 자릿수는 0을 포함하여 임의 일 수 있음.\n",
        "$는 문자열의 끝 표시.\n",
        "```"
      ],
      "metadata": {
        "id": "5GlIGH7m_6LT"
      },
      "id": "5GlIGH7m_6LT"
    },
    {
      "cell_type": "code",
      "source": [
        "pattern = re.compile(r'^\\-?[1-9][0-9]*$') # 0으로 시작하지 않는 정수\n",
        "int_num = [ 0, 0., 10, 10.1, -20, -20.1]\n",
        "for num in int_num:\n",
        "  if pattern.match(str(num)):\n",
        "    print(pattern.match(str(num))[0])\n",
        "  else:\n",
        "    print('Not an integer')"
      ],
      "metadata": {
        "colab": {
          "base_uri": "https://localhost:8080/"
        },
        "id": "Z-fAlJTsAUXh",
        "outputId": "07421b93-9d62-4725-ac61-4ee953c31203"
      },
      "id": "Z-fAlJTsAUXh",
      "execution_count": 102,
      "outputs": [
        {
          "output_type": "stream",
          "name": "stdout",
          "text": [
            "Not an integer\n",
            "Not an integer\n",
            "10\n",
            "Not an integer\n",
            "-20\n",
            "Not an integer\n"
          ]
        }
      ]
    },
    {
      "cell_type": "markdown",
      "source": [
        "```\n",
        "아래 예제 pattern 설명\n",
        "(\\d+)? : 숫자가 한개 이상 있는 묶음(\\d+)이 있거나 없거나(?)\n",
        ".? : 소숫점이 있거나 없거나,\n",
        "\\d* : 숫자가 없거나 많이 있거나,\n",
        "[^a-zA-Z] : 이후에는 영문자로 시작하지 않는 문자열\n",
        "```"
      ],
      "metadata": {
        "id": "00QxPxlgD-J5"
      },
      "id": "00QxPxlgD-J5"
    },
    {
      "cell_type": "code",
      "source": [
        "pattern = re.compile(r'(\\d+)?.?\\d*[^a-zA-Z]') # 숫자(.숫자)이면서 문자로 이어지지 않는 형식\n",
        "str_list = ['1num', '123', '345,23', 'num1', '2.3str']\n",
        "for sl in str_list:\n",
        "  if pattern.match(sl):\n",
        "    print(pattern.match(sl))\n",
        "  else:\n",
        "    print('None')"
      ],
      "metadata": {
        "colab": {
          "base_uri": "https://localhost:8080/"
        },
        "id": "B-2knT_yClZp",
        "outputId": "bd6f2c4e-980d-4b4e-b3b8-eff215c76032"
      },
      "id": "B-2knT_yClZp",
      "execution_count": 103,
      "outputs": [
        {
          "output_type": "stream",
          "name": "stdout",
          "text": [
            "<re.Match object; span=(0, 1), match='1'>\n",
            "<re.Match object; span=(0, 3), match='123'>\n",
            "<re.Match object; span=(0, 6), match='345,23'>\n",
            "None\n",
            "<re.Match object; span=(0, 3), match='2.3'>\n"
          ]
        }
      ]
    },
    {
      "cell_type": "markdown",
      "id": "photographic-strap",
      "metadata": {
        "id": "photographic-strap"
      },
      "source": [
        "![snippet.JPG](attachment:snippet.JPG)"
      ]
    },
    {
      "cell_type": "code",
      "execution_count": 104,
      "id": "df5e26c5",
      "metadata": {
        "id": "df5e26c5"
      },
      "outputs": [],
      "source": [
        "p = re.compile('ab*')\n",
        "p = re.compile('ab*', re.IGNORECASE)"
      ]
    },
    {
      "cell_type": "markdown",
      "id": "97ad2e8d",
      "metadata": {
        "id": "97ad2e8d"
      },
      "source": [
        "### Python’s raw string notation for regular expressions\n",
        "backslashes are not handled in any special way in a string literal prefixed with 'r', so r\"\\n\" is a two-character string containing '\\' and 'n', while \"\\n\" is a one-character string containing a newline. Regular expressions will often be written in Python code using this raw string notation.\n",
        "#### <span style='color:red'> r'\\n' == '\\\\' + 'n' while '\\n' == one character string </span>"
      ]
    },
    {
      "cell_type": "markdown",
      "id": "9bd8eb09",
      "metadata": {
        "id": "9bd8eb09"
      },
      "source": [
        "### Performing Matches"
      ]
    },
    {
      "cell_type": "markdown",
      "id": "4897a3f0",
      "metadata": {
        "id": "4897a3f0"
      },
      "source": [
        "<table border=\"1\">\n",
        "<th>Method/Attribute</th>\n",
        "<th>Purpose</th>\n",
        "<tr align =\"center\"><!-- 1번째 줄 시작 -->\n",
        "    <td>match()</td>\n",
        "    <td>Determine if the RE matches at the beginning of the string.</td>\n",
        "</tr><!-- 1번째 줄 끝 -->\n",
        "<tr align =\"center\"><!-- 2번째 줄 시작 -->\n",
        "    <td>search()</td>\n",
        "    <td>Scan through a string, looking for any location where this RE matches.</td>\n",
        "<tr align =\"center\"><!-- 3번째 줄 시작 -->\n",
        "    <td>findall()</td>\n",
        "    <td>Find all substrings where the RE matches, and returns them as a list.</td>\n",
        "</tr><!-- 3번째 줄 끝 -->\n",
        "<tr align =\"center\"><!-- 4번째 줄 시작 -->\n",
        "    <td>finditer()</td>\n",
        "    <td>Find all substrings where the RE matches, and returns them as an iterator.</td>\n",
        "</tr><!-- 4번째 줄 끝 -->\n",
        "\n",
        "</table>\n",
        "\n",
        "match() and search() return <span style='color:red'>None</span> if no match can be found. "
      ]
    },
    {
      "cell_type": "code",
      "execution_count": 105,
      "id": "d0ed5a1c",
      "metadata": {
        "colab": {
          "base_uri": "https://localhost:8080/"
        },
        "id": "d0ed5a1c",
        "outputId": "c24a9b81-f669-42cd-a2f8-4f1fb00ee34f"
      },
      "outputs": [
        {
          "output_type": "stream",
          "name": "stdout",
          "text": [
            "None\n"
          ]
        }
      ],
      "source": [
        "p = re.compile('[a-z]+')\n",
        "print(p.match(\"\"))"
      ]
    },
    {
      "cell_type": "code",
      "execution_count": 106,
      "id": "3fc495fe",
      "metadata": {
        "colab": {
          "base_uri": "https://localhost:8080/"
        },
        "id": "3fc495fe",
        "outputId": "6ca4dc83-1124-4896-d916-e8f673a682cf"
      },
      "outputs": [
        {
          "output_type": "execute_result",
          "data": {
            "text/plain": [
              "<re.Match object; span=(0, 5), match='tempo'>"
            ]
          },
          "metadata": {},
          "execution_count": 106
        }
      ],
      "source": [
        "m = p.match('tempo')\n",
        "m"
      ]
    },
    {
      "cell_type": "code",
      "execution_count": 107,
      "id": "d4673572",
      "metadata": {
        "colab": {
          "base_uri": "https://localhost:8080/",
          "height": 0
        },
        "id": "d4673572",
        "outputId": "d675179a-2c0f-48c1-867f-c351ed6b0a17"
      },
      "outputs": [
        {
          "output_type": "execute_result",
          "data": {
            "text/plain": [
              "'tempo'"
            ],
            "application/vnd.google.colaboratory.intrinsic+json": {
              "type": "string"
            }
          },
          "metadata": {},
          "execution_count": 107
        }
      ],
      "source": [
        "m[0]"
      ]
    },
    {
      "cell_type": "markdown",
      "id": "47a4637a",
      "metadata": {
        "id": "47a4637a"
      },
      "source": [
        "<table border=\"1\">\n",
        "<th>Method/Attribute</th>\n",
        "<th>Purpose</th>\n",
        "<tr align =\"center\"><!-- 1번째 줄 시작 -->\n",
        "    <td>group()</td>\n",
        "    <td>Return the string matched by the RE</td>\n",
        "</tr><!-- 1번째 줄 끝 -->\n",
        "<tr align =\"center\"><!-- 2번째 줄 시작 -->\n",
        "    <td>start()</td>\n",
        "    <td>Return the starting position of the match</td>\n",
        "<tr align =\"center\"><!-- 3번째 줄 시작 -->\n",
        "    <td>end()</td>\n",
        "    <td>Return the ending position of the match</td>\n",
        "</tr><!-- 3번째 줄 끝 -->\n",
        "<tr align =\"center\"><!-- 4번째 줄 시작 -->\n",
        "    <td>span()</td>\n",
        "    <td>Return a tuple containing the (start, end) positions of the match</td>\n",
        "</tr><!-- 4번째 줄 끝 -->\n",
        "\n",
        "</table>"
      ]
    },
    {
      "cell_type": "code",
      "execution_count": 108,
      "id": "8ea420d7",
      "metadata": {
        "colab": {
          "base_uri": "https://localhost:8080/",
          "height": 0
        },
        "id": "8ea420d7",
        "outputId": "934eb347-1a85-40ec-d5f9-208bf092081c"
      },
      "outputs": [
        {
          "output_type": "execute_result",
          "data": {
            "text/plain": [
              "'tempo'"
            ],
            "application/vnd.google.colaboratory.intrinsic+json": {
              "type": "string"
            }
          },
          "metadata": {},
          "execution_count": 108
        }
      ],
      "source": [
        "m.group()"
      ]
    },
    {
      "cell_type": "code",
      "execution_count": 109,
      "id": "2bcee44f",
      "metadata": {
        "colab": {
          "base_uri": "https://localhost:8080/"
        },
        "id": "2bcee44f",
        "outputId": "30309da8-7dc6-466b-e305-dfb39424181f"
      },
      "outputs": [
        {
          "output_type": "execute_result",
          "data": {
            "text/plain": [
              "(0, 5)"
            ]
          },
          "metadata": {},
          "execution_count": 109
        }
      ],
      "source": [
        "m.start(), m.end()"
      ]
    },
    {
      "cell_type": "code",
      "execution_count": 110,
      "id": "960dbf1d",
      "metadata": {
        "colab": {
          "base_uri": "https://localhost:8080/"
        },
        "id": "960dbf1d",
        "outputId": "834c9832-54ae-4782-ae27-a7753bf9cc7c"
      },
      "outputs": [
        {
          "output_type": "execute_result",
          "data": {
            "text/plain": [
              "(0, 5)"
            ]
          },
          "metadata": {},
          "execution_count": 110
        }
      ],
      "source": [
        "m.span()"
      ]
    },
    {
      "cell_type": "code",
      "execution_count": 111,
      "id": "7c0e9203",
      "metadata": {
        "colab": {
          "base_uri": "https://localhost:8080/"
        },
        "id": "7c0e9203",
        "outputId": "8dc117e3-d593-42d7-dfa9-4efc8ff0d854"
      },
      "outputs": [
        {
          "output_type": "stream",
          "name": "stdout",
          "text": [
            "<re.Match object; span=(4, 11), match='message'>\n"
          ]
        }
      ],
      "source": [
        "m = p.search('::: message'); print(m)"
      ]
    },
    {
      "cell_type": "code",
      "execution_count": 112,
      "id": "9a127033",
      "metadata": {
        "colab": {
          "base_uri": "https://localhost:8080/"
        },
        "id": "9a127033",
        "outputId": "e2b84df6-732a-493d-a0f2-fd935495fe2e"
      },
      "outputs": [
        {
          "output_type": "execute_result",
          "data": {
            "text/plain": [
              "('message', (4, 11))"
            ]
          },
          "metadata": {},
          "execution_count": 112
        }
      ],
      "source": [
        "m.group(), m.span()"
      ]
    },
    {
      "cell_type": "code",
      "execution_count": 113,
      "id": "d15df6db",
      "metadata": {
        "colab": {
          "base_uri": "https://localhost:8080/"
        },
        "id": "d15df6db",
        "outputId": "46ef6182-d136-4a85-b0aa-2665546db1bf"
      },
      "outputs": [
        {
          "output_type": "stream",
          "name": "stdout",
          "text": [
            "No match\n"
          ]
        }
      ],
      "source": [
        "p = re.compile('go')\n",
        "m = p.match('string goes here') # search와 차이점\n",
        "# The match() function only checks if the RE matches at the beginning of the string \n",
        "# while search() will scan forward through the string for a match.\n",
        "if m:\n",
        "    print('Match found: ', m.group())\n",
        "else:\n",
        "    print('No match')"
      ]
    },
    {
      "cell_type": "code",
      "execution_count": 114,
      "id": "b6fac95d",
      "metadata": {
        "colab": {
          "base_uri": "https://localhost:8080/"
        },
        "id": "b6fac95d",
        "outputId": "59558c3b-e469-4ecc-cec8-787b3b24976c"
      },
      "outputs": [
        {
          "output_type": "stream",
          "name": "stdout",
          "text": [
            "Match found:  go\n"
          ]
        }
      ],
      "source": [
        "p = re.compile('go')\n",
        "m = p.search('string goes here')  # match와 차이점\n",
        "if m:\n",
        "    print('Match found: ', m.group())\n",
        "else:\n",
        "    print('No match')"
      ]
    },
    {
      "cell_type": "code",
      "execution_count": 115,
      "id": "2a404f27",
      "metadata": {
        "id": "2a404f27"
      },
      "outputs": [],
      "source": [
        "p.match( 'string goes here' )"
      ]
    },
    {
      "cell_type": "code",
      "execution_count": 116,
      "id": "ba211c9e",
      "metadata": {
        "colab": {
          "base_uri": "https://localhost:8080/"
        },
        "id": "ba211c9e",
        "outputId": "612f6a7e-fe53-4ee2-b6ae-80131f5b5501"
      },
      "outputs": [
        {
          "output_type": "execute_result",
          "data": {
            "text/plain": [
              "['12', '11', '10']"
            ]
          },
          "metadata": {},
          "execution_count": 116
        }
      ],
      "source": [
        "p = re.compile(r'\\d+')\n",
        "p.findall('12 drummers drumming, 11 pipers piping, 10 lords a-leaping')"
      ]
    },
    {
      "cell_type": "code",
      "execution_count": 117,
      "id": "8c8510af",
      "metadata": {
        "colab": {
          "base_uri": "https://localhost:8080/"
        },
        "id": "8c8510af",
        "outputId": "f6c9c507-e228-4e74-99b8-41ff0dd2f5bb"
      },
      "outputs": [
        {
          "output_type": "stream",
          "name": "stdout",
          "text": [
            "(0, 2)\n",
            "(22, 24)\n",
            "(40, 42)\n"
          ]
        }
      ],
      "source": [
        "iterator = p.finditer('12 drummers drumming, 11 pipers piping, 10 lords a-leaping')\n",
        "iterator  \n",
        "\n",
        "for match in iterator:\n",
        "    print(match.span())"
      ]
    },
    {
      "cell_type": "code",
      "execution_count": 118,
      "id": "subjective-hands",
      "metadata": {
        "colab": {
          "base_uri": "https://localhost:8080/"
        },
        "id": "subjective-hands",
        "outputId": "809d407d-aeda-4bcd-add8-54190941fd08"
      },
      "outputs": [
        {
          "output_type": "stream",
          "name": "stdout",
          "text": [
            "<re.Match object; span=(1, 24), match='CoreyMSchafer@gmail.com'>\n",
            "<re.Match object; span=(25, 53), match='corey.schafer@university.edu'>\n",
            "<re.Match object; span=(54, 83), match='corey-321-schafer@my-work.net'>\n"
          ]
        }
      ],
      "source": [
        "emails = '''\n",
        "CoreyMSchafer@gmail.com\n",
        "corey.schafer@university.edu\n",
        "corey-321-schafer@my-work.net\n",
        "'''\n",
        "\n",
        "pattern = re.compile(r'[a-zA-Z0-9_.+-]+@[a-zA-Z0-9-]+\\.[a-zA-Z0-9-.]+')\n",
        "\n",
        "matches = pattern.finditer(emails)\n",
        "\n",
        "for match in matches:\n",
        "    print(match)"
      ]
    },
    {
      "cell_type": "code",
      "execution_count": 119,
      "id": "a3b76e4f",
      "metadata": {
        "colab": {
          "base_uri": "https://localhost:8080/"
        },
        "id": "a3b76e4f",
        "outputId": "d1a2b53b-a0b7-416c-f812-f689d3da12dc"
      },
      "outputs": [
        {
          "output_type": "execute_result",
          "data": {
            "text/plain": [
              "<re.Match object; span=(0, 5), match='From '>"
            ]
          },
          "metadata": {},
          "execution_count": 119
        }
      ],
      "source": [
        "re.match(r'From\\s+', 'From amk Thu May 14 19:12:10 1998')  "
      ]
    },
    {
      "cell_type": "code",
      "execution_count": 120,
      "id": "08a02b2e",
      "metadata": {
        "id": "08a02b2e"
      },
      "outputs": [],
      "source": [
        "p = re.compile('ab*', re.IGNORECASE)\n",
        "p = re.compile('.*', re.DOTALL) # include newlines\n",
        "p = re.compile('.*', re.MULTILINE) # multiline matching"
      ]
    },
    {
      "cell_type": "markdown",
      "id": "c559c742",
      "metadata": {
        "id": "c559c742"
      },
      "source": [
        "| : Alternation, or the “or” operator. <br>\n",
        "^ : Matches at the beginning of lines"
      ]
    },
    {
      "cell_type": "code",
      "execution_count": 121,
      "id": "3909a946",
      "metadata": {
        "colab": {
          "base_uri": "https://localhost:8080/"
        },
        "id": "3909a946",
        "outputId": "30028b3d-e001-40da-c726-6a2b4e041f46"
      },
      "outputs": [
        {
          "output_type": "stream",
          "name": "stdout",
          "text": [
            "<re.Match object; span=(0, 4), match='From'>\n"
          ]
        }
      ],
      "source": [
        "print(re.search('^From', 'From Here to Eternity')) "
      ]
    },
    {
      "cell_type": "code",
      "execution_count": 122,
      "id": "6e37d910",
      "metadata": {
        "colab": {
          "base_uri": "https://localhost:8080/"
        },
        "id": "6e37d910",
        "outputId": "39214601-f6fe-4de4-d1b0-cf1eb12f5b67"
      },
      "outputs": [
        {
          "output_type": "stream",
          "name": "stdout",
          "text": [
            "None\n"
          ]
        }
      ],
      "source": [
        "print(re.search('^From', 'Reciting From Memory'))"
      ]
    },
    {
      "cell_type": "markdown",
      "id": "52fec64d",
      "metadata": {
        "id": "52fec64d"
      },
      "source": [
        "$ : Matches at the end of a line"
      ]
    },
    {
      "cell_type": "code",
      "execution_count": 123,
      "id": "84c329eb",
      "metadata": {
        "colab": {
          "base_uri": "https://localhost:8080/"
        },
        "id": "84c329eb",
        "outputId": "2943d21a-8119-4e90-d142-8708ce0fab3e"
      },
      "outputs": [
        {
          "output_type": "stream",
          "name": "stdout",
          "text": [
            "<re.Match object; span=(6, 7), match='}'>\n"
          ]
        }
      ],
      "source": [
        "print(re.search('}$', '{block}')) "
      ]
    },
    {
      "cell_type": "code",
      "execution_count": 124,
      "id": "f064d871",
      "metadata": {
        "colab": {
          "base_uri": "https://localhost:8080/",
          "height": 0
        },
        "id": "f064d871",
        "outputId": "e6fdbb67-3869-447a-832e-ab4a6ffb544d"
      },
      "outputs": [
        {
          "output_type": "execute_result",
          "data": {
            "text/plain": [
              "'}'"
            ],
            "application/vnd.google.colaboratory.intrinsic+json": {
              "type": "string"
            }
          },
          "metadata": {},
          "execution_count": 124
        }
      ],
      "source": [
        "re.search('}$', '{block}')[0] # == re.search('}$', '{block}').group()"
      ]
    },
    {
      "cell_type": "code",
      "execution_count": 125,
      "id": "c50226ef",
      "metadata": {
        "colab": {
          "base_uri": "https://localhost:8080/"
        },
        "id": "c50226ef",
        "outputId": "61df4e68-46c1-4b19-c549-ad5a22fc2533"
      },
      "outputs": [
        {
          "output_type": "stream",
          "name": "stdout",
          "text": [
            "None\n"
          ]
        }
      ],
      "source": [
        "print(re.search('}$', '{block} '))"
      ]
    },
    {
      "cell_type": "code",
      "execution_count": 126,
      "id": "ee08bed3",
      "metadata": {
        "colab": {
          "base_uri": "https://localhost:8080/"
        },
        "id": "ee08bed3",
        "outputId": "81fd6784-10a5-4def-caac-a937918659b5"
      },
      "outputs": [
        {
          "output_type": "stream",
          "name": "stdout",
          "text": [
            "<re.Match object; span=(6, 7), match='}'>\n"
          ]
        }
      ],
      "source": [
        "print(re.search('}$', '{block}\\n'))"
      ]
    },
    {
      "cell_type": "markdown",
      "id": "8b090588",
      "metadata": {
        "id": "8b090588"
      },
      "source": [
        "\\A : Matches only at the start of the string. When not in MULTILINE mode, <span style='color:red'> \\A and ^ are effectively the same. In MULTILINE mode, they’re different</span>: \\A still matches only at the beginning of the string, but ^ may match at any location inside the string that follows a newline character."
      ]
    },
    {
      "cell_type": "markdown",
      "id": "6df0194c",
      "metadata": {
        "id": "6df0194c"
      },
      "source": [
        "\\b : Word boundary. This is a zero-width assertion that matches only at the beginning or end of a word."
      ]
    },
    {
      "cell_type": "code",
      "execution_count": 127,
      "id": "b075f00c",
      "metadata": {
        "colab": {
          "base_uri": "https://localhost:8080/"
        },
        "id": "b075f00c",
        "outputId": "b33671f7-a14f-49a1-8bd3-0bc857e0df33"
      },
      "outputs": [
        {
          "output_type": "stream",
          "name": "stdout",
          "text": [
            "<re.Match object; span=(3, 8), match='class'>\n"
          ]
        }
      ],
      "source": [
        "p = re.compile(r'\\bclass\\b')\n",
        "print(p.search('no class at all'))"
      ]
    },
    {
      "cell_type": "code",
      "execution_count": 128,
      "id": "f958a992",
      "metadata": {
        "colab": {
          "base_uri": "https://localhost:8080/"
        },
        "id": "f958a992",
        "outputId": "15b02e40-a811-45f6-8787-9a1f95fd0cff"
      },
      "outputs": [
        {
          "output_type": "stream",
          "name": "stdout",
          "text": [
            "None\n"
          ]
        }
      ],
      "source": [
        "print(p.search('the declassified algorithm'))"
      ]
    },
    {
      "cell_type": "code",
      "execution_count": 129,
      "id": "07eb119e",
      "metadata": {
        "colab": {
          "base_uri": "https://localhost:8080/"
        },
        "id": "07eb119e",
        "outputId": "b81d9a4d-a935-40ca-a943-91ae78895be5"
      },
      "outputs": [
        {
          "output_type": "stream",
          "name": "stdout",
          "text": [
            "None\n"
          ]
        }
      ],
      "source": [
        "print(p.search('one subclass is'))"
      ]
    },
    {
      "cell_type": "markdown",
      "id": "3d380b7d",
      "metadata": {
        "id": "3d380b7d"
      },
      "source": [
        "### Grouping\n",
        "Groups are marked by the '(', ')' metacharacters."
      ]
    },
    {
      "cell_type": "code",
      "execution_count": 130,
      "id": "aab4f21a",
      "metadata": {
        "colab": {
          "base_uri": "https://localhost:8080/"
        },
        "id": "aab4f21a",
        "outputId": "611e7214-2e29-49ce-e752-897a605d0a75"
      },
      "outputs": [
        {
          "output_type": "execute_result",
          "data": {
            "text/plain": [
              "('ababababab', 0, 10, (0, 10))"
            ]
          },
          "metadata": {},
          "execution_count": 130
        }
      ],
      "source": [
        "p = re.compile('(ab)*')\n",
        "m = p.match('ababababab')\n",
        "m.group(), m.start(), m.end(), m.span()"
      ]
    },
    {
      "cell_type": "code",
      "execution_count": 131,
      "id": "422c38ef",
      "metadata": {
        "colab": {
          "base_uri": "https://localhost:8080/"
        },
        "id": "422c38ef",
        "outputId": "94be97e3-5992-42e9-c06f-ce47d9b70b57"
      },
      "outputs": [
        {
          "output_type": "execute_result",
          "data": {
            "text/plain": [
              "('ab',)"
            ]
          },
          "metadata": {},
          "execution_count": 131
        }
      ],
      "source": [
        "m.groups()"
      ]
    },
    {
      "cell_type": "code",
      "execution_count": 132,
      "id": "78c9c4eb",
      "metadata": {
        "id": "78c9c4eb"
      },
      "outputs": [],
      "source": [
        "p = re.compile('(a(b)c)d')\n",
        "m = p.match('abcd')"
      ]
    },
    {
      "cell_type": "code",
      "execution_count": 133,
      "id": "a0b9a1ad",
      "metadata": {
        "colab": {
          "base_uri": "https://localhost:8080/"
        },
        "id": "a0b9a1ad",
        "outputId": "4cf62bb1-138a-4c43-f5dd-838c914af2b3"
      },
      "outputs": [
        {
          "output_type": "execute_result",
          "data": {
            "text/plain": [
              "('abcd', 'abc', 'b')"
            ]
          },
          "metadata": {},
          "execution_count": 133
        }
      ],
      "source": [
        "m.group(0), m.group(1), m.group(2)"
      ]
    },
    {
      "cell_type": "code",
      "execution_count": 134,
      "id": "7c4d95e2",
      "metadata": {
        "colab": {
          "base_uri": "https://localhost:8080/"
        },
        "id": "7c4d95e2",
        "outputId": "e9a6849a-05b8-4997-deed-09343ac19a98"
      },
      "outputs": [
        {
          "output_type": "execute_result",
          "data": {
            "text/plain": [
              "2"
            ]
          },
          "metadata": {},
          "execution_count": 134
        }
      ],
      "source": [
        "len(m.groups())  # 전체를 제외한 group의 갯수\n",
        "# len(m.group()) => 주의 : 첫번째 ('abcd')의 스트링 문자 갯수를 반환함."
      ]
    },
    {
      "cell_type": "code",
      "execution_count": 135,
      "id": "94175030",
      "metadata": {
        "colab": {
          "base_uri": "https://localhost:8080/"
        },
        "id": "94175030",
        "outputId": "b230158a-629b-44d7-e80c-7fe8d603bb7e"
      },
      "outputs": [
        {
          "output_type": "execute_result",
          "data": {
            "text/plain": [
              "('abc', 'b')"
            ]
          },
          "metadata": {},
          "execution_count": 135
        }
      ],
      "source": [
        "m.groups()"
      ]
    },
    {
      "cell_type": "code",
      "execution_count": 136,
      "id": "5c8646df",
      "metadata": {
        "colab": {
          "base_uri": "https://localhost:8080/"
        },
        "id": "5c8646df",
        "outputId": "b422108a-06f3-4a6b-f087-527e1b553617"
      },
      "outputs": [
        {
          "output_type": "execute_result",
          "data": {
            "text/plain": [
              "('c',)"
            ]
          },
          "metadata": {},
          "execution_count": 136
        }
      ],
      "source": [
        "m = re.match(\"([abc])+\", \"abc\")\n",
        "m.groups()"
      ]
    },
    {
      "cell_type": "code",
      "execution_count": 137,
      "id": "7271cf3e",
      "metadata": {
        "colab": {
          "base_uri": "https://localhost:8080/",
          "height": 35
        },
        "id": "7271cf3e",
        "outputId": "2cd1b06e-4abd-4d64-ea41-bd498746070b"
      },
      "outputs": [
        {
          "output_type": "execute_result",
          "data": {
            "text/plain": [
              "'c'"
            ],
            "application/vnd.google.colaboratory.intrinsic+json": {
              "type": "string"
            }
          },
          "metadata": {},
          "execution_count": 137
        }
      ],
      "source": [
        "m.group(1)"
      ]
    },
    {
      "cell_type": "code",
      "execution_count": 138,
      "id": "5a5dc9f3",
      "metadata": {
        "id": "5a5dc9f3"
      },
      "outputs": [],
      "source": [
        "m = re.match(\"(?:[abc])+\", \"abc\")"
      ]
    },
    {
      "cell_type": "code",
      "execution_count": 139,
      "id": "3204f53b",
      "metadata": {
        "colab": {
          "base_uri": "https://localhost:8080/"
        },
        "id": "3204f53b",
        "outputId": "e32d10a9-282e-49fb-e478-4a442711999d"
      },
      "outputs": [
        {
          "output_type": "execute_result",
          "data": {
            "text/plain": [
              "()"
            ]
          },
          "metadata": {},
          "execution_count": 139
        }
      ],
      "source": [
        "m.groups()"
      ]
    },
    {
      "cell_type": "markdown",
      "id": "edf0c83c",
      "metadata": {
        "id": "edf0c83c"
      },
      "source": [
        "The syntax for a named group is one of the Python-specific extensions: (?P<name>...). name is, obviously, the name of the group."
      ]
    },
    {
      "cell_type": "code",
      "execution_count": 140,
      "id": "9c174908",
      "metadata": {
        "colab": {
          "base_uri": "https://localhost:8080/",
          "height": 35
        },
        "id": "9c174908",
        "outputId": "86979c5c-2cd5-4df7-a232-47db9b6bc08d"
      },
      "outputs": [
        {
          "output_type": "execute_result",
          "data": {
            "text/plain": [
              "'Lots'"
            ],
            "application/vnd.google.colaboratory.intrinsic+json": {
              "type": "string"
            }
          },
          "metadata": {},
          "execution_count": 140
        }
      ],
      "source": [
        "p = re.compile(r'(?P<word>\\b\\w+\\b)')\n",
        "m = p.search( '(((( Lots of punctuation )))' )\n",
        "m.group('word')"
      ]
    },
    {
      "cell_type": "code",
      "execution_count": 141,
      "id": "cefb3bc3",
      "metadata": {
        "colab": {
          "base_uri": "https://localhost:8080/",
          "height": 35
        },
        "id": "cefb3bc3",
        "outputId": "3e065eb9-4550-4576-a84a-d501f22a3256"
      },
      "outputs": [
        {
          "output_type": "execute_result",
          "data": {
            "text/plain": [
              "'Lots'"
            ],
            "application/vnd.google.colaboratory.intrinsic+json": {
              "type": "string"
            }
          },
          "metadata": {},
          "execution_count": 141
        }
      ],
      "source": [
        "m.group(1)"
      ]
    },
    {
      "cell_type": "code",
      "execution_count": 142,
      "id": "c6763734",
      "metadata": {
        "colab": {
          "base_uri": "https://localhost:8080/"
        },
        "id": "c6763734",
        "outputId": "2991bd37-35e5-41e2-d734-94870a59b15f"
      },
      "outputs": [
        {
          "output_type": "execute_result",
          "data": {
            "text/plain": [
              "{'first': 'Jane', 'last': 'Doe'}"
            ]
          },
          "metadata": {},
          "execution_count": 142
        }
      ],
      "source": [
        "m = re.match(r'(?P<first>\\w+) (?P<last>\\w+)', 'Jane Doe')\n",
        "m.groupdict()"
      ]
    },
    {
      "cell_type": "code",
      "execution_count": 143,
      "id": "89d8d054",
      "metadata": {
        "colab": {
          "base_uri": "https://localhost:8080/"
        },
        "id": "89d8d054",
        "outputId": "529b899c-712d-47e0-c01d-97ebeaf6398d"
      },
      "outputs": [
        {
          "output_type": "execute_result",
          "data": {
            "text/plain": [
              "<re.Match object; span=(0, 8), match='Jane Doe'>"
            ]
          },
          "metadata": {},
          "execution_count": 143
        }
      ],
      "source": [
        "m"
      ]
    },
    {
      "cell_type": "markdown",
      "id": "bcfc3f80",
      "metadata": {
        "id": "bcfc3f80"
      },
      "source": [
        "### Modifying Strings"
      ]
    },
    {
      "cell_type": "code",
      "execution_count": 144,
      "id": "f1240292",
      "metadata": {
        "colab": {
          "base_uri": "https://localhost:8080/"
        },
        "id": "f1240292",
        "outputId": "512db097-15e8-41cf-fc47-3ca90a153a29"
      },
      "outputs": [
        {
          "output_type": "execute_result",
          "data": {
            "text/plain": [
              "['This', 'is', 'a', 'test', 'short', 'and', 'sweet', 'of', 'split', '']"
            ]
          },
          "metadata": {},
          "execution_count": 144
        }
      ],
      "source": [
        "p = re.compile(r'\\W+') \n",
        "# \\W is equivalent to the class [^a-zA-Z0-9_].\n",
        "# the delimiter is any sequence of non-alphanumeric characters.\n",
        "p.split('This is a test, short and sweet, of split().')"
      ]
    },
    {
      "cell_type": "code",
      "execution_count": 145,
      "id": "e01e1e39",
      "metadata": {
        "colab": {
          "base_uri": "https://localhost:8080/"
        },
        "id": "e01e1e39",
        "outputId": "30b6ee07-538d-4b5c-cc24-c6145b8791d0"
      },
      "outputs": [
        {
          "output_type": "execute_result",
          "data": {
            "text/plain": [
              "['This', 'is', 'a', 'test, short and sweet, of split().']"
            ]
          },
          "metadata": {},
          "execution_count": 145
        }
      ],
      "source": [
        "# .split(string[, maxsplit=0])\n",
        "p.split('This is a test, short and sweet, of split().', 3)"
      ]
    },
    {
      "cell_type": "code",
      "execution_count": 146,
      "id": "b3507d3b",
      "metadata": {
        "colab": {
          "base_uri": "https://localhost:8080/"
        },
        "id": "b3507d3b",
        "outputId": "fa0b4182-e482-41d6-dabf-6d39a5008c51"
      },
      "outputs": [
        {
          "output_type": "execute_result",
          "data": {
            "text/plain": [
              "['This', 'is a test, short and sweet, of split().']"
            ]
          },
          "metadata": {},
          "execution_count": 146
        }
      ],
      "source": [
        "p.split('This is a test, short and sweet, of split().', 1)"
      ]
    },
    {
      "cell_type": "markdown",
      "id": "6a0e8bb9",
      "metadata": {
        "id": "6a0e8bb9"
      },
      "source": [
        "#### delimiter도 필요할 경우 () 사용\n",
        "Sometimes you’re not only interested in what the text between delimiters is, but also need to know what the delimiter was. If capturing parentheses are used in the RE, then their values are also returned as part of the list."
      ]
    },
    {
      "cell_type": "code",
      "execution_count": 147,
      "id": "ff9148d3",
      "metadata": {
        "id": "ff9148d3"
      },
      "outputs": [],
      "source": [
        "p = re.compile(r'\\W+')\n",
        "p2 = re.compile(r'(\\W+)')"
      ]
    },
    {
      "cell_type": "code",
      "execution_count": 148,
      "id": "aa1b5bbb",
      "metadata": {
        "colab": {
          "base_uri": "https://localhost:8080/"
        },
        "id": "aa1b5bbb",
        "outputId": "87921b17-c5cc-497b-f735-7961fec3689c"
      },
      "outputs": [
        {
          "output_type": "execute_result",
          "data": {
            "text/plain": [
              "['This', 'is', 'a', 'test', '']"
            ]
          },
          "metadata": {},
          "execution_count": 148
        }
      ],
      "source": [
        "p.split('This... is a test.')"
      ]
    },
    {
      "cell_type": "code",
      "execution_count": 149,
      "id": "f44eb1c4",
      "metadata": {
        "colab": {
          "base_uri": "https://localhost:8080/"
        },
        "id": "f44eb1c4",
        "outputId": "749da1e9-2625-455b-dda2-d45dcc88fb1c"
      },
      "outputs": [
        {
          "output_type": "execute_result",
          "data": {
            "text/plain": [
              "['This', '... ', 'is', ' ', 'a', ' ', 'test', '.', '']"
            ]
          },
          "metadata": {},
          "execution_count": 149
        }
      ],
      "source": [
        "p2.split('This... is a test.')"
      ]
    },
    {
      "cell_type": "code",
      "execution_count": 150,
      "id": "8326a2ba",
      "metadata": {
        "colab": {
          "base_uri": "https://localhost:8080/"
        },
        "id": "8326a2ba",
        "outputId": "e961e156-1ffd-40b0-d03d-d828c9ae2c21"
      },
      "outputs": [
        {
          "output_type": "execute_result",
          "data": {
            "text/plain": [
              "['Words', 'words', 'words', '']"
            ]
          },
          "metadata": {},
          "execution_count": 150
        }
      ],
      "source": [
        "re.split(r'[\\W]+', 'Words, words, words.')"
      ]
    },
    {
      "cell_type": "code",
      "execution_count": 151,
      "id": "d139598d",
      "metadata": {
        "colab": {
          "base_uri": "https://localhost:8080/"
        },
        "id": "d139598d",
        "outputId": "792e9749-da9c-439d-af4a-d94b09b7dee6"
      },
      "outputs": [
        {
          "output_type": "execute_result",
          "data": {
            "text/plain": [
              "['Words', ', ', 'words', ', ', 'words', '.', '']"
            ]
          },
          "metadata": {},
          "execution_count": 151
        }
      ],
      "source": [
        "re.split(r'([\\W]+)', 'Words, words, words.')"
      ]
    },
    {
      "cell_type": "markdown",
      "id": "0073b83a",
      "metadata": {
        "id": "0073b83a"
      },
      "source": [
        "### Search and Replace"
      ]
    },
    {
      "cell_type": "code",
      "execution_count": 152,
      "id": "0f2a4cb9",
      "metadata": {
        "colab": {
          "base_uri": "https://localhost:8080/",
          "height": 35
        },
        "id": "0f2a4cb9",
        "outputId": "de82acd9-daa6-4f75-bde2-c481821b065f"
      },
      "outputs": [
        {
          "output_type": "execute_result",
          "data": {
            "text/plain": [
              "'colour socks and colour shoes'"
            ],
            "application/vnd.google.colaboratory.intrinsic+json": {
              "type": "string"
            }
          },
          "metadata": {},
          "execution_count": 152
        }
      ],
      "source": [
        "p = re.compile('(blue|white|red)')  # 여기에 해당되는 항목을\n",
        "p.sub('colour', 'blue socks and red shoes') # colour로 바꿔라."
      ]
    },
    {
      "cell_type": "code",
      "execution_count": 153,
      "id": "862f9d45",
      "metadata": {
        "colab": {
          "base_uri": "https://localhost:8080/",
          "height": 35
        },
        "id": "862f9d45",
        "outputId": "a6f5869a-1d86-4f93-9da8-c494b5939179"
      },
      "outputs": [
        {
          "output_type": "execute_result",
          "data": {
            "text/plain": [
              "'colour socks and red shoes'"
            ],
            "application/vnd.google.colaboratory.intrinsic+json": {
              "type": "string"
            }
          },
          "metadata": {},
          "execution_count": 153
        }
      ],
      "source": [
        "p.sub('colour', 'blue socks and red shoes', count=1) # 1개 만 바꿈"
      ]
    },
    {
      "cell_type": "code",
      "execution_count": 154,
      "id": "outdoor-mercy",
      "metadata": {
        "colab": {
          "base_uri": "https://localhost:8080/"
        },
        "id": "outdoor-mercy",
        "outputId": "4138ca79-56f4-4e9f-bc02-314812e4f7ab"
      },
      "outputs": [
        {
          "output_type": "stream",
          "name": "stdout",
          "text": [
            "\n",
            "google.com\n",
            "coreyms.com\n",
            "youtube.com\n",
            "nasa.gov\n",
            "\n"
          ]
        }
      ],
      "source": [
        "urls = '''\n",
        "https://www.google.com\n",
        "http://coreyms.com\n",
        "https://youtube.com\n",
        "https://www.nasa.gov\n",
        "'''\n",
        "\n",
        "pattern = re.compile(r'https?://(www\\.)?(\\w+)(\\.\\w+)')\n",
        "\n",
        "subbed_urls = pattern.sub(r'\\2\\3', urls) # group 2, 3로 대체\n",
        "# https://www.google.com 를 pattern으로 찾아서, \\2('google') \\3('.com') 으로 replace시킴\n",
        "print(subbed_urls)"
      ]
    },
    {
      "cell_type": "code",
      "execution_count": 155,
      "id": "b1c3dd38",
      "metadata": {
        "colab": {
          "base_uri": "https://localhost:8080/",
          "height": 35
        },
        "id": "b1c3dd38",
        "outputId": "149a6892-f623-491b-e19b-fb4f63d5c2a9"
      },
      "outputs": [
        {
          "output_type": "execute_result",
          "data": {
            "text/plain": [
              "'sam*sun*g'"
            ],
            "application/vnd.google.colaboratory.intrinsic+json": {
              "type": "string"
            }
          },
          "metadata": {},
          "execution_count": 155
        }
      ],
      "source": [
        "backs = re.sub(r'[\\\\.]', '*', 'sam.sun\\\\g') \n",
        "# backslash 변환 => \\\\ : metacharacter \\와 변환대상 \\  이어서 표현\n",
        "backs"
      ]
    },
    {
      "cell_type": "markdown",
      "id": "distinct-diabetes",
      "metadata": {
        "id": "distinct-diabetes"
      },
      "source": [
        "![sublist.JPG](attachment:sublist.JPG)"
      ]
    },
    {
      "cell_type": "markdown",
      "id": "understood-incidence",
      "metadata": {
        "id": "understood-incidence"
      },
      "source": [
        "#### string.replace or re.sub \n",
        "As long as you can make do with str.replace(), you should use it. <br>\n",
        "str.replace() should be used whenever it's possible to. It's more explicit, simpler, and faster."
      ]
    },
    {
      "cell_type": "code",
      "execution_count": 156,
      "id": "98894b46",
      "metadata": {
        "colab": {
          "base_uri": "https://localhost:8080/"
        },
        "id": "98894b46",
        "outputId": "de14f54d-51ea-4dc3-a24c-a15de32e125b"
      },
      "outputs": [
        {
          "output_type": "execute_result",
          "data": {
            "text/plain": [
              "('colour socks and colour shoes', 2)"
            ]
          },
          "metadata": {},
          "execution_count": 156
        }
      ],
      "source": [
        "p = re.compile('(blue|white|red)')\n",
        "p.subn('colour', 'blue socks and red shoes')  \n",
        "# subn은 몇개가 바뀌었는지 tuple로 알려줌. 2개가 바뀌었음."
      ]
    },
    {
      "cell_type": "code",
      "execution_count": 157,
      "id": "31605e1d",
      "metadata": {
        "colab": {
          "base_uri": "https://localhost:8080/"
        },
        "id": "31605e1d",
        "outputId": "084024ad-a9c3-481c-ef08-8aa91d460c0f"
      },
      "outputs": [
        {
          "output_type": "execute_result",
          "data": {
            "text/plain": [
              "('no colours at all', 0)"
            ]
          },
          "metadata": {},
          "execution_count": 157
        }
      ],
      "source": [
        "p.subn('colour', 'no colours at all') # 비뀐 내용이 없음."
      ]
    },
    {
      "cell_type": "code",
      "execution_count": 158,
      "id": "4f611c4c",
      "metadata": {
        "colab": {
          "base_uri": "https://localhost:8080/",
          "height": 0
        },
        "id": "4f611c4c",
        "outputId": "5f0a2ff3-6b66-4164-e783-dcaac3a618b3"
      },
      "outputs": [
        {
          "output_type": "execute_result",
          "data": {
            "text/plain": [
              "'-a-b--d-'"
            ],
            "application/vnd.google.colaboratory.intrinsic+json": {
              "type": "string"
            }
          },
          "metadata": {},
          "execution_count": 158
        }
      ],
      "source": [
        "p = re.compile('x*')\n",
        "p.sub('-', 'abxd')"
      ]
    },
    {
      "cell_type": "markdown",
      "id": "2924f984",
      "metadata": {
        "id": "2924f984"
      },
      "source": [
        "### match() versus search()\n",
        "The match() function only checks if the RE matches at the beginning of the string while search() will scan forward through the string for a match. It's important to keep this distinction in mind. Remember, **match()** will only report a successful match which will **start at 0**; if the match wouldn’t start at zero, match() will not report it."
      ]
    },
    {
      "cell_type": "code",
      "execution_count": 159,
      "id": "70b7dcdc",
      "metadata": {
        "colab": {
          "base_uri": "https://localhost:8080/"
        },
        "id": "70b7dcdc",
        "outputId": "ba414df9-2b80-4ce6-9e5f-ecaeb9f0fea4"
      },
      "outputs": [
        {
          "output_type": "stream",
          "name": "stdout",
          "text": [
            "(0, 5)\n",
            "None\n"
          ]
        }
      ],
      "source": [
        "print(re.match('super', 'superstition').span())\n",
        "print(re.match('super', 'insuperable'))"
      ]
    },
    {
      "cell_type": "code",
      "execution_count": 160,
      "id": "50ea6f3f",
      "metadata": {
        "colab": {
          "base_uri": "https://localhost:8080/"
        },
        "id": "50ea6f3f",
        "outputId": "c2979c4f-3cfd-487b-f6a8-b0dde53184b6"
      },
      "outputs": [
        {
          "output_type": "stream",
          "name": "stdout",
          "text": [
            "(0, 5)\n",
            "(2, 7)\n"
          ]
        }
      ],
      "source": [
        "print(re.search('super', 'superstition').span())\n",
        "print(re.search('super', 'insuperable').span())"
      ]
    },
    {
      "cell_type": "markdown",
      "id": "00427c03",
      "metadata": {
        "id": "00427c03"
      },
      "source": [
        "### Greedy versus Non-Greedy"
      ]
    },
    {
      "cell_type": "code",
      "execution_count": 161,
      "id": "b2bffc66",
      "metadata": {
        "colab": {
          "base_uri": "https://localhost:8080/"
        },
        "id": "b2bffc66",
        "outputId": "45f25141-1cbb-4018-d150-22e97b55620f"
      },
      "outputs": [
        {
          "output_type": "execute_result",
          "data": {
            "text/plain": [
              "32"
            ]
          },
          "metadata": {},
          "execution_count": 161
        }
      ],
      "source": [
        "s = '<html><head><title>Title</title>'\n",
        "len(s)"
      ]
    },
    {
      "cell_type": "code",
      "execution_count": 162,
      "id": "77d948f6",
      "metadata": {
        "colab": {
          "base_uri": "https://localhost:8080/"
        },
        "id": "77d948f6",
        "outputId": "3792666a-7ef1-4d23-bd62-f2be6cbcfebc"
      },
      "outputs": [
        {
          "output_type": "stream",
          "name": "stdout",
          "text": [
            "(0, 32) <html><head><title>Title</title>\n"
          ]
        }
      ],
      "source": [
        "print(re.match('<.*>', s).span(), re.match('<.*>', s).group())  # '.*' 가 마지막까지 matching시킴"
      ]
    },
    {
      "cell_type": "markdown",
      "id": "a5a762b3",
      "metadata": {
        "id": "a5a762b3"
      },
      "source": [
        "In this case, the solution is to use the non-greedy qualifiers *?, +?, ??, or {m,n}?, which match as little text as possible. "
      ]
    },
    {
      "cell_type": "code",
      "execution_count": 163,
      "id": "81e6c5fa",
      "metadata": {
        "colab": {
          "base_uri": "https://localhost:8080/"
        },
        "id": "81e6c5fa",
        "outputId": "727a35b5-c53e-48dd-8375-6ef5321595b5"
      },
      "outputs": [
        {
          "output_type": "stream",
          "name": "stdout",
          "text": [
            "<html><head\n"
          ]
        }
      ],
      "source": [
        "print(re.match('<.*?d', s).group())  # 'd'를 처음만날때까지만 반복"
      ]
    },
    {
      "cell_type": "code",
      "execution_count": 164,
      "id": "41a14c1a",
      "metadata": {
        "colab": {
          "base_uri": "https://localhost:8080/"
        },
        "id": "41a14c1a",
        "outputId": "582a3785-8d5b-45e6-fdc0-bddbab8f8e7c"
      },
      "outputs": [
        {
          "output_type": "stream",
          "name": "stdout",
          "text": [
            "['<html>', '<head>', '<title>', '</title>']\n"
          ]
        }
      ],
      "source": [
        "print(re.findall('<.*?>', s))"
      ]
    },
    {
      "cell_type": "markdown",
      "id": "a323fed1",
      "metadata": {
        "id": "a323fed1"
      },
      "source": [
        "### Using re.VERBOSE\n",
        "For such REs, specifying the re.VERBOSE flag when compiling the regular expression can be helpful, because it allows you to format the regular expression more clearly."
      ]
    },
    {
      "cell_type": "code",
      "execution_count": 165,
      "id": "60dcce7d",
      "metadata": {
        "id": "60dcce7d"
      },
      "outputs": [],
      "source": [
        "pat = re.compile(r\"\"\"\n",
        " \\s*                 # Skip leading whitespace\n",
        " (?P<header>[^:]+)   # Header name\n",
        " \\s* :               # Whitespace, and a colon\n",
        " (?P<value>.*?)      # The header's value -- *? used to\n",
        "                     # lose the following trailing whitespace\n",
        " \\s*$                # Trailing whitespace to end-of-line\n",
        "\"\"\", re.VERBOSE)"
      ]
    },
    {
      "cell_type": "markdown",
      "id": "79db5a37",
      "metadata": {
        "id": "79db5a37"
      },
      "source": [
        "This is far more readable than:"
      ]
    },
    {
      "cell_type": "code",
      "execution_count": 166,
      "id": "ac73c183",
      "metadata": {
        "id": "ac73c183"
      },
      "outputs": [],
      "source": [
        "pat = re.compile(r\"\\s*(?P<header>[^:]+)\\s*:(?P<value>.*?)\\s*$\")"
      ]
    },
    {
      "cell_type": "code",
      "execution_count": 167,
      "id": "260282ad",
      "metadata": {
        "colab": {
          "base_uri": "https://localhost:8080/"
        },
        "id": "260282ad",
        "outputId": "72a49988-0721-42aa-983c-f937d1781086"
      },
      "outputs": [
        {
          "output_type": "execute_result",
          "data": {
            "text/plain": [
              "<re.Match object; span=(0, 4), match='1212'>"
            ]
          },
          "metadata": {},
          "execution_count": 167
        }
      ],
      "source": [
        "re.search(r'(\\d\\d)\\1', '121212') #(\\d\\d)  가 한번 반복(\\1 => 1번 group과 같은 내용이 한번 더 있다는 뜻)"
      ]
    },
    {
      "cell_type": "code",
      "execution_count": 168,
      "id": "capital-establishment",
      "metadata": {
        "colab": {
          "base_uri": "https://localhost:8080/"
        },
        "id": "capital-establishment",
        "outputId": "5e48cd2b-7c3c-42ab-b17c-b9b97a4658da"
      },
      "outputs": [
        {
          "output_type": "execute_result",
          "data": {
            "text/plain": [
              "<re.Match object; span=(0, 6), match='121212'>"
            ]
          },
          "metadata": {},
          "execution_count": 168
        }
      ],
      "source": [
        "re.search(r'(\\d\\d)\\1\\1', '121212')#(\\d\\d) 가 두 번 반복(\\1 => 1번 group과 같은 내용이 두번 더 있다는 뜻)"
      ]
    },
    {
      "cell_type": "code",
      "execution_count": 169,
      "id": "proper-reproduction",
      "metadata": {
        "colab": {
          "base_uri": "https://localhost:8080/"
        },
        "id": "proper-reproduction",
        "outputId": "858c8bb8-cc11-443e-a78d-a003713a2a00"
      },
      "outputs": [
        {
          "output_type": "execute_result",
          "data": {
            "text/plain": [
              "('12', '34')"
            ]
          },
          "metadata": {},
          "execution_count": 169
        }
      ],
      "source": [
        "subr = re.search(r'(\\d\\d)(\\d\\d)', '1234')\n",
        "subr.group(1), subr.group(2)"
      ]
    },
    {
      "cell_type": "code",
      "execution_count": 170,
      "id": "french-anaheim",
      "metadata": {
        "colab": {
          "base_uri": "https://localhost:8080/",
          "height": 35
        },
        "id": "french-anaheim",
        "outputId": "bd592f3f-da7f-493d-d706-539a10e3b842"
      },
      "outputs": [
        {
          "output_type": "execute_result",
          "data": {
            "text/plain": [
              "'1234defg'"
            ],
            "application/vnd.google.colaboratory.intrinsic+json": {
              "type": "string"
            }
          },
          "metadata": {},
          "execution_count": 170
        }
      ],
      "source": [
        "re.sub(r'abc', subr.group(1)+subr.group(2), 'abcdefg')"
      ]
    },
    {
      "cell_type": "code",
      "execution_count": 171,
      "id": "equivalent-knowing",
      "metadata": {
        "colab": {
          "base_uri": "https://localhost:8080/"
        },
        "id": "equivalent-knowing",
        "outputId": "fa6d74b0-404e-4464-9429-3314f5f39148"
      },
      "outputs": [
        {
          "output_type": "stream",
          "name": "stdout",
          "text": [
            "<re.Match object; span=(0, 5), match='Start'>\n"
          ]
        }
      ],
      "source": [
        "sentence = 'Start a sentence and then bring it to an end'\n",
        "\n",
        "pattern = re.compile(r'start', re.I) # ignorecase\n",
        "\n",
        "matches = pattern.search(sentence)\n",
        "\n",
        "print(matches)"
      ]
    },
    {
      "cell_type": "markdown",
      "id": "031c9e9e",
      "metadata": {
        "id": "031c9e9e"
      },
      "source": [
        "```\n",
        "숫자만 가능 : /^[0-9]+$/\n",
        "이메일 형식만 가능 : /^([\\w-]+(?:\\.[\\w-]+)*)@((?:[\\w-]+\\.)*\\w[\\w-]{0,66})\\.([a-z]{2,6}(?:\\.[a-z]{2})?)$/\n",
        "한글만 가능 : /^[가-힣]+$/\n",
        "한글,띄어쓰기만 가능 : /^[가-힣\\s]+$/\n",
        "영문만 가능 : /^[a-zA-Z]+$/\n",
        "영문,띄어쓰기만 가능: /^[a-zA-Z\\s]+$/\n",
        "전화번호 형태 : /^[0-9]{2,3}-[0-9]{3,4}-[0-9]{4}$/\n",
        "도메인 형태 : /^(((http(s?))\\:\\/\\/)?)([0-9a-zA-Z\\-]+\\.)+[a-zA-Z]{2,6}(\\:[0-9]+)?(\\/\\S*)?$/\n",
        "도메인 형태 : /^((http(s?))\\:\\/\\/)([0-9a-zA-Z\\-]+\\.)+[a-zA-Z]{2,6}(\\:[0-9]+)?(\\/\\S*)?$/\n",
        "도메인 형태 : /^[^((http(s?))\\:\\/\\/)]([0-9a-zA-Z\\-]+\\.)+[a-zA-Z]{2,6}(\\:[0-9]+)?(\\/\\S*)?$/\n",
        "한글과 영문만 가능 : /^[가-힣a-zA-Z]+$/\n",
        "숫자,알파벳만 가능 : /^[a-zA-Z0-9]+$/\n",
        "주민번호, -까지 포함된 문자열로 검색 : /^(?:[0-9]{2}(?:0[1-9]|1[0-2])(?:0[1-9]|[1,2][0-9]|3[0,1]))-[1-4][0-9]{6}$/\n",
        "\n",
        "출처: https://gocoding.tistory.com/93 [Developer Factory]\n",
        "```"
      ]
    },
    {
      "cell_type": "markdown",
      "id": "ce15b720",
      "metadata": {
        "id": "ce15b720"
      },
      "source": [
        "```\n",
        "^The\tThe로 시작하는 문자열\n",
        "of despair$\tof despair로 끝나는 문자열\n",
        "^abc$\tabc로 시작하고 abc로 끝나는 문자열 (abc 라는 문자열도 해당됨)\n",
        "notice\tnotice가 들어 있는 문자열\n",
        "\n",
        "ab*\ta 다음에 b가 0개 이상 (a, ab, abbb 등등)\n",
        "ab+\ta 다음에 b가 1개 이상 (ab, abbb 등등)\n",
        "ab?\ta 다음에 b가 있거나 없거나 (ab 또는 a)\n",
        "\n",
        "ab{2}\ta 다음에 b가 2개 있는 문자열 (abb)\n",
        "ab{2,}\ta 다음에 b가 2개 이상 (abb, abbbb 등등)\n",
        "ab{3,5}\ta 다음에 b가 3개에서 5개 사이 (abbb, abbbb, 또는 abbbbb)\n",
        "*, +, ?는 각각 {0,}, {1,}, {0,1}과 같습니다.\n",
        "\n",
        "( )는 문자열을 묶음 처리할 때 사용\n",
        "a(bc)*\ta 다음에 bc가 0개 이상 (묶음 처리)\n",
        "a(bc){1,5}\ta 다음에 bc가 1개에서 5개 사이\n",
        "\n",
        "hi|hello\thi나 hello가 들어 있는 문자열\n",
        "(b|cd)ef\tbef 또는 cdef\n",
        "(a|b)*c\ta와 b가 섞여서 여러번 나타나고 그뒤에 c가 붙어있는 패턴\n",
        "\n",
        ". (점)\t임의의 한 문자\n",
        "^.{3}$\t3문자로만 되어 있는 문자열\n",
        "\n",
        "[ ]\t괄호 안에 있는 내용 중 임의의 한 문자\n",
        "[^ ]\t첫문자로 ^를 쓰면 괄호 내용의 부정. 즉 괄호 안에 포함되지 않는 한 문자\n",
        "[ab]\ta 또는 b (a|b 와 동일한 표현)\n",
        "[a-d]\t소문자 a에서 d까지 (a|b|c|d 또는 [abcd] 와 동일)\n",
        "^[a-zA-Z]\t영문자로 시작하는 문자열\n",
        "[0-9]%\t% 문자 앞에 하나의 숫자가 붙어 있는 패턴\n",
        "%[^a-zA-Z]%\t두 % 문자 사이에 영문자가 없는 패턴\n",
        "\n",
        "특수 문자 자체를 검색하기 및 사용하기\n",
        "\\^\t^\t\\.\t.\n",
        "\\[\t[\t\\$\t$\n",
        "\\(\t(\t\\)\t)\n",
        "\\|\t|\t\\*\t*\n",
        "\\+\t+\t\\?\t?\n",
        "\\{\t{\t\\\\\t\\\n",
        "\\n\t줄넘김 문자\t\\r\t리턴 문자\n",
        "\\w\t알파벳과 _ (언더바)\t\\W\t알파벳과 _ 가 아닌 것\n",
        "\\s\t빈 공간(space)\t\\S\t빈 공간이 아닌 것\n",
        "\\d\t숫자\t\\D\t숫자가 아닌 것\n",
        "\\b\t단어와 단어 사이의 경계\t\\B\t단어 사이의 경계가 아닌 것\n",
        "\\t\tTab 문자\t\\xnn\t16진수 nn에 해당하는 문자\n",
        "[ ] 안에서는 특수 문자가 모두 효력을 잃게 됩니다.\n",
        "\n",
        "검색 + 치환을 위한 하부식(부분식)\n",
        "( )로 둘러싼 부분은 각각 하나의 덩어리로 취급해서,\n",
        "\n",
        "검색된 각각의 ( )안에 해당되는 내용은 변경할 내용에서 $1, $2, .. 등으로 지정해서 쓸 수 있습니다.\n",
        "예제) mp3파일 이름 바꾸기\n",
        "검색 : (.*) - (.*)\\.mp3 .*은 길이에 상관없이 임의의 문자열, \\.은 점\n",
        "치환 : $2 - $1.mp3 앞에서 검색한 ( )안에 해당되는 내용끼리 순서 바꾸기\n",
        "ex) \"제목 - 연주자.mp3\" Þ \"연주자 - 제목.mp3\"\n",
        "앞에서 정의한 하부식을 다시 활용하기 (제가 잘못 이해한 것일 수도 있는데)\n",
        "\\n은 ( ) 하부식 중에서 n번째 하부식을 가리킵니다.\n",
        "예제) (.+)\\1+\n",
        "\\1로 되어 있으니까 첫번째 부분식 (.+)를 가리킵니다. 위 내용을 해석하자면, 일단 (.+)가 있으니까 이에 해당되는 내용을 찾고, \\1+이 있으니까 첫번째 부분식 (.+)와 똑같은 내용이 그 뒤에 1번 이상 있는 문자열을 찾습니다.\n",
        "예제) abab같은 문자열이 위에 해당되는데, 일단 (.+) 즉 임의의 문자열 ab를 찾고 그 뒤에 \\1+로 첫번째 부분식을 다시 1번 이상 있는 것을 찾으니까 뒤의 ab가 이에 해당합니다.\n",
        "\n",
        "\n",
        "변경자 ? 검색 방식 변경\n",
        "(?i)\t대소문자 무시 (기본값)\n",
        "(?-i)\t대소문자 구분\n",
        "(?g)\t\"greedy\" 모드로 전환 (기본값)\n",
        "(?-g)\t\"greedy\" 모드 해제, 따라서 \"+\"는 \"+?\"과 동일한 것으로 인식\n",
        "\n",
        "\n",
        "출처: https://gocoding.tistory.com/93 [Developer Factory]\n",
        "```"
      ]
    }
  ],
  "metadata": {
    "kernelspec": {
      "display_name": "Python 3",
      "language": "python",
      "name": "python3"
    },
    "language_info": {
      "codemirror_mode": {
        "name": "ipython",
        "version": 3
      },
      "file_extension": ".py",
      "mimetype": "text/x-python",
      "name": "python",
      "nbconvert_exporter": "python",
      "pygments_lexer": "ipython3",
      "version": "3.9.1"
    },
    "colab": {
      "name": "regular_expression_summary.ipynb",
      "provenance": []
    }
  },
  "nbformat": 4,
  "nbformat_minor": 5
}