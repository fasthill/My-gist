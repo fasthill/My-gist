{
 "cells": [
  {
   "cell_type": "markdown",
   "id": "inside-protein",
   "metadata": {},
   "source": [
    "from https://www.geeksforgeeks.org/ml-decision-function/"
   ]
  },
  {
   "cell_type": "markdown",
   "id": "static-association",
   "metadata": {},
   "source": [
    "Decision function is a method present in classifier{ SVC, Logistic Regression } class of sklearn machine learning framework. This method basically returns a Numpy array, In which each element represents whether a predicted sample for x_test by the classifier lies to the right or left side of the Hyperplane and also how far from the HyperPlane."
   ]
  },
  {
   "cell_type": "code",
   "execution_count": 1,
   "id": "instant-pregnancy",
   "metadata": {},
   "outputs": [],
   "source": [
    "import numpy as np\n",
    "import matplotlib.pyplot as plt"
   ]
  },
  {
   "cell_type": "code",
   "execution_count": 2,
   "id": "signal-greece",
   "metadata": {},
   "outputs": [
    {
     "data": {
      "text/plain": [
       "Text(0.5, 1.0, 'Created Data')"
      ]
     },
     "execution_count": 2,
     "metadata": {},
     "output_type": "execute_result"
    },
    {
     "data": {
      "image/png": "[encoded data removed]",
      "text/plain": [
       "<Figure size 432x288 with 1 Axes>"
      ]
     },
     "metadata": {
      "needs_background": "light"
     },
     "output_type": "display_data"
    }
   ],
   "source": [
    "# Input Feature X.\n",
    "x = np.array([[2, 1.5], [-2, -1], [-1, -1], [2, 1], [1, 5], [0.5, 0.5], [-2, 0.5]])\n",
    "\n",
    "# Input Feature Y.\n",
    "y = np.array([0, 0, 1, 1, 1, 1, 0])\n",
    "\n",
    "# Training set Featute x_train.\n",
    "x_train = np.array([[2, 1.5], [-2, -1], [-1, -1], [2, 1]])\n",
    "\n",
    "# Training set Target Variable y_train.\n",
    "y_train = np.array([0, 0, 1, 1])\n",
    "\n",
    "# Test set Featute x_test.\n",
    "x_test = np.array([[1, 5], [0.5, 0.5], [-2, 0.5]])\n",
    "\n",
    "# Test set Target Variable y_test\n",
    "y_test = np.array([1, 1, 0])\n",
    "\n",
    "# Plot the obtained data\n",
    "plt.scatter(x[:, 0], x[:, 1], c=y)\n",
    "plt.xlabel('Feature 1 --->')\n",
    "plt.ylabel('Feature 2 --->')\n",
    "plt.title('Created Data')"
   ]
  },
  {
   "cell_type": "code",
   "execution_count": 3,
   "id": "stable-redhead",
   "metadata": {},
   "outputs": [
    {
     "name": "stdout",
     "output_type": "stream",
     "text": [
      "Predicted Values from Classifier: [0 1 0]\n",
      "Actual Output is: [1 1 0]\n",
      "Accuracy of the model is: 0.6666666666666666\n"
     ]
    }
   ],
   "source": [
    "# Import SVM Class from sklearn.\n",
    "from sklearn.svm import SVC\n",
    "clf = SVC()\n",
    "\n",
    "# Train the model on the training set.\n",
    "clf.fit(x_train, y_train)\n",
    "\n",
    "# Predict on Test set\n",
    "predict = clf.predict(x_test)\n",
    "print('Predicted Values from Classifier:', predict)\n",
    "print('Actual Output is:', y_test)\n",
    "print('Accuracy of the model is:', clf.score(x_test, y_test))\n"
   ]
  },
  {
   "cell_type": "code",
   "execution_count": 4,
   "id": "defensive-defensive",
   "metadata": {},
   "outputs": [
    {
     "name": "stdout",
     "output_type": "stream",
     "text": [
      "Output of Decision Function is: [-0.04274893  0.29143233 -0.13001369]\n",
      "Prediction for x_test from classifier is: [0 1 0]\n"
     ]
    }
   ],
   "source": [
    "# Using Decision Function Method Present in svc class\n",
    "Decision_Function = clf.decision_function(x_test)\n",
    "print('Output of Decision Function is:', Decision_Function)\n",
    "print('Prediction for x_test from classifier is:', predict)\n"
   ]
  },
  {
   "cell_type": "markdown",
   "id": "asian-dinner",
   "metadata": {},
   "source": [
    "From the above output, we can conclude that the decision function output represents whether a predicted sample for x_test by the classifier lies to the right side or left side of hyperplane and also how far from it. It also tells us how confidently each value predicted for x_test by the classifier is Positive ( large-magnitude Positive value ) or Negative ( large-magnitude Negative value)"
   ]
  },
  {
   "cell_type": "markdown",
   "id": "elementary-cookbook",
   "metadata": {},
   "source": [
    "결정 함수의 부호만 보고 예측 결과를 알 수 있습니다."
   ]
  },
  {
   "cell_type": "code",
   "execution_count": 5,
   "id": "incorrect-uganda",
   "metadata": {},
   "outputs": [
    {
     "data": {
      "text/plain": [
       "Text(0.5, 1.0, 'Decision Boundary')"
      ]
     },
     "execution_count": 5,
     "metadata": {},
     "output_type": "execute_result"
    },
    {
     "data": {
      "image/png": "[encoded data removed]",
      "text/plain": [
       "<Figure size 360x288 with 1 Axes>"
      ]
     },
     "metadata": {
      "needs_background": "light"
     },
     "output_type": "display_data"
    }
   ],
   "source": [
    "# To Plot the Decision Boundary.\n",
    "arr1 = np.arange(x[:, 0].min()-1, x[:, 0].max()+1, 0.01)\n",
    "arr2 = np.arange(x[:, 1].min()-1, x[:, 1].max()+1, 0.01)\n",
    "\n",
    "xx, yy = np.meshgrid(arr1, arr2)\n",
    "input_array = np.array([xx.ravel(), yy.ravel()]).T\n",
    "labels = clf.predict(input_array)\n",
    "\n",
    "plt.figure(figsize =(5, 4))\n",
    "plt.contourf(xx, yy, labels.reshape(xx.shape), alpha = 0.1)\n",
    "plt.scatter(x_test[:, 0], x_test[:, 1], c = y_test.ravel(), alpha = 1)\n",
    "plt.xlabel('Feature 1')\n",
    "plt.ylabel('Feature 2')\n",
    "plt.title('Decision Boundary')\n"
   ]
  }
 ],
 "metadata": {
  "kernelspec": {
   "display_name": "Python 3 (ipykernel)",
   "language": "python",
   "name": "python3"
  },
  "language_info": {
   "codemirror_mode": {
    "name": "ipython",
    "version": 3
   },
   "file_extension": ".py",
   "mimetype": "text/x-python",
   "name": "python",
   "nbconvert_exporter": "python",
   "pygments_lexer": "ipython3",
   "version": "3.9.1"
  }
 },
 "nbformat": 4,
 "nbformat_minor": 5
}
