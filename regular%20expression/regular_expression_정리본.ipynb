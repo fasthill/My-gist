{
  "cells": [
    {
      "cell_type": "markdown",
      "metadata": {
        "id": "view-in-github",
        "colab_type": "text"
      },
      "source": [
        "<a href=\"https://colab.research.google.com/github/fasthill/My-gist/blob/main/regular%2520expression/regular_expression_%EC%A0%95%EB%A6%AC%EB%B3%B8.ipynb\" target=\"_parent\"><img src=\"https://colab.research.google.com/assets/colab-badge.svg\" alt=\"Open In Colab\"/></a>"
      ]
    },
    {
      "cell_type": "markdown",
      "id": "f47a473c",
      "metadata": {
        "id": "f47a473c"
      },
      "source": [
        "### [regex101](https://regex101.com/)\n",
        "동작 설명이 잘되어 있고, 코드작성예제도 같이 제공함"
      ]
    },
    {
      "cell_type": "markdown",
      "id": "6ffe2293",
      "metadata": {
        "id": "6ffe2293"
      },
      "source": [
        "###  [Pythex: a Python regular expression editor](https://pythex.org/) \n",
        "#### Pythex is a real-time regular expression editor for Python, a quick way to test your regular expressions."
      ]
    },
    {
      "cell_type": "markdown",
      "id": "a2b383f4",
      "metadata": {
        "id": "a2b383f4"
      },
      "source": [
        "### [PyRegex: Your Python Regular Expression's Best Buddy](http://www.pyregex.com/)"
      ]
    },
    {
      "cell_type": "code",
      "execution_count": 1,
      "id": "9ef55445",
      "metadata": {
        "id": "9ef55445"
      },
      "outputs": [],
      "source": [
        "import re"
      ]
    },
    {
      "cell_type": "markdown",
      "id": "50993abc",
      "metadata": {
        "id": "50993abc"
      },
      "source": [
        "#### metacharacter (Need to be escaped) :\n",
        ". ^ $ * + ? { } [ ] \\ | ( ) <br>"
      ]
    },
    {
      "cell_type": "markdown",
      "id": "45938e72",
      "metadata": {
        "id": "45938e72"
      },
      "source": [
        "[ ] 안에서는 특수 문자 역할을 하지 못함"
      ]
    },
    {
      "cell_type": "markdown",
      "id": "4f7e9f86",
      "metadata": {
        "id": "4f7e9f86"
      },
      "source": [
        "[^5] -> will match any character except '5'. [5^] will match either a '5' or a '^'."
      ]
    },
    {
      "cell_type": "code",
      "execution_count": 2,
      "id": "e2f929cd",
      "metadata": {
        "colab": {
          "base_uri": "https://localhost:8080/"
        },
        "id": "e2f929cd",
        "outputId": "acd10828-12d7-413c-ad18-b8881964aaa2"
      },
      "outputs": [
        {
          "output_type": "execute_result",
          "data": {
            "text/plain": [
              "<re.Match object; span=(0, 7), match='abcbbdb'>"
            ]
          },
          "metadata": {},
          "execution_count": 2
        }
      ],
      "source": [
        "p = re.compile('a[bcd]*b')\n",
        "p.match('abcbbdba')"
      ]
    },
    {
      "cell_type": "code",
      "execution_count": 3,
      "id": "e39d782b",
      "metadata": {
        "colab": {
          "base_uri": "https://localhost:8080/"
        },
        "id": "e39d782b",
        "outputId": "de83f498-7ba4-4cdf-b633-f2d6972c307f"
      },
      "outputs": [
        {
          "output_type": "execute_result",
          "data": {
            "text/plain": [
              "('abcbbdb', 'abcbbdb')"
            ]
          },
          "metadata": {},
          "execution_count": 3
        }
      ],
      "source": [
        "p.match('abcbbdba').group(), p.match('abcbbdba')[0]"
      ]
    },
    {
      "cell_type": "code",
      "execution_count": 4,
      "id": "65087aaf",
      "metadata": {
        "colab": {
          "base_uri": "https://localhost:8080/"
        },
        "id": "65087aaf",
        "outputId": "45127d2b-21e9-465c-bf61-35ea5c457c92"
      },
      "outputs": [
        {
          "output_type": "execute_result",
          "data": {
            "text/plain": [
              "<re.Match object; span=(0, 5), match=\"'uabc\">"
            ]
          },
          "metadata": {},
          "execution_count": 4
        }
      ],
      "source": [
        "p = re.compile(\"^'u[a-z]*\")\n",
        "p.match(\"'uabc de'\")"
      ]
    },
    {
      "cell_type": "code",
      "execution_count": 5,
      "id": "6d3e122a",
      "metadata": {
        "colab": {
          "base_uri": "https://localhost:8080/"
        },
        "id": "6d3e122a",
        "outputId": "351f6e6c-ea4f-4e49-b5a5-740ff8b244a8"
      },
      "outputs": [
        {
          "output_type": "execute_result",
          "data": {
            "text/plain": [
              "<re.Match object; span=(0, 5), match='abcde'>"
            ]
          },
          "metadata": {},
          "execution_count": 5
        }
      ],
      "source": [
        "pattern = re.compile(\"^[a-zA-Z0-9_]*\")\n",
        "pattern.match('abcde fgh')"
      ]
    },
    {
      "cell_type": "code",
      "execution_count": 6,
      "id": "11299fc9",
      "metadata": {
        "colab": {
          "base_uri": "https://localhost:8080/",
          "height": 35
        },
        "id": "11299fc9",
        "outputId": "36f81ef7-61cc-43b5-f58c-4706323fa785"
      },
      "outputs": [
        {
          "output_type": "execute_result",
          "data": {
            "text/plain": [
              "'abcde'"
            ],
            "application/vnd.google.colaboratory.intrinsic+json": {
              "type": "string"
            }
          },
          "metadata": {},
          "execution_count": 6
        }
      ],
      "source": [
        "pattern.match('abcde fgh').group()"
      ]
    },
    {
      "cell_type": "code",
      "execution_count": 7,
      "id": "78834a51",
      "metadata": {
        "colab": {
          "base_uri": "https://localhost:8080/"
        },
        "id": "78834a51",
        "outputId": "25b8f214-3d18-42d1-9e70-0eee9db86c5a"
      },
      "outputs": [
        {
          "output_type": "execute_result",
          "data": {
            "text/plain": [
              "<re.Match object; span=(0, 5), match='abcde'>"
            ]
          },
          "metadata": {},
          "execution_count": 7
        }
      ],
      "source": [
        "# \\w is equivalent to [A-Za-z0-9_] \n",
        "pattern = re.compile(\"^\\w*\")\n",
        "pattern.match('abcde fgh')"
      ]
    },
    {
      "cell_type": "markdown",
      "id": "8c80370d",
      "metadata": {
        "id": "8c80370d"
      },
      "source": [
        "```\n",
        "\\d is equivalent to the class [0-9].\n",
        "\\D is equivalent to the class [^0-9]. 숫자가 아닌.\n",
        "\\s is equivalent to the class [ \\t\\n\\r\\f\\v].\n",
        "\\S is equivalent to the class [^ \\t\\n\\r\\f\\v].\n",
        "\\w is equivalent to the class [a-zA-Z0-9_].\n",
        "\\W is equivalent to the class [^a-zA-Z0-9_].\n",
        "```"
      ]
    },
    {
      "cell_type": "markdown",
      "id": "7967026b",
      "metadata": {
        "id": "7967026b"
      },
      "source": [
        "[\\s,.] is a character class that will match any whitespace character, or ',' or '.'."
      ]
    },
    {
      "cell_type": "code",
      "execution_count": 8,
      "id": "df5e26c5",
      "metadata": {
        "id": "df5e26c5"
      },
      "outputs": [],
      "source": [
        "p = re.compile('ab*')\n",
        "p = re.compile('ab*', re.IGNORECASE)"
      ]
    },
    {
      "cell_type": "markdown",
      "id": "97ad2e8d",
      "metadata": {
        "id": "97ad2e8d"
      },
      "source": [
        "### Python’s raw string notation for regular expressions\n",
        "backslashes are not handled in any special way in a string literal prefixed with 'r', so r\"\\n\" is a two-character string containing '\\' and 'n', while \"\\n\" is a one-character string containing a newline. Regular expressions will often be written in Python code using this raw string notation.\n",
        "#### <span style='color:red'> r'\\n' == '\\\\' + 'n' while '\\n' == one character string </span>"
      ]
    },
    {
      "cell_type": "markdown",
      "id": "9bd8eb09",
      "metadata": {
        "id": "9bd8eb09"
      },
      "source": [
        "### Performing Matches"
      ]
    },
    {
      "cell_type": "markdown",
      "id": "4897a3f0",
      "metadata": {
        "id": "4897a3f0"
      },
      "source": [
        "<table border=\"1\">\n",
        "<th>Method/Attribute</th>\n",
        "<th>Purpose</th>\n",
        "<tr align =\"center\"><!-- 1번째 줄 시작 -->\n",
        "    <td>match()</td>\n",
        "    <td>Determine if the RE matches at the beginning of the string.</td>\n",
        "</tr><!-- 1번째 줄 끝 -->\n",
        "<tr align =\"center\"><!-- 2번째 줄 시작 -->\n",
        "    <td>search()</td>\n",
        "    <td>Scan through a string, looking for any location where this RE matches.</td>\n",
        "<tr align =\"center\"><!-- 3번째 줄 시작 -->\n",
        "    <td>findall()</td>\n",
        "    <td>Find all substrings where the RE matches, and returns them as a list.</td>\n",
        "</tr><!-- 3번째 줄 끝 -->\n",
        "<tr align =\"center\"><!-- 4번째 줄 시작 -->\n",
        "    <td>finditer()</td>\n",
        "    <td>Find all substrings where the RE matches, and returns them as an iterator.</td>\n",
        "</tr><!-- 4번째 줄 끝 -->\n",
        "\n",
        "</table>\n",
        "\n",
        "match() and search() return <span style='color:red'>None</span> if no match can be found. "
      ]
    },
    {
      "cell_type": "code",
      "execution_count": 9,
      "id": "d0ed5a1c",
      "metadata": {
        "colab": {
          "base_uri": "https://localhost:8080/"
        },
        "id": "d0ed5a1c",
        "outputId": "8e12473b-37d2-433c-9c67-2a8d5b9f01f7"
      },
      "outputs": [
        {
          "output_type": "stream",
          "name": "stdout",
          "text": [
            "None\n"
          ]
        }
      ],
      "source": [
        "p = re.compile('[a-z]+')\n",
        "print(p.match(\"\"))"
      ]
    },
    {
      "cell_type": "code",
      "execution_count": 10,
      "id": "3fc495fe",
      "metadata": {
        "colab": {
          "base_uri": "https://localhost:8080/"
        },
        "id": "3fc495fe",
        "outputId": "29157188-4215-434c-a2ec-126b2b11bc8c"
      },
      "outputs": [
        {
          "output_type": "execute_result",
          "data": {
            "text/plain": [
              "<re.Match object; span=(0, 5), match='tempo'>"
            ]
          },
          "metadata": {},
          "execution_count": 10
        }
      ],
      "source": [
        "m = p.match('tempo')\n",
        "m"
      ]
    },
    {
      "cell_type": "code",
      "execution_count": 11,
      "id": "d4673572",
      "metadata": {
        "colab": {
          "base_uri": "https://localhost:8080/",
          "height": 0
        },
        "id": "d4673572",
        "outputId": "a6e95cb3-6c05-43aa-d787-022f52c16885"
      },
      "outputs": [
        {
          "output_type": "execute_result",
          "data": {
            "text/plain": [
              "'tempo'"
            ],
            "application/vnd.google.colaboratory.intrinsic+json": {
              "type": "string"
            }
          },
          "metadata": {},
          "execution_count": 11
        }
      ],
      "source": [
        "m[0]"
      ]
    },
    {
      "cell_type": "markdown",
      "id": "47a4637a",
      "metadata": {
        "id": "47a4637a"
      },
      "source": [
        "<table border=\"1\">\n",
        "<th>Method/Attribute</th>\n",
        "<th>Purpose</th>\n",
        "<tr align =\"center\"><!-- 1번째 줄 시작 -->\n",
        "    <td>group()</td>\n",
        "    <td>Return the string matched by the RE</td>\n",
        "</tr><!-- 1번째 줄 끝 -->\n",
        "<tr align =\"center\"><!-- 2번째 줄 시작 -->\n",
        "    <td>start()</td>\n",
        "    <td>Return the starting position of the match</td>\n",
        "<tr align =\"center\"><!-- 3번째 줄 시작 -->\n",
        "    <td>end()</td>\n",
        "    <td>Return the ending position of the match</td>\n",
        "</tr><!-- 3번째 줄 끝 -->\n",
        "<tr align =\"center\"><!-- 4번째 줄 시작 -->\n",
        "    <td>span()</td>\n",
        "    <td>Return a tuple containing the (start, end) positions of the match</td>\n",
        "</tr><!-- 4번째 줄 끝 -->\n",
        "\n",
        "</table>"
      ]
    },
    {
      "cell_type": "code",
      "execution_count": 12,
      "id": "8ea420d7",
      "metadata": {
        "colab": {
          "base_uri": "https://localhost:8080/",
          "height": 0
        },
        "id": "8ea420d7",
        "outputId": "277e59cf-b8da-4de4-b663-544abe963075"
      },
      "outputs": [
        {
          "output_type": "execute_result",
          "data": {
            "text/plain": [
              "'tempo'"
            ],
            "application/vnd.google.colaboratory.intrinsic+json": {
              "type": "string"
            }
          },
          "metadata": {},
          "execution_count": 12
        }
      ],
      "source": [
        "m.group()"
      ]
    },
    {
      "cell_type": "code",
      "execution_count": 13,
      "id": "2bcee44f",
      "metadata": {
        "colab": {
          "base_uri": "https://localhost:8080/"
        },
        "id": "2bcee44f",
        "outputId": "b6bae8cc-c561-41de-b8ce-258d9b611f30"
      },
      "outputs": [
        {
          "output_type": "execute_result",
          "data": {
            "text/plain": [
              "(0, 5)"
            ]
          },
          "metadata": {},
          "execution_count": 13
        }
      ],
      "source": [
        "m.start(), m.end()"
      ]
    },
    {
      "cell_type": "code",
      "execution_count": 14,
      "id": "960dbf1d",
      "metadata": {
        "colab": {
          "base_uri": "https://localhost:8080/"
        },
        "id": "960dbf1d",
        "outputId": "b622baca-7693-4e49-c0e7-60b2b6e69412"
      },
      "outputs": [
        {
          "output_type": "execute_result",
          "data": {
            "text/plain": [
              "(0, 5)"
            ]
          },
          "metadata": {},
          "execution_count": 14
        }
      ],
      "source": [
        "m.span()"
      ]
    },
    {
      "cell_type": "code",
      "execution_count": 15,
      "id": "7c0e9203",
      "metadata": {
        "colab": {
          "base_uri": "https://localhost:8080/"
        },
        "id": "7c0e9203",
        "outputId": "1bdd8f9a-f9aa-4573-ea17-94b032e75ed0"
      },
      "outputs": [
        {
          "output_type": "stream",
          "name": "stdout",
          "text": [
            "<re.Match object; span=(4, 11), match='message'>\n"
          ]
        }
      ],
      "source": [
        "m = p.search('::: message'); print(m)"
      ]
    },
    {
      "cell_type": "code",
      "execution_count": 16,
      "id": "9a127033",
      "metadata": {
        "colab": {
          "base_uri": "https://localhost:8080/"
        },
        "id": "9a127033",
        "outputId": "52080d9e-c33e-4a3a-946e-35dc5c8985f9"
      },
      "outputs": [
        {
          "output_type": "execute_result",
          "data": {
            "text/plain": [
              "('message', (4, 11))"
            ]
          },
          "metadata": {},
          "execution_count": 16
        }
      ],
      "source": [
        "m.group(), m.span()"
      ]
    },
    {
      "cell_type": "code",
      "execution_count": 17,
      "id": "d15df6db",
      "metadata": {
        "colab": {
          "base_uri": "https://localhost:8080/"
        },
        "id": "d15df6db",
        "outputId": "5e381731-2dea-4abf-f6d6-7117bc98173c"
      },
      "outputs": [
        {
          "output_type": "stream",
          "name": "stdout",
          "text": [
            "No match\n"
          ]
        }
      ],
      "source": [
        "p = re.compile('go')\n",
        "m = p.match('string goes here') # search와 차이점\n",
        "# The match() function only checks if the RE matches at the beginning of the string \n",
        "# while search() will scan forward through the string for a match.\n",
        "if m:\n",
        "    print('Match found: ', m.group())\n",
        "else:\n",
        "    print('No match')"
      ]
    },
    {
      "cell_type": "code",
      "execution_count": 18,
      "id": "b6fac95d",
      "metadata": {
        "colab": {
          "base_uri": "https://localhost:8080/"
        },
        "id": "b6fac95d",
        "outputId": "233be0a2-cc51-4682-f8c6-9ed318e95e8a"
      },
      "outputs": [
        {
          "output_type": "stream",
          "name": "stdout",
          "text": [
            "Match found:  go\n"
          ]
        }
      ],
      "source": [
        "p = re.compile('go')\n",
        "m = p.search('string goes here')  # match와 차이점\n",
        "if m:\n",
        "    print('Match found: ', m.group())\n",
        "else:\n",
        "    print('No match')"
      ]
    },
    {
      "cell_type": "code",
      "execution_count": 19,
      "id": "2a404f27",
      "metadata": {
        "id": "2a404f27"
      },
      "outputs": [],
      "source": [
        "p.match( 'string goes here' )"
      ]
    },
    {
      "cell_type": "code",
      "execution_count": 20,
      "id": "ba211c9e",
      "metadata": {
        "colab": {
          "base_uri": "https://localhost:8080/"
        },
        "id": "ba211c9e",
        "outputId": "d3b5443c-e5f1-4b34-dfc6-f2be78a1b550"
      },
      "outputs": [
        {
          "output_type": "execute_result",
          "data": {
            "text/plain": [
              "['12', '11', '10']"
            ]
          },
          "metadata": {},
          "execution_count": 20
        }
      ],
      "source": [
        "p = re.compile(r'\\d+')\n",
        "p.findall('12 drummers drumming, 11 pipers piping, 10 lords a-leaping')"
      ]
    },
    {
      "cell_type": "code",
      "execution_count": 21,
      "id": "8c8510af",
      "metadata": {
        "colab": {
          "base_uri": "https://localhost:8080/"
        },
        "id": "8c8510af",
        "outputId": "fe2b0aae-bc20-43db-f46e-8d3f16ca06c7"
      },
      "outputs": [
        {
          "output_type": "stream",
          "name": "stdout",
          "text": [
            "(0, 2)\n",
            "(22, 24)\n",
            "(40, 42)\n"
          ]
        }
      ],
      "source": [
        "iterator = p.finditer('12 drummers drumming, 11 pipers piping, 10 lords a-leaping')\n",
        "iterator  \n",
        "\n",
        "for match in iterator:\n",
        "    print(match.span())"
      ]
    },
    {
      "cell_type": "code",
      "execution_count": 22,
      "id": "subjective-hands",
      "metadata": {
        "colab": {
          "base_uri": "https://localhost:8080/"
        },
        "id": "subjective-hands",
        "outputId": "743bf79f-7352-40ed-9709-1df07e71b1a7"
      },
      "outputs": [
        {
          "output_type": "stream",
          "name": "stdout",
          "text": [
            "<re.Match object; span=(1, 24), match='CoreyMSchafer@gmail.com'>\n",
            "<re.Match object; span=(25, 53), match='corey.schafer@university.edu'>\n",
            "<re.Match object; span=(54, 83), match='corey-321-schafer@my-work.net'>\n"
          ]
        }
      ],
      "source": [
        "emails = '''\n",
        "CoreyMSchafer@gmail.com\n",
        "corey.schafer@university.edu\n",
        "corey-321-schafer@my-work.net\n",
        "'''\n",
        "\n",
        "pattern = re.compile(r'[a-zA-Z0-9_.+-]+@[a-zA-Z0-9-]+\\.[a-zA-Z0-9-.]+')\n",
        "\n",
        "matches = pattern.finditer(emails)\n",
        "\n",
        "for match in matches:\n",
        "    print(match)"
      ]
    },
    {
      "cell_type": "code",
      "execution_count": 23,
      "id": "a3b76e4f",
      "metadata": {
        "colab": {
          "base_uri": "https://localhost:8080/"
        },
        "id": "a3b76e4f",
        "outputId": "07883eea-db98-401e-f69d-23afa38899c9"
      },
      "outputs": [
        {
          "output_type": "execute_result",
          "data": {
            "text/plain": [
              "<re.Match object; span=(0, 5), match='From '>"
            ]
          },
          "metadata": {},
          "execution_count": 23
        }
      ],
      "source": [
        "re.match(r'From\\s+', 'From amk Thu May 14 19:12:10 1998')  "
      ]
    },
    {
      "cell_type": "code",
      "execution_count": 24,
      "id": "08a02b2e",
      "metadata": {
        "id": "08a02b2e"
      },
      "outputs": [],
      "source": [
        "p = re.compile('ab*', re.IGNORECASE)\n",
        "p = re.compile('.*', re.DOTALL) # include newlines\n",
        "p = re.compile('.*', re.MULTILINE) # multiline matching"
      ]
    },
    {
      "cell_type": "markdown",
      "id": "c559c742",
      "metadata": {
        "id": "c559c742"
      },
      "source": [
        "| : Alternation, or the “or” operator. <br>\n",
        "^ : Matches at the beginning of lines"
      ]
    },
    {
      "cell_type": "code",
      "execution_count": 25,
      "id": "3909a946",
      "metadata": {
        "colab": {
          "base_uri": "https://localhost:8080/"
        },
        "id": "3909a946",
        "outputId": "e9bdc8fd-7f7f-453c-ff6c-6a5dc8383610"
      },
      "outputs": [
        {
          "output_type": "stream",
          "name": "stdout",
          "text": [
            "<re.Match object; span=(0, 4), match='From'>\n"
          ]
        }
      ],
      "source": [
        "print(re.search('^From', 'From Here to Eternity')) "
      ]
    },
    {
      "cell_type": "code",
      "execution_count": 26,
      "id": "6e37d910",
      "metadata": {
        "colab": {
          "base_uri": "https://localhost:8080/"
        },
        "id": "6e37d910",
        "outputId": "6011144f-6d05-4dbf-f80c-d9a6848324c5"
      },
      "outputs": [
        {
          "output_type": "stream",
          "name": "stdout",
          "text": [
            "None\n"
          ]
        }
      ],
      "source": [
        "print(re.search('^From', 'Reciting From Memory'))"
      ]
    },
    {
      "cell_type": "markdown",
      "id": "52fec64d",
      "metadata": {
        "id": "52fec64d"
      },
      "source": [
        "$ : Matches at the end of a line"
      ]
    },
    {
      "cell_type": "code",
      "execution_count": 27,
      "id": "84c329eb",
      "metadata": {
        "colab": {
          "base_uri": "https://localhost:8080/"
        },
        "id": "84c329eb",
        "outputId": "15d931d1-8a10-44ea-f7ae-4d140ae1a158"
      },
      "outputs": [
        {
          "output_type": "stream",
          "name": "stdout",
          "text": [
            "<re.Match object; span=(6, 7), match='}'>\n"
          ]
        }
      ],
      "source": [
        "print(re.search('}$', '{block}')) "
      ]
    },
    {
      "cell_type": "code",
      "execution_count": 28,
      "id": "f064d871",
      "metadata": {
        "colab": {
          "base_uri": "https://localhost:8080/",
          "height": 0
        },
        "id": "f064d871",
        "outputId": "b74d984d-4675-4c15-c99d-1f05f8ac0546"
      },
      "outputs": [
        {
          "output_type": "execute_result",
          "data": {
            "text/plain": [
              "'}'"
            ],
            "application/vnd.google.colaboratory.intrinsic+json": {
              "type": "string"
            }
          },
          "metadata": {},
          "execution_count": 28
        }
      ],
      "source": [
        "re.search('}$', '{block}')[0] # == re.search('}$', '{block}').group()"
      ]
    },
    {
      "cell_type": "code",
      "execution_count": 29,
      "id": "c50226ef",
      "metadata": {
        "colab": {
          "base_uri": "https://localhost:8080/"
        },
        "id": "c50226ef",
        "outputId": "9843a1d0-ed41-47f4-e758-72d8945aa2e3"
      },
      "outputs": [
        {
          "output_type": "stream",
          "name": "stdout",
          "text": [
            "None\n"
          ]
        }
      ],
      "source": [
        "print(re.search('}$', '{block} '))"
      ]
    },
    {
      "cell_type": "code",
      "execution_count": 30,
      "id": "ee08bed3",
      "metadata": {
        "colab": {
          "base_uri": "https://localhost:8080/"
        },
        "id": "ee08bed3",
        "outputId": "58fb4e28-49e3-444f-cfb7-c9f11fecee3c"
      },
      "outputs": [
        {
          "output_type": "stream",
          "name": "stdout",
          "text": [
            "<re.Match object; span=(6, 7), match='}'>\n"
          ]
        }
      ],
      "source": [
        "print(re.search('}$', '{block}\\n'))"
      ]
    },
    {
      "cell_type": "markdown",
      "id": "8b090588",
      "metadata": {
        "id": "8b090588"
      },
      "source": [
        "\\A : Matches only at the start of the string. When not in MULTILINE mode, <span style='color:red'> \\A and ^ are effectively the same. In MULTILINE mode, they’re different</span>: \\A still matches only at the beginning of the string, but ^ may match at any location inside the string that follows a newline character."
      ]
    },
    {
      "cell_type": "markdown",
      "id": "6df0194c",
      "metadata": {
        "id": "6df0194c"
      },
      "source": [
        "\\b : Word boundary. This is a zero-width assertion that matches only at the beginning or end of a word."
      ]
    },
    {
      "cell_type": "code",
      "execution_count": 31,
      "id": "b075f00c",
      "metadata": {
        "colab": {
          "base_uri": "https://localhost:8080/"
        },
        "id": "b075f00c",
        "outputId": "f9b64a2c-fefa-4a88-a938-167de83308da"
      },
      "outputs": [
        {
          "output_type": "stream",
          "name": "stdout",
          "text": [
            "<re.Match object; span=(3, 8), match='class'>\n"
          ]
        }
      ],
      "source": [
        "p = re.compile(r'\\bclass\\b')\n",
        "print(p.search('no class at all'))"
      ]
    },
    {
      "cell_type": "code",
      "execution_count": 32,
      "id": "f958a992",
      "metadata": {
        "colab": {
          "base_uri": "https://localhost:8080/"
        },
        "id": "f958a992",
        "outputId": "5e923ec6-506f-404b-f3d3-09f27bc379c2"
      },
      "outputs": [
        {
          "output_type": "stream",
          "name": "stdout",
          "text": [
            "None\n"
          ]
        }
      ],
      "source": [
        "print(p.search('the declassified algorithm'))"
      ]
    },
    {
      "cell_type": "code",
      "execution_count": 33,
      "id": "07eb119e",
      "metadata": {
        "colab": {
          "base_uri": "https://localhost:8080/"
        },
        "id": "07eb119e",
        "outputId": "535e535f-2d70-45a6-f492-46ff19e54504"
      },
      "outputs": [
        {
          "output_type": "stream",
          "name": "stdout",
          "text": [
            "None\n"
          ]
        }
      ],
      "source": [
        "print(p.search('one subclass is'))"
      ]
    },
    {
      "cell_type": "markdown",
      "id": "3d380b7d",
      "metadata": {
        "id": "3d380b7d"
      },
      "source": [
        "### Grouping\n",
        "Groups are marked by the '(', ')' metacharacters."
      ]
    },
    {
      "cell_type": "code",
      "execution_count": 34,
      "id": "aab4f21a",
      "metadata": {
        "colab": {
          "base_uri": "https://localhost:8080/"
        },
        "id": "aab4f21a",
        "outputId": "fc731234-d08f-4fa9-9969-7b7e171abbd2"
      },
      "outputs": [
        {
          "output_type": "execute_result",
          "data": {
            "text/plain": [
              "('ababababab', 0, 10, (0, 10))"
            ]
          },
          "metadata": {},
          "execution_count": 34
        }
      ],
      "source": [
        "p = re.compile('(ab)*')\n",
        "m = p.match('ababababab')\n",
        "m.group(), m.start(), m.end(), m.span()"
      ]
    },
    {
      "cell_type": "code",
      "execution_count": 35,
      "id": "422c38ef",
      "metadata": {
        "colab": {
          "base_uri": "https://localhost:8080/"
        },
        "id": "422c38ef",
        "outputId": "194cf9f7-43b3-4b0e-daa0-21c9461a0a77"
      },
      "outputs": [
        {
          "output_type": "execute_result",
          "data": {
            "text/plain": [
              "('ab',)"
            ]
          },
          "metadata": {},
          "execution_count": 35
        }
      ],
      "source": [
        "m.groups()"
      ]
    },
    {
      "cell_type": "code",
      "execution_count": 36,
      "id": "78c9c4eb",
      "metadata": {
        "id": "78c9c4eb"
      },
      "outputs": [],
      "source": [
        "p = re.compile('(a(b)c)d')\n",
        "m = p.match('abcd')"
      ]
    },
    {
      "cell_type": "code",
      "execution_count": 37,
      "id": "a0b9a1ad",
      "metadata": {
        "colab": {
          "base_uri": "https://localhost:8080/"
        },
        "id": "a0b9a1ad",
        "outputId": "61c21dda-0faa-4c25-871f-1bd7e6d8dd38"
      },
      "outputs": [
        {
          "output_type": "execute_result",
          "data": {
            "text/plain": [
              "('abcd', 'abc', 'b')"
            ]
          },
          "metadata": {},
          "execution_count": 37
        }
      ],
      "source": [
        "m.group(0), m.group(1), m.group(2)"
      ]
    },
    {
      "cell_type": "code",
      "execution_count": 38,
      "id": "7c4d95e2",
      "metadata": {
        "colab": {
          "base_uri": "https://localhost:8080/"
        },
        "id": "7c4d95e2",
        "outputId": "a469c548-c4db-4993-a0d8-4ed95f882368"
      },
      "outputs": [
        {
          "output_type": "execute_result",
          "data": {
            "text/plain": [
              "2"
            ]
          },
          "metadata": {},
          "execution_count": 38
        }
      ],
      "source": [
        "len(m.groups())  # 전체를 제외한 group의 갯수\n",
        "# len(m.group()) => 주의 : 첫번째 ('abcd')의 스트링 문자 갯수를 반환함."
      ]
    },
    {
      "cell_type": "code",
      "execution_count": 39,
      "id": "94175030",
      "metadata": {
        "colab": {
          "base_uri": "https://localhost:8080/"
        },
        "id": "94175030",
        "outputId": "7b537134-0f98-4eee-fb3b-bed2be062376"
      },
      "outputs": [
        {
          "output_type": "execute_result",
          "data": {
            "text/plain": [
              "('abc', 'b')"
            ]
          },
          "metadata": {},
          "execution_count": 39
        }
      ],
      "source": [
        "m.groups()"
      ]
    },
    {
      "cell_type": "code",
      "execution_count": 40,
      "id": "5c8646df",
      "metadata": {
        "colab": {
          "base_uri": "https://localhost:8080/"
        },
        "id": "5c8646df",
        "outputId": "9b27bb4e-6aa9-4a03-dcf7-86075b296513"
      },
      "outputs": [
        {
          "output_type": "execute_result",
          "data": {
            "text/plain": [
              "('c',)"
            ]
          },
          "metadata": {},
          "execution_count": 40
        }
      ],
      "source": [
        "m = re.match(\"([abc])+\", \"abc\")\n",
        "m.groups()"
      ]
    },
    {
      "cell_type": "code",
      "execution_count": 41,
      "id": "7271cf3e",
      "metadata": {
        "colab": {
          "base_uri": "https://localhost:8080/",
          "height": 0
        },
        "id": "7271cf3e",
        "outputId": "cb0d4b24-4746-4380-980a-da58762894e2"
      },
      "outputs": [
        {
          "output_type": "execute_result",
          "data": {
            "text/plain": [
              "'c'"
            ],
            "application/vnd.google.colaboratory.intrinsic+json": {
              "type": "string"
            }
          },
          "metadata": {},
          "execution_count": 41
        }
      ],
      "source": [
        "m.group(1)"
      ]
    },
    {
      "cell_type": "code",
      "execution_count": 42,
      "id": "5a5dc9f3",
      "metadata": {
        "id": "5a5dc9f3"
      },
      "outputs": [],
      "source": [
        "m = re.match(\"(?:[abc])+\", \"abc\")"
      ]
    },
    {
      "cell_type": "code",
      "execution_count": 43,
      "id": "3204f53b",
      "metadata": {
        "colab": {
          "base_uri": "https://localhost:8080/"
        },
        "id": "3204f53b",
        "outputId": "314b4acd-9e57-425f-d37f-7e300cfed841"
      },
      "outputs": [
        {
          "output_type": "execute_result",
          "data": {
            "text/plain": [
              "()"
            ]
          },
          "metadata": {},
          "execution_count": 43
        }
      ],
      "source": [
        "m.groups()"
      ]
    },
    {
      "cell_type": "markdown",
      "id": "edf0c83c",
      "metadata": {
        "id": "edf0c83c"
      },
      "source": [
        "The syntax for a named group is one of the Python-specific extensions: (?P<name>...). name is, obviously, the name of the group."
      ]
    },
    {
      "cell_type": "code",
      "execution_count": 44,
      "id": "9c174908",
      "metadata": {
        "colab": {
          "base_uri": "https://localhost:8080/",
          "height": 0
        },
        "id": "9c174908",
        "outputId": "f204caa2-d9d3-4f45-8e35-e71e14e9ac58"
      },
      "outputs": [
        {
          "output_type": "execute_result",
          "data": {
            "text/plain": [
              "'Lots'"
            ],
            "application/vnd.google.colaboratory.intrinsic+json": {
              "type": "string"
            }
          },
          "metadata": {},
          "execution_count": 44
        }
      ],
      "source": [
        "p = re.compile(r'(?P<word>\\b\\w+\\b)')\n",
        "m = p.search( '(((( Lots of punctuation )))' )\n",
        "m.group('word')"
      ]
    },
    {
      "cell_type": "code",
      "execution_count": 45,
      "id": "cefb3bc3",
      "metadata": {
        "colab": {
          "base_uri": "https://localhost:8080/",
          "height": 0
        },
        "id": "cefb3bc3",
        "outputId": "d599fc7c-190a-4983-c305-75c958869915"
      },
      "outputs": [
        {
          "output_type": "execute_result",
          "data": {
            "text/plain": [
              "'Lots'"
            ],
            "application/vnd.google.colaboratory.intrinsic+json": {
              "type": "string"
            }
          },
          "metadata": {},
          "execution_count": 45
        }
      ],
      "source": [
        "m.group(1)"
      ]
    },
    {
      "cell_type": "code",
      "execution_count": 46,
      "id": "c6763734",
      "metadata": {
        "colab": {
          "base_uri": "https://localhost:8080/"
        },
        "id": "c6763734",
        "outputId": "26c86764-3c17-43ee-f321-c0473604f685"
      },
      "outputs": [
        {
          "output_type": "execute_result",
          "data": {
            "text/plain": [
              "{'first': 'Jane', 'last': 'Doe'}"
            ]
          },
          "metadata": {},
          "execution_count": 46
        }
      ],
      "source": [
        "m = re.match(r'(?P<first>\\w+) (?P<last>\\w+)', 'Jane Doe')\n",
        "m.groupdict()"
      ]
    },
    {
      "cell_type": "code",
      "execution_count": 47,
      "id": "89d8d054",
      "metadata": {
        "colab": {
          "base_uri": "https://localhost:8080/"
        },
        "id": "89d8d054",
        "outputId": "617bc5fc-2d41-4d0f-cffd-0ad895ef6852"
      },
      "outputs": [
        {
          "output_type": "execute_result",
          "data": {
            "text/plain": [
              "<re.Match object; span=(0, 8), match='Jane Doe'>"
            ]
          },
          "metadata": {},
          "execution_count": 47
        }
      ],
      "source": [
        "m"
      ]
    },
    {
      "cell_type": "markdown",
      "id": "bcfc3f80",
      "metadata": {
        "id": "bcfc3f80"
      },
      "source": [
        "### Modifying Strings"
      ]
    },
    {
      "cell_type": "code",
      "execution_count": 48,
      "id": "f1240292",
      "metadata": {
        "colab": {
          "base_uri": "https://localhost:8080/"
        },
        "id": "f1240292",
        "outputId": "ef82a9ee-5237-43ff-b28b-8e446f8c927f"
      },
      "outputs": [
        {
          "output_type": "execute_result",
          "data": {
            "text/plain": [
              "['This', 'is', 'a', 'test', 'short', 'and', 'sweet', 'of', 'split', '']"
            ]
          },
          "metadata": {},
          "execution_count": 48
        }
      ],
      "source": [
        "p = re.compile(r'\\W+') \n",
        "# \\W is equivalent to the class [^a-zA-Z0-9_].\n",
        "# the delimiter is any sequence of non-alphanumeric characters.\n",
        "p.split('This is a test, short and sweet, of split().')"
      ]
    },
    {
      "cell_type": "code",
      "execution_count": 49,
      "id": "e01e1e39",
      "metadata": {
        "colab": {
          "base_uri": "https://localhost:8080/"
        },
        "id": "e01e1e39",
        "outputId": "8a624eb9-e05a-478b-f81b-42dd6d24b375"
      },
      "outputs": [
        {
          "output_type": "execute_result",
          "data": {
            "text/plain": [
              "['This', 'is', 'a', 'test, short and sweet, of split().']"
            ]
          },
          "metadata": {},
          "execution_count": 49
        }
      ],
      "source": [
        "# .split(string[, maxsplit=0])\n",
        "p.split('This is a test, short and sweet, of split().', 3)"
      ]
    },
    {
      "cell_type": "code",
      "execution_count": 50,
      "id": "b3507d3b",
      "metadata": {
        "colab": {
          "base_uri": "https://localhost:8080/"
        },
        "id": "b3507d3b",
        "outputId": "88370046-27af-4b68-b65d-0cd03dec83e0"
      },
      "outputs": [
        {
          "output_type": "execute_result",
          "data": {
            "text/plain": [
              "['This', 'is a test, short and sweet, of split().']"
            ]
          },
          "metadata": {},
          "execution_count": 50
        }
      ],
      "source": [
        "p.split('This is a test, short and sweet, of split().', 1)"
      ]
    },
    {
      "cell_type": "markdown",
      "id": "6a0e8bb9",
      "metadata": {
        "id": "6a0e8bb9"
      },
      "source": [
        "#### delimiter도 필요할 경우 () 사용\n",
        "Sometimes you’re not only interested in what the text between delimiters is, but also need to know what the delimiter was. If capturing parentheses are used in the RE, then their values are also returned as part of the list."
      ]
    },
    {
      "cell_type": "code",
      "execution_count": 51,
      "id": "ff9148d3",
      "metadata": {
        "id": "ff9148d3"
      },
      "outputs": [],
      "source": [
        "p = re.compile(r'\\W+')\n",
        "p2 = re.compile(r'(\\W+)')"
      ]
    },
    {
      "cell_type": "code",
      "execution_count": 52,
      "id": "aa1b5bbb",
      "metadata": {
        "colab": {
          "base_uri": "https://localhost:8080/"
        },
        "id": "aa1b5bbb",
        "outputId": "afd8a96d-b926-45ac-c289-1f0a0c6283a5"
      },
      "outputs": [
        {
          "output_type": "execute_result",
          "data": {
            "text/plain": [
              "['This', 'is', 'a', 'test', '']"
            ]
          },
          "metadata": {},
          "execution_count": 52
        }
      ],
      "source": [
        "p.split('This... is a test.')"
      ]
    },
    {
      "cell_type": "code",
      "execution_count": 53,
      "id": "f44eb1c4",
      "metadata": {
        "colab": {
          "base_uri": "https://localhost:8080/"
        },
        "id": "f44eb1c4",
        "outputId": "d23380c5-a439-417f-ff89-7b4567405abb"
      },
      "outputs": [
        {
          "output_type": "execute_result",
          "data": {
            "text/plain": [
              "['This', '... ', 'is', ' ', 'a', ' ', 'test', '.', '']"
            ]
          },
          "metadata": {},
          "execution_count": 53
        }
      ],
      "source": [
        "p2.split('This... is a test.')"
      ]
    },
    {
      "cell_type": "code",
      "execution_count": 54,
      "id": "8326a2ba",
      "metadata": {
        "colab": {
          "base_uri": "https://localhost:8080/"
        },
        "id": "8326a2ba",
        "outputId": "905f665b-6735-4368-becb-5c121cb0eb9d"
      },
      "outputs": [
        {
          "output_type": "execute_result",
          "data": {
            "text/plain": [
              "['Words', 'words', 'words', '']"
            ]
          },
          "metadata": {},
          "execution_count": 54
        }
      ],
      "source": [
        "re.split(r'[\\W]+', 'Words, words, words.')"
      ]
    },
    {
      "cell_type": "code",
      "execution_count": 55,
      "id": "d139598d",
      "metadata": {
        "colab": {
          "base_uri": "https://localhost:8080/"
        },
        "id": "d139598d",
        "outputId": "c52ef3a9-18a4-4c7f-bc4b-094a9f0da5d2"
      },
      "outputs": [
        {
          "output_type": "execute_result",
          "data": {
            "text/plain": [
              "['Words', ', ', 'words', ', ', 'words', '.', '']"
            ]
          },
          "metadata": {},
          "execution_count": 55
        }
      ],
      "source": [
        "re.split(r'([\\W]+)', 'Words, words, words.')"
      ]
    },
    {
      "cell_type": "markdown",
      "id": "0073b83a",
      "metadata": {
        "id": "0073b83a"
      },
      "source": [
        "### Search and Replace"
      ]
    },
    {
      "cell_type": "code",
      "execution_count": 56,
      "id": "0f2a4cb9",
      "metadata": {
        "colab": {
          "base_uri": "https://localhost:8080/",
          "height": 0
        },
        "id": "0f2a4cb9",
        "outputId": "165e4a7d-69bc-4200-a34c-4aeb46e6a5fe"
      },
      "outputs": [
        {
          "output_type": "execute_result",
          "data": {
            "text/plain": [
              "'colour socks and colour shoes'"
            ],
            "application/vnd.google.colaboratory.intrinsic+json": {
              "type": "string"
            }
          },
          "metadata": {},
          "execution_count": 56
        }
      ],
      "source": [
        "p = re.compile('(blue|white|red)')  # 여기에 해당되는 항목을\n",
        "p.sub('colour', 'blue socks and red shoes') # colour로 바꿔라."
      ]
    },
    {
      "cell_type": "code",
      "execution_count": 57,
      "id": "862f9d45",
      "metadata": {
        "colab": {
          "base_uri": "https://localhost:8080/",
          "height": 0
        },
        "id": "862f9d45",
        "outputId": "9e3609b4-3aa6-4e39-940e-4622c8af6d1b"
      },
      "outputs": [
        {
          "output_type": "execute_result",
          "data": {
            "text/plain": [
              "'colour socks and red shoes'"
            ],
            "application/vnd.google.colaboratory.intrinsic+json": {
              "type": "string"
            }
          },
          "metadata": {},
          "execution_count": 57
        }
      ],
      "source": [
        "p.sub('colour', 'blue socks and red shoes', count=1) # 1개 만 바꿈"
      ]
    },
    {
      "cell_type": "code",
      "execution_count": 58,
      "id": "outdoor-mercy",
      "metadata": {
        "colab": {
          "base_uri": "https://localhost:8080/"
        },
        "id": "outdoor-mercy",
        "outputId": "a0e69c0f-bf62-42b4-d78e-1c74ff6fa384"
      },
      "outputs": [
        {
          "output_type": "stream",
          "name": "stdout",
          "text": [
            "\n",
            "google.com\n",
            "coreyms.com\n",
            "youtube.com\n",
            "nasa.gov\n",
            "\n"
          ]
        }
      ],
      "source": [
        "urls = '''\n",
        "https://www.google.com\n",
        "http://coreyms.com\n",
        "https://youtube.com\n",
        "https://www.nasa.gov\n",
        "'''\n",
        "\n",
        "pattern = re.compile(r'https?://(www\\.)?(\\w+)(\\.\\w+)')\n",
        "\n",
        "subbed_urls = pattern.sub(r'\\2\\3', urls) # group 2, 3로 대체\n",
        "# https://www.google.com 를 pattern으로 찾아서, \\2('google') \\3('.com') 으로 replace시킴\n",
        "print(subbed_urls)"
      ]
    },
    {
      "cell_type": "code",
      "execution_count": 59,
      "id": "b1c3dd38",
      "metadata": {
        "colab": {
          "base_uri": "https://localhost:8080/",
          "height": 0
        },
        "id": "b1c3dd38",
        "outputId": "b46f91e5-e079-48e9-8ca2-a3dd8c69b63d"
      },
      "outputs": [
        {
          "output_type": "execute_result",
          "data": {
            "text/plain": [
              "'sam*sun*g'"
            ],
            "application/vnd.google.colaboratory.intrinsic+json": {
              "type": "string"
            }
          },
          "metadata": {},
          "execution_count": 59
        }
      ],
      "source": [
        "backs = re.sub(r'[\\\\.]', '*', 'sam.sun\\\\g') \n",
        "# backslash 변환 => \\\\ : metacharacter \\와 변환대상 \\  이어서 표현\n",
        "backs"
      ]
    },
    {
      "cell_type": "markdown",
      "id": "distinct-diabetes",
      "metadata": {
        "id": "distinct-diabetes"
      },
      "source": [
        "![sublist.JPG](attachment:sublist.JPG)"
      ]
    },
    {
      "cell_type": "markdown",
      "id": "understood-incidence",
      "metadata": {
        "id": "understood-incidence"
      },
      "source": [
        "#### string.replace or re.sub \n",
        "As long as you can make do with str.replace(), you should use it. <br>\n",
        "str.replace() should be used whenever it's possible to. It's more explicit, simpler, and faster."
      ]
    },
    {
      "cell_type": "code",
      "execution_count": 60,
      "id": "98894b46",
      "metadata": {
        "colab": {
          "base_uri": "https://localhost:8080/"
        },
        "id": "98894b46",
        "outputId": "ccdbd3ad-9b26-4d57-c41d-625956444772"
      },
      "outputs": [
        {
          "output_type": "execute_result",
          "data": {
            "text/plain": [
              "('colour socks and colour shoes', 2)"
            ]
          },
          "metadata": {},
          "execution_count": 60
        }
      ],
      "source": [
        "p = re.compile('(blue|white|red)')\n",
        "p.subn('colour', 'blue socks and red shoes')  \n",
        "# subn은 몇개가 바뀌었는지 tuple로 알려줌. 2개가 바뀌었음."
      ]
    },
    {
      "cell_type": "code",
      "execution_count": 61,
      "id": "31605e1d",
      "metadata": {
        "colab": {
          "base_uri": "https://localhost:8080/"
        },
        "id": "31605e1d",
        "outputId": "427c9e19-f54c-4eeb-862f-99ca567733f0"
      },
      "outputs": [
        {
          "output_type": "execute_result",
          "data": {
            "text/plain": [
              "('no colours at all', 0)"
            ]
          },
          "metadata": {},
          "execution_count": 61
        }
      ],
      "source": [
        "p.subn('colour', 'no colours at all') # 비뀐 내용이 없음."
      ]
    },
    {
      "cell_type": "code",
      "execution_count": 62,
      "id": "4f611c4c",
      "metadata": {
        "colab": {
          "base_uri": "https://localhost:8080/",
          "height": 0
        },
        "id": "4f611c4c",
        "outputId": "aebaee57-19ba-4382-c199-fe85acaa6de0"
      },
      "outputs": [
        {
          "output_type": "execute_result",
          "data": {
            "text/plain": [
              "'-a-b--d-'"
            ],
            "application/vnd.google.colaboratory.intrinsic+json": {
              "type": "string"
            }
          },
          "metadata": {},
          "execution_count": 62
        }
      ],
      "source": [
        "p = re.compile('x*')\n",
        "p.sub('-', 'abxd')"
      ]
    },
    {
      "cell_type": "markdown",
      "id": "2924f984",
      "metadata": {
        "id": "2924f984"
      },
      "source": [
        "### match() versus search()\n",
        "The match() function only checks if the RE matches at the beginning of the string while search() will scan forward through the string for a match. It's important to keep this distinction in mind. Remember, **match()** will only report a successful match which will **start at 0**; if the match wouldn’t start at zero, match() will not report it."
      ]
    },
    {
      "cell_type": "code",
      "execution_count": 63,
      "id": "70b7dcdc",
      "metadata": {
        "colab": {
          "base_uri": "https://localhost:8080/"
        },
        "id": "70b7dcdc",
        "outputId": "dbf880d2-6717-4692-d21b-9c312119206d"
      },
      "outputs": [
        {
          "output_type": "stream",
          "name": "stdout",
          "text": [
            "(0, 5)\n",
            "None\n"
          ]
        }
      ],
      "source": [
        "print(re.match('super', 'superstition').span())\n",
        "print(re.match('super', 'insuperable'))"
      ]
    },
    {
      "cell_type": "code",
      "execution_count": 64,
      "id": "50ea6f3f",
      "metadata": {
        "colab": {
          "base_uri": "https://localhost:8080/"
        },
        "id": "50ea6f3f",
        "outputId": "a94ab697-a72f-4a31-c838-41e7eb7a7651"
      },
      "outputs": [
        {
          "output_type": "stream",
          "name": "stdout",
          "text": [
            "(0, 5)\n",
            "(2, 7)\n"
          ]
        }
      ],
      "source": [
        "print(re.search('super', 'superstition').span())\n",
        "print(re.search('super', 'insuperable').span())"
      ]
    },
    {
      "cell_type": "markdown",
      "id": "00427c03",
      "metadata": {
        "id": "00427c03"
      },
      "source": [
        "### Greedy versus Non-Greedy"
      ]
    },
    {
      "cell_type": "code",
      "execution_count": 65,
      "id": "b2bffc66",
      "metadata": {
        "colab": {
          "base_uri": "https://localhost:8080/"
        },
        "id": "b2bffc66",
        "outputId": "cb935ffd-9625-4185-89e9-09f1b29cb340"
      },
      "outputs": [
        {
          "output_type": "execute_result",
          "data": {
            "text/plain": [
              "32"
            ]
          },
          "metadata": {},
          "execution_count": 65
        }
      ],
      "source": [
        "s = '<html><head><title>Title</title>'\n",
        "len(s)"
      ]
    },
    {
      "cell_type": "code",
      "execution_count": 66,
      "id": "77d948f6",
      "metadata": {
        "colab": {
          "base_uri": "https://localhost:8080/"
        },
        "id": "77d948f6",
        "outputId": "03f82a45-ad65-421b-f052-3941eabbb715"
      },
      "outputs": [
        {
          "output_type": "stream",
          "name": "stdout",
          "text": [
            "(0, 32) <html><head><title>Title</title>\n"
          ]
        }
      ],
      "source": [
        "print(re.match('<.*>', s).span(), re.match('<.*>', s).group())  # '.*' 가 마지막까지 matching시킴"
      ]
    },
    {
      "cell_type": "markdown",
      "id": "a5a762b3",
      "metadata": {
        "id": "a5a762b3"
      },
      "source": [
        "In this case, the solution is to use the non-greedy qualifiers *?, +?, ??, or {m,n}?, which match as little text as possible. "
      ]
    },
    {
      "cell_type": "code",
      "execution_count": 67,
      "id": "81e6c5fa",
      "metadata": {
        "colab": {
          "base_uri": "https://localhost:8080/"
        },
        "id": "81e6c5fa",
        "outputId": "59c9180e-cd85-4760-f313-8f5242ef79c8"
      },
      "outputs": [
        {
          "output_type": "stream",
          "name": "stdout",
          "text": [
            "<html><head\n"
          ]
        }
      ],
      "source": [
        "print(re.match('<.*?d', s).group())  # 'd'를 처음만날때까지만 반복"
      ]
    },
    {
      "cell_type": "code",
      "execution_count": 68,
      "id": "41a14c1a",
      "metadata": {
        "colab": {
          "base_uri": "https://localhost:8080/"
        },
        "id": "41a14c1a",
        "outputId": "ec8ce1b8-11c7-4327-b195-40cfd603689d"
      },
      "outputs": [
        {
          "output_type": "stream",
          "name": "stdout",
          "text": [
            "['<html>', '<head>', '<title>', '</title>']\n"
          ]
        }
      ],
      "source": [
        "print(re.findall('<.*?>', s))"
      ]
    },
    {
      "cell_type": "markdown",
      "id": "a323fed1",
      "metadata": {
        "id": "a323fed1"
      },
      "source": [
        "### Using re.VERBOSE\n",
        "For such REs, specifying the re.VERBOSE flag when compiling the regular expression can be helpful, because it allows you to format the regular expression more clearly."
      ]
    },
    {
      "cell_type": "code",
      "execution_count": 69,
      "id": "60dcce7d",
      "metadata": {
        "id": "60dcce7d"
      },
      "outputs": [],
      "source": [
        "pat = re.compile(r\"\"\"\n",
        " \\s*                 # Skip leading whitespace\n",
        " (?P<header>[^:]+)   # Header name\n",
        " \\s* :               # Whitespace, and a colon\n",
        " (?P<value>.*?)      # The header's value -- *? used to\n",
        "                     # lose the following trailing whitespace\n",
        " \\s*$                # Trailing whitespace to end-of-line\n",
        "\"\"\", re.VERBOSE)"
      ]
    },
    {
      "cell_type": "markdown",
      "id": "79db5a37",
      "metadata": {
        "id": "79db5a37"
      },
      "source": [
        "This is far more readable than:"
      ]
    },
    {
      "cell_type": "code",
      "execution_count": 70,
      "id": "ac73c183",
      "metadata": {
        "id": "ac73c183"
      },
      "outputs": [],
      "source": [
        "pat = re.compile(r\"\\s*(?P<header>[^:]+)\\s*:(?P<value>.*?)\\s*$\")"
      ]
    },
    {
      "cell_type": "code",
      "execution_count": 71,
      "id": "260282ad",
      "metadata": {
        "colab": {
          "base_uri": "https://localhost:8080/"
        },
        "id": "260282ad",
        "outputId": "c6b38c9d-c1ee-4745-87db-0398d0fe01e3"
      },
      "outputs": [
        {
          "output_type": "execute_result",
          "data": {
            "text/plain": [
              "<re.Match object; span=(0, 4), match='1212'>"
            ]
          },
          "metadata": {},
          "execution_count": 71
        }
      ],
      "source": [
        "re.search(r'(\\d\\d)\\1', '121212') #(\\d\\d)  가 한번 반복(\\1 => 1번 group과 같은 내용이 한번 더 있다는 뜻)"
      ]
    },
    {
      "cell_type": "code",
      "execution_count": 72,
      "id": "capital-establishment",
      "metadata": {
        "colab": {
          "base_uri": "https://localhost:8080/"
        },
        "id": "capital-establishment",
        "outputId": "0d7f15ee-6b11-4538-efd6-8dd8cca1eb58"
      },
      "outputs": [
        {
          "output_type": "execute_result",
          "data": {
            "text/plain": [
              "<re.Match object; span=(0, 6), match='121212'>"
            ]
          },
          "metadata": {},
          "execution_count": 72
        }
      ],
      "source": [
        "re.search(r'(\\d\\d)\\1\\1', '121212')#(\\d\\d) 가 두 번 반복(\\1 => 1번 group과 같은 내용이 두번 더 있다는 뜻)"
      ]
    },
    {
      "cell_type": "code",
      "execution_count": 73,
      "id": "proper-reproduction",
      "metadata": {
        "colab": {
          "base_uri": "https://localhost:8080/"
        },
        "id": "proper-reproduction",
        "outputId": "253af94f-8a17-4d85-e98d-35c4edcd6ece"
      },
      "outputs": [
        {
          "output_type": "execute_result",
          "data": {
            "text/plain": [
              "('12', '34')"
            ]
          },
          "metadata": {},
          "execution_count": 73
        }
      ],
      "source": [
        "subr = re.search(r'(\\d\\d)(\\d\\d)', '1234')\n",
        "subr.group(1), subr.group(2)"
      ]
    },
    {
      "cell_type": "code",
      "execution_count": 74,
      "id": "french-anaheim",
      "metadata": {
        "colab": {
          "base_uri": "https://localhost:8080/",
          "height": 0
        },
        "id": "french-anaheim",
        "outputId": "40a0f70a-68da-454a-f7ea-8ff5d2145172"
      },
      "outputs": [
        {
          "output_type": "execute_result",
          "data": {
            "text/plain": [
              "'1234defg'"
            ],
            "application/vnd.google.colaboratory.intrinsic+json": {
              "type": "string"
            }
          },
          "metadata": {},
          "execution_count": 74
        }
      ],
      "source": [
        "re.sub(r'abc', subr.group(1)+subr.group(2), 'abcdefg')"
      ]
    },
    {
      "cell_type": "code",
      "execution_count": 75,
      "id": "equivalent-knowing",
      "metadata": {
        "colab": {
          "base_uri": "https://localhost:8080/"
        },
        "id": "equivalent-knowing",
        "outputId": "2b76028e-a818-4dbd-ee25-ee6f37a2e3a4"
      },
      "outputs": [
        {
          "output_type": "stream",
          "name": "stdout",
          "text": [
            "<re.Match object; span=(0, 5), match='Start'>\n"
          ]
        }
      ],
      "source": [
        "sentence = 'Start a sentence and then bring it to an end'\n",
        "\n",
        "pattern = re.compile(r'start', re.I) # ignorecase\n",
        "\n",
        "matches = pattern.search(sentence)\n",
        "\n",
        "print(matches)"
      ]
    },
    {
      "cell_type": "markdown",
      "id": "031c9e9e",
      "metadata": {
        "id": "031c9e9e"
      },
      "source": [
        "```\n",
        "숫자만 가능 : /^[0-9]+$/\n",
        "\n",
        "이메일 형식만 가능 : /^([\\w-]+(?:\\.[\\w-]+)*)@((?:[\\w-]+\\.)*\\w[\\w-]{0,66})\\.([a-z]{2,6}(?:\\.[a-z]{2})?)$/\n",
        "\n",
        "한글만 가능 : /^[가-힣]+$/\n",
        "\n",
        "한글,띄어쓰기만 가능 : /^[가-힣\\s]+$/\n",
        "\n",
        "영문만 가능 : /^[a-zA-Z]+$/\n",
        "\n",
        "영문,띄어쓰기만 가능: /^[a-zA-Z\\s]+$/\n",
        "\n",
        "전화번호 형태 : /^[0-9]{2,3}-[0-9]{3,4}-[0-9]{4}$/\n",
        "\n",
        "도메인 형태 : /^(((http(s?))\\:\\/\\/)?)([0-9a-zA-Z\\-]+\\.)+[a-zA-Z]{2,6}(\\:[0-9]+)?(\\/\\S*)?$/\n",
        "\n",
        "도메인 형태 : /^((http(s?))\\:\\/\\/)([0-9a-zA-Z\\-]+\\.)+[a-zA-Z]{2,6}(\\:[0-9]+)?(\\/\\S*)?$/\n",
        "\n",
        "도메인 형태 : /^[^((http(s?))\\:\\/\\/)]([0-9a-zA-Z\\-]+\\.)+[a-zA-Z]{2,6}(\\:[0-9]+)?(\\/\\S*)?$/\n",
        "\n",
        "한글과 영문만 가능 : /^[가-힣a-zA-Z]+$/\n",
        "\n",
        "숫자,알파벳만 가능 : /^[a-zA-Z0-9]+$/\n",
        "\n",
        "주민번호, -까지 포함된 문자열로 검색 : /^(?:[0-9]{2}(?:0[1-9]|1[0-2])(?:0[1-9]|[1,2][0-9]|3[0,1]))-[1-4][0-9]{6}$/\n",
        "\n",
        "출처: https://gocoding.tistory.com/93 [Developer Factory]\n",
        "```"
      ]
    },
    {
      "cell_type": "markdown",
      "id": "ce15b720",
      "metadata": {
        "id": "ce15b720"
      },
      "source": [
        "```\n",
        "^The\tThe로 시작하는 문자열\n",
        "of despair$\tof despair로 끝나는 문자열\n",
        "^abc$\tabc로 시작하고 abc로 끝나는 문자열 (abc 라는 문자열도 해당됨)\n",
        "notice\tnotice가 들어 있는 문자열\n",
        "\n",
        "ab*\ta 다음에 b가 0개 이상 (a, ab, abbb 등등)\n",
        "ab+\ta 다음에 b가 1개 이상 (ab, abbb 등등)\n",
        "ab?\ta 다음에 b가 있거나 없거나 (ab 또는 a)\n",
        "\n",
        "ab{2}\ta 다음에 b가 2개 있는 문자열 (abb)\n",
        "ab{2,}\ta 다음에 b가 2개 이상 (abb, abbbb 등등)\n",
        "ab{3,5}\ta 다음에 b가 3개에서 5개 사이 (abbb, abbbb, 또는 abbbbb)\n",
        "*, +, ?는 각각 {0,}, {1,}, {0,1}과 같습니다.\n",
        "\n",
        "( )는 문자열을 묶음 처리할 때 사용\n",
        "a(bc)*\ta 다음에 bc가 0개 이상 (묶음 처리)\n",
        "a(bc){1,5}\ta 다음에 bc가 1개에서 5개 사이\n",
        "\n",
        "hi|hello\thi나 hello가 들어 있는 문자열\n",
        "(b|cd)ef\tbef 또는 cdef\n",
        "(a|b)*c\ta와 b가 섞여서 여러번 나타나고 그뒤에 c가 붙어있는 패턴\n",
        "\n",
        ". (점)\t임의의 한 문자\n",
        "^.{3}$\t3문자로만 되어 있는 문자열\n",
        "\n",
        "[ ]\t괄호 안에 있는 내용 중 임의의 한 문자\n",
        "[^ ]\t첫문자로 ^를 쓰면 괄호 내용의 부정. 즉 괄호 안에 포함되지 않는 한 문자\n",
        "[ab]\ta 또는 b (a|b 와 동일한 표현)\n",
        "[a-d]\t소문자 a에서 d까지 (a|b|c|d 또는 [abcd] 와 동일)\n",
        "^[a-zA-Z]\t영문자로 시작하는 문자열\n",
        "[0-9]%\t% 문자 앞에 하나의 숫자가 붙어 있는 패턴\n",
        "%[^a-zA-Z]%\t두 % 문자 사이에 영문자가 없는 패턴\n",
        "\n",
        "특수 문자 자체를 검색하기 및 사용하기\n",
        "\\^\t^\t\\.\t.\n",
        "\\[\t[\t\\$\t$\n",
        "\\(\t(\t\\)\t)\n",
        "\\|\t|\t\\*\t*\n",
        "\\+\t+\t\\?\t?\n",
        "\\{\t{\t\\\\\t\\\n",
        "\\n\t줄넘김 문자\t\\r\t리턴 문자\n",
        "\\w\t알파벳과 _ (언더바)\t\\W\t알파벳과 _ 가 아닌 것\n",
        "\\s\t빈 공간(space)\t\\S\t빈 공간이 아닌 것\n",
        "\\d\t숫자\t\\D\t숫자가 아닌 것\n",
        "\\b\t단어와 단어 사이의 경계\t\\B\t단어 사이의 경계가 아닌 것\n",
        "\\t\tTab 문자\t\\xnn\t16진수 nn에 해당하는 문자\n",
        "[ ] 안에서는 특수 문자가 모두 효력을 잃게 됩니다.\n",
        "\n",
        "검색 + 치환을 위한 하부식(부분식)\n",
        "( )로 둘러싼 부분은 각각 하나의 덩어리로 취급해서,\n",
        "\n",
        "검색된 각각의 ( )안에 해당되는 내용은 변경할 내용에서 $1, $2, .. 등으로 지정해서 쓸 수 있습니다.\n",
        "예제) mp3파일 이름 바꾸기\n",
        "검색 : (.*) - (.*)\\.mp3 .*은 길이에 상관없이 임의의 문자열, \\.은 점\n",
        "치환 : $2 - $1.mp3 앞에서 검색한 ( )안에 해당되는 내용끼리 순서 바꾸기\n",
        "ex) \"제목 - 연주자.mp3\" Þ \"연주자 - 제목.mp3\"\n",
        "앞에서 정의한 하부식을 다시 활용하기 (제가 잘못 이해한 것일 수도 있는데)\n",
        "\\n은 ( ) 하부식 중에서 n번째 하부식을 가리킵니다.\n",
        "예제) (.+)\\1+\n",
        "\\1로 되어 있으니까 첫번째 부분식 (.+)를 가리킵니다. 위 내용을 해석하자면, 일단 (.+)가 있으니까 이에 해당되는 내용을 찾고, \\1+이 있으니까 첫번째 부분식 (.+)와 똑같은 내용이 그 뒤에 1번 이상 있는 문자열을 찾습니다.\n",
        "예제) abab같은 문자열이 위에 해당되는데, 일단 (.+) 즉 임의의 문자열 ab를 찾고 그 뒤에 \\1+로 첫번째 부분식을 다시 1번 이상 있는 것을 찾으니까 뒤의 ab가 이에 해당합니다.\n",
        "\n",
        "\n",
        "변경자 ? 검색 방식 변경\n",
        "(?i)\t대소문자 무시 (기본값)\n",
        "(?-i)\t대소문자 구분\n",
        "(?g)\t\"greedy\" 모드로 전환 (기본값)\n",
        "(?-g)\t\"greedy\" 모드 해제, 따라서 \"+\"는 \"+?\"과 동일한 것으로 인식\n",
        "\n",
        "\n",
        "출처: https://gocoding.tistory.com/93 [Developer Factory]\n",
        "```"
      ]
    },
    {
      "cell_type": "markdown",
      "id": "ece6aa6c",
      "metadata": {
        "id": "ece6aa6c"
      },
      "source": [
        ""
      ]
    }
  ],
  "metadata": {
    "kernelspec": {
      "display_name": "Python 3",
      "language": "python",
      "name": "python3"
    },
    "language_info": {
      "codemirror_mode": {
        "name": "ipython",
        "version": 3
      },
      "file_extension": ".py",
      "mimetype": "text/x-python",
      "name": "python",
      "nbconvert_exporter": "python",
      "pygments_lexer": "ipython3",
      "version": "3.9.1"
    },
    "colab": {
      "name": "regular_expression_정리본.ipynb",
      "provenance": [],
      "include_colab_link": true
    }
  },
  "nbformat": 4,
  "nbformat_minor": 5
}