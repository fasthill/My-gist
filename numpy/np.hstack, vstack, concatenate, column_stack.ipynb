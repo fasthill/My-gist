{
 "cells": [
  {
   "cell_type": "code",
   "execution_count": 1,
   "id": "e713e5a7",
   "metadata": {},
   "outputs": [],
   "source": [
    "import numpy as np"
   ]
  },
  {
   "cell_type": "markdown",
   "id": "6138cf60",
   "metadata": {},
   "source": [
    "### np.hstack(<span style='color:red'>(</span>a,b<span style='color:red'>)</span>),  np.c_<span style='color:red'>[</span>a,b<span style='color:red'>]</span> \n",
    "오른쪽으로 이어가기 (소괄호((), 대괄[]호 유의)"
   ]
  },
  {
   "cell_type": "code",
   "execution_count": 2,
   "id": "a739565d",
   "metadata": {},
   "outputs": [],
   "source": [
    "a = np.array([[1, 2], [3, 4], [5, 6]])\n",
    "b = np.array([7, 8, 9])\n",
    "br = b.reshape(3,1)"
   ]
  },
  {
   "cell_type": "code",
   "execution_count": 3,
   "id": "b7c2f08d",
   "metadata": {},
   "outputs": [
    {
     "name": "stdout",
     "output_type": "stream",
     "text": [
      "a.ndim : 2, a.shape : (3, 2)\n",
      "b.ndim : 1, b.shape : (3,)\n",
      "br.ndim : 2, br.shape : (3, 1)\n"
     ]
    }
   ],
   "source": [
    "print('a.ndim : {}, a.shape : {}'.format(a.ndim, a.shape))\n",
    "print('b.ndim : {}, b.shape : {}'.format(b.ndim, b.shape))\n",
    "print('br.ndim : {}, br.shape : {}'.format(br.ndim, br.shape))"
   ]
  },
  {
   "cell_type": "code",
   "execution_count": 4,
   "id": "307d493c",
   "metadata": {},
   "outputs": [
    {
     "data": {
      "text/plain": [
       "array([[1, 2, 7],\n",
       "       [3, 4, 8],\n",
       "       [5, 6, 9]])"
      ]
     },
     "execution_count": 4,
     "metadata": {},
     "output_type": "execute_result"
    }
   ],
   "source": [
    "np.hstack((a,br)) # ndim일치 및 shape 일치후"
   ]
  },
  {
   "cell_type": "code",
   "execution_count": 5,
   "id": "f88042f5",
   "metadata": {},
   "outputs": [
    {
     "data": {
      "text/plain": [
       "array([[1, 2, 7],\n",
       "       [3, 4, 8],\n",
       "       [5, 6, 9]])"
      ]
     },
     "execution_count": 5,
     "metadata": {},
     "output_type": "execute_result"
    }
   ],
   "source": [
    "np.c_[a,b] # ndim과 관계없이 같은 방향으로만 shape가 일치하면 됨."
   ]
  },
  {
   "cell_type": "code",
   "execution_count": 6,
   "id": "6995e953",
   "metadata": {
    "scrolled": true
   },
   "outputs": [
    {
     "data": {
      "text/plain": [
       "array([[1, 2, 7, 1, 2, 7],\n",
       "       [3, 4, 8, 3, 4, 8],\n",
       "       [5, 6, 9, 5, 6, 9]])"
      ]
     },
     "execution_count": 6,
     "metadata": {},
     "output_type": "execute_result"
    }
   ],
   "source": [
    "np.c_[a, b, a, b]"
   ]
  },
  {
   "cell_type": "markdown",
   "id": "8bd8682c",
   "metadata": {},
   "source": [
    "### np.vstack(<span style='color:red'>(</span>a,b<span style='color:red'>)</span>),  np.r_<span style='color:red'>[</span>a,b<span style='color:red'>]</span> \n",
    "아래쪽으로 이어가기 (소괄호((), 대괄[]호 유의)"
   ]
  },
  {
   "cell_type": "code",
   "execution_count": 7,
   "id": "8f1fd1ba",
   "metadata": {},
   "outputs": [],
   "source": [
    "a = np.array([[1, 2], [3, 4], [5, 6]])\n",
    "b = np.array([7, 8])\n",
    "br = b.reshape(1,2)"
   ]
  },
  {
   "cell_type": "code",
   "execution_count": 8,
   "id": "012be391",
   "metadata": {},
   "outputs": [
    {
     "data": {
      "text/plain": [
       "(array([[1, 2],\n",
       "        [3, 4],\n",
       "        [5, 6]]),\n",
       " array([7, 8]),\n",
       " array([[7, 8]]))"
      ]
     },
     "execution_count": 8,
     "metadata": {},
     "output_type": "execute_result"
    }
   ],
   "source": [
    "a, b, br"
   ]
  },
  {
   "cell_type": "code",
   "execution_count": 9,
   "id": "af98c6f4",
   "metadata": {},
   "outputs": [
    {
     "name": "stdout",
     "output_type": "stream",
     "text": [
      "a.ndim : 2, a.shape : (3, 2)\n",
      "b.ndim : 1, b.shape : (2,)\n",
      "br.ndim : 2, br.shape : (1, 2)\n"
     ]
    }
   ],
   "source": [
    "print('a.ndim : {}, a.shape : {}'.format(a.ndim, a.shape))\n",
    "print('b.ndim : {}, b.shape : {}'.format(b.ndim, b.shape))\n",
    "print('br.ndim : {}, br.shape : {}'.format(br.ndim, br.shape))"
   ]
  },
  {
   "cell_type": "code",
   "execution_count": 10,
   "id": "83b33f47",
   "metadata": {},
   "outputs": [
    {
     "data": {
      "text/plain": [
       "array([[1, 2],\n",
       "       [3, 4],\n",
       "       [5, 6],\n",
       "       [7, 8]])"
      ]
     },
     "execution_count": 10,
     "metadata": {},
     "output_type": "execute_result"
    }
   ],
   "source": [
    "np.vstack((a,b))"
   ]
  },
  {
   "cell_type": "code",
   "execution_count": 11,
   "id": "a5f13b77",
   "metadata": {},
   "outputs": [
    {
     "data": {
      "text/plain": [
       "array([[1, 2],\n",
       "       [3, 4],\n",
       "       [5, 6],\n",
       "       [7, 8]])"
      ]
     },
     "execution_count": 11,
     "metadata": {},
     "output_type": "execute_result"
    }
   ],
   "source": [
    "np.vstack((a,br))"
   ]
  },
  {
   "cell_type": "code",
   "execution_count": 12,
   "id": "d39cdc17",
   "metadata": {
    "scrolled": false
   },
   "outputs": [
    {
     "data": {
      "text/plain": [
       "array([[1, 2],\n",
       "       [3, 4],\n",
       "       [5, 6],\n",
       "       [7, 8]])"
      ]
     },
     "execution_count": 12,
     "metadata": {},
     "output_type": "execute_result"
    }
   ],
   "source": [
    "np.r_[a, br] # row 축 shape일치 (1, 2)"
   ]
  },
  {
   "cell_type": "markdown",
   "id": "1075e33d",
   "metadata": {},
   "source": [
    "### np.concatinate(<span style='color:red'>(</span>a,b<span style='color:red'>)</span>, axis=(<span style='color:red'>0</span>) : 아래쪽으로 붙이기\n",
    "### np.concatinate(<span style='color:red'>(</span>a,b<span style='color:red'>)</span>, axis=(<span style='color:red'>1</span>) : 오른쪽으로 붙이기\n",
    ".ndim, .shape가 일치해야 함."
   ]
  },
  {
   "cell_type": "code",
   "execution_count": 13,
   "id": "55793fdc",
   "metadata": {},
   "outputs": [],
   "source": [
    "a = np.array([[1, 2], [3, 4], [5, 6]])\n",
    "b = np.array([7, 8])\n",
    "bc = np.array([9, 10, 11])\n",
    "br = b.reshape(1,2)\n",
    "c = np.array([12, 13])\n",
    "cr = c.reshape(1,2)"
   ]
  },
  {
   "cell_type": "code",
   "execution_count": 14,
   "id": "fbc117c2",
   "metadata": {},
   "outputs": [
    {
     "data": {
      "text/plain": [
       "(array([[1, 2],\n",
       "        [3, 4],\n",
       "        [5, 6]]),\n",
       " array([7, 8]),\n",
       " array([ 9, 10, 11]),\n",
       " array([[7, 8]]),\n",
       " array([12, 13]),\n",
       " array([[12, 13]]))"
      ]
     },
     "execution_count": 14,
     "metadata": {},
     "output_type": "execute_result"
    }
   ],
   "source": [
    "a, b, bc, br, c, cr"
   ]
  },
  {
   "cell_type": "code",
   "execution_count": 15,
   "id": "4a667ecf",
   "metadata": {},
   "outputs": [
    {
     "name": "stdout",
     "output_type": "stream",
     "text": [
      "a.ndim : 2, a.shape : (3, 2)\n",
      "b.ndim : 1, b.shape : (2,)\n",
      "bc.ndim : 1, bc.shape : (3,)\n",
      "br.ndim : 2, br.shape : (1, 2)\n",
      "c.ndim : 1, c.shape : (2,)\n",
      "cr.ndim : 2, cr.shape : (1, 2)\n"
     ]
    }
   ],
   "source": [
    "print('a.ndim : {}, a.shape : {}'.format(a.ndim, a.shape))\n",
    "print('b.ndim : {}, b.shape : {}'.format(b.ndim, b.shape))\n",
    "print('bc.ndim : {}, bc.shape : {}'.format(bc.ndim, bc.shape))\n",
    "print('br.ndim : {}, br.shape : {}'.format(br.ndim, br.shape))\n",
    "print('c.ndim : {}, c.shape : {}'.format(c.ndim, c.shape))\n",
    "print('cr.ndim : {}, cr.shape : {}'.format(cr.ndim, cr.shape))"
   ]
  },
  {
   "cell_type": "code",
   "execution_count": 16,
   "id": "e62c4392",
   "metadata": {},
   "outputs": [
    {
     "data": {
      "text/plain": [
       "array([[1, 2],\n",
       "       [3, 4],\n",
       "       [5, 6],\n",
       "       [7, 8]])"
      ]
     },
     "execution_count": 16,
     "metadata": {},
     "output_type": "execute_result"
    }
   ],
   "source": [
    "np.concatenate((a,br), axis=0)"
   ]
  },
  {
   "cell_type": "code",
   "execution_count": 17,
   "id": "15bcb8ef",
   "metadata": {},
   "outputs": [
    {
     "data": {
      "text/plain": [
       "array([[ 1,  2,  9],\n",
       "       [ 3,  4, 10],\n",
       "       [ 5,  6, 11]])"
      ]
     },
     "execution_count": 17,
     "metadata": {},
     "output_type": "execute_result"
    }
   ],
   "source": [
    "np.concatenate((a, bc.reshape(3,1)), axis=1)  # shape를 맞춰야 함."
   ]
  },
  {
   "cell_type": "code",
   "execution_count": 18,
   "id": "0ea7dd10",
   "metadata": {},
   "outputs": [
    {
     "data": {
      "text/plain": [
       "array([ 7,  8, 12, 13])"
      ]
     },
     "execution_count": 18,
     "metadata": {},
     "output_type": "execute_result"
    }
   ],
   "source": [
    "np.concatenate((b, c), axis=0)"
   ]
  },
  {
   "cell_type": "code",
   "execution_count": 19,
   "id": "32a8d075",
   "metadata": {},
   "outputs": [
    {
     "data": {
      "text/plain": [
       "array([[ 7,  8, 12, 13]])"
      ]
     },
     "execution_count": 19,
     "metadata": {},
     "output_type": "execute_result"
    }
   ],
   "source": [
    "np.concatenate((br, cr), axis=1)"
   ]
  },
  {
   "cell_type": "code",
   "execution_count": 20,
   "id": "dfc9ff2c",
   "metadata": {},
   "outputs": [
    {
     "data": {
      "text/plain": [
       "array([[ 7,  8],\n",
       "       [12, 13]])"
      ]
     },
     "execution_count": 20,
     "metadata": {},
     "output_type": "execute_result"
    }
   ],
   "source": [
    "np.concatenate((br, cr), axis=0)"
   ]
  },
  {
   "cell_type": "code",
   "execution_count": 21,
   "id": "00095fe2",
   "metadata": {},
   "outputs": [
    {
     "data": {
      "text/plain": [
       "array([[ 7, 12],\n",
       "       [ 8, 13]])"
      ]
     },
     "execution_count": 21,
     "metadata": {},
     "output_type": "execute_result"
    }
   ],
   "source": [
    "np.concatenate((br.reshape(2,1), cr.reshape(2,1)), axis=1)  # 행 벡터 오른쪽으로 합치기"
   ]
  },
  {
   "cell_type": "markdown",
   "id": "507e3b01",
   "metadata": {},
   "source": [
    "### np.column_stack(<span style='color:red'>(</span>a,b<span style='color:red'>)</span>)\n",
    "column 벡터 오른쪽으로 이어가기\n",
    "== np.c_[a, b]"
   ]
  },
  {
   "cell_type": "code",
   "execution_count": 22,
   "id": "9d6b8f8c",
   "metadata": {},
   "outputs": [
    {
     "data": {
      "text/plain": [
       "(array([[1],\n",
       "        [2],\n",
       "        [3]]),\n",
       " array([[4],\n",
       "        [5],\n",
       "        [6]]))"
      ]
     },
     "execution_count": 22,
     "metadata": {},
     "output_type": "execute_result"
    }
   ],
   "source": [
    "a = np.array([1,2,3]).reshape(3,1)\n",
    "b = np.array([4,5,6]).reshape(3,1)\n",
    "a, b"
   ]
  },
  {
   "cell_type": "code",
   "execution_count": 23,
   "id": "a56aa1de",
   "metadata": {},
   "outputs": [
    {
     "data": {
      "text/plain": [
       "array([[1, 4],\n",
       "       [2, 5],\n",
       "       [3, 6]])"
      ]
     },
     "execution_count": 23,
     "metadata": {},
     "output_type": "execute_result"
    }
   ],
   "source": [
    "np.column_stack((a,b))"
   ]
  },
  {
   "cell_type": "code",
   "execution_count": 24,
   "id": "b0793a0e",
   "metadata": {},
   "outputs": [],
   "source": [
    "aa = np.array([[1, 2], [3, 4], [5, 6]])"
   ]
  },
  {
   "cell_type": "code",
   "execution_count": 25,
   "id": "29311404",
   "metadata": {},
   "outputs": [
    {
     "data": {
      "text/plain": [
       "array([[1, 4, 1, 2],\n",
       "       [2, 5, 3, 4],\n",
       "       [3, 6, 5, 6]])"
      ]
     },
     "execution_count": 25,
     "metadata": {},
     "output_type": "execute_result"
    }
   ],
   "source": [
    "np.column_stack((a,b, aa))"
   ]
  },
  {
   "cell_type": "code",
   "execution_count": 26,
   "id": "d93bce52",
   "metadata": {},
   "outputs": [
    {
     "data": {
      "text/plain": [
       "array([[1, 4, 1, 2],\n",
       "       [2, 5, 3, 4],\n",
       "       [3, 6, 5, 6]])"
      ]
     },
     "execution_count": 26,
     "metadata": {},
     "output_type": "execute_result"
    }
   ],
   "source": [
    "np.c_[a,b,aa]"
   ]
  },
  {
   "cell_type": "markdown",
   "id": "4da40c1a",
   "metadata": {},
   "source": [
    "### np.row_stack(<span style='color:red'>(</span>a,b<span style='color:red'>)</span>)\n",
    "row 벡터 오른쪽으로 이어가기\n",
    "== np.r_[a, b] .shape변환후 사용해야 함."
   ]
  },
  {
   "cell_type": "code",
   "execution_count": 27,
   "id": "5bc22f30",
   "metadata": {},
   "outputs": [
    {
     "data": {
      "text/plain": [
       "(array([1, 2, 3]), array([4, 5, 6]))"
      ]
     },
     "execution_count": 27,
     "metadata": {},
     "output_type": "execute_result"
    }
   ],
   "source": [
    "a = np.array([1,2,3])\n",
    "b = np.array([4,5,6])\n",
    "a, b"
   ]
  },
  {
   "cell_type": "code",
   "execution_count": 28,
   "id": "7e923123",
   "metadata": {},
   "outputs": [
    {
     "data": {
      "text/plain": [
       "array([[1, 2, 3],\n",
       "       [4, 5, 6]])"
      ]
     },
     "execution_count": 28,
     "metadata": {},
     "output_type": "execute_result"
    }
   ],
   "source": [
    "np.row_stack((a,b))"
   ]
  },
  {
   "cell_type": "code",
   "execution_count": 29,
   "id": "efc68e1d",
   "metadata": {},
   "outputs": [
    {
     "data": {
      "text/plain": [
       "array([1, 2, 3, 4, 5, 6])"
      ]
     },
     "execution_count": 29,
     "metadata": {},
     "output_type": "execute_result"
    }
   ],
   "source": [
    "np.r_[a,b] # 원하는 결과가 아닌 횡으로 합쳐짐."
   ]
  },
  {
   "cell_type": "code",
   "execution_count": 30,
   "id": "b90d3197",
   "metadata": {},
   "outputs": [
    {
     "data": {
      "text/plain": [
       "array([[1, 2, 3],\n",
       "       [4, 5, 6]])"
      ]
     },
     "execution_count": 30,
     "metadata": {},
     "output_type": "execute_result"
    }
   ],
   "source": [
    "np.r_[a.reshape(1,3),b.reshape(1,3)] #shape 변환후 사용해야 함."
   ]
  }
 ],
 "metadata": {
  "kernelspec": {
   "display_name": "Python 3",
   "language": "python",
   "name": "python3"
  },
  "language_info": {
   "codemirror_mode": {
    "name": "ipython",
    "version": 3
   },
   "file_extension": ".py",
   "mimetype": "text/x-python",
   "name": "python",
   "nbconvert_exporter": "python",
   "pygments_lexer": "ipython3",
   "version": "3.9.1"
  }
 },
 "nbformat": 4,
 "nbformat_minor": 5
}
